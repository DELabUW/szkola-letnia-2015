{
 "cells": [
  {
   "cell_type": "markdown",
   "metadata": {},
   "source": [
    "# Deser: sztuka robienia wykresów\n",
    "\n",
    "[Piotr Migdał](http://migdal.wikidot.com/), DELab UW"
   ]
  },
  {
   "cell_type": "code",
   "execution_count": 3,
   "metadata": {
    "collapsed": true
   },
   "outputs": [],
   "source": [
    "from IPython.display import Image"
   ]
  },
  {
   "cell_type": "markdown",
   "metadata": {},
   "source": [
    "## To do\n",
    "\n",
    "* Tufte\n",
    "* Układ okresowy\n",
    "* Wojska napoleona\n",
    "* Śmierć na 2 WŚ http://www.fallen.io/ww2/\n",
    "* Nierówność dochodu i studia http://www.nytimes.com/interactive/2015/05/28/upshot/you-draw-it-how-family-income-affects-childrens-college-chances.html?abt=0002&abg=0\n",
    "* Gapminder\n",
    "* Mapa metra"
   ]
  },
  {
   "cell_type": "code",
   "execution_count": 4,
   "metadata": {
    "collapsed": false
   },
   "outputs": [
    {
     "data": {
      "text/html": [
       "<img src=\"http://darkhorseanalytics.com/blog/wp-content/uploads/2013/08/data-ink.gif\"/>"
      ],
      "text/plain": [
       "<IPython.core.display.Image object>"
      ]
     },
     "execution_count": 4,
     "metadata": {},
     "output_type": "execute_result"
    }
   ],
   "source": [
    "Image(url=\"http://darkhorseanalytics.com/blog/wp-content/uploads/2013/08/data-ink.gif\")"
   ]
  },
  {
   "cell_type": "markdown",
   "metadata": {},
   "source": [
    "Z [Data looks better naked = Darkhorse Analytics](http://darkhorseanalytics.com/blog/data-looks-better-naked/). Do dłuższej dyskusji zobacz [Data-Ink Ratio](http://www.infovis-wiki.net/index.php/Data-Ink_Ratio).\n",
    "\n",
    "Nie z wszystkimi punktami należy się zgadzać (np. z szarymi czconkami - http://contrastrebellion.com/) i jak w każdej estetyce, jest w tym trochę gustu."
   ]
  },
  {
   "cell_type": "markdown",
   "metadata": {},
   "source": [
    "http://www.maartenlambrechts.be/to-the-point-7-reasons-you-should-use-dot-graphs/"
   ]
  },
  {
   "cell_type": "markdown",
   "metadata": {},
   "source": [
    "## Typowe wykresy\n",
    "\n",
    "* liniowy\n",
    "* punktowy\n",
    "* słupkowy\n",
    "* konturowy\n",
    "* kołowy (uwaga: zwykle odradzany)\n",
    "* heatmap\n"
   ]
  },
  {
   "cell_type": "markdown",
   "metadata": {},
   "source": [
    "## Mniej typowe wykresy\n",
    "\n",
    "* grafy\n",
    "* równoległe współrzędne\n",
    "* przepływy"
   ]
  },
  {
   "cell_type": "markdown",
   "metadata": {},
   "source": [
    "## Bardzo nietypowe wykresy\n",
    "\n",
    "(jedyne w swoim rodzaju)\n",
    "\n",
    "* układ okresowy pierwiastków\n",
    "* Qubism - wykresy stanów kwanotwych"
   ]
  },
  {
   "cell_type": "markdown",
   "metadata": {},
   "source": [
    "## Unikać\n",
    "\n",
    "* nadmiaru tuszu (i innych graficznych fajerwerków)\n",
    "* nieporównywalnych danych\n",
    "* zakłamywania\n",
    "\n",
    "Antyprzykłady: http://viz.wtf/"
   ]
  },
  {
   "cell_type": "markdown",
   "metadata": {},
   "source": [
    "## Style\n",
    "\n",
    "\n",
    "* nietypowe: https://www.chrisstucchio.com/blog/2014/why_xkcd_style_graphs_are_important.html"
   ]
  },
  {
   "cell_type": "markdown",
   "metadata": {},
   "source": [
    "## Zobacz też\n",
    "\n",
    "(Albo skoncentrować się tylko na filozofii, nie - wykonaniu?)\n",
    "\n",
    "* R: [ggplot2](http://ggplot2.org/)\n",
    "* JavaScript: [D3.js](http://d3js.org/)\n",
    "    * Piotr Migdał, [Metawstęp do wizualizacji danych w D3.js](http://smarterpoland.pl/index.php/2014/06/metawstep-do-wizualizacji-danych-w-d3-js/)\n",
    "* Robią to dobrze:\n",
    "    * Economist (linki)\n",
    "    * ..."
   ]
  },
  {
   "cell_type": "code",
   "execution_count": null,
   "metadata": {
    "collapsed": true
   },
   "outputs": [],
   "source": []
  }
 ],
 "metadata": {
  "kernelspec": {
   "display_name": "Python 3",
   "language": "python",
   "name": "python3"
  },
  "language_info": {
   "codemirror_mode": {
    "name": "ipython",
    "version": 3
   },
   "file_extension": ".py",
   "mimetype": "text/x-python",
   "name": "python",
   "nbconvert_exporter": "python",
   "pygments_lexer": "ipython3",
   "version": "3.4.3"
  }
 },
 "nbformat": 4,
 "nbformat_minor": 0
}
