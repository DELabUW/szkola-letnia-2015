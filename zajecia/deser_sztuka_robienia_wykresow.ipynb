{
 "cells": [
  {
   "cell_type": "markdown",
   "metadata": {},
   "source": [
    "# Deser: sztuka robienia wykresów\n",
    "\n",
    "[Piotr Migdał](http://migdal.wikidot.com/), DELab UW"
   ]
  },
  {
   "cell_type": "code",
   "execution_count": 1,
   "metadata": {
    "collapsed": true
   },
   "outputs": [],
   "source": [
    "from IPython.display import Image"
   ]
  },
  {
   "cell_type": "markdown",
   "metadata": {},
   "source": [
    "## Usuwamy nadmiar dekoracji\n",
    "\n",
    "(wykres to nie choinka bożonarodzeniowa!)"
   ]
  },
  {
   "cell_type": "code",
   "execution_count": 2,
   "metadata": {
    "collapsed": false
   },
   "outputs": [
    {
     "data": {
      "text/html": [
       "<img src=\"http://darkhorseanalytics.com/blog/wp-content/uploads/2013/08/data-ink.gif\"/>"
      ],
      "text/plain": [
       "<IPython.core.display.Image object>"
      ]
     },
     "execution_count": 2,
     "metadata": {},
     "output_type": "execute_result"
    }
   ],
   "source": [
    "Image(url=\"http://darkhorseanalytics.com/blog/wp-content/uploads/2013/08/data-ink.gif\")"
   ]
  },
  {
   "cell_type": "markdown",
   "metadata": {},
   "source": [
    "Z [Data looks better naked = Darkhorse Analytics](http://darkhorseanalytics.com/blog/data-looks-better-naked/). Do dłuższej dyskusji zobacz [Data-Ink Ratio](http://www.infovis-wiki.net/index.php/Data-Ink_Ratio).\n",
    "\n",
    "Nie z wszystkimi punktami należy się zgadzać (np. z szarymi czconkami - [Contrast Rebelion](http://contrastrebellion.com/)) i jak w każdej estetyce, jest w tym trochę gustu."
   ]
  },
  {
   "cell_type": "markdown",
   "metadata": {},
   "source": [
    "## Kropki są fajne\n",
    "\n",
    "[To the point: 7 reasons you should use dot graphs](http://www.maartenlambrechts.be/to-the-point-7-reasons-you-should-use-dot-graphs/)\n",
    "\n"
   ]
  },
  {
   "cell_type": "code",
   "execution_count": 3,
   "metadata": {
    "collapsed": false
   },
   "outputs": [
    {
     "data": {
      "text/html": [
       "<img src=\"http://www.maartenlambrechts.be/wp-content/uploads/2015/04/journal.pbio_.1002128.g0011.png\"/>"
      ],
      "text/plain": [
       "<IPython.core.display.Image object>"
      ]
     },
     "execution_count": 3,
     "metadata": {},
     "output_type": "execute_result"
    }
   ],
   "source": [
    "Image(url=\"http://www.maartenlambrechts.be/wp-content/uploads/2015/04/journal.pbio_.1002128.g0011.png\")"
   ]
  },
  {
   "cell_type": "code",
   "execution_count": 4,
   "metadata": {
    "collapsed": false
   },
   "outputs": [
    {
     "data": {
      "text/html": [
       "<img src=\"http://www.maartenlambrechts.be/wp-content/uploads/2015/04/journal.pbio_.1002128.g002.png\"/>"
      ],
      "text/plain": [
       "<IPython.core.display.Image object>"
      ]
     },
     "execution_count": 4,
     "metadata": {},
     "output_type": "execute_result"
    }
   ],
   "source": [
    "Image(url=\"http://www.maartenlambrechts.be/wp-content/uploads/2015/04/journal.pbio_.1002128.g002.png\")"
   ]
  },
  {
   "cell_type": "code",
   "execution_count": 5,
   "metadata": {
    "collapsed": false
   },
   "outputs": [
    {
     "data": {
      "text/html": [
       "<img src=\"http://www.gapminder.org/GapminderMedia/wp-uploads/images_front/gapminder_home_bg_3.jpg\"/>"
      ],
      "text/plain": [
       "<IPython.core.display.Image object>"
      ]
     },
     "execution_count": 5,
     "metadata": {},
     "output_type": "execute_result"
    }
   ],
   "source": [
    "Image(url=\"http://www.gapminder.org/GapminderMedia/wp-uploads/images_front/gapminder_home_bg_3.jpg\")"
   ]
  },
  {
   "cell_type": "markdown",
   "metadata": {},
   "source": [
    "## Dlaczego 3d jest złe\n",
    "\n",
    "Przykład za [Trellis Plot Alternative to Three-Dimensional Bar Charts - Forbes](http://www.forbes.com/sites/naomirobbins/2012/06/07/trellis-plot-alternative-to-three-dimensional-bar-charts/)."
   ]
  },
  {
   "cell_type": "code",
   "execution_count": 6,
   "metadata": {
    "collapsed": false
   },
   "outputs": [
    {
     "data": {
      "text/html": [
       "<img src=\"http://blogs-images.forbes.com/naomirobbins/files/2012/06/3Dbar.png\"/>"
      ],
      "text/plain": [
       "<IPython.core.display.Image object>"
      ]
     },
     "execution_count": 6,
     "metadata": {},
     "output_type": "execute_result"
    }
   ],
   "source": [
    "Image(url=\"http://blogs-images.forbes.com/naomirobbins/files/2012/06/3Dbar.png\")"
   ]
  },
  {
   "cell_type": "markdown",
   "metadata": {},
   "source": [
    "## Dlaczego skala jest ważna\n",
    "\n",
    "Z [Money can buy happiness - Daily Chart - The Economist](http://www.economist.com/blogs/graphicdetail/2013/05/daily-chart-0). Porównaj z http://danluu.com/dunning-kruger/."
   ]
  },
  {
   "cell_type": "code",
   "execution_count": 7,
   "metadata": {
    "collapsed": false
   },
   "outputs": [
    {
     "data": {
      "text/html": [
       "<img src=\"http://cdn.static-economist.com/sites/default/files/imagecache/full-width/images/2013/05/blogs/graphic-detail/20130504_gdc554.png\"/>"
      ],
      "text/plain": [
       "<IPython.core.display.Image object>"
      ]
     },
     "execution_count": 7,
     "metadata": {},
     "output_type": "execute_result"
    }
   ],
   "source": [
    "Image(url=\"http://cdn.static-economist.com/sites/default/files/imagecache/full-width/images/2013/05/blogs/graphic-detail/20130504_gdc554.png\")"
   ]
  },
  {
   "cell_type": "markdown",
   "metadata": {},
   "source": [
    "## Co jest ważniejsze?\n",
    "\n",
    "Przykłady za [World Bank fails to lead the way in #dataviz - Junk Charts](http://junkcharts.typepad.com/junk_charts/2014/08/world-bank-fails-to-lead-the-way-in-dataviz.html)."
   ]
  },
  {
   "cell_type": "code",
   "execution_count": 8,
   "metadata": {
    "collapsed": false
   },
   "outputs": [
    {
     "data": {
      "text/html": [
       "<img src=\"http://junkcharts.typepad.com/.a/6a00d8341e992c53ef01b7c6cabf88970b-pi\"/>"
      ],
      "text/plain": [
       "<IPython.core.display.Image object>"
      ]
     },
     "execution_count": 8,
     "metadata": {},
     "output_type": "execute_result"
    }
   ],
   "source": [
    "Image(url=\"http://junkcharts.typepad.com/.a/6a00d8341e992c53ef01b7c6cabf88970b-pi\")"
   ]
  },
  {
   "cell_type": "code",
   "execution_count": 9,
   "metadata": {
    "collapsed": false
   },
   "outputs": [
    {
     "data": {
      "text/html": [
       "<img src=\"http://junkcharts.typepad.com/.a/6a00d8341e992c53ef01a73e03e79c970d-pi\"/>"
      ],
      "text/plain": [
       "<IPython.core.display.Image object>"
      ]
     },
     "execution_count": 9,
     "metadata": {},
     "output_type": "execute_result"
    }
   ],
   "source": [
    "Image(url=\"http://junkcharts.typepad.com/.a/6a00d8341e992c53ef01a73e03e79c970d-pi\")"
   ]
  },
  {
   "cell_type": "code",
   "execution_count": null,
   "metadata": {
    "collapsed": true
   },
   "outputs": [],
   "source": []
  },
  {
   "cell_type": "markdown",
   "metadata": {},
   "source": [
    "## Typowe wykresy\n",
    "\n",
    "* liniowy\n",
    "* punktowy\n",
    "* słupkowy\n",
    "* konturowy\n",
    "* kołowy (uwaga: zwykle odradzany)\n",
    "* heatmap"
   ]
  },
  {
   "cell_type": "markdown",
   "metadata": {},
   "source": [
    "## Mniej typowe wykresy\n",
    "\n",
    "* grafy\n",
    "* równoległe współrzędne\n",
    "* przepływy"
   ]
  },
  {
   "cell_type": "markdown",
   "metadata": {},
   "source": [
    "## Bardzo nietypowe wykresy\n",
    "\n",
    "(jedyne w swoim rodzaju)\n",
    "\n",
    "* układ okresowy pierwiastków\n",
    "* Qubism - wykresy stanów kwantowych"
   ]
  },
  {
   "cell_type": "markdown",
   "metadata": {},
   "source": [
    "## Unikać\n",
    "\n",
    "* nadmiaru tuszu (i innych graficznych fajerwerków, które rozraszają)\n",
    "* nieporównywalnych danych (np. \"USA wydaje na wojsko X USD rocznie, a Francja Y procent swojego budżetu\")\n",
    "* przekłamań (np. wykresów słupkowych nie startujących od zera) "
   ]
  },
  {
   "cell_type": "markdown",
   "metadata": {},
   "source": [
    "## Zobacz też\n",
    "\n",
    "* Niesamowite przykłady:\n",
    "    * [Gapminder.org - For a fact based world view](http://www.gapminder.org/)\n",
    "    * [The Fallen of World War II](http://www.fallen.io/ww2/)\n",
    "    * [You Draw It: How Family Income Predicts Children’s College Chances - The New York Times](http://www.nytimes.com/interactive/2015/05/28/upshot/you-draw-it-how-family-income-affects-childrens-college-chances.html?abt=0002&abg=0)\n",
    "* Pakiety z filozofią w środku\n",
    "    * R: [ggplot2](http://ggplot2.org/)\n",
    "    * JavaScript: [D3.js](http://d3js.org/)\n",
    "        * Piotr Migdał, [Metawstęp do wizualizacji danych w D3.js](http://smarterpoland.pl/index.php/2014/06/metawstep-do-wizualizacji-danych-w-d3-js/)\n",
    "* Robią to dobrze:\n",
    "    * [The Economist](http://www.economist.com/) (np. http://www.economist.com/blogs/graphicdetail/ (chyba) nie wymaga subskrypcji)\n",
    "* [7 Tools for Data Visualization in R, Python, and Julia](http://blog.sense.io/7-tools-data-visualization-in-r-python-and-julia/)\n",
    "* Agregatory i podobne\n",
    "    * [visualizing.org](http://visualizing.org/)\n",
    "    * [plot.ly feed](https://plot.ly/feed/)\n",
    "    * [viz.wtf](http://viz.wtf/) - antyprzykłady\n",
    "* [Edward Tufte](http://www.edwardtufte.com/tufte/) - np. książka \"Visual Display of Quantitative Information\"\n",
    "    * [Cancer survival rates: tables, slopegraphs, barcharts](http://www.edwardtufte.com/bboard/q-and-a-fetch-msg?msg_id=0000Jr)\n",
    "* [Joseph A. Gallian, \"Advice on Giving a GoodPowerPoint Presentation\"](http://www.d.umn.edu/~jgallian/goodPPtalk.pdf) - wszechstronny materiał o sztuce prezentacji wyników\n",
    "* [Bartosz Czapiewski, \"25 zasad wizualizacji danych\"](http://skuteczneraporty.pl/infografika/)\n",
    "* [SmarterPoland.pl](http://smarterpoland.pl/) - analiza danych społecznych, wizualizacja i R na polskim podwórku"
   ]
  },
  {
   "cell_type": "code",
   "execution_count": null,
   "metadata": {
    "collapsed": false
   },
   "outputs": [],
   "source": []
  }
 ],
 "metadata": {
  "kernelspec": {
   "display_name": "Python 3",
   "language": "python",
   "name": "python3"
  },
  "language_info": {
   "codemirror_mode": {
    "name": "ipython",
    "version": 3
   },
   "file_extension": ".py",
   "mimetype": "text/x-python",
   "name": "python",
   "nbconvert_exporter": "python",
   "pygments_lexer": "ipython3",
   "version": "3.4.3"
  }
 },
 "nbformat": 4,
 "nbformat_minor": 0
}
