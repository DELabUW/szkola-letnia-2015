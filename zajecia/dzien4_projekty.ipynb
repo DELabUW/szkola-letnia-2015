{
 "cells": [
  {
   "cell_type": "markdown",
   "metadata": {},
   "source": [
    "# Projekty\n",
    "\n",
    "[Piotr Migdał](http://migdal.wikidot.com/), Julian Zubek, 2015, [DELab UW](http://www.delab.uw.edu.pl/)"
   ]
  },
  {
   "cell_type": "markdown",
   "metadata": {
    "collapsed": true
   },
   "source": [
    "Wybierz jedno z zadań. (Pracujemy we grupach do 3 osób, ale jak chcesz i czujesz się na siłach, możesz indywidualnie.)\n",
    "\n",
    "Różnią się onę specyfiką i poziomem trudności. Są otwarte i umiejętność zadawania pytań jest tu równie isotna jak umiejętność udzielenia odpowiedzi. Zaprezentuj wyniki tak, by były czytelne dla odbiorcy.\n",
    "\n",
    "Na projekt mamy 4h - mierz siły na zamiary, bo coś (choć niewielkiego) zrobić w trakcie ich.\n",
    "\n",
    "Pod koniec każda grupa będzie miała *5 min* na prezentację problemu i wyników (lub ew. przeszkód/wyzwań)."
   ]
  },
  {
   "cell_type": "markdown",
   "metadata": {},
   "source": [
    "## Zadanie 1: zdolne dzieci\n",
    "\n",
    "Dane: https://github.com/stared/kfnrd_viz/blob/gh-pages/kfnrd_miejsce_dziedzina.csv LUB więcej w `dane/kfnrd_zanonimizowane.csv`.\n",
    "\n",
    "Tabela przedstawia stypendystów [Krajowego Funduszu na rzecz Dzieci](http://fundusz.org/) - dzieci uzdolnionych w naukach i sztuce. Stypendium dotyczy uczniów licealnych i młodszych i jest przyznawane na rok.\n",
    "\n",
    "* Jak zmienia się popularność zainteresowań? (Ogólnie? W danym mieście?)\n",
    "* Jak wygląda zależność zainteresowania od miasta?\n",
    "* W ramach miast, które zaintersowania częściej współwsytępują?"
   ]
  },
  {
   "cell_type": "markdown",
   "metadata": {},
   "source": [
    "## Zadanie 2: wybory\n",
    "\n",
    "Dane: http://prezydent2015.pkw.gov.pl/\n",
    "\n",
    "(Wersja prosztsza: [druga tura](http://prezydent2015.pkw.gov.pl/325_Ponowne_glosowanie), trudniejsza: [pierwsza tura](http://prezydent2015.pkw.gov.pl/319_Pierwsze_glosowanie))\n",
    "\n",
    "* Jak wyglądały wyniki w województwach?\n",
    "* Kto by wygrał wybory, gdyby zamist sumować głosy z Polski i Świata, to w każdym okręgu wygrywał \n",
    "* Jakie były wyniki w ok"
   ]
  },
  {
   "cell_type": "markdown",
   "metadata": {},
   "source": [
    "## Zadanie 3: zbrojenie\n",
    "\n",
    "Dane: [Data | The World Bank](http://data.worldbank.org/) (np. http://data.worldbank.org/indicator/MS.MIL.XPND.CN)\n",
    "\n",
    "* Które kraje najwięcej wydają na wojsko? (Ogólnie? Jako procent PKB?)\n",
    "* Które kraje najbardziej zwiększają wydatki na wojsko?\n",
    "* Jakie inne czynniki kraju są związane z wydatkami na wojsko (np. populacja, PKB, śmiertelność noworodków, produkcja CO2...)\n",
    "\n",
    "Podpowiedzi:\n",
    "\n",
    "* https://github.com/DELabUW/szkola-letnia-2015/blob/master/demo/worldbank.ipynb\n",
    "* można ściągać pliki csv lub też skorzystać z API"
   ]
  },
  {
   "cell_type": "markdown",
   "metadata": {},
   "source": [
    "## Zadanie 4: o co ja pytam?\n",
    "\n",
    "(dla odważnych :))\n",
    "\n",
    "Dane: [Download your past searches - Google Help](https://support.google.com/websearch/answer/6068625?hl=en)\n",
    "\n",
    "Google pozwala ściągnąć naszą historię wyszukiwań.\n",
    "\n",
    "* Jakich słów najczęściej szukaliśmy?\n",
    "* Jak zmieniała się popularność kilku z nich?\n",
    "* O jakich godzinach najczęściej szukaliśmy? A w jakich dniach tygodnia?\n",
    "\n",
    "Podpowiedzi:\n",
    "\n",
    "* [Mining my google search history for clues, Part I](http://www.arimorcos.com/blog/post/Mining%20my%20google%20search%20history%20for%20clues%2C%20Part%20I/)"
   ]
  },
  {
   "cell_type": "markdown",
   "metadata": {},
   "source": [
    "## Zadanie 5: powrót do Puszczy\n",
    "\n",
    "Dane: https://wolnelektury.pl/media/book/txt/w-pustyni-i-w-puszczy.txt i https://wolnelektury.pl/media/book/txt/ogniem-i-mieczem-tom-pierwszy.txt\n",
    "\n",
    "* Prześleć jak pojawiają się bohaterowie \"W pustyni i puszczy\" Sienkiewicz.\n",
    "* Jak zmienia się występowanie kolorów?\n",
    "* Pomijając nazwy własne i imiona, które słowa występują dużo częściej w \"W pustyni i puszczy\" niż w \"Ogniem i mieczem\"?"
   ]
  },
  {
   "cell_type": "markdown",
   "metadata": {},
   "source": [
    "## Zadanie 6: analiza szkolnych wyników\n",
    "\n",
    "Dane: https://github.com/DELabUW/szkola-letnia-2015/tree/master/zadania\n",
    "\n",
    "Źródło: Paulo Cortez, University of Minho, Guimarães, Portugal, http://www3.dsi.uminho.pt/pcortez \n",
    "\n",
    "\n",
    "1. Wczytaj dane \"student-por.csv\". Opis kolumn znajduje się w pliku\n",
    "   \"student.txt\". Sprawdź, czy dane zostały wczytane poprawnie.\n",
    "\n",
    "2. Narysuj histogramy pokazujące rozkłady ocen G1, G2 oraz G3. W jaki\n",
    "   sposób te histogramy różnią się od siebie? Czy różnica jest widoczna\n",
    "   na poziomie średniej i odchylenia standardowego? \n",
    "\n",
    "3. Narysuj wykresy G1 vs G3 oraz G2 vs G3. Policz współczynniki\n",
    "   korelacji Pearsona.\n",
    "\n",
    "4. Ilu uczniów pozostaje w związkach romantycznych? Czy ma to przełożenie\n",
    "   na średnią ocenę końcową (G3)?\n",
    "\n",
    "5. Czy z końcową oceną ucznia bardziej koreluje poziom wykształcenia matki (Medu) czy ojca (Fedu)? \n",
    "\n",
    "6. Jak kształtują się średnie wyniki w grupach zależnie od zawodu ojca?\n"
   ]
  },
  {
   "cell_type": "code",
   "execution_count": null,
   "metadata": {
    "collapsed": true
   },
   "outputs": [],
   "source": []
  }
 ],
 "metadata": {
  "kernelspec": {
   "display_name": "Python 3",
   "language": "python",
   "name": "python3"
  },
  "language_info": {
   "codemirror_mode": {
    "name": "ipython",
    "version": 3
   },
   "file_extension": ".py",
   "mimetype": "text/x-python",
   "name": "python",
   "nbconvert_exporter": "python",
   "pygments_lexer": "ipython3",
   "version": "3.4.3"
  }
 },
 "nbformat": 4,
 "nbformat_minor": 0
}
