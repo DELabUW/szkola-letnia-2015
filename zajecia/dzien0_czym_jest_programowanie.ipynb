{
 "cells": [
  {
   "cell_type": "markdown",
   "metadata": {},
   "source": [
    "# Czym jest programowanie?\n",
    "\n",
    "[Piotr Migdał](http://migdal.wikidot.com/), DELab UW\n",
    "\n",
    "Konspekt:\n",
    "\n",
    "* Magia\n",
    "* Automatyzacja\n",
    "* Dowolność\n",
    "* Narzędzie do tworzenia\n",
    "* Dlaczego Python?\n",
    "* Jak zainstalować?\n",
    "* Przykłady na zachętę"
   ]
  },
  {
   "cell_type": "markdown",
   "metadata": {},
   "source": [
    "## Programowania jako gałąź magii\n",
    "\n",
    "> 1. «ogół wierzeń i praktyk opartych na przekonaniu o istnieniu mocy nadprzyrodzonych, które można opanować i wywoływać za pomocą zaklęć, obrzędów i czarów»\n",
    "> [...]\n",
    "\n",
    "* Słownik Języka Polskiego PWN: [magia](http://sjp.pwn.pl/sjp/magia;2480459)\n",
    "\n",
    "> Programy komputerowe są zapisanymi w specjalnych językach (zwanymi językami programowania) zaklęciami. Zaklęcia te są przeznaczone dla specjalnego rodzaju duchów żyjących w komputerach, zwanych procesami obliczeniowymi. Ze względu na to, że komputery są obecnie produkowane seryjnie, stwierdzenie to może budzić kontrowersje. Zastanówmy się jednak chwilę, czym charakteryzują się duchy. Są to obiekty niematerialne, zdolne do działania. Procesy obliczeniowe ewidentnie spełniają te warunki: nie można ich dotknąć, ani zobaczyć, nic nie ważą, a można obserwować skutki ich działania, czy wręcz uzyskać od nich interesujące nas informacje.\n",
    ">\n",
    "> [...]\n",
    ">\n",
    "> Procesy obliczeniowe nie są zbyt inteligentnymi duchami, za to są bardzo szybkie. Dlatego też programy muszą szczegółowo opisywać czynności, jakie mają wykonać te duchy.\n",
    "\n",
    "* Marcin Kubica, [Wstęp do programowania (podejście funkcyjne)](http://www.mimuw.edu.pl/~kubica/wpf/wpf.pdf), MIMUW\n",
    "\n",
    "Inną, bardziej namacalną, analogią programowania jest gotowanie. Mamy przepis, który opisuje krok po kroku jak przyrządzić potrawę. Gdy wykonamy go poprawnie"
   ]
  },
  {
   "cell_type": "code",
   "execution_count": 10,
   "metadata": {
    "collapsed": false
   },
   "outputs": [
    {
     "data": {
      "text/html": [
       "<img src=\"https://www.python.org/static/community_logos/python-logo-master-v3-TM-flattened.png\"/>"
      ],
      "text/plain": [
       "<IPython.core.display.Image object>"
      ]
     },
     "execution_count": 10,
     "metadata": {},
     "output_type": "execute_result"
    }
   ],
   "source": [
    "# %matplotlib inline\n",
    "from IPython.display import Image\n",
    "Image(url=\"https://www.python.org/static/community_logos/python-logo-master-v3-TM-flattened.png\")"
   ]
  },
  {
   "cell_type": "markdown",
   "metadata": {},
   "source": [
    "## Python, czyli dlaczego zaklinamy węża\n",
    "\n",
    "(trivia: nazwa pochodzi od grupy [Monthy Python](https://en.wikipedia.org/wiki/Monty_Python), nie - gada)\n",
    "\n",
    "Na zajęciach będziemy głównie korzystać z Pythona - popularnego, otwartego języka programowania, który zarazem ma sporo pakietów do analizy danych. Python jest:\n",
    "\n",
    "* darmowy i otwarty \n",
    "* prosty do nauki\n",
    "* czytelny i zwięzły\n",
    "* popularny\n",
    "* ma wiele bibliotek do danych (wczytywanie, numeryka, statystyka, wykresy)\n",
    "\n",
    "Konkretniej, będziemy korzystać z **Python 3** zainstalowanego w ramach pakietu Anaconda. Jako środowisko (\"edytor\") będziemy korzystać z IPython Notebook.\n",
    "\n",
    "Dlaczego...\n",
    "\n",
    "* Python 3 (vs Python 2) - lepsze wsparcie dla polskich liter (UTF8),\n",
    "* Anacodna - prosta instalacja wraz z pakietami danowymi, na Windowsa, Linuxa i OS X,\n",
    "* IPython Notebook - interakcja z danymi, wygoda i estetyka."
   ]
  },
  {
   "cell_type": "code",
   "execution_count": 11,
   "metadata": {
    "collapsed": false
   },
   "outputs": [
    {
     "data": {
      "text/html": [
       "<img src=\"http://imgs.xkcd.com/comics/python.png\"/>"
      ],
      "text/plain": [
       "<IPython.core.display.Image object>"
      ]
     },
     "execution_count": 11,
     "metadata": {},
     "output_type": "execute_result"
    }
   ],
   "source": [
    "Image(url=\"http://imgs.xkcd.com/comics/python.png\")"
   ]
  },
  {
   "cell_type": "markdown",
   "metadata": {},
   "source": [
    "### Q&A\n",
    "\n",
    "Q: Dlaczego Python, nie R?  \n",
    "A: Dobre pytanie!\n",
    "\n",
    "Q: Zaraz, czy to znaczy, że jak poznam Pythona, to Excel, SAS, SPSS itd pójdą do kosza?  \n",
    "A: Nie. Każde narzędzie dobre, które prowadzi nas do celu."
   ]
  },
  {
   "cell_type": "markdown",
   "metadata": {},
   "source": [
    "## Co jest proste dla komputera?"
   ]
  },
  {
   "cell_type": "code",
   "execution_count": null,
   "metadata": {
    "collapsed": true
   },
   "outputs": [],
   "source": [
    "# Arytmetyka"
   ]
  },
  {
   "cell_type": "code",
   "execution_count": 1,
   "metadata": {
    "collapsed": false
   },
   "outputs": [
    {
     "data": {
      "text/plain": [
       "4"
      ]
     },
     "execution_count": 1,
     "metadata": {},
     "output_type": "execute_result"
    }
   ],
   "source": [
    "2 + 2"
   ]
  },
  {
   "cell_type": "code",
   "execution_count": 2,
   "metadata": {
    "collapsed": false
   },
   "outputs": [
    {
     "data": {
      "text/plain": [
       "3.3316831683168315"
      ]
     },
     "execution_count": 2,
     "metadata": {},
     "output_type": "execute_result"
    }
   ],
   "source": [
    "(13 * 22)/101 + 0.5"
   ]
  },
  {
   "cell_type": "code",
   "execution_count": 14,
   "metadata": {
    "collapsed": false
   },
   "outputs": [
    {
     "data": {
      "text/plain": [
       "'Ala ma kota'"
      ]
     },
     "execution_count": 14,
     "metadata": {},
     "output_type": "execute_result"
    }
   ],
   "source": [
    "# Tekst\n",
    "\n",
    "\"Ala\" + \" ma \" + \"kota\""
   ]
  },
  {
   "cell_type": "code",
   "execution_count": 18,
   "metadata": {
    "collapsed": false
   },
   "outputs": [
    {
     "data": {
      "text/plain": [
       "'Kunegunda ma kota, a kot ma Kunegundę. Kunegunda go kocha, a kot ją wcale!'"
      ]
     },
     "execution_count": 18,
     "metadata": {},
     "output_type": "execute_result"
    }
   ],
   "source": [
    "\"Ala ma kota, a kot ma Alę. Ala go kocha, a kot ją wcale!\".replace(\"Al\", \"Kunegund\")"
   ]
  },
  {
   "cell_type": "code",
   "execution_count": 19,
   "metadata": {
    "collapsed": false
   },
   "outputs": [
    {
     "name": "stdout",
     "output_type": "stream",
     "text": [
      "0\n",
      "1\n",
      "2\n",
      "3\n",
      "4\n"
     ]
    }
   ],
   "source": [
    "# Powtarzalne zadania\n",
    "\n",
    "for x in range(5):\n",
    "    print(x)"
   ]
  },
  {
   "cell_type": "code",
   "execution_count": 13,
   "metadata": {
    "collapsed": false
   },
   "outputs": [
    {
     "data": {
      "text/plain": [
       "False"
      ]
     },
     "execution_count": 13,
     "metadata": {},
     "output_type": "execute_result"
    }
   ],
   "source": [
    "# Logika\n",
    "\n",
    "False and True"
   ]
  },
  {
   "cell_type": "code",
   "execution_count": 20,
   "metadata": {
    "collapsed": false
   },
   "outputs": [
    {
     "name": "stdout",
     "output_type": "stream",
     "text": [
      "Tak\n"
     ]
    }
   ],
   "source": [
    "if 5*5 > 21:\n",
    "    print(\"Tak\")\n",
    "else:\n",
    "    print(\"Nie\")"
   ]
  },
  {
   "cell_type": "code",
   "execution_count": 23,
   "metadata": {
    "collapsed": false
   },
   "outputs": [
    {
     "name": "stdout",
     "output_type": "stream",
     "text": [
      "?\n",
      "1\n",
      "?\n",
      "3\n",
      "?\n"
     ]
    }
   ],
   "source": [
    "# Zagadka\n",
    "\n",
    "for x in range(5):\n",
    "    if x == 1 or x == 3:\n",
    "        print(x)\n",
    "    else:\n",
    "        print(\"?\")"
   ]
  },
  {
   "cell_type": "markdown",
   "metadata": {},
   "source": [
    "## Dlaczego programowanie przydaje się w analize danych"
   ]
  },
  {
   "cell_type": "markdown",
   "metadata": {},
   "source": [
    "## Zobacz też\n",
    "\n",
    "* http://twiecki.github.io/blog/2014/11/18/python-for-data-science/\n",
    "* http://www.dataschool.io/python-or-r-for-data-science/"
   ]
  },
  {
   "cell_type": "code",
   "execution_count": null,
   "metadata": {
    "collapsed": true
   },
   "outputs": [],
   "source": []
  }
 ],
 "metadata": {
  "kernelspec": {
   "display_name": "Python 3",
   "language": "python",
   "name": "python3"
  },
  "language_info": {
   "codemirror_mode": {
    "name": "ipython",
    "version": 3
   },
   "file_extension": ".py",
   "mimetype": "text/x-python",
   "name": "python",
   "nbconvert_exporter": "python",
   "pygments_lexer": "ipython3",
   "version": "3.4.1"
  }
 },
 "nbformat": 4,
 "nbformat_minor": 0
}
