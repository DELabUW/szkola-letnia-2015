{
 "cells": [
  {
   "cell_type": "markdown",
   "metadata": {},
   "source": [
    "# Czym jest programowanie?\n",
    "\n",
    "[Piotr Migdał](http://migdal.wikidot.com/), 2015, [DELab UW](http://www.delab.uw.edu.pl/)"
   ]
  },
  {
   "cell_type": "markdown",
   "metadata": {},
   "source": [
    "## Programowania jako gałąź magii\n",
    "\n",
    "> 1. «ogół wierzeń i praktyk opartych na przekonaniu o istnieniu mocy nadprzyrodzonych, które można opanować i wywoływać za pomocą zaklęć, obrzędów i czarów»\n",
    "> [...]\n",
    "\n",
    "* Słownik Języka Polskiego PWN: [magia](http://sjp.pwn.pl/sjp/magia;2480459)\n",
    "\n",
    "> Programy komputerowe są zapisanymi w specjalnych językach (zwanymi językami programowania) zaklęciami. Zaklęcia te są przeznaczone dla specjalnego rodzaju duchów żyjących w komputerach, zwanych procesami obliczeniowymi[...]: nie można ich dotknąć, ani zobaczyć, nic nie ważą, a można obserwować skutki ich działania, czy wręcz uzyskać od nich interesujące nas informacje.\n",
    ">\n",
    "> [...]\n",
    ">\n",
    "> Procesy obliczeniowe nie są zbyt inteligentnymi duchami, za to są bardzo szybkie. Dlatego też programy muszą szczegółowo opisywać czynności, jakie mają wykonać te duchy.\n",
    "\n",
    "* Marcin Kubica, [Wstęp do programowania (podejście funkcyjne)](http://www.mimuw.edu.pl/~kubica/wpf/wpf.pdf), MIMUW"
   ]
  },
  {
   "cell_type": "code",
   "execution_count": 1,
   "metadata": {
    "collapsed": false
   },
   "outputs": [
    {
     "data": {
      "text/html": [
       "<img src=\"http://www.theprincessplanet.com/comics/2006-04-16.jpg\"/>"
      ],
      "text/plain": [
       "<IPython.core.display.Image object>"
      ]
     },
     "execution_count": 1,
     "metadata": {},
     "output_type": "execute_result"
    }
   ],
   "source": [
    "from IPython.display import Image\n",
    "Image(url=\"http://www.theprincessplanet.com/comics/2006-04-16.jpg\")"
   ]
  },
  {
   "cell_type": "markdown",
   "metadata": {},
   "source": [
    "[Wish 1 - The Princess Planet](http://www.theprincessplanet.com/2006/04/16/wish-1/) (jest tego więcej - http://www.theprincessplanet.com/?s=wish); zobacz też [Literal Genie - TV Tropes](http://tvtropes.org/pmwiki/pmwiki.php/Main/LiteralGenie).\n",
    "\n",
    "Zatem: programowanie daje supermoce, ale uważaj o co je prosisz. Zrobią one co im **powiesz**, niekoniecznie - co **chcesz**.\n",
    "\n",
    "Inną, bardziej namacalną, analogią programowania jest **gotowanie**. Mamy przepis, który opisuje krok po kroku jak przyrządzić potrawę. Przy czym tu musimy spisać przepić, nie możemy gotować z głowy (ale o tej metaforze będzię więcej jutro). "
   ]
  },
  {
   "cell_type": "code",
   "execution_count": 2,
   "metadata": {
    "collapsed": false
   },
   "outputs": [
    {
     "data": {
      "text/html": [
       "<img src=\"https://www.python.org/static/community_logos/python-logo-master-v3-TM-flattened.png\"/>"
      ],
      "text/plain": [
       "<IPython.core.display.Image object>"
      ]
     },
     "execution_count": 2,
     "metadata": {},
     "output_type": "execute_result"
    }
   ],
   "source": [
    "Image(url=\"https://www.python.org/static/community_logos/python-logo-master-v3-TM-flattened.png\")"
   ]
  },
  {
   "cell_type": "markdown",
   "metadata": {},
   "source": [
    "## Python, czyli dlaczego zaklinamy węża\n",
    "\n",
    "(trivia: nazwa pochodzi od grupy [Monthy Python](https://en.wikipedia.org/wiki/Monty_Python), nie - gada; [źródło](https://mail.python.org/pipermail/tutor/2007-February/053030.html))\n",
    "\n",
    "Na zajęciach będziemy głównie korzystać z [Pythona](https://www.python.org/) - popularnego, otwartego języka programowania, który zarazem ma sporo pakietów do analizy danych. Python jest:\n",
    "\n",
    "* darmowy i otwarty \n",
    "* prosty do nauki\n",
    "* czytelny i zwięzły\n",
    "* popularny\n",
    "* ma wiele bibliotek do danych (wczytywanie, numeryka, statystyka, wykresy)\n",
    "\n",
    "Konkretniej, będziemy korzystać z **Python 3** zainstalowanego w ramach pakietu [Anaconda](https://store.continuum.io/cshop/anaconda/). Jako środowisko (\"edytor\") będziemy korzystać z [IPython Notebook](http://ipython.org/notebook.html).\n",
    "\n",
    "Dlaczego...\n",
    "\n",
    "* Python 3 (vs Python 2) - lepsze wsparcie dla polskich liter (UTF8),\n",
    "* Anacodna - prosta instalacja wraz z pakietami danowymi, na Windowsa, Linuxa i OS X,\n",
    "* IPython Notebook - interakcja z danymi, wygoda i estetyka."
   ]
  },
  {
   "cell_type": "code",
   "execution_count": 3,
   "metadata": {
    "collapsed": false
   },
   "outputs": [
    {
     "data": {
      "text/html": [
       "<img src=\"http://imgs.xkcd.com/comics/python.png\"/>"
      ],
      "text/plain": [
       "<IPython.core.display.Image object>"
      ]
     },
     "execution_count": 3,
     "metadata": {},
     "output_type": "execute_result"
    }
   ],
   "source": [
    "Image(url=\"http://imgs.xkcd.com/comics/python.png\")"
   ]
  },
  {
   "cell_type": "markdown",
   "metadata": {},
   "source": [
    "### Q&A\n",
    "\n",
    "Q: Dlaczego Python, nie R?  \n",
    "A: Dobre pytanie! Oba to dobre, dojrzałe narzędzia do danych, każde ze swoim za i przeciw. Python jest czytelniejszy i bardziej wszechstronny - i tym się kierowaliśmy.  \n",
    "\n",
    "Q: Zaraz, czy to znaczy, że jak poznam Pythona, to Excel, SAS, SPSS itd pójdą do kosza?  \n",
    "A: Nie. Każde narzędzie dobre, które prowadzi nas do celu. Pokażemy, że niektóre rzeczy *prościej* robić w Pythonie, oraz odkryjemy nieznane możliwości."
   ]
  },
  {
   "cell_type": "markdown",
   "metadata": {},
   "source": [
    "## Co jest proste dla komputera?"
   ]
  },
  {
   "cell_type": "code",
   "execution_count": 4,
   "metadata": {
    "collapsed": true
   },
   "outputs": [],
   "source": [
    "# Arytmetyka"
   ]
  },
  {
   "cell_type": "code",
   "execution_count": 5,
   "metadata": {
    "collapsed": false
   },
   "outputs": [
    {
     "data": {
      "text/plain": [
       "4"
      ]
     },
     "execution_count": 5,
     "metadata": {},
     "output_type": "execute_result"
    }
   ],
   "source": [
    "2 + 2"
   ]
  },
  {
   "cell_type": "code",
   "execution_count": 6,
   "metadata": {
    "collapsed": false
   },
   "outputs": [
    {
     "data": {
      "text/plain": [
       "3.3316831683168315"
      ]
     },
     "execution_count": 6,
     "metadata": {},
     "output_type": "execute_result"
    }
   ],
   "source": [
    "(13 * 22)/101 + 0.5"
   ]
  },
  {
   "cell_type": "code",
   "execution_count": 7,
   "metadata": {
    "collapsed": false
   },
   "outputs": [
    {
     "data": {
      "text/plain": [
       "47232417125740555800"
      ]
     },
     "execution_count": 7,
     "metadata": {},
     "output_type": "execute_result"
    }
   ],
   "source": [
    "123456789 * 100100100 * 42 * 7 * 13"
   ]
  },
  {
   "cell_type": "markdown",
   "metadata": {},
   "source": [
    "Rada: można korzystać z Pythona jako kalkulatora. Najprościej w konsoli `python` lub `ipython` - zwłaszcza gdy chcemy policzyć coś krótkiego."
   ]
  },
  {
   "cell_type": "code",
   "execution_count": 8,
   "metadata": {
    "collapsed": false
   },
   "outputs": [
    {
     "data": {
      "text/plain": [
       "'Ala ma kota'"
      ]
     },
     "execution_count": 8,
     "metadata": {},
     "output_type": "execute_result"
    }
   ],
   "source": [
    "# Tekst\n",
    "\n",
    "\"Ala\" + \" ma \" + \"kota\""
   ]
  },
  {
   "cell_type": "code",
   "execution_count": 9,
   "metadata": {
    "collapsed": false
   },
   "outputs": [
    {
     "data": {
      "text/plain": [
       "'Kunegunda ma kota, a kot ma Kunegundę. Kunegunda go kocha, a kot ją wcale!'"
      ]
     },
     "execution_count": 9,
     "metadata": {},
     "output_type": "execute_result"
    }
   ],
   "source": [
    "\"Ala ma kota, a kot ma Alę. Ala go kocha, a kot ją wcale!\".replace(\"Al\", \"Kunegund\")"
   ]
  },
  {
   "cell_type": "markdown",
   "metadata": {},
   "source": [
    "Rada: komputer świetnie radzi sobie z wyszukiwaniem i zamiany słów lub fraz. Nie tylko na poziome akapitu, ale nawet - całego słownika!"
   ]
  },
  {
   "cell_type": "code",
   "execution_count": 10,
   "metadata": {
    "collapsed": false
   },
   "outputs": [
    {
     "name": "stdout",
     "output_type": "stream",
     "text": [
      "0\n",
      "1\n",
      "2\n",
      "3\n",
      "4\n"
     ]
    }
   ],
   "source": [
    "# Powtarzalne zadania\n",
    "\n",
    "for x in range(5):\n",
    "    print(x)"
   ]
  },
  {
   "cell_type": "code",
   "execution_count": 11,
   "metadata": {
    "collapsed": false
   },
   "outputs": [
    {
     "data": {
      "text/plain": [
       "False"
      ]
     },
     "execution_count": 11,
     "metadata": {},
     "output_type": "execute_result"
    }
   ],
   "source": [
    "# Logika\n",
    "\n",
    "False and True"
   ]
  },
  {
   "cell_type": "code",
   "execution_count": 12,
   "metadata": {
    "collapsed": false
   },
   "outputs": [
    {
     "name": "stdout",
     "output_type": "stream",
     "text": [
      "Tak\n"
     ]
    }
   ],
   "source": [
    "# Instrukcje warunkowe\n",
    "\n",
    "if 5*5 > 21:\n",
    "    print(\"Tak\")\n",
    "else:\n",
    "    print(\"Nie\")"
   ]
  },
  {
   "cell_type": "code",
   "execution_count": null,
   "metadata": {
    "collapsed": false
   },
   "outputs": [],
   "source": [
    "# Zagadka\n",
    "\n",
    "for x in range(5):\n",
    "    if x == 1 or x == 3:\n",
    "        print(x)\n",
    "    else:\n",
    "        print(\"?\")"
   ]
  },
  {
   "cell_type": "markdown",
   "metadata": {},
   "source": [
    "## Co to jest ten IPython Notebook?\n",
    "\n",
    "IPython Notebook to interaktywne środowisko. Możemy je otworzyć przez `$ ipython notebook` (jeśli jesteśmy w konsoli w Linuxie lub Mac OS X) lub z aplikacji szukając `IPython Notebook` (pod Windowsem). Tworzy pliki z końcówką `.ipynb`.\n",
    "\n",
    "Pozwala łączyć kod, opisy, grafikę oraz rezultaty działania programu (czy to liczby, teksty, czy też - wykresy).\n",
    "\n",
    "Komórka może zawierać kod (`Code`) lub tekst (`Markdown`). Klikając `run cell` (lub `Shift + Enter`) wykonujemy kod bądź renderujemy tekst.\n",
    "\n",
    "Da się też pisać kod w notatniku (choć się nie wykona)\n",
    "\n",
    "```python\n",
    "for x in range(5):\n",
    "    print(x)\n",
    "```\n",
    "        \n",
    "a także notatki w kodzie (ale z samego tekstu, bez pogrubień, list itd)\n",
    "\n",
    "```python\n",
    "    # notatkę poprzedzmy hashem, czyli tzw. krzakiem\n",
    "    x = 5  # można też w linii za kodem\n",
    "```\n",
    "\n",
    "IPython Notebook prócz Pythona daje możliwość stosowania (nomen omen) magii (`%matplotlib inline, `!ls`, `%%timeit`).\n",
    "\n",
    "Gdy chcemy, by podpowiedział nazwę funkcji, używamy `Tab`.\n",
    "\n",
    "Gdy chcemy informacje o funkcji, piszemy `??` po nazwie, np. `sum??`.\n",
    "\n",
    "Zeszyty IPython Notebook możemy łatwo wrzucić publicznie w siec - zwłaszcza na GitHubie.\n",
    "\n",
    "A jak nie IPython Notebook to co? \"Zwykła\" pisanie skryptów w Pythonie polega na edycji plików tekstowych `.py`. Stosuje się do nich edytory tekstu (surowego, jak w `.txt`) - np. Notepad++, Sublime Text 2, Atom.io, Vim, Emacs... (nie mylić z edytorami w stylu MS Word, Open Office, ...).\n",
    "\n",
    "W *IPythonie* jest możliwośc pisania w tzw. [Markdown](http://en.wikipedia.org/wiki/Markdown),\n",
    "pozwalający na pisanie tekstu z formatowaniem, np:\n",
    "\n",
    "* list,\n",
    "* *kursywy*, **pogrubienia** i ~~przekreślenia~~,\n",
    "* [linków](http://en.wikipedia.org/wiki/Markdown),\n",
    "* wzorów $\\tilde{x} = \\sum_{i=1}^{n} x_i$,\n",
    "* kodu `x = 5`,\n",
    "* itd."
   ]
  },
  {
   "cell_type": "code",
   "execution_count": 14,
   "metadata": {
    "collapsed": true
   },
   "outputs": [],
   "source": [
    "sum??"
   ]
  },
  {
   "cell_type": "markdown",
   "metadata": {},
   "source": [
    "## Dlaczego programowanie przydaje się w analize danych\n",
    "\n",
    "* praktycznie nieograniczone możliwości (można *wszystko* a nie tylko to, co da się wyklikać)\n",
    "* automatyzuje powtarzalne (a zatem - nudne) czynności\n",
    "* zawsze dostajemy przepis:\n",
    "  * łatwo powtórzyć\n",
    "  * mamy pełen opis\n",
    "  * można modyfikować\n",
    "* jak już raz coś zrobimy, możemy z tego korzystać później (i z prostych kawałków możemy tworzyć nowe, bardziej zaawansowane)"
   ]
  },
  {
   "cell_type": "markdown",
   "metadata": {},
   "source": [
    "## Słowniczek progamo-mowy\n",
    "\n",
    "\n",
    "* język programowania\n",
    "* środowisko/edytor\n",
    "* interpretacja\n",
    "* biblioteka/moduł/pakiet (ang. *library*, *module*, *package*)\n",
    "* zmienna\n",
    "* funkcja\n",
    "* obiekt"
   ]
  },
  {
   "cell_type": "code",
   "execution_count": 15,
   "metadata": {
    "collapsed": false
   },
   "outputs": [
    {
     "data": {
      "image/png": "[encoded data removed]",
      "text/plain": [
       "<matplotlib.figure.Figure at 0x1050bba20>"
      ]
     },
     "metadata": {},
     "output_type": "display_data"
    }
   ],
   "source": [
    "%matplotlib inline\n",
    "from matplotlib import pyplot as plt\n",
    "\n",
    "with plt.xkcd():\n",
    "\n",
    "    fig = plt.figure()\n",
    "    ax = fig.add_axes((0.1, 0.2, 0.8, 0.7))\n",
    "    \n",
    "    ax.spines['right'].set_color('none')\n",
    "    ax.spines['top'].set_color('none')\n",
    "    plt.xticks([])\n",
    "    plt.yticks([])\n",
    "    ax.set_xlim([1, 6])\n",
    "    ax.set_ylim([1, 6])\n",
    "    plt.title(\"Languages for data analysis\\n(very subjective)\")\n",
    "    plt.xlabel(u\"Code readability\")\n",
    "    plt.ylabel(u\"Versatility\")\n",
    "    data = [(\"Python\", 5, 5),\n",
    "            (\"MATLAB\", 2, 2),\n",
    "            (\"R\", 2, 4),\n",
    "            (\"Julia\", 4, 4),\n",
    "            (\"Mathematica\", 4, 3)]\n",
    "    for name, bea, ver in data:\n",
    "        plt.text(bea, ver, name,\n",
    "                 horizontalalignment='center',\n",
    "                 verticalalignment='center')\n",
    "        \n",
    "    plt.show()"
   ]
  },
  {
   "cell_type": "markdown",
   "metadata": {},
   "source": [
    "## Zobacz też\n",
    "\n",
    "* [A modern guide to getting started with Data Science and Python](http://twiecki.github.io/blog/2014/11/18/python-for-data-science/)\n",
    "* [Should you teach Python or R for data science?](http://www.dataschool.io/python-or-r-for-data-science/)\n",
    "* [Introduction to Jupyter (aka IPython Notebook)](http://nbviewer.ipython.org/github/batterio/intro_ipython_notebook/blob/master/notebooks/index.ipynb)"
   ]
  },
  {
   "cell_type": "code",
   "execution_count": null,
   "metadata": {
    "collapsed": true
   },
   "outputs": [],
   "source": []
  }
 ],
 "metadata": {
  "kernelspec": {
   "display_name": "Python 3",
   "language": "python",
   "name": "python3"
  },
  "language_info": {
   "codemirror_mode": {
    "name": "ipython",
    "version": 3
   },
   "file_extension": ".py",
   "mimetype": "text/x-python",
   "name": "python",
   "nbconvert_exporter": "python",
   "pygments_lexer": "ipython3",
   "version": "3.4.3"
  }
 },
 "nbformat": 4,
 "nbformat_minor": 0
}
