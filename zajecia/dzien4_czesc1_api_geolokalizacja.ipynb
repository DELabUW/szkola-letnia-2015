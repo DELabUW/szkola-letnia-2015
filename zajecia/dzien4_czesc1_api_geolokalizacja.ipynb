{
 "cells": [
  {
   "cell_type": "markdown",
   "metadata": {},
   "source": [
    "# Google API i geokodowania\n",
    "\n",
    "[Piotr Migdał](http://migdal.wikidot.com/), DELab UW"
   ]
  },
  {
   "cell_type": "markdown",
   "metadata": {},
   "source": [
    "Będziemy geokodować adresy przy pomocy  [The Google Geocoding API](https://developers.google.com/maps/documentation/geocoding/).\n",
    "\n",
    "### Słowniczek\n",
    "\n",
    "* [Geokodowanie](https://pl.wikipedia.org/wiki/Geokodowanie) - ustalanie współrzędnych geograficznych na podstawie innych danych geograficznych (np. kodu pocztowego, ulicy i miasta). \n",
    "* [API](https://pl.wikipedia.org/wiki/Application_Programming_Interface) (Application Programming Interface) - ogólne słowo sposób komunikacji z programem, zwłaszcza: zdalnym\n",
    "* [JSON](https://pl.wikipedia.org/wiki/JSON) (JavaScript Object Notation) - tekstowy sposób zapisywania danych, który pozwala zapisać różne dane, nie tylko tabele (jak CSV)\n",
    "* [XML](https://en.wikipedia.org/wiki/XML) (Extensible Markup Language) \n",
    "\n",
    "### Zapytania\n",
    "\n",
    "* https://maps.googleapis.com/maps/api/geocode/json?address=ul.+Dobra+56/66,+Warszawa\n",
    "    * dobra lokalizacja? sprawdzić możemy np. tak:\n",
    "    https://www.google.com/maps/@52.2423917,21.0244245,16z\n",
    "* https://maps.googleapis.com/maps/api/timezone/json?location=39.6034810,-119.6822510&timestamp=1331161200\n",
    "* https://maps.googleapis.com/maps/api/elevation/json?locations=39.7391536,-104.9847034\n",
    "* https://maps.googleapis.com/maps/api/directions/json?origin=Warszawa&destination=Kraków\n",
    "\n",
    "Spróbuj:\n",
    "\n",
    "* Zastanowić co się w nich pyta, i co oznacza odpowiedź.\n",
    "* Zadać inne pytania.\n",
    "* Poprosić o odpowiedź w formacie XML (spójrz na podobieństwa i różnice).\n",
    "\n",
    "### Ograniczenia\n",
    "\n",
    "Wersja darmowa Google API pozwala na 2500 zapytań w ciągu 24h, i nie więcej niż 5 na sekundę.\n",
    "\n",
    "### Inne przykładowe API\n",
    "\n",
    "* http://api.worldbank.org/countries?format=json\n",
    "* https://en.wikipedia.org/w/api.php?action=query&list=backlinks&bltitle=Almond&bllimit=500&blfilterredir=nonredirects&format=json\n",
    "* https://api.stackexchange.com/2.2/tags/python/related?site=stackoverflow\n",
    "\n",
    "### Python\n",
    "\n",
    "Surowa forma pytań i odpowiedzi jest celowa - ułatwia przetwarzanie przez komputer (dla niego łatwije wysłać `\"json?location=39.6034810,-119.6822510&timestamp=1331161200\"` niż wyklikać na stronie internetowej).\n"
   ]
  },
  {
   "cell_type": "code",
   "execution_count": 1,
   "metadata": {
    "collapsed": true
   },
   "outputs": [],
   "source": [
    "# biblioteka do zapytań \n",
    "import requests"
   ]
  },
  {
   "cell_type": "code",
   "execution_count": 2,
   "metadata": {
    "collapsed": false
   },
   "outputs": [],
   "source": [
    "r = requests.get(\"https://maps.googleapis.com/maps/api/elevation/json?locations=39.7391536,-104.9847034\")"
   ]
  },
  {
   "cell_type": "code",
   "execution_count": 3,
   "metadata": {
    "collapsed": false
   },
   "outputs": [
    {
     "data": {
      "text/plain": [
       "b'{\\n   \"results\" : [\\n      {\\n         \"elevation\" : 1608.637939453125,\\n         \"location\" : {\\n            \"lat\" : 39.7391536,\\n            \"lng\" : -104.9847034\\n         },\\n         \"resolution\" : 4.771975994110107\\n      }\\n   ],\\n   \"status\" : \"OK\"\\n}\\n'"
      ]
     },
     "execution_count": 3,
     "metadata": {},
     "output_type": "execute_result"
    }
   ],
   "source": [
    "# surowa treść odpowiedzi\n",
    "r.content"
   ]
  },
  {
   "cell_type": "code",
   "execution_count": 4,
   "metadata": {
    "collapsed": false
   },
   "outputs": [
    {
     "data": {
      "text/plain": [
       "{'results': [{'elevation': 1608.637939453125,\n",
       "   'location': {'lat': 39.7391536, 'lng': -104.9847034},\n",
       "   'resolution': 4.771975994110107}],\n",
       " 'status': 'OK'}"
      ]
     },
     "execution_count": 4,
     "metadata": {},
     "output_type": "execute_result"
    }
   ],
   "source": [
    "# wczytanie JSONa\n",
    "odpowiedz = r.json()\n",
    "odpowiedz"
   ]
  },
  {
   "cell_type": "code",
   "execution_count": 5,
   "metadata": {
    "collapsed": false
   },
   "outputs": [
    {
     "data": {
      "text/plain": [
       "'OK'"
      ]
     },
     "execution_count": 5,
     "metadata": {},
     "output_type": "execute_result"
    }
   ],
   "source": [
    "# dostaliśmy słownik, w którym są inne obiekty\n",
    "# np. napis\n",
    "odpowiedz['status']"
   ]
  },
  {
   "cell_type": "code",
   "execution_count": 6,
   "metadata": {
    "collapsed": false
   },
   "outputs": [
    {
     "data": {
      "text/plain": [
       "[{'elevation': 1608.637939453125,\n",
       "  'location': {'lat': 39.7391536, 'lng': -104.9847034},\n",
       "  'resolution': 4.771975994110107}]"
      ]
     },
     "execution_count": 6,
     "metadata": {},
     "output_type": "execute_result"
    }
   ],
   "source": [
    "# np. lista\n",
    "odpowiedz['results']"
   ]
  },
  {
   "cell_type": "code",
   "execution_count": 7,
   "metadata": {
    "collapsed": false
   },
   "outputs": [
    {
     "data": {
      "text/plain": [
       "list"
      ]
     },
     "execution_count": 7,
     "metadata": {},
     "output_type": "execute_result"
    }
   ],
   "source": [
    "# jeśli nie wiemy jakiego typu jest dany obiekt, używamy `type`\n",
    "type(odpowiedz['results'])"
   ]
  },
  {
   "cell_type": "code",
   "execution_count": 8,
   "metadata": {
    "collapsed": false
   },
   "outputs": [
    {
     "data": {
      "text/plain": [
       "-104.9847034"
      ]
     },
     "execution_count": 8,
     "metadata": {},
     "output_type": "execute_result"
    }
   ],
   "source": [
    "# by dostać co nas interesuje zwykle musimy kilkukrotnie wchodził wgłąb\n",
    "odpowiedz['results'][0]['location']['lng']"
   ]
  },
  {
   "cell_type": "code",
   "execution_count": 9,
   "metadata": {
    "collapsed": false
   },
   "outputs": [
    {
     "data": {
      "text/plain": [
       "1"
      ]
     },
     "execution_count": 9,
     "metadata": {},
     "output_type": "execute_result"
    }
   ],
   "source": [
    "# innymi przydatnymi narzędami jest sprawdzenie długości listy\n",
    "len(odpowiedz['results'])"
   ]
  },
  {
   "cell_type": "code",
   "execution_count": 10,
   "metadata": {
    "collapsed": false
   },
   "outputs": [
    {
     "data": {
      "text/plain": [
       "dict_keys(['elevation', 'location', 'resolution'])"
      ]
     },
     "execution_count": 10,
     "metadata": {},
     "output_type": "execute_result"
    }
   ],
   "source": [
    "# oraz sprawdzenie kluczy \n",
    "odpowiedz['results'][0].keys()"
   ]
  },
  {
   "cell_type": "markdown",
   "metadata": {},
   "source": [
    "## Przekazywanie parametrów\n",
    "\n",
    "Typowe zapytania mają parametry. Np.\n",
    "\n",
    "* https://maps.googleapis.com/maps/api/geocode/json?address=ul.+Dobra+56/66,+Warszawa\n",
    "\n",
    "składa się z\n",
    "\n",
    "* głównego adresu `https://maps.googleapis.com/maps/api/geocode/json`,\n",
    "* parametru `address` równemu `Warszawa`.\n",
    "\n",
    "Zapytania mają postać `glowny_adres?parametr1=wartosc1&parametr2=wartosc2&parametr3=wartosc3` itd. Zwykle kolejność parametrów nie ma znaczenia.\n",
    "\n",
    "Do zapytań można \"ręcznie\" tworzyć pełen adres, lub generować parametry z pythonowych słowników (druga opcja jest zwkle dużo przyjemniejsza)."
   ]
  },
  {
   "cell_type": "code",
   "execution_count": 11,
   "metadata": {
    "collapsed": false
   },
   "outputs": [],
   "source": [
    "r = requests.get(\"https://maps.googleapis.com/maps/api/geocode/json\",\n",
    "                 params={\"address\": \"ul. Dobra 56/66, Warszawa\"})"
   ]
  },
  {
   "cell_type": "code",
   "execution_count": 12,
   "metadata": {
    "collapsed": false
   },
   "outputs": [
    {
     "name": "stdout",
     "output_type": "stream",
     "text": [
      "https://maps.googleapis.com/maps/api/geocode/json?address=ul.+Dobra+56%2F66%2C+Warszawa\n"
     ]
    }
   ],
   "source": [
    "# pobierze nam to dane z wygenerowanym adresem:\n",
    "print(r.url)"
   ]
  },
  {
   "cell_type": "code",
   "execution_count": 13,
   "metadata": {
    "collapsed": false
   },
   "outputs": [
    {
     "data": {
      "text/plain": [
       "1989"
      ]
     },
     "execution_count": 13,
     "metadata": {},
     "output_type": "execute_result"
    }
   ],
   "source": [
    "# długość odpowiedzi\n",
    "len(r.content)"
   ]
  },
  {
   "cell_type": "code",
   "execution_count": 14,
   "metadata": {
    "collapsed": false
   },
   "outputs": [
    {
     "data": {
      "text/plain": [
       "{'results': [{'address_components': [{'long_name': '56/66',\n",
       "     'short_name': '56/66',\n",
       "     'types': ['street_number']},\n",
       "    {'long_name': 'Dobra', 'short_name': 'Dobra', 'types': ['route']},\n",
       "    {'long_name': 'Śródmieście',\n",
       "     'short_name': 'Śródmieście',\n",
       "     'types': ['sublocality_level_1', 'sublocality', 'political']},\n",
       "    {'long_name': 'Warszawa',\n",
       "     'short_name': 'Warszawa',\n",
       "     'types': ['locality', 'political']},\n",
       "    {'long_name': 'Warszawa',\n",
       "     'short_name': 'Warszawa',\n",
       "     'types': ['administrative_area_level_2', 'political']},\n",
       "    {'long_name': 'mazowieckie',\n",
       "     'short_name': 'mazowieckie',\n",
       "     'types': ['administrative_area_level_1', 'political']},\n",
       "    {'long_name': 'Poland',\n",
       "     'short_name': 'PL',\n",
       "     'types': ['country', 'political']}],\n",
       "   'formatted_address': 'Dobra 56/66, Warszawa, Poland',\n",
       "   'geometry': {'location': {'lat': 52.2423917, 'lng': 21.0244245},\n",
       "    'location_type': 'ROOFTOP',\n",
       "    'viewport': {'northeast': {'lat': 52.2437406802915,\n",
       "      'lng': 21.0257734802915},\n",
       "     'southwest': {'lat': 52.2410427197085, 'lng': 21.0230755197085}}},\n",
       "   'partial_match': True,\n",
       "   'place_id': 'ChIJa5vQa1zMHkcRnD5vTrfkOx4',\n",
       "   'types': ['street_address']}],\n",
       " 'status': 'OK'}"
      ]
     },
     "execution_count": 14,
     "metadata": {},
     "output_type": "execute_result"
    }
   ],
   "source": [
    "odpowiedz = r.json()\n",
    "odpowiedz"
   ]
  },
  {
   "cell_type": "markdown",
   "metadata": {},
   "source": [
    "Widać, że dostajemy dużo informacji. Jak się po tym poruszać?"
   ]
  },
  {
   "cell_type": "code",
   "execution_count": 15,
   "metadata": {
    "collapsed": false
   },
   "outputs": [
    {
     "data": {
      "text/plain": [
       "dict_keys(['status', 'results'])"
      ]
     },
     "execution_count": 15,
     "metadata": {},
     "output_type": "execute_result"
    }
   ],
   "source": [
    "# klucze słownika\n",
    "odpowiedz.keys()"
   ]
  },
  {
   "cell_type": "code",
   "execution_count": 16,
   "metadata": {
    "collapsed": false
   },
   "outputs": [
    {
     "data": {
      "text/plain": [
       "str"
      ]
     },
     "execution_count": 16,
     "metadata": {},
     "output_type": "execute_result"
    }
   ],
   "source": [
    "# typ elementu czyli czy to:\n",
    "# napis `str`, lista `list', słownik `dict` lub liczba `int` lub `float`\n",
    "type(odpowiedz[\"status\"])"
   ]
  },
  {
   "cell_type": "code",
   "execution_count": 17,
   "metadata": {
    "collapsed": false
   },
   "outputs": [
    {
     "data": {
      "text/plain": [
       "'OK'"
      ]
     },
     "execution_count": 17,
     "metadata": {},
     "output_type": "execute_result"
    }
   ],
   "source": [
    "odpowiedz[\"status\"]"
   ]
  },
  {
   "cell_type": "code",
   "execution_count": 18,
   "metadata": {
    "collapsed": false
   },
   "outputs": [
    {
     "data": {
      "text/plain": [
       "list"
      ]
     },
     "execution_count": 18,
     "metadata": {},
     "output_type": "execute_result"
    }
   ],
   "source": [
    "type(odpowiedz[\"results\"])"
   ]
  },
  {
   "cell_type": "code",
   "execution_count": 19,
   "metadata": {
    "collapsed": false
   },
   "outputs": [
    {
     "data": {
      "text/plain": [
       "1"
      ]
     },
     "execution_count": 19,
     "metadata": {},
     "output_type": "execute_result"
    }
   ],
   "source": [
    "len(odpowiedz[\"results\"])"
   ]
  },
  {
   "cell_type": "code",
   "execution_count": 20,
   "metadata": {
    "collapsed": false
   },
   "outputs": [
    {
     "data": {
      "text/plain": [
       "dict_keys(['formatted_address', 'place_id', 'address_components', 'types', 'geometry', 'partial_match'])"
      ]
     },
     "execution_count": 20,
     "metadata": {},
     "output_type": "execute_result"
    }
   ],
   "source": [
    "odpowiedz[\"results\"][0].keys()"
   ]
  },
  {
   "cell_type": "code",
   "execution_count": 21,
   "metadata": {
    "collapsed": false
   },
   "outputs": [
    {
     "data": {
      "text/plain": [
       "{'lat': 52.2423917, 'lng': 21.0244245}"
      ]
     },
     "execution_count": 21,
     "metadata": {},
     "output_type": "execute_result"
    }
   ],
   "source": [
    "# i tak do interesujących nas rezultatów\n",
    "odpowiedz[\"results\"][0][\"geometry\"][\"location\"]"
   ]
  },
  {
   "cell_type": "markdown",
   "metadata": {},
   "source": [
    "## Co jeszcze możemy z nimi zrobić?\n",
    "\n",
    "Zapisać i wczytać!"
   ]
  },
  {
   "cell_type": "code",
   "execution_count": 22,
   "metadata": {
    "collapsed": true
   },
   "outputs": [],
   "source": [
    "# można też wczytywać i zapisywać takie dane na dysku; mają format json\n",
    "import json"
   ]
  },
  {
   "cell_type": "code",
   "execution_count": 23,
   "metadata": {
    "collapsed": false
   },
   "outputs": [
    {
     "data": {
      "text/plain": [
       "{'results': [{'address_components': [{'long_name': '56/66',\n",
       "     'short_name': '56/66',\n",
       "     'types': ['street_number']},\n",
       "    {'long_name': 'Dobra', 'short_name': 'Dobra', 'types': ['route']},\n",
       "    {'long_name': 'Śródmieście',\n",
       "     'short_name': 'Śródmieście',\n",
       "     'types': ['sublocality_level_1', 'sublocality', 'political']},\n",
       "    {'long_name': 'Warszawa',\n",
       "     'short_name': 'Warszawa',\n",
       "     'types': ['locality', 'political']},\n",
       "    {'long_name': 'Warszawa',\n",
       "     'short_name': 'Warszawa',\n",
       "     'types': ['administrative_area_level_2', 'political']},\n",
       "    {'long_name': 'mazowieckie',\n",
       "     'short_name': 'mazowieckie',\n",
       "     'types': ['administrative_area_level_1', 'political']},\n",
       "    {'long_name': 'Poland',\n",
       "     'short_name': 'PL',\n",
       "     'types': ['country', 'political']}],\n",
       "   'formatted_address': 'Dobra 56/66, Warszawa, Poland',\n",
       "   'geometry': {'location': {'lat': 52.2423917, 'lng': 21.0244245},\n",
       "    'location_type': 'ROOFTOP',\n",
       "    'viewport': {'northeast': {'lat': 52.2437406802915,\n",
       "      'lng': 21.0257734802915},\n",
       "     'southwest': {'lat': 52.2410427197085, 'lng': 21.0230755197085}}},\n",
       "   'partial_match': True,\n",
       "   'place_id': 'ChIJa5vQa1zMHkcRnD5vTrfkOx4',\n",
       "   'types': ['street_address']}],\n",
       " 'status': 'OK'}"
      ]
     },
     "execution_count": 23,
     "metadata": {},
     "output_type": "execute_result"
    }
   ],
   "source": [
    "odpowiedz"
   ]
  },
  {
   "cell_type": "code",
   "execution_count": 24,
   "metadata": {
    "collapsed": false
   },
   "outputs": [],
   "source": [
    "# tak zapisujemy plik JSON (folder musi istnieć)\n",
    "# open(sciezka, 'w') znaczy, że otwieramy plik do zapisu\n",
    "json.dump(odpowiedz, open(\"../dane/gdzie_buw.json\", \"w\"), indent=2)\n",
    "# teraz warto go otworzyć"
   ]
  },
  {
   "cell_type": "markdown",
   "metadata": {},
   "source": [
    "Warto zobaczyć jak wygląda w edytorze tekstu, np. [Sublime Text](http://www.sublimetext.com/) (płatny, ale można długo próbować) lub [Notepad++](https://notepad-plus-plus.org/) (darmowy, Windows). Do mniejszych plików (tak do 2MB) jest [Atom](https://atom.io/). Jak chcesz głęboką wodę, to można spróbować Vim lub Emacs."
   ]
  },
  {
   "cell_type": "code",
   "execution_count": 25,
   "metadata": {
    "collapsed": true
   },
   "outputs": [],
   "source": [
    "# a tak wczytujemy\n",
    "zaladowany = json.load(open(\"../dane/gdzie_buw.json\"))"
   ]
  },
  {
   "cell_type": "code",
   "execution_count": 26,
   "metadata": {
    "collapsed": false
   },
   "outputs": [
    {
     "data": {
      "text/plain": [
       "{'results': [{'address_components': [{'long_name': '56/66',\n",
       "     'short_name': '56/66',\n",
       "     'types': ['street_number']},\n",
       "    {'long_name': 'Dobra', 'short_name': 'Dobra', 'types': ['route']},\n",
       "    {'long_name': 'Śródmieście',\n",
       "     'short_name': 'Śródmieście',\n",
       "     'types': ['sublocality_level_1', 'sublocality', 'political']},\n",
       "    {'long_name': 'Warszawa',\n",
       "     'short_name': 'Warszawa',\n",
       "     'types': ['locality', 'political']},\n",
       "    {'long_name': 'Warszawa',\n",
       "     'short_name': 'Warszawa',\n",
       "     'types': ['administrative_area_level_2', 'political']},\n",
       "    {'long_name': 'mazowieckie',\n",
       "     'short_name': 'mazowieckie',\n",
       "     'types': ['administrative_area_level_1', 'political']},\n",
       "    {'long_name': 'Poland',\n",
       "     'short_name': 'PL',\n",
       "     'types': ['country', 'political']}],\n",
       "   'formatted_address': 'Dobra 56/66, Warszawa, Poland',\n",
       "   'geometry': {'location': {'lat': 52.2423917, 'lng': 21.0244245},\n",
       "    'location_type': 'ROOFTOP',\n",
       "    'viewport': {'northeast': {'lat': 52.2437406802915,\n",
       "      'lng': 21.0257734802915},\n",
       "     'southwest': {'lat': 52.2410427197085, 'lng': 21.0230755197085}}},\n",
       "   'partial_match': True,\n",
       "   'place_id': 'ChIJa5vQa1zMHkcRnD5vTrfkOx4',\n",
       "   'types': ['street_address']}],\n",
       " 'status': 'OK'}"
      ]
     },
     "execution_count": 26,
     "metadata": {},
     "output_type": "execute_result"
    }
   ],
   "source": [
    "zaladowany"
   ]
  },
  {
   "cell_type": "markdown",
   "metadata": {},
   "source": [
    "Jeśli chcemy używać czegoś wielokrotnie, warto zrobić z tego funkcję."
   ]
  },
  {
   "cell_type": "code",
   "execution_count": 27,
   "metadata": {
    "collapsed": false
   },
   "outputs": [],
   "source": [
    "# https://maps.googleapis.com/maps/api/elevation/json?locations=39.7391536,-104.9847034\n",
    "def wysokosc(szer, dlug):\n",
    "    r = requests.get(\"https://maps.googleapis.com/maps/api/elevation/json\",\n",
    "                     params={\"locations\": str(szer) + \",\" +  str(dlug)})\n",
    "    odpowiedz = r.json()\n",
    "    if len(odpowiedz['results']) > 0:\n",
    "        return odpowiedz['results'][0]['elevation']\n",
    "    else:\n",
    "        return {}"
   ]
  },
  {
   "cell_type": "code",
   "execution_count": 28,
   "metadata": {
    "collapsed": false
   },
   "outputs": [
    {
     "data": {
      "text/plain": [
       "8815.705078125"
      ]
     },
     "execution_count": 28,
     "metadata": {},
     "output_type": "execute_result"
    }
   ],
   "source": [
    "# jaka jest Mt Everest (uwaga - współrzędne nie są przybliżone, więc możemy trafić koło szczytu)\n",
    "wysokosc(27 + 59/60 + 17/60**2, 86 + 55/60 + 31/60**2)"
   ]
  },
  {
   "cell_type": "code",
   "execution_count": 29,
   "metadata": {
    "collapsed": true
   },
   "outputs": [],
   "source": [
    "def lokalizuj(adres):\n",
    "    r = requests.get(\"https://maps.googleapis.com/maps/api/geocode/json\",\n",
    "                     params={\"address\": adres}).json()\n",
    "    return r['results'][0]['geometry']['location']"
   ]
  },
  {
   "cell_type": "code",
   "execution_count": 30,
   "metadata": {
    "collapsed": false
   },
   "outputs": [
    {
     "data": {
      "text/plain": [
       "{'lat': 27.9879017, 'lng': 86.9253141}"
      ]
     },
     "execution_count": 30,
     "metadata": {},
     "output_type": "execute_result"
    }
   ],
   "source": [
    "lokalizuj(\"Mount Everest\")"
   ]
  },
  {
   "cell_type": "code",
   "execution_count": 31,
   "metadata": {
    "collapsed": false
   },
   "outputs": [
    {
     "data": {
      "text/plain": [
       "{'lat': 52.2167206, 'lng': 21.0169635}"
      ]
     },
     "execution_count": 31,
     "metadata": {},
     "output_type": "execute_result"
    }
   ],
   "source": [
    "lokalizuj(\"ul. Polna, Warszawa\")"
   ]
  },
  {
   "cell_type": "code",
   "execution_count": 32,
   "metadata": {
    "collapsed": true
   },
   "outputs": [],
   "source": [
    "# podglądając jak Google Maps koduje pozycję w adresie\n",
    "# https://www.google.com/maps/@52.2423917,21.0244245,16z\n",
    "def lok2link(lokalizacja):\n",
    "    return \"https://www.google.com/maps/@\" + str(lokalizacja['lat']) + \",\" + str(lokalizacja['lng']) + \",16z\""
   ]
  },
  {
   "cell_type": "code",
   "execution_count": 33,
   "metadata": {
    "collapsed": false
   },
   "outputs": [
    {
     "name": "stdout",
     "output_type": "stream",
     "text": [
      "https://www.google.com/maps/@52.2167206,21.0169635,16z\n"
     ]
    }
   ],
   "source": [
    "print(lok2link({'lat': 52.2167206, 'lng': 21.0169635}))"
   ]
  },
  {
   "cell_type": "code",
   "execution_count": 34,
   "metadata": {
    "collapsed": false
   },
   "outputs": [
    {
     "name": "stdout",
     "output_type": "stream",
     "text": [
      "https://www.google.com/maps/@50.3249278,18.7857186,16z\n"
     ]
    }
   ],
   "source": [
    "print(lok2link(lokalizuj(\"Zabrze\")))"
   ]
  },
  {
   "cell_type": "markdown",
   "metadata": {},
   "source": [
    "Do rzeczy! Zlokalizujmy szkoły w Warszawie.\n",
    "\n",
    "Dane pochodzą z Zespołu Pomiaru Dydaktycznego Instytutu Badań Edukacyjnych, przez [pakiet R zozlak/ZDP](https://github.com/zozlak/ZPD), następnie przetworzony w ramach [badania wyników matur w DELab](https://github.com/stared/delab-matury)."
   ]
  },
  {
   "cell_type": "code",
   "execution_count": 35,
   "metadata": {
    "collapsed": true
   },
   "outputs": [],
   "source": [
    "import pandas as pd"
   ]
  },
  {
   "cell_type": "code",
   "execution_count": 36,
   "metadata": {
    "collapsed": true
   },
   "outputs": [],
   "source": [
    "licea = pd.read_csv(\"../dane/licea_warszawskie.csv\")"
   ]
  },
  {
   "cell_type": "code",
   "execution_count": 37,
   "metadata": {
    "collapsed": false
   },
   "outputs": [
    {
     "data": {
      "text/plain": [
       "165"
      ]
     },
     "execution_count": 37,
     "metadata": {},
     "output_type": "execute_result"
    }
   ],
   "source": [
    "len(licea)"
   ]
  },
  {
   "cell_type": "code",
   "execution_count": 38,
   "metadata": {
    "collapsed": false
   },
   "outputs": [
    {
     "data": {
      "text/html": [
       "<div>\n",
       "<table border=\"1\" class=\"dataframe\">\n",
       "  <thead>\n",
       "    <tr style=\"text-align: right;\">\n",
       "      <th></th>\n",
       "      <th>id_szkoly</th>\n",
       "      <th>nazwa_szkoly</th>\n",
       "      <th>adres</th>\n",
       "      <th>miejscowosc</th>\n",
       "      <th>kod_pocztowy</th>\n",
       "      <th>dzielnica</th>\n",
       "    </tr>\n",
       "  </thead>\n",
       "  <tbody>\n",
       "    <tr>\n",
       "      <th>0</th>\n",
       "      <td>25302</td>\n",
       "      <td>Liceum Ogólnokształcące dla Dorosłych nr 48 MGM</td>\n",
       "      <td>Obrońców Tobruku 40</td>\n",
       "      <td>Warszawa</td>\n",
       "      <td>01-494</td>\n",
       "      <td>Bemowo</td>\n",
       "    </tr>\n",
       "    <tr>\n",
       "      <th>1</th>\n",
       "      <td>25300</td>\n",
       "      <td>Sportowe Liceum Ogólnokształcące nr 67 MGM</td>\n",
       "      <td>Obrońców Tobruku 40</td>\n",
       "      <td>Warszawa</td>\n",
       "      <td>01-494</td>\n",
       "      <td>Bemowo</td>\n",
       "    </tr>\n",
       "    <tr>\n",
       "      <th>2</th>\n",
       "      <td>25298</td>\n",
       "      <td>LXXVIII Liceum Ogólnokształcące im. Marii Pawl...</td>\n",
       "      <td>Anieli Krzywoń 3</td>\n",
       "      <td>Warszawa</td>\n",
       "      <td>01-391</td>\n",
       "      <td>Bemowo</td>\n",
       "    </tr>\n",
       "    <tr>\n",
       "      <th>3</th>\n",
       "      <td>25499</td>\n",
       "      <td>Liceum Ogólnokształcące Niepubliczne nr 29 im....</td>\n",
       "      <td>Powązkowska 90</td>\n",
       "      <td>Warszawa</td>\n",
       "      <td>01-728</td>\n",
       "      <td>Bemowo</td>\n",
       "    </tr>\n",
       "    <tr>\n",
       "      <th>4</th>\n",
       "      <td>25303</td>\n",
       "      <td>CV Liceum Ogólnokształcące im. Zbigniewa Herberta</td>\n",
       "      <td>Vincenta van Gogha 1</td>\n",
       "      <td>Warszawa</td>\n",
       "      <td>03-188</td>\n",
       "      <td>Białołęka</td>\n",
       "    </tr>\n",
       "  </tbody>\n",
       "</table>\n",
       "</div>"
      ],
      "text/plain": [
       "   id_szkoly                                       nazwa_szkoly  \\\n",
       "0      25302    Liceum Ogólnokształcące dla Dorosłych nr 48 MGM   \n",
       "1      25300         Sportowe Liceum Ogólnokształcące nr 67 MGM   \n",
       "2      25298  LXXVIII Liceum Ogólnokształcące im. Marii Pawl...   \n",
       "3      25499  Liceum Ogólnokształcące Niepubliczne nr 29 im....   \n",
       "4      25303  CV Liceum Ogólnokształcące im. Zbigniewa Herberta   \n",
       "\n",
       "                  adres miejscowosc kod_pocztowy  dzielnica  \n",
       "0   Obrońców Tobruku 40    Warszawa       01-494     Bemowo  \n",
       "1   Obrońców Tobruku 40    Warszawa       01-494     Bemowo  \n",
       "2      Anieli Krzywoń 3    Warszawa       01-391     Bemowo  \n",
       "3        Powązkowska 90    Warszawa       01-728     Bemowo  \n",
       "4  Vincenta van Gogha 1    Warszawa       03-188  Białołęka  "
      ]
     },
     "execution_count": 38,
     "metadata": {},
     "output_type": "execute_result"
    }
   ],
   "source": [
    "licea.head()"
   ]
  },
  {
   "cell_type": "code",
   "execution_count": 39,
   "metadata": {
    "collapsed": false
   },
   "outputs": [
    {
     "data": {
      "text/plain": [
       "Śródmieście       33\n",
       "Mokotów           23\n",
       "Praga-Południe    17\n",
       "Wola              16\n",
       "Bielany           13\n",
       "Ursynów           12\n",
       "Praga-Północ       9\n",
       "Ochota             8\n",
       "Żoliborz           7\n",
       "Wawer              7\n",
       "Targówek           6\n",
       "Bemowo             4\n",
       "Włochy             2\n",
       "Białołęka          2\n",
       "Wesoła             2\n",
       "Wilanów            2\n",
       "Rembertów          1\n",
       "Ursus              1\n",
       "dtype: int64"
      ]
     },
     "execution_count": 39,
     "metadata": {},
     "output_type": "execute_result"
    }
   ],
   "source": [
    "licea[\"dzielnica\"].value_counts()"
   ]
  },
  {
   "cell_type": "code",
   "execution_count": 40,
   "metadata": {
    "collapsed": false
   },
   "outputs": [
    {
     "data": {
      "text/plain": [
       "['Obrońców Tobruku 40',\n",
       " 'Obrońców Tobruku 40',\n",
       " 'Anieli Krzywoń 3',\n",
       " 'Powązkowska 90',\n",
       " 'Vincenta van Gogha 1']"
      ]
     },
     "execution_count": 40,
     "metadata": {},
     "output_type": "execute_result"
    }
   ],
   "source": [
    "# listę adresów dostejemy tak\n",
    "list(licea[\"adres\"])[:5]"
   ]
  },
  {
   "cell_type": "markdown",
   "metadata": {},
   "source": [
    "### Zadanie\n",
    "\n",
    "Dla wybranej przez siebie dzielnicy Warszawy dodać kolumny `szerokosc` i `dlugosc` zgodnie z geolokalizacją szkoły."
   ]
  },
  {
   "cell_type": "markdown",
   "metadata": {
    "collapsed": true
   },
   "source": [
    "## Zobacz też\n",
    "\n",
    "* [San Francisco's Drug Geography](http://lmart999.github.io/2015/02/28/gis/)"
   ]
  },
  {
   "cell_type": "code",
   "execution_count": null,
   "metadata": {
    "collapsed": true
   },
   "outputs": [],
   "source": []
  }
 ],
 "metadata": {
  "kernelspec": {
   "display_name": "Python 3",
   "language": "python",
   "name": "python3"
  },
  "language_info": {
   "codemirror_mode": {
    "name": "ipython",
    "version": 3
   },
   "file_extension": ".py",
   "mimetype": "text/x-python",
   "name": "python",
   "nbconvert_exporter": "python",
   "pygments_lexer": "ipython3",
   "version": "3.4.3"
  }
 },
 "nbformat": 4,
 "nbformat_minor": 0
}
