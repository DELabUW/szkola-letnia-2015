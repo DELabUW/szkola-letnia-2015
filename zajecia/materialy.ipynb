{
 "cells": [
  {
   "cell_type": "markdown",
   "metadata": {},
   "source": [
    "# Linki i materiały \n",
    "\n",
    "### Python jako język programowania\n",
    "\n",
    "* Zed A. Shaw, **Learn Python the Hard Way** (http://learnpythonthehardway.org/book/index.html). Bardzo solidny i przystępny kurs z dużą ilością ćwiczeń, nastawiony na zrozumienie języka.\n",
    "\n",
    "* Greg Malcolm, **Python Koans** (https://github.com/gregmalcolm/python_koans). Nauka programowania w Pythonie w stylu Zen. Składa się z serii ćwiczeń wymagających zrozumienia i zmodyfikowania krótkich fragmentów kodu.\n",
    "\n",
    "* Kushal Das, **Python for you and me** (http://pymbook.readthedocs.org). Krótszy kurs dla mniej cierpliwych.\n",
    "\n",
    "### Analiza danych w Pythonie\n",
    "\n",
    "* Wes McKinney, **Python for Data Analysis** (http://shop.oreilly.com/product/0636920023784.do) Książka autora biblioteki pandas, opisująca różne sposoby pracy z danymi w Pythonie. Bardziej koncentruje się na podaniu rozwiązań konkretnych problemów, nie stanowi systematycznego kursu.\n",
    "\n",
    "* Chris Moffitt, **Practical Business Python** (http://pbpython.com/category/articles.html) Blog z praktycznymi zastosowaniami bibliotek pythonowych jako zamienników i rozszerzeń Excela.\n",
    "\n",
    "* Kevin Sheppard, **Introduction to Python for Econometrics, Statistics and Data Analysis** (https://www.kevinsheppard.com/images/0/09/Python_introduction.pdf) Obszerny ebook zawierający zarówno kurs samego Pythona, jak i popularnych bibliotek do analizy danych.\n",
    "\n",
    "### Wykresy i wizualizacje\n",
    "\n",
    "* http://www.labri.fr/perso/nrougier/teaching/matplotlib/\n",
    "* http://pbpython.com/visualization-tools-1.html\n",
    "* http://pandas.pydata.org/pandas-docs/stable/visualization.html\n",
    "\n",
    "### Przetwarzanie języka naturalnego\n",
    "\n",
    "* Natural Language Toolkit (http://www.nltk.org). Popularna biblioteka, zawierająca narzędzia do przetwarzania języka. Istnieje oparty na niej podręcznik wprowadzający w zagadnienia NLP (http://www.nltk.org/book/).\n",
    "\n",
    "* gensim (https://radimrehurek.com/gensim/). Nowoczesna biblioteka do konstruowania wektorowych przestrzeni semantycznych.\n",
    "\n",
    "### Geolokalizacja\n",
    "\n",
    "* http://lmart999.github.io/2015/02/28/gis/ San Francisco's Drug Geography \n",
    "\n",
    "### Uczenie maszynowe i modelowanie statystyczne\n",
    "\n",
    "* http://statsmodels.sourceforge.net/ Klasyczne metody statystyczne: modele liniowe, testy parametryczne i nieparametryczne, wczytywanie i zapisywanie danych w formacie Stata.\n",
    "* http://scikit-learn.org/ Nowoczesna biblioteka z algorytmami uczenia maszynowego i bardzo przystepną dokumentacją.\n",
    "* http://camdavidsonpilon.github.io/Probabilistic-Programming-and-Bayesian-Methods-for-Hackers/ Statystyka bayesowska w Pythonie."
   ]
  }
 ],
 "metadata": {
  "kernelspec": {
   "display_name": "Python 3",
   "language": "python",
   "name": "python3"
  },
  "language_info": {
   "codemirror_mode": {
    "name": "ipython",
    "version": 3
   },
   "file_extension": ".py",
   "mimetype": "text/x-python",
   "name": "python",
   "nbconvert_exporter": "python",
   "pygments_lexer": "ipython3",
   "version": "3.4.3"
  }
 },
 "nbformat": 4,
 "nbformat_minor": 0
}
