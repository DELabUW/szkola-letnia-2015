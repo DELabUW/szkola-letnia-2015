{
 "cells": [
  {
   "cell_type": "markdown",
   "metadata": {},
   "source": [
    "# Linki i materiały \n",
    "\n",
    "### Python jako język programowania\n",
    "\n",
    "* Zed A. Shaw, **Learn Python the Hard Way** (http://learnpythonthehardway.org/book/index.html). Bardzo solidny i przystępny kurs z dużą ilością ćwiczeń, nastawiony na zrozumienie języka.\n",
    "\n",
    "* Greg Malcolm, **Python Koans** (https://github.com/gregmalcolm/python_koans). Nauka programowania w Pythonie w stylu Zen. Składa się z serii ćwiczeń wymagających zrozumienia i zmodyfikowania krótkich fragmentów kodu.\n",
    "\n",
    "* Kushal Das, **Python for you and me** (http://pymbook.readthedocs.org). Krótszy kurs dla mniej cierpliwych.\n",
    "\n",
    "### Analiza danych w Pythonie\n",
    "\n",
    "* Wes McKinney, **Python for Data Analysis** (http://shop.oreilly.com/product/0636920023784.do) Książka autora biblioteki pandas, opisująca różne sposoby pracy z danymi w Pythonie. Bardziej koncentruje się na podaniu rozwiązań konkretnych problemów, nie stanowi systematycznego kursu.\n",
    "\n",
    "* Chris Moffitt, **Practical Business Python** (http://pbpython.com/category/articles.html) Blog z praktycznymi zastosowaniami bibliotek pythonowych jako zamienników i rozszerzeń Excela.\n",
    "\n",
    "* Kevin Sheppard, **Introduction to Python for Econometrics, Statistics and Data Analysis** (https://www.kevinsheppard.com/images/0/09/Python_introduction.pdf) Obszerny ebook zawierający zarówno kurs samego Pythona, jak i popularnych bibliotek do analizy danych.\n",
    "\n",
    "### Wykresy i wizualizacje\n",
    "\n",
    "* http://www.labri.fr/perso/nrougier/teaching/matplotlib/\n",
    "* http://pbpython.com/visualization-tools-1.html\n",
    "* http://pandas.pydata.org/pandas-docs/stable/visualization.html\n",
    "\n",
    "### Przetwarzanie języka naturalnego\n",
    "\n",
    "* Natural Language Toolkit (http://www.nltk.org). Popularna biblioteka, zawierająca narzędzia do przetwarzania języka. Istnieje oparty na niej podręcznik wprowadzający w zagadnienia NLP (http://www.nltk.org/book/).\n",
    "\n",
    "* gensim (https://radimrehurek.com/gensim/). Nowoczesna biblioteka do konstruowania wektorowych przestrzeni semantycznych.\n",
    "\n",
    "### Geolokalizacja\n",
    "\n",
    "* http://lmart999.github.io/2015/02/28/gis/ San Francisco's Drug Geography \n",
    "\n",
    "### Grafy, sieci złożone\n",
    "\n",
    "* https://networkx.github.io/ - biblioteka do grafów\n",
    "* http://kateto.net/network-visualization - wstęp do przetwarzania grafów (w R, ale z biblioteki igraph (http://igraph.org/) można korzystać również w Pythonie)\n",
    "\n",
    "### Ściąganie stron internetowych (scraping)\n",
    "\n",
    "* http://pbpython.com/web-scraping-mn-budget.html - wstęp\n",
    "* biblioteki: BeautifulSoup (http://www.crummy.com/software/BeautifulSoup/bs4/doc/) i już przez nas używane requests (http://docs.python-requests.org)\n",
    "\n",
    "### Uczenie maszynowe i modelowanie statystyczne\n",
    "\n",
    "* http://statsmodels.sourceforge.net/ Klasyczne metody statystyczne: modele liniowe, testy parametryczne i nieparametryczne, wczytywanie i zapisywanie danych w formacie Stata.\n",
    "* http://scikit-learn.org/ Nowoczesna biblioteka z algorytmami uczenia maszynowego i bardzo przystepną dokumentacją.\n",
    "* http://camdavidsonpilon.github.io/Probabilistic-Programming-and-Bayesian-Methods-for-Hackers/ Statystyka bayesowska w Pythonie.\n",
    "\n",
    "### Inne\n",
    "\n",
    "* https://marcinciura.wordpress.com/2015/07/01/the-vector-space-of-the-polish-parliament-in-pictures/ - analiza polskiego parlamentu w Pythonie\n",
    "* https://github.com/google/deepdream/blob/master/dream.ipynb - tworzenie \"snów maszyn\" w Pythonie\n",
    "* http://www.springerplus.com/content/3/1/97 - jak NIE dopasowywać krzywych do wykresów"
   ]
  },
  {
   "cell_type": "code",
   "execution_count": 1,
   "metadata": {
    "collapsed": false
   },
   "outputs": [
    {
     "name": "stdout",
     "output_type": "stream",
     "text": [
      "The Zen of Python, by Tim Peters\n",
      "\n",
      "Beautiful is better than ugly.\n",
      "Explicit is better than implicit.\n",
      "Simple is better than complex.\n",
      "Complex is better than complicated.\n",
      "Flat is better than nested.\n",
      "Sparse is better than dense.\n",
      "Readability counts.\n",
      "Special cases aren't special enough to break the rules.\n",
      "Although practicality beats purity.\n",
      "Errors should never pass silently.\n",
      "Unless explicitly silenced.\n",
      "In the face of ambiguity, refuse the temptation to guess.\n",
      "There should be one-- and preferably only one --obvious way to do it.\n",
      "Although that way may not be obvious at first unless you're Dutch.\n",
      "Now is better than never.\n",
      "Although never is often better than *right* now.\n",
      "If the implementation is hard to explain, it's a bad idea.\n",
      "If the implementation is easy to explain, it may be a good idea.\n",
      "Namespaces are one honking great idea -- let's do more of those!\n"
     ]
    }
   ],
   "source": [
    "# i odrobina pythonowej filozofii na koniec:\n",
    "import this"
   ]
  },
  {
   "cell_type": "code",
   "execution_count": null,
   "metadata": {
    "collapsed": true
   },
   "outputs": [],
   "source": []
  }
 ],
 "metadata": {
  "kernelspec": {
   "display_name": "Python 3",
   "language": "python",
   "name": "python3"
  },
  "language_info": {
   "codemirror_mode": {
    "name": "ipython",
    "version": 3
   },
   "file_extension": ".py",
   "mimetype": "text/x-python",
   "name": "python",
   "nbconvert_exporter": "python",
   "pygments_lexer": "ipython3",
   "version": "3.4.3"
  }
 },
 "nbformat": 4,
 "nbformat_minor": 0
}
