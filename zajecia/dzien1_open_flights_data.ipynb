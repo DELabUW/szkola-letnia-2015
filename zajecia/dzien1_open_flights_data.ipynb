{
 "cells": [
  {
   "cell_type": "markdown",
   "metadata": {},
   "source": [
    "# Przetwarzanie danych OpenFlights\n",
    "\n",
    "Julian Zubek, 2015, [DELab UW](http://www.delab.uw.edu.pl/)"
   ]
  },
  {
   "cell_type": "code",
   "execution_count": 2,
   "metadata": {
    "collapsed": true
   },
   "outputs": [],
   "source": [
    "import pandas as pd"
   ]
  },
  {
   "cell_type": "markdown",
   "metadata": {},
   "source": [
    "Wczytamy dane dotyczące lotnisk na świecie."
   ]
  },
  {
   "cell_type": "code",
   "execution_count": 4,
   "metadata": {
    "collapsed": false
   },
   "outputs": [
    {
     "data": {
      "text/html": [
       "<div style=\"max-height:1000px;max-width:1500px;overflow:auto;\">\n",
       "<table border=\"1\" class=\"dataframe\">\n",
       "  <thead>\n",
       "    <tr style=\"text-align: right;\">\n",
       "      <th></th>\n",
       "      <th>0</th>\n",
       "      <th>1</th>\n",
       "      <th>2</th>\n",
       "      <th>3</th>\n",
       "      <th>4</th>\n",
       "      <th>5</th>\n",
       "      <th>6</th>\n",
       "      <th>7</th>\n",
       "      <th>8</th>\n",
       "      <th>9</th>\n",
       "      <th>10</th>\n",
       "      <th>11</th>\n",
       "    </tr>\n",
       "  </thead>\n",
       "  <tbody>\n",
       "    <tr>\n",
       "      <th>0</th>\n",
       "      <td> 1</td>\n",
       "      <td>                     Goroka</td>\n",
       "      <td>       Goroka</td>\n",
       "      <td> Papua New Guinea</td>\n",
       "      <td> GKA</td>\n",
       "      <td> AYGA</td>\n",
       "      <td>-6.081689</td>\n",
       "      <td> 145.391881</td>\n",
       "      <td> 5282</td>\n",
       "      <td> 10</td>\n",
       "      <td> U</td>\n",
       "      <td> Pacific/Port_Moresby</td>\n",
       "    </tr>\n",
       "    <tr>\n",
       "      <th>1</th>\n",
       "      <td> 2</td>\n",
       "      <td>                     Madang</td>\n",
       "      <td>       Madang</td>\n",
       "      <td> Papua New Guinea</td>\n",
       "      <td> MAG</td>\n",
       "      <td> AYMD</td>\n",
       "      <td>-5.207083</td>\n",
       "      <td> 145.788700</td>\n",
       "      <td>   20</td>\n",
       "      <td> 10</td>\n",
       "      <td> U</td>\n",
       "      <td> Pacific/Port_Moresby</td>\n",
       "    </tr>\n",
       "    <tr>\n",
       "      <th>2</th>\n",
       "      <td> 3</td>\n",
       "      <td>                Mount Hagen</td>\n",
       "      <td>  Mount Hagen</td>\n",
       "      <td> Papua New Guinea</td>\n",
       "      <td> HGU</td>\n",
       "      <td> AYMH</td>\n",
       "      <td>-5.826789</td>\n",
       "      <td> 144.295861</td>\n",
       "      <td> 5388</td>\n",
       "      <td> 10</td>\n",
       "      <td> U</td>\n",
       "      <td> Pacific/Port_Moresby</td>\n",
       "    </tr>\n",
       "    <tr>\n",
       "      <th>3</th>\n",
       "      <td> 4</td>\n",
       "      <td>                     Nadzab</td>\n",
       "      <td>       Nadzab</td>\n",
       "      <td> Papua New Guinea</td>\n",
       "      <td> LAE</td>\n",
       "      <td> AYNZ</td>\n",
       "      <td>-6.569828</td>\n",
       "      <td> 146.726242</td>\n",
       "      <td>  239</td>\n",
       "      <td> 10</td>\n",
       "      <td> U</td>\n",
       "      <td> Pacific/Port_Moresby</td>\n",
       "    </tr>\n",
       "    <tr>\n",
       "      <th>4</th>\n",
       "      <td> 5</td>\n",
       "      <td> Port Moresby Jacksons Intl</td>\n",
       "      <td> Port Moresby</td>\n",
       "      <td> Papua New Guinea</td>\n",
       "      <td> POM</td>\n",
       "      <td> AYPY</td>\n",
       "      <td>-9.443383</td>\n",
       "      <td> 147.220050</td>\n",
       "      <td>  146</td>\n",
       "      <td> 10</td>\n",
       "      <td> U</td>\n",
       "      <td> Pacific/Port_Moresby</td>\n",
       "    </tr>\n",
       "  </tbody>\n",
       "</table>\n",
       "</div>"
      ],
      "text/plain": [
       "   0                           1             2                 3    4     5   \\\n",
       "0   1                      Goroka        Goroka  Papua New Guinea  GKA  AYGA   \n",
       "1   2                      Madang        Madang  Papua New Guinea  MAG  AYMD   \n",
       "2   3                 Mount Hagen   Mount Hagen  Papua New Guinea  HGU  AYMH   \n",
       "3   4                      Nadzab        Nadzab  Papua New Guinea  LAE  AYNZ   \n",
       "4   5  Port Moresby Jacksons Intl  Port Moresby  Papua New Guinea  POM  AYPY   \n",
       "\n",
       "         6           7     8   9  10                    11  \n",
       "0 -6.081689  145.391881  5282  10  U  Pacific/Port_Moresby  \n",
       "1 -5.207083  145.788700    20  10  U  Pacific/Port_Moresby  \n",
       "2 -5.826789  144.295861  5388  10  U  Pacific/Port_Moresby  \n",
       "3 -6.569828  146.726242   239  10  U  Pacific/Port_Moresby  \n",
       "4 -9.443383  147.220050   146  10  U  Pacific/Port_Moresby  "
      ]
     },
     "execution_count": 4,
     "metadata": {},
     "output_type": "execute_result"
    }
   ],
   "source": [
    "airports = pd.read_csv(\"../dane/airports.csv\", header=None)\n",
    "airports.head()"
   ]
  },
  {
   "cell_type": "markdown",
   "metadata": {},
   "source": [
    "## Indeksowanie"
   ]
  },
  {
   "cell_type": "markdown",
   "metadata": {},
   "source": [
    "Wygodniej jest posługiwać się nazwami kolumn, które mówią coś użytkownikowi. Zmienimy więc indeks i wyświetlimy pierwsze trzy wiersze tabeli:"
   ]
  },
  {
   "cell_type": "code",
   "execution_count": 5,
   "metadata": {
    "collapsed": false
   },
   "outputs": [
    {
     "data": {
      "text/html": [
       "<div style=\"max-height:1000px;max-width:1500px;overflow:auto;\">\n",
       "<table border=\"1\" class=\"dataframe\">\n",
       "  <thead>\n",
       "    <tr style=\"text-align: right;\">\n",
       "      <th></th>\n",
       "      <th>Airport ID</th>\n",
       "      <th>Name</th>\n",
       "      <th>City</th>\n",
       "      <th>Country</th>\n",
       "      <th>IATA/FAA</th>\n",
       "      <th>ICAO</th>\n",
       "      <th>Latitude</th>\n",
       "      <th>Longitude</th>\n",
       "      <th>Altitude</th>\n",
       "      <th>Timezone</th>\n",
       "      <th>DST</th>\n",
       "      <th>Tz database time zone</th>\n",
       "    </tr>\n",
       "  </thead>\n",
       "  <tbody>\n",
       "    <tr>\n",
       "      <th>0</th>\n",
       "      <td> 1</td>\n",
       "      <td>      Goroka</td>\n",
       "      <td>      Goroka</td>\n",
       "      <td> Papua New Guinea</td>\n",
       "      <td> GKA</td>\n",
       "      <td> AYGA</td>\n",
       "      <td>-6.081689</td>\n",
       "      <td> 145.391881</td>\n",
       "      <td> 5282</td>\n",
       "      <td> 10</td>\n",
       "      <td> U</td>\n",
       "      <td> Pacific/Port_Moresby</td>\n",
       "    </tr>\n",
       "    <tr>\n",
       "      <th>1</th>\n",
       "      <td> 2</td>\n",
       "      <td>      Madang</td>\n",
       "      <td>      Madang</td>\n",
       "      <td> Papua New Guinea</td>\n",
       "      <td> MAG</td>\n",
       "      <td> AYMD</td>\n",
       "      <td>-5.207083</td>\n",
       "      <td> 145.788700</td>\n",
       "      <td>   20</td>\n",
       "      <td> 10</td>\n",
       "      <td> U</td>\n",
       "      <td> Pacific/Port_Moresby</td>\n",
       "    </tr>\n",
       "    <tr>\n",
       "      <th>2</th>\n",
       "      <td> 3</td>\n",
       "      <td> Mount Hagen</td>\n",
       "      <td> Mount Hagen</td>\n",
       "      <td> Papua New Guinea</td>\n",
       "      <td> HGU</td>\n",
       "      <td> AYMH</td>\n",
       "      <td>-5.826789</td>\n",
       "      <td> 144.295861</td>\n",
       "      <td> 5388</td>\n",
       "      <td> 10</td>\n",
       "      <td> U</td>\n",
       "      <td> Pacific/Port_Moresby</td>\n",
       "    </tr>\n",
       "  </tbody>\n",
       "</table>\n",
       "</div>"
      ],
      "text/plain": [
       "   Airport ID         Name         City           Country IATA/FAA  ICAO  \\\n",
       "0           1       Goroka       Goroka  Papua New Guinea      GKA  AYGA   \n",
       "1           2       Madang       Madang  Papua New Guinea      MAG  AYMD   \n",
       "2           3  Mount Hagen  Mount Hagen  Papua New Guinea      HGU  AYMH   \n",
       "\n",
       "   Latitude   Longitude  Altitude  Timezone DST Tz database time zone  \n",
       "0 -6.081689  145.391881      5282        10   U  Pacific/Port_Moresby  \n",
       "1 -5.207083  145.788700        20        10   U  Pacific/Port_Moresby  \n",
       "2 -5.826789  144.295861      5388        10   U  Pacific/Port_Moresby  "
      ]
     },
     "execution_count": 5,
     "metadata": {},
     "output_type": "execute_result"
    }
   ],
   "source": [
    "airports.columns = [\"Airport ID\", \"Name\", \"City\", \"Country\", \"IATA/FAA\", \"ICAO\", \"Latitude\", \"Longitude\", \"Altitude\", \"Timezone\", \"DST\", \"Tz database time zone\"]\n",
    "airports[:3]"
   ]
  },
  {
   "cell_type": "markdown",
   "metadata": {},
   "source": [
    "Na podobnej zasadzie możemy wybrać wiersze między 10 a 15:"
   ]
  },
  {
   "cell_type": "code",
   "execution_count": 6,
   "metadata": {
    "collapsed": false
   },
   "outputs": [
    {
     "data": {
      "text/html": [
       "<div style=\"max-height:1000px;max-width:1500px;overflow:auto;\">\n",
       "<table border=\"1\" class=\"dataframe\">\n",
       "  <thead>\n",
       "    <tr style=\"text-align: right;\">\n",
       "      <th></th>\n",
       "      <th>Airport ID</th>\n",
       "      <th>Name</th>\n",
       "      <th>City</th>\n",
       "      <th>Country</th>\n",
       "      <th>IATA/FAA</th>\n",
       "      <th>ICAO</th>\n",
       "      <th>Latitude</th>\n",
       "      <th>Longitude</th>\n",
       "      <th>Altitude</th>\n",
       "      <th>Timezone</th>\n",
       "      <th>DST</th>\n",
       "      <th>Tz database time zone</th>\n",
       "    </tr>\n",
       "  </thead>\n",
       "  <tbody>\n",
       "    <tr>\n",
       "      <th>10</th>\n",
       "      <td> 11</td>\n",
       "      <td>     Akureyri</td>\n",
       "      <td>    Akureyri</td>\n",
       "      <td> Iceland</td>\n",
       "      <td> AEY</td>\n",
       "      <td> BIAR</td>\n",
       "      <td> 65.659994</td>\n",
       "      <td>-18.072703</td>\n",
       "      <td>  6</td>\n",
       "      <td> 0</td>\n",
       "      <td> N</td>\n",
       "      <td> Atlantic/Reykjavik</td>\n",
       "    </tr>\n",
       "    <tr>\n",
       "      <th>11</th>\n",
       "      <td> 12</td>\n",
       "      <td>  Egilsstadir</td>\n",
       "      <td> Egilsstadir</td>\n",
       "      <td> Iceland</td>\n",
       "      <td> EGS</td>\n",
       "      <td> BIEG</td>\n",
       "      <td> 65.283333</td>\n",
       "      <td>-14.401389</td>\n",
       "      <td> 76</td>\n",
       "      <td> 0</td>\n",
       "      <td> N</td>\n",
       "      <td> Atlantic/Reykjavik</td>\n",
       "    </tr>\n",
       "    <tr>\n",
       "      <th>12</th>\n",
       "      <td> 13</td>\n",
       "      <td> Hornafjordur</td>\n",
       "      <td>        Hofn</td>\n",
       "      <td> Iceland</td>\n",
       "      <td> HFN</td>\n",
       "      <td> BIHN</td>\n",
       "      <td> 64.295556</td>\n",
       "      <td>-15.227222</td>\n",
       "      <td> 24</td>\n",
       "      <td> 0</td>\n",
       "      <td> N</td>\n",
       "      <td> Atlantic/Reykjavik</td>\n",
       "    </tr>\n",
       "    <tr>\n",
       "      <th>13</th>\n",
       "      <td> 14</td>\n",
       "      <td>      Husavik</td>\n",
       "      <td>     Husavik</td>\n",
       "      <td> Iceland</td>\n",
       "      <td> HZK</td>\n",
       "      <td> BIHU</td>\n",
       "      <td> 65.952328</td>\n",
       "      <td>-17.425978</td>\n",
       "      <td> 48</td>\n",
       "      <td> 0</td>\n",
       "      <td> N</td>\n",
       "      <td> Atlantic/Reykjavik</td>\n",
       "    </tr>\n",
       "    <tr>\n",
       "      <th>14</th>\n",
       "      <td> 15</td>\n",
       "      <td>   Isafjordur</td>\n",
       "      <td>  Isafjordur</td>\n",
       "      <td> Iceland</td>\n",
       "      <td> IFJ</td>\n",
       "      <td> BIIS</td>\n",
       "      <td> 66.058056</td>\n",
       "      <td>-23.135278</td>\n",
       "      <td>  8</td>\n",
       "      <td> 0</td>\n",
       "      <td> N</td>\n",
       "      <td> Atlantic/Reykjavik</td>\n",
       "    </tr>\n",
       "  </tbody>\n",
       "</table>\n",
       "</div>"
      ],
      "text/plain": [
       "    Airport ID          Name         City  Country IATA/FAA  ICAO   Latitude  \\\n",
       "10          11      Akureyri     Akureyri  Iceland      AEY  BIAR  65.659994   \n",
       "11          12   Egilsstadir  Egilsstadir  Iceland      EGS  BIEG  65.283333   \n",
       "12          13  Hornafjordur         Hofn  Iceland      HFN  BIHN  64.295556   \n",
       "13          14       Husavik      Husavik  Iceland      HZK  BIHU  65.952328   \n",
       "14          15    Isafjordur   Isafjordur  Iceland      IFJ  BIIS  66.058056   \n",
       "\n",
       "    Longitude  Altitude  Timezone DST Tz database time zone  \n",
       "10 -18.072703         6         0   N    Atlantic/Reykjavik  \n",
       "11 -14.401389        76         0   N    Atlantic/Reykjavik  \n",
       "12 -15.227222        24         0   N    Atlantic/Reykjavik  \n",
       "13 -17.425978        48         0   N    Atlantic/Reykjavik  \n",
       "14 -23.135278         8         0   N    Atlantic/Reykjavik  "
      ]
     },
     "execution_count": 6,
     "metadata": {},
     "output_type": "execute_result"
    }
   ],
   "source": [
    "airports[10:15]"
   ]
  },
  {
   "cell_type": "markdown",
   "metadata": {},
   "source": [
    "Indeks podawany w nawiasach kwadratowych może być zakresem wierszy lub nazwą pojedynczej kolumny:"
   ]
  },
  {
   "cell_type": "code",
   "execution_count": 7,
   "metadata": {
    "collapsed": false
   },
   "outputs": [
    {
     "data": {
      "text/plain": [
       "0                        Goroka\n",
       "1                        Madang\n",
       "2                   Mount Hagen\n",
       "3                        Nadzab\n",
       "4    Port Moresby Jacksons Intl\n",
       "Name: Name, dtype: object"
      ]
     },
     "execution_count": 7,
     "metadata": {},
     "output_type": "execute_result"
    }
   ],
   "source": [
    "airports[\"Name\"].head()"
   ]
  },
  {
   "cell_type": "markdown",
   "metadata": {},
   "source": [
    "Kolumnę możemy dalej indeksować, żeby wybrać konkretne pozycje:"
   ]
  },
  {
   "cell_type": "code",
   "execution_count": 62,
   "metadata": {
    "collapsed": false
   },
   "outputs": [
    {
     "data": {
      "text/plain": [
       "'Mount Hagen'"
      ]
     },
     "execution_count": 62,
     "metadata": {},
     "output_type": "execute_result"
    }
   ],
   "source": [
    "airports[\"Name\"][2]"
   ]
  },
  {
   "cell_type": "markdown",
   "metadata": {},
   "source": [
    "### Ćwiczenie\n",
    "\n",
    "Wybierz nazywa państw ostatnich 10 lotnisk."
   ]
  },
  {
   "cell_type": "markdown",
   "metadata": {},
   "source": [
    "Bardziej zaawansowanych możliwości indeksowania dostarczają specjalne indeksery .loc, .iloc oraz .ix. Umożliwiają one indeksowanie w obu wymiarach na raz. Indekser .loc operuje na etykietach wierszy i kolumn:"
   ]
  },
  {
   "cell_type": "code",
   "execution_count": 63,
   "metadata": {
    "collapsed": false
   },
   "outputs": [
    {
     "data": {
      "text/plain": [
       "'Akureyri'"
      ]
     },
     "execution_count": 63,
     "metadata": {},
     "output_type": "execute_result"
    }
   ],
   "source": [
    "airports.loc[10, \"Name\"]"
   ]
  },
  {
   "cell_type": "markdown",
   "metadata": {},
   "source": [
    "Tutaj również można używać zakresów:"
   ]
  },
  {
   "cell_type": "code",
   "execution_count": 64,
   "metadata": {
    "collapsed": false
   },
   "outputs": [
    {
     "data": {
      "text/html": [
       "<div style=\"max-height:1000px;max-width:1500px;overflow:auto;\">\n",
       "<table border=\"1\" class=\"dataframe\">\n",
       "  <thead>\n",
       "    <tr style=\"text-align: right;\">\n",
       "      <th></th>\n",
       "      <th>Name</th>\n",
       "      <th>City</th>\n",
       "      <th>Country</th>\n",
       "    </tr>\n",
       "  </thead>\n",
       "  <tbody>\n",
       "    <tr>\n",
       "      <th>10</th>\n",
       "      <td>Akureyri</td>\n",
       "      <td>Akureyri</td>\n",
       "      <td>Iceland</td>\n",
       "    </tr>\n",
       "    <tr>\n",
       "      <th>11</th>\n",
       "      <td>Egilsstadir</td>\n",
       "      <td>Egilsstadir</td>\n",
       "      <td>Iceland</td>\n",
       "    </tr>\n",
       "    <tr>\n",
       "      <th>12</th>\n",
       "      <td>Hornafjordur</td>\n",
       "      <td>Hofn</td>\n",
       "      <td>Iceland</td>\n",
       "    </tr>\n",
       "    <tr>\n",
       "      <th>13</th>\n",
       "      <td>Husavik</td>\n",
       "      <td>Husavik</td>\n",
       "      <td>Iceland</td>\n",
       "    </tr>\n",
       "    <tr>\n",
       "      <th>14</th>\n",
       "      <td>Isafjordur</td>\n",
       "      <td>Isafjordur</td>\n",
       "      <td>Iceland</td>\n",
       "    </tr>\n",
       "    <tr>\n",
       "      <th>15</th>\n",
       "      <td>Keflavik International Airport</td>\n",
       "      <td>Keflavik</td>\n",
       "      <td>Iceland</td>\n",
       "    </tr>\n",
       "  </tbody>\n",
       "</table>\n",
       "</div>"
      ],
      "text/plain": [
       "                              Name         City  Country\n",
       "10                        Akureyri     Akureyri  Iceland\n",
       "11                     Egilsstadir  Egilsstadir  Iceland\n",
       "12                    Hornafjordur         Hofn  Iceland\n",
       "13                         Husavik      Husavik  Iceland\n",
       "14                      Isafjordur   Isafjordur  Iceland\n",
       "15  Keflavik International Airport     Keflavik  Iceland"
      ]
     },
     "execution_count": 64,
     "metadata": {},
     "output_type": "execute_result"
    }
   ],
   "source": [
    "airports.loc[10:15, \"Name\":\"Country\"]"
   ]
  },
  {
   "cell_type": "markdown",
   "metadata": {},
   "source": [
    "W szczególności można użyć pustego zakresu, żeby wybierać całe wiersze lub kolumny:"
   ]
  },
  {
   "cell_type": "code",
   "execution_count": 65,
   "metadata": {
    "collapsed": false
   },
   "outputs": [
    {
     "data": {
      "text/plain": [
       "Airport ID                                  3\n",
       "Name                              Mount Hagen\n",
       "City                              Mount Hagen\n",
       "Country                      Papua New Guinea\n",
       "IATA/FAA                                  HGU\n",
       "ICAO                                     AYMH\n",
       "Latitude                            -5.826789\n",
       "Longitude                            144.2959\n",
       "Altitude                                 5388\n",
       "Timezone                                   10\n",
       "DST                                         U\n",
       "Tz database time zone    Pacific/Port_Moresby\n",
       "Name: 2, dtype: object"
      ]
     },
     "execution_count": 65,
     "metadata": {},
     "output_type": "execute_result"
    }
   ],
   "source": [
    "airports.loc[2, :]"
   ]
  },
  {
   "cell_type": "markdown",
   "metadata": {},
   "source": [
    "Indekser .iloc pozwala na indeksowanie nie przy użyciu etykiet, ale numerów porządkowych (uwaga, liczymy od 0!):"
   ]
  },
  {
   "cell_type": "code",
   "execution_count": 66,
   "metadata": {
    "collapsed": false
   },
   "outputs": [
    {
     "data": {
      "text/plain": [
       "'Madang'"
      ]
     },
     "execution_count": 66,
     "metadata": {},
     "output_type": "execute_result"
    }
   ],
   "source": [
    "airports.iloc[1,1]"
   ]
  },
  {
   "cell_type": "markdown",
   "metadata": {},
   "source": [
    "## Wybór według maski\n",
    "\n",
    "Możliwe jest masowe porównywanie wartości:"
   ]
  },
  {
   "cell_type": "code",
   "execution_count": 67,
   "metadata": {
    "collapsed": false
   },
   "outputs": [
    {
     "data": {
      "text/plain": [
       "0       False\n",
       "1       False\n",
       "2       False\n",
       "3       False\n",
       "4       False\n",
       "5       False\n",
       "6       False\n",
       "7       False\n",
       "8       False\n",
       "9       False\n",
       "10       True\n",
       "11       True\n",
       "12       True\n",
       "13       True\n",
       "14       True\n",
       "15       True\n",
       "16       True\n",
       "17       True\n",
       "18       True\n",
       "19       True\n",
       "20      False\n",
       "21      False\n",
       "22      False\n",
       "23      False\n",
       "24      False\n",
       "25      False\n",
       "26      False\n",
       "27      False\n",
       "28      False\n",
       "29      False\n",
       "        ...  \n",
       "8077    False\n",
       "8078    False\n",
       "8079    False\n",
       "8080    False\n",
       "8081    False\n",
       "8082    False\n",
       "8083    False\n",
       "8084    False\n",
       "8085    False\n",
       "8086    False\n",
       "8087    False\n",
       "8088    False\n",
       "8089    False\n",
       "8090    False\n",
       "8091    False\n",
       "8092    False\n",
       "8093    False\n",
       "8094    False\n",
       "8095    False\n",
       "8096    False\n",
       "8097    False\n",
       "8098    False\n",
       "8099    False\n",
       "8100    False\n",
       "8101    False\n",
       "8102    False\n",
       "8103    False\n",
       "8104    False\n",
       "8105    False\n",
       "8106    False\n",
       "Name: Timezone, dtype: bool"
      ]
     },
     "execution_count": 67,
     "metadata": {},
     "output_type": "execute_result"
    }
   ],
   "source": [
    "airports[\"Timezone\"] == 0"
   ]
  },
  {
   "cell_type": "markdown",
   "metadata": {},
   "source": [
    "Taką kolekcję wartości logicznych nazywamy maską i możemy jej używać do filtrowania tabeli. Przykładowo, wybierzmy wszystkie lotniska w strefie czasowej GMT 0:"
   ]
  },
  {
   "cell_type": "code",
   "execution_count": 8,
   "metadata": {
    "collapsed": false
   },
   "outputs": [
    {
     "data": {
      "text/html": [
       "<div style=\"max-height:1000px;max-width:1500px;overflow:auto;\">\n",
       "<table border=\"1\" class=\"dataframe\">\n",
       "  <thead>\n",
       "    <tr style=\"text-align: right;\">\n",
       "      <th></th>\n",
       "      <th>Airport ID</th>\n",
       "      <th>Name</th>\n",
       "      <th>City</th>\n",
       "      <th>Country</th>\n",
       "      <th>IATA/FAA</th>\n",
       "      <th>ICAO</th>\n",
       "      <th>Latitude</th>\n",
       "      <th>Longitude</th>\n",
       "      <th>Altitude</th>\n",
       "      <th>Timezone</th>\n",
       "      <th>DST</th>\n",
       "      <th>Tz database time zone</th>\n",
       "    </tr>\n",
       "  </thead>\n",
       "  <tbody>\n",
       "    <tr>\n",
       "      <th>10</th>\n",
       "      <td> 11</td>\n",
       "      <td>     Akureyri</td>\n",
       "      <td>    Akureyri</td>\n",
       "      <td> Iceland</td>\n",
       "      <td> AEY</td>\n",
       "      <td> BIAR</td>\n",
       "      <td> 65.659994</td>\n",
       "      <td>-18.072703</td>\n",
       "      <td>  6</td>\n",
       "      <td> 0</td>\n",
       "      <td> N</td>\n",
       "      <td> Atlantic/Reykjavik</td>\n",
       "    </tr>\n",
       "    <tr>\n",
       "      <th>11</th>\n",
       "      <td> 12</td>\n",
       "      <td>  Egilsstadir</td>\n",
       "      <td> Egilsstadir</td>\n",
       "      <td> Iceland</td>\n",
       "      <td> EGS</td>\n",
       "      <td> BIEG</td>\n",
       "      <td> 65.283333</td>\n",
       "      <td>-14.401389</td>\n",
       "      <td> 76</td>\n",
       "      <td> 0</td>\n",
       "      <td> N</td>\n",
       "      <td> Atlantic/Reykjavik</td>\n",
       "    </tr>\n",
       "    <tr>\n",
       "      <th>12</th>\n",
       "      <td> 13</td>\n",
       "      <td> Hornafjordur</td>\n",
       "      <td>        Hofn</td>\n",
       "      <td> Iceland</td>\n",
       "      <td> HFN</td>\n",
       "      <td> BIHN</td>\n",
       "      <td> 64.295556</td>\n",
       "      <td>-15.227222</td>\n",
       "      <td> 24</td>\n",
       "      <td> 0</td>\n",
       "      <td> N</td>\n",
       "      <td> Atlantic/Reykjavik</td>\n",
       "    </tr>\n",
       "    <tr>\n",
       "      <th>13</th>\n",
       "      <td> 14</td>\n",
       "      <td>      Husavik</td>\n",
       "      <td>     Husavik</td>\n",
       "      <td> Iceland</td>\n",
       "      <td> HZK</td>\n",
       "      <td> BIHU</td>\n",
       "      <td> 65.952328</td>\n",
       "      <td>-17.425978</td>\n",
       "      <td> 48</td>\n",
       "      <td> 0</td>\n",
       "      <td> N</td>\n",
       "      <td> Atlantic/Reykjavik</td>\n",
       "    </tr>\n",
       "    <tr>\n",
       "      <th>14</th>\n",
       "      <td> 15</td>\n",
       "      <td>   Isafjordur</td>\n",
       "      <td>  Isafjordur</td>\n",
       "      <td> Iceland</td>\n",
       "      <td> IFJ</td>\n",
       "      <td> BIIS</td>\n",
       "      <td> 66.058056</td>\n",
       "      <td>-23.135278</td>\n",
       "      <td>  8</td>\n",
       "      <td> 0</td>\n",
       "      <td> N</td>\n",
       "      <td> Atlantic/Reykjavik</td>\n",
       "    </tr>\n",
       "  </tbody>\n",
       "</table>\n",
       "</div>"
      ],
      "text/plain": [
       "    Airport ID          Name         City  Country IATA/FAA  ICAO   Latitude  \\\n",
       "10          11      Akureyri     Akureyri  Iceland      AEY  BIAR  65.659994   \n",
       "11          12   Egilsstadir  Egilsstadir  Iceland      EGS  BIEG  65.283333   \n",
       "12          13  Hornafjordur         Hofn  Iceland      HFN  BIHN  64.295556   \n",
       "13          14       Husavik      Husavik  Iceland      HZK  BIHU  65.952328   \n",
       "14          15    Isafjordur   Isafjordur  Iceland      IFJ  BIIS  66.058056   \n",
       "\n",
       "    Longitude  Altitude  Timezone DST Tz database time zone  \n",
       "10 -18.072703         6         0   N    Atlantic/Reykjavik  \n",
       "11 -14.401389        76         0   N    Atlantic/Reykjavik  \n",
       "12 -15.227222        24         0   N    Atlantic/Reykjavik  \n",
       "13 -17.425978        48         0   N    Atlantic/Reykjavik  \n",
       "14 -23.135278         8         0   N    Atlantic/Reykjavik  "
      ]
     },
     "execution_count": 8,
     "metadata": {},
     "output_type": "execute_result"
    }
   ],
   "source": [
    "airports[airports[\"Timezone\"] == 0].head()"
   ]
  },
  {
   "cell_type": "code",
   "execution_count": 9,
   "metadata": {
    "collapsed": false
   },
   "outputs": [
    {
     "data": {
      "text/html": [
       "<div style=\"max-height:1000px;max-width:1500px;overflow:auto;\">\n",
       "<table border=\"1\" class=\"dataframe\">\n",
       "  <thead>\n",
       "    <tr style=\"text-align: right;\">\n",
       "      <th></th>\n",
       "      <th>Airport ID</th>\n",
       "      <th>Name</th>\n",
       "      <th>City</th>\n",
       "      <th>Country</th>\n",
       "      <th>IATA/FAA</th>\n",
       "      <th>ICAO</th>\n",
       "      <th>Latitude</th>\n",
       "      <th>Longitude</th>\n",
       "      <th>Altitude</th>\n",
       "      <th>Timezone</th>\n",
       "      <th>DST</th>\n",
       "      <th>Tz database time zone</th>\n",
       "    </tr>\n",
       "  </thead>\n",
       "  <tbody>\n",
       "    <tr>\n",
       "      <th>0</th>\n",
       "      <td> 1</td>\n",
       "      <td>                     Goroka</td>\n",
       "      <td>       Goroka</td>\n",
       "      <td> Papua New Guinea</td>\n",
       "      <td> GKA</td>\n",
       "      <td> AYGA</td>\n",
       "      <td>-6.081689</td>\n",
       "      <td> 145.391881</td>\n",
       "      <td> 5282</td>\n",
       "      <td> 10</td>\n",
       "      <td> U</td>\n",
       "      <td> Pacific/Port_Moresby</td>\n",
       "    </tr>\n",
       "    <tr>\n",
       "      <th>1</th>\n",
       "      <td> 2</td>\n",
       "      <td>                     Madang</td>\n",
       "      <td>       Madang</td>\n",
       "      <td> Papua New Guinea</td>\n",
       "      <td> MAG</td>\n",
       "      <td> AYMD</td>\n",
       "      <td>-5.207083</td>\n",
       "      <td> 145.788700</td>\n",
       "      <td>   20</td>\n",
       "      <td> 10</td>\n",
       "      <td> U</td>\n",
       "      <td> Pacific/Port_Moresby</td>\n",
       "    </tr>\n",
       "    <tr>\n",
       "      <th>2</th>\n",
       "      <td> 3</td>\n",
       "      <td>                Mount Hagen</td>\n",
       "      <td>  Mount Hagen</td>\n",
       "      <td> Papua New Guinea</td>\n",
       "      <td> HGU</td>\n",
       "      <td> AYMH</td>\n",
       "      <td>-5.826789</td>\n",
       "      <td> 144.295861</td>\n",
       "      <td> 5388</td>\n",
       "      <td> 10</td>\n",
       "      <td> U</td>\n",
       "      <td> Pacific/Port_Moresby</td>\n",
       "    </tr>\n",
       "    <tr>\n",
       "      <th>3</th>\n",
       "      <td> 4</td>\n",
       "      <td>                     Nadzab</td>\n",
       "      <td>       Nadzab</td>\n",
       "      <td> Papua New Guinea</td>\n",
       "      <td> LAE</td>\n",
       "      <td> AYNZ</td>\n",
       "      <td>-6.569828</td>\n",
       "      <td> 146.726242</td>\n",
       "      <td>  239</td>\n",
       "      <td> 10</td>\n",
       "      <td> U</td>\n",
       "      <td> Pacific/Port_Moresby</td>\n",
       "    </tr>\n",
       "    <tr>\n",
       "      <th>4</th>\n",
       "      <td> 5</td>\n",
       "      <td> Port Moresby Jacksons Intl</td>\n",
       "      <td> Port Moresby</td>\n",
       "      <td> Papua New Guinea</td>\n",
       "      <td> POM</td>\n",
       "      <td> AYPY</td>\n",
       "      <td>-9.443383</td>\n",
       "      <td> 147.220050</td>\n",
       "      <td>  146</td>\n",
       "      <td> 10</td>\n",
       "      <td> U</td>\n",
       "      <td> Pacific/Port_Moresby</td>\n",
       "    </tr>\n",
       "  </tbody>\n",
       "</table>\n",
       "</div>"
      ],
      "text/plain": [
       "   Airport ID                        Name          City           Country  \\\n",
       "0           1                      Goroka        Goroka  Papua New Guinea   \n",
       "1           2                      Madang        Madang  Papua New Guinea   \n",
       "2           3                 Mount Hagen   Mount Hagen  Papua New Guinea   \n",
       "3           4                      Nadzab        Nadzab  Papua New Guinea   \n",
       "4           5  Port Moresby Jacksons Intl  Port Moresby  Papua New Guinea   \n",
       "\n",
       "  IATA/FAA  ICAO  Latitude   Longitude  Altitude  Timezone DST  \\\n",
       "0      GKA  AYGA -6.081689  145.391881      5282        10   U   \n",
       "1      MAG  AYMD -5.207083  145.788700        20        10   U   \n",
       "2      HGU  AYMH -5.826789  144.295861      5388        10   U   \n",
       "3      LAE  AYNZ -6.569828  146.726242       239        10   U   \n",
       "4      POM  AYPY -9.443383  147.220050       146        10   U   \n",
       "\n",
       "  Tz database time zone  \n",
       "0  Pacific/Port_Moresby  \n",
       "1  Pacific/Port_Moresby  \n",
       "2  Pacific/Port_Moresby  \n",
       "3  Pacific/Port_Moresby  \n",
       "4  Pacific/Port_Moresby  "
      ]
     },
     "execution_count": 9,
     "metadata": {},
     "output_type": "execute_result"
    }
   ],
   "source": [
    "airports[airports[\"Timezone\"] != 0].head()"
   ]
  },
  {
   "cell_type": "code",
   "execution_count": 10,
   "metadata": {
    "collapsed": false
   },
   "outputs": [
    {
     "data": {
      "text/html": [
       "<div style=\"max-height:1000px;max-width:1500px;overflow:auto;\">\n",
       "<table border=\"1\" class=\"dataframe\">\n",
       "  <thead>\n",
       "    <tr style=\"text-align: right;\">\n",
       "      <th></th>\n",
       "      <th>Airport ID</th>\n",
       "      <th>Name</th>\n",
       "      <th>City</th>\n",
       "      <th>Country</th>\n",
       "      <th>IATA/FAA</th>\n",
       "      <th>ICAO</th>\n",
       "      <th>Latitude</th>\n",
       "      <th>Longitude</th>\n",
       "      <th>Altitude</th>\n",
       "      <th>Timezone</th>\n",
       "      <th>DST</th>\n",
       "      <th>Tz database time zone</th>\n",
       "    </tr>\n",
       "  </thead>\n",
       "  <tbody>\n",
       "    <tr>\n",
       "      <th>0</th>\n",
       "      <td> 1</td>\n",
       "      <td>                     Goroka</td>\n",
       "      <td>       Goroka</td>\n",
       "      <td> Papua New Guinea</td>\n",
       "      <td> GKA</td>\n",
       "      <td> AYGA</td>\n",
       "      <td>-6.081689</td>\n",
       "      <td> 145.391881</td>\n",
       "      <td> 5282</td>\n",
       "      <td> 10</td>\n",
       "      <td> U</td>\n",
       "      <td> Pacific/Port_Moresby</td>\n",
       "    </tr>\n",
       "    <tr>\n",
       "      <th>1</th>\n",
       "      <td> 2</td>\n",
       "      <td>                     Madang</td>\n",
       "      <td>       Madang</td>\n",
       "      <td> Papua New Guinea</td>\n",
       "      <td> MAG</td>\n",
       "      <td> AYMD</td>\n",
       "      <td>-5.207083</td>\n",
       "      <td> 145.788700</td>\n",
       "      <td>   20</td>\n",
       "      <td> 10</td>\n",
       "      <td> U</td>\n",
       "      <td> Pacific/Port_Moresby</td>\n",
       "    </tr>\n",
       "    <tr>\n",
       "      <th>2</th>\n",
       "      <td> 3</td>\n",
       "      <td>                Mount Hagen</td>\n",
       "      <td>  Mount Hagen</td>\n",
       "      <td> Papua New Guinea</td>\n",
       "      <td> HGU</td>\n",
       "      <td> AYMH</td>\n",
       "      <td>-5.826789</td>\n",
       "      <td> 144.295861</td>\n",
       "      <td> 5388</td>\n",
       "      <td> 10</td>\n",
       "      <td> U</td>\n",
       "      <td> Pacific/Port_Moresby</td>\n",
       "    </tr>\n",
       "    <tr>\n",
       "      <th>3</th>\n",
       "      <td> 4</td>\n",
       "      <td>                     Nadzab</td>\n",
       "      <td>       Nadzab</td>\n",
       "      <td> Papua New Guinea</td>\n",
       "      <td> LAE</td>\n",
       "      <td> AYNZ</td>\n",
       "      <td>-6.569828</td>\n",
       "      <td> 146.726242</td>\n",
       "      <td>  239</td>\n",
       "      <td> 10</td>\n",
       "      <td> U</td>\n",
       "      <td> Pacific/Port_Moresby</td>\n",
       "    </tr>\n",
       "    <tr>\n",
       "      <th>4</th>\n",
       "      <td> 5</td>\n",
       "      <td> Port Moresby Jacksons Intl</td>\n",
       "      <td> Port Moresby</td>\n",
       "      <td> Papua New Guinea</td>\n",
       "      <td> POM</td>\n",
       "      <td> AYPY</td>\n",
       "      <td>-9.443383</td>\n",
       "      <td> 147.220050</td>\n",
       "      <td>  146</td>\n",
       "      <td> 10</td>\n",
       "      <td> U</td>\n",
       "      <td> Pacific/Port_Moresby</td>\n",
       "    </tr>\n",
       "  </tbody>\n",
       "</table>\n",
       "</div>"
      ],
      "text/plain": [
       "   Airport ID                        Name          City           Country  \\\n",
       "0           1                      Goroka        Goroka  Papua New Guinea   \n",
       "1           2                      Madang        Madang  Papua New Guinea   \n",
       "2           3                 Mount Hagen   Mount Hagen  Papua New Guinea   \n",
       "3           4                      Nadzab        Nadzab  Papua New Guinea   \n",
       "4           5  Port Moresby Jacksons Intl  Port Moresby  Papua New Guinea   \n",
       "\n",
       "  IATA/FAA  ICAO  Latitude   Longitude  Altitude  Timezone DST  \\\n",
       "0      GKA  AYGA -6.081689  145.391881      5282        10   U   \n",
       "1      MAG  AYMD -5.207083  145.788700        20        10   U   \n",
       "2      HGU  AYMH -5.826789  144.295861      5388        10   U   \n",
       "3      LAE  AYNZ -6.569828  146.726242       239        10   U   \n",
       "4      POM  AYPY -9.443383  147.220050       146        10   U   \n",
       "\n",
       "  Tz database time zone  \n",
       "0  Pacific/Port_Moresby  \n",
       "1  Pacific/Port_Moresby  \n",
       "2  Pacific/Port_Moresby  \n",
       "3  Pacific/Port_Moresby  \n",
       "4  Pacific/Port_Moresby  "
      ]
     },
     "execution_count": 10,
     "metadata": {},
     "output_type": "execute_result"
    }
   ],
   "source": [
    "airports[airports[\"Timezone\"] > 3].head()"
   ]
  },
  {
   "cell_type": "markdown",
   "metadata": {},
   "source": [
    "## Ćwiczenie\n",
    "\n",
    "Wybierz wszystkie lotniska w Polsce. Wyświetl pierwsze z nich."
   ]
  },
  {
   "cell_type": "markdown",
   "metadata": {},
   "source": [
    "## Ćwiczenie\n",
    "\n",
    "Kolumny można porównywać bezpośrednio między sobą. Wybierz wszystkie lotniska, których nazwa różni się od nazwy miasta, w którym się znajdują."
   ]
  },
  {
   "cell_type": "markdown",
   "metadata": {},
   "source": [
    "## Ćwiczenie (\\*)\n",
    "\n",
    "Napisz funkcję obliczającą tzw. odległość Hamminga pomiędzy słowami. Użyj następującej procedury:\n",
    "1. Weź słowa a i b.\n",
    "2. Wybierz dłuższe z nich i przytnij je tak, aby odpowiadało długości pierwszego.\n",
    "3. Zwróć liczbę pozycji, na których słowa się różnią.\n",
    "\n",
    "Oblicz odległości Hamminga pomiędzy wartościami z kolumna \"Name\" i \"City\" tabeli airports. Wybierz wszystkie lotniska, dla których odległość ta jest większa niż 2."
   ]
  },
  {
   "cell_type": "markdown",
   "metadata": {},
   "source": [
    "## Arytmetyka, modyfikacje komórek"
   ]
  },
  {
   "cell_type": "markdown",
   "metadata": {},
   "source": [
    "Podobnie, jak w przypadku porównań, możemy wykonywać operacje arytmetyczne na całych zakresach tabeli. Przykładowo, gdybyśmy chcieli wyrazić czas lokalny każdego lotniska względem Warszawy (strefa GMT +1), należałoby odjąć 1 od stosownej kolumny:"
   ]
  },
  {
   "cell_type": "code",
   "execution_count": 11,
   "metadata": {
    "collapsed": false
   },
   "outputs": [
    {
     "data": {
      "text/plain": [
       "0    9\n",
       "1    9\n",
       "2    9\n",
       "3    9\n",
       "4    9\n",
       "Name: Timezone, dtype: float64"
      ]
     },
     "execution_count": 11,
     "metadata": {},
     "output_type": "execute_result"
    }
   ],
   "source": [
    "(airports[\"Timezone\"] - 1).head()"
   ]
  },
  {
   "cell_type": "markdown",
   "metadata": {},
   "source": [
    "Możemy przypisać tak zmodyfikowaną wartość spowrotem do tabeli:"
   ]
  },
  {
   "cell_type": "code",
   "execution_count": 12,
   "metadata": {
    "collapsed": false
   },
   "outputs": [
    {
     "data": {
      "text/html": [
       "<div style=\"max-height:1000px;max-width:1500px;overflow:auto;\">\n",
       "<table border=\"1\" class=\"dataframe\">\n",
       "  <thead>\n",
       "    <tr style=\"text-align: right;\">\n",
       "      <th></th>\n",
       "      <th>Airport ID</th>\n",
       "      <th>Name</th>\n",
       "      <th>City</th>\n",
       "      <th>Country</th>\n",
       "      <th>IATA/FAA</th>\n",
       "      <th>ICAO</th>\n",
       "      <th>Latitude</th>\n",
       "      <th>Longitude</th>\n",
       "      <th>Altitude</th>\n",
       "      <th>Timezone</th>\n",
       "      <th>DST</th>\n",
       "      <th>Tz database time zone</th>\n",
       "    </tr>\n",
       "  </thead>\n",
       "  <tbody>\n",
       "    <tr>\n",
       "      <th>0</th>\n",
       "      <td> 1</td>\n",
       "      <td>                     Goroka</td>\n",
       "      <td>       Goroka</td>\n",
       "      <td> Papua New Guinea</td>\n",
       "      <td> GKA</td>\n",
       "      <td> AYGA</td>\n",
       "      <td>-6.081689</td>\n",
       "      <td> 145.391881</td>\n",
       "      <td> 5282</td>\n",
       "      <td> 9</td>\n",
       "      <td> U</td>\n",
       "      <td> Pacific/Port_Moresby</td>\n",
       "    </tr>\n",
       "    <tr>\n",
       "      <th>1</th>\n",
       "      <td> 2</td>\n",
       "      <td>                     Madang</td>\n",
       "      <td>       Madang</td>\n",
       "      <td> Papua New Guinea</td>\n",
       "      <td> MAG</td>\n",
       "      <td> AYMD</td>\n",
       "      <td>-5.207083</td>\n",
       "      <td> 145.788700</td>\n",
       "      <td>   20</td>\n",
       "      <td> 9</td>\n",
       "      <td> U</td>\n",
       "      <td> Pacific/Port_Moresby</td>\n",
       "    </tr>\n",
       "    <tr>\n",
       "      <th>2</th>\n",
       "      <td> 3</td>\n",
       "      <td>                Mount Hagen</td>\n",
       "      <td>  Mount Hagen</td>\n",
       "      <td> Papua New Guinea</td>\n",
       "      <td> HGU</td>\n",
       "      <td> AYMH</td>\n",
       "      <td>-5.826789</td>\n",
       "      <td> 144.295861</td>\n",
       "      <td> 5388</td>\n",
       "      <td> 9</td>\n",
       "      <td> U</td>\n",
       "      <td> Pacific/Port_Moresby</td>\n",
       "    </tr>\n",
       "    <tr>\n",
       "      <th>3</th>\n",
       "      <td> 4</td>\n",
       "      <td>                     Nadzab</td>\n",
       "      <td>       Nadzab</td>\n",
       "      <td> Papua New Guinea</td>\n",
       "      <td> LAE</td>\n",
       "      <td> AYNZ</td>\n",
       "      <td>-6.569828</td>\n",
       "      <td> 146.726242</td>\n",
       "      <td>  239</td>\n",
       "      <td> 9</td>\n",
       "      <td> U</td>\n",
       "      <td> Pacific/Port_Moresby</td>\n",
       "    </tr>\n",
       "    <tr>\n",
       "      <th>4</th>\n",
       "      <td> 5</td>\n",
       "      <td> Port Moresby Jacksons Intl</td>\n",
       "      <td> Port Moresby</td>\n",
       "      <td> Papua New Guinea</td>\n",
       "      <td> POM</td>\n",
       "      <td> AYPY</td>\n",
       "      <td>-9.443383</td>\n",
       "      <td> 147.220050</td>\n",
       "      <td>  146</td>\n",
       "      <td> 9</td>\n",
       "      <td> U</td>\n",
       "      <td> Pacific/Port_Moresby</td>\n",
       "    </tr>\n",
       "  </tbody>\n",
       "</table>\n",
       "</div>"
      ],
      "text/plain": [
       "   Airport ID                        Name          City           Country  \\\n",
       "0           1                      Goroka        Goroka  Papua New Guinea   \n",
       "1           2                      Madang        Madang  Papua New Guinea   \n",
       "2           3                 Mount Hagen   Mount Hagen  Papua New Guinea   \n",
       "3           4                      Nadzab        Nadzab  Papua New Guinea   \n",
       "4           5  Port Moresby Jacksons Intl  Port Moresby  Papua New Guinea   \n",
       "\n",
       "  IATA/FAA  ICAO  Latitude   Longitude  Altitude  Timezone DST  \\\n",
       "0      GKA  AYGA -6.081689  145.391881      5282         9   U   \n",
       "1      MAG  AYMD -5.207083  145.788700        20         9   U   \n",
       "2      HGU  AYMH -5.826789  144.295861      5388         9   U   \n",
       "3      LAE  AYNZ -6.569828  146.726242       239         9   U   \n",
       "4      POM  AYPY -9.443383  147.220050       146         9   U   \n",
       "\n",
       "  Tz database time zone  \n",
       "0  Pacific/Port_Moresby  \n",
       "1  Pacific/Port_Moresby  \n",
       "2  Pacific/Port_Moresby  \n",
       "3  Pacific/Port_Moresby  \n",
       "4  Pacific/Port_Moresby  "
      ]
     },
     "execution_count": 12,
     "metadata": {},
     "output_type": "execute_result"
    }
   ],
   "source": [
    "airports[\"Timezone\"] = airports[\"Timezone\"] - 1\n",
    "airports.head()"
   ]
  },
  {
   "cell_type": "markdown",
   "metadata": {},
   "source": [
    "### Ćwiczenie\n",
    "\n",
    "W naszej tabeli wysokość jest podana w stopach nad poziomem morza. 1 stopa angielska = 30,48 cm. Przelicz wartości wysokości na metry i zapisz zmodyfikowaną kolumnę."
   ]
  },
  {
   "cell_type": "markdown",
   "metadata": {
    "collapsed": true
   },
   "source": [
    "## Proste statystyki\n",
    "\n",
    "Biblioteka pandas pozwala na szybkie obliczenie prostych statystyk.\n",
    "\n",
    "Minimalna, średnia i maksymalna wysokość lotniska:"
   ]
  },
  {
   "cell_type": "code",
   "execution_count": 73,
   "metadata": {
    "collapsed": false
   },
   "outputs": [
    {
     "data": {
      "text/plain": [
       "(-1266, 933.44936474651536, 14472)"
      ]
     },
     "execution_count": 73,
     "metadata": {},
     "output_type": "execute_result"
    }
   ],
   "source": [
    "airports[\"Altitude\"].min(), airports[\"Altitude\"].mean(), airports[\"Altitude\"].max()"
   ]
  },
  {
   "cell_type": "markdown",
   "metadata": {},
   "source": [
    "Jak widać minimalna wysokość jest ujemna. Przyjrzyjmy się temu wierszowi:"
   ]
  },
  {
   "cell_type": "code",
   "execution_count": 74,
   "metadata": {
    "collapsed": false
   },
   "outputs": [
    {
     "data": {
      "text/html": [
       "<div style=\"max-height:1000px;max-width:1500px;overflow:auto;\">\n",
       "<table border=\"1\" class=\"dataframe\">\n",
       "  <thead>\n",
       "    <tr style=\"text-align: right;\">\n",
       "      <th></th>\n",
       "      <th>Airport ID</th>\n",
       "      <th>Name</th>\n",
       "      <th>City</th>\n",
       "      <th>Country</th>\n",
       "      <th>IATA/FAA</th>\n",
       "      <th>ICAO</th>\n",
       "      <th>Latitude</th>\n",
       "      <th>Longitude</th>\n",
       "      <th>Altitude</th>\n",
       "      <th>Timezone</th>\n",
       "      <th>DST</th>\n",
       "      <th>Tz database time zone</th>\n",
       "    </tr>\n",
       "  </thead>\n",
       "  <tbody>\n",
       "    <tr>\n",
       "      <th>1573</th>\n",
       "      <td>1600</td>\n",
       "      <td>I Bar Yehuda</td>\n",
       "      <td>Metzada</td>\n",
       "      <td>Israel</td>\n",
       "      <td>NaN</td>\n",
       "      <td>LLMZ</td>\n",
       "      <td>31.328169</td>\n",
       "      <td>35.388608</td>\n",
       "      <td>-1266</td>\n",
       "      <td>1</td>\n",
       "      <td>U</td>\n",
       "      <td>Asia/Jerusalem</td>\n",
       "    </tr>\n",
       "  </tbody>\n",
       "</table>\n",
       "</div>"
      ],
      "text/plain": [
       "      Airport ID          Name     City Country IATA/FAA  ICAO   Latitude  \\\n",
       "1573        1600  I Bar Yehuda  Metzada  Israel      NaN  LLMZ  31.328169   \n",
       "\n",
       "      Longitude  Altitude  Timezone DST Tz database time zone  \n",
       "1573  35.388608     -1266         1   U        Asia/Jerusalem  "
      ]
     },
     "execution_count": 74,
     "metadata": {},
     "output_type": "execute_result"
    }
   ],
   "source": [
    "airports[airports[\"Altitude\"] == airports[\"Altitude\"].min()]"
   ]
  },
  {
   "cell_type": "markdown",
   "metadata": {},
   "source": [
    "Okazuje się, że jest to pustynne lotnisko położone nad Morzem Martwym:\n",
    "\n",
    "<img src=\"bar_jehuda.jpg\" width=\"600px\" />\n",
    "\n",
    "Lotnisko znajduje się 6 razy głębiej niż średnia głębokość Bałtyku. Pomimo pięknych widoków, możemy nie mieć ochoty lądować w takim miejscu. Odrzucimy ten port lotniczy:"
   ]
  },
  {
   "cell_type": "code",
   "execution_count": 75,
   "metadata": {
    "collapsed": false
   },
   "outputs": [
    {
     "data": {
      "text/plain": [
       "(-164, 933.72070071551934, 14472)"
      ]
     },
     "execution_count": 75,
     "metadata": {},
     "output_type": "execute_result"
    }
   ],
   "source": [
    "airports1 = airports.drop(1573)\n",
    "airports1[\"Altitude\"].min(), airports1[\"Altitude\"].mean(), airports1[\"Altitude\"].max()"
   ]
  },
  {
   "cell_type": "code",
   "execution_count": 76,
   "metadata": {
    "collapsed": false
   },
   "outputs": [
    {
     "data": {
      "text/plain": [
       "(-164, 933.72070071551934, 14472)"
      ]
     },
     "execution_count": 76,
     "metadata": {},
     "output_type": "execute_result"
    }
   ],
   "source": [
    "airports1 = airports.drop(airports.index[airports[\"Altitude\"] == airports[\"Altitude\"].min()])\n",
    "airports1[\"Altitude\"].min(), airports1[\"Altitude\"].mean(), airports1[\"Altitude\"].max()"
   ]
  },
  {
   "cell_type": "markdown",
   "metadata": {},
   "source": [
    "Możemy też zadawać pytania o kolumny kategorialne, na przykład: „W ilu państwach świata znajduje się przynajmniej jedno lotnisko”?"
   ]
  },
  {
   "cell_type": "code",
   "execution_count": 77,
   "metadata": {
    "collapsed": false
   },
   "outputs": [
    {
     "data": {
      "text/plain": [
       "240"
      ]
     },
     "execution_count": 77,
     "metadata": {},
     "output_type": "execute_result"
    }
   ],
   "source": [
    "len(airports[\"Country\"].unique())"
   ]
  },
  {
   "cell_type": "markdown",
   "metadata": {},
   "source": [
    "Po ile lotnisk znajduje się w danym kraju?"
   ]
  },
  {
   "cell_type": "code",
   "execution_count": 13,
   "metadata": {
    "collapsed": false
   },
   "outputs": [
    {
     "data": {
      "text/plain": [
       "United States    1697\n",
       "Canada            435\n",
       "Germany           321\n",
       "Australia         263\n",
       "Russia            249\n",
       "dtype: int64"
      ]
     },
     "execution_count": 13,
     "metadata": {},
     "output_type": "execute_result"
    }
   ],
   "source": [
    "airports[\"Country\"].value_counts().head()"
   ]
  },
  {
   "cell_type": "markdown",
   "metadata": {},
   "source": [
    "## Ćwiczenie\n",
    "\n",
    "Przefiltruj tabelę airports zostawiając jedynie lotniska, znajdujące się w krajach, w których znajduje się więcej niż 10 lotnisk.\n",
    "\n",
    "Wskazówka 1: data.index pozwala odwoływać się do wartości indeksu."
   ]
  },
  {
   "cell_type": "code",
   "execution_count": 79,
   "metadata": {
    "collapsed": false
   },
   "outputs": [
    {
     "data": {
      "text/plain": [
       "Int64Index([0, 1, 2, 3, 4, 5, 6, 7, 8, 9], dtype='int64')"
      ]
     },
     "execution_count": 79,
     "metadata": {},
     "output_type": "execute_result"
    }
   ],
   "source": [
    "airports.index[:10]"
   ]
  },
  {
   "cell_type": "markdown",
   "metadata": {},
   "source": [
    "Wskazówka 2: metoda .isin pozwala testować, czy wartość znajduje się na podanej liście."
   ]
  },
  {
   "cell_type": "code",
   "execution_count": 80,
   "metadata": {
    "collapsed": false
   },
   "outputs": [
    {
     "data": {
      "text/html": [
       "<div style=\"max-height:1000px;max-width:1500px;overflow:auto;\">\n",
       "<table border=\"1\" class=\"dataframe\">\n",
       "  <thead>\n",
       "    <tr style=\"text-align: right;\">\n",
       "      <th></th>\n",
       "      <th>Airport ID</th>\n",
       "      <th>Name</th>\n",
       "      <th>City</th>\n",
       "      <th>Country</th>\n",
       "      <th>IATA/FAA</th>\n",
       "      <th>ICAO</th>\n",
       "      <th>Latitude</th>\n",
       "      <th>Longitude</th>\n",
       "      <th>Altitude</th>\n",
       "      <th>Timezone</th>\n",
       "      <th>DST</th>\n",
       "      <th>Tz database time zone</th>\n",
       "    </tr>\n",
       "  </thead>\n",
       "  <tbody>\n",
       "    <tr>\n",
       "      <th>3072</th>\n",
       "      <td>3155</td>\n",
       "      <td>Paro</td>\n",
       "      <td>Thimphu</td>\n",
       "      <td>Bhutan</td>\n",
       "      <td>PBH</td>\n",
       "      <td>VQPR</td>\n",
       "      <td>27.403192</td>\n",
       "      <td>89.424606</td>\n",
       "      <td>7332</td>\n",
       "      <td>5</td>\n",
       "      <td>N</td>\n",
       "      <td>Asia/Thimphu</td>\n",
       "    </tr>\n",
       "    <tr>\n",
       "      <th>4438</th>\n",
       "      <td>5884</td>\n",
       "      <td>Niue International Airport</td>\n",
       "      <td>Alofi</td>\n",
       "      <td>Niue</td>\n",
       "      <td>IUE</td>\n",
       "      <td>NIUE</td>\n",
       "      <td>-19.080028</td>\n",
       "      <td>-169.925639</td>\n",
       "      <td>209</td>\n",
       "      <td>-12</td>\n",
       "      <td>U</td>\n",
       "      <td>Pacific/Niue</td>\n",
       "    </tr>\n",
       "  </tbody>\n",
       "</table>\n",
       "</div>"
      ],
      "text/plain": [
       "      Airport ID                        Name     City Country IATA/FAA  ICAO  \\\n",
       "3072        3155                        Paro  Thimphu  Bhutan      PBH  VQPR   \n",
       "4438        5884  Niue International Airport    Alofi    Niue      IUE  NIUE   \n",
       "\n",
       "       Latitude   Longitude  Altitude  Timezone DST Tz database time zone  \n",
       "3072  27.403192   89.424606      7332         5   N          Asia/Thimphu  \n",
       "4438 -19.080028 -169.925639       209       -12   U          Pacific/Niue  "
      ]
     },
     "execution_count": 80,
     "metadata": {},
     "output_type": "execute_result"
    }
   ],
   "source": [
    "airports[airports[\"Country\"].isin([\"Niue\", \"Bhutan\"])]"
   ]
  },
  {
   "cell_type": "markdown",
   "metadata": {},
   "source": [
    "## Łączenie różnych zbiorów"
   ]
  },
  {
   "cell_type": "code",
   "execution_count": 15,
   "metadata": {
    "collapsed": false
   },
   "outputs": [
    {
     "data": {
      "text/html": [
       "<div style=\"max-height:1000px;max-width:1500px;overflow:auto;\">\n",
       "<table border=\"1\" class=\"dataframe\">\n",
       "  <thead>\n",
       "    <tr style=\"text-align: right;\">\n",
       "      <th></th>\n",
       "      <th>Country Code</th>\n",
       "      <th>Country Name</th>\n",
       "      <th>Land area</th>\n",
       "    </tr>\n",
       "  </thead>\n",
       "  <tbody>\n",
       "    <tr>\n",
       "      <th>0</th>\n",
       "      <td> AFG</td>\n",
       "      <td>    Afghanistan</td>\n",
       "      <td>  652230</td>\n",
       "    </tr>\n",
       "    <tr>\n",
       "      <th>1</th>\n",
       "      <td> ALB</td>\n",
       "      <td>        Albania</td>\n",
       "      <td>   27400</td>\n",
       "    </tr>\n",
       "    <tr>\n",
       "      <th>2</th>\n",
       "      <td> DZA</td>\n",
       "      <td>        Algeria</td>\n",
       "      <td> 2381740</td>\n",
       "    </tr>\n",
       "    <tr>\n",
       "      <th>3</th>\n",
       "      <td> ASM</td>\n",
       "      <td> American Samoa</td>\n",
       "      <td>     200</td>\n",
       "    </tr>\n",
       "    <tr>\n",
       "      <th>4</th>\n",
       "      <td> AND</td>\n",
       "      <td>        Andorra</td>\n",
       "      <td>     470</td>\n",
       "    </tr>\n",
       "  </tbody>\n",
       "</table>\n",
       "</div>"
      ],
      "text/plain": [
       "  Country Code    Country Name  Land area\n",
       "0          AFG     Afghanistan     652230\n",
       "1          ALB         Albania      27400\n",
       "2          DZA         Algeria    2381740\n",
       "3          ASM  American Samoa        200\n",
       "4          AND         Andorra        470"
      ]
     },
     "execution_count": 15,
     "metadata": {},
     "output_type": "execute_result"
    }
   ],
   "source": [
    "areas = pd.read_csv(\"../dane/area.csv\")\n",
    "areas.head()"
   ]
  },
  {
   "cell_type": "code",
   "execution_count": 16,
   "metadata": {
    "collapsed": false
   },
   "outputs": [
    {
     "data": {
      "text/html": [
       "<div style=\"max-height:1000px;max-width:1500px;overflow:auto;\">\n",
       "<table border=\"1\" class=\"dataframe\">\n",
       "  <thead>\n",
       "    <tr style=\"text-align: right;\">\n",
       "      <th></th>\n",
       "      <th>Land area</th>\n",
       "    </tr>\n",
       "    <tr>\n",
       "      <th>Country Name</th>\n",
       "      <th></th>\n",
       "    </tr>\n",
       "  </thead>\n",
       "  <tbody>\n",
       "    <tr>\n",
       "      <th>Afghanistan</th>\n",
       "      <td>  652230</td>\n",
       "    </tr>\n",
       "    <tr>\n",
       "      <th>Albania</th>\n",
       "      <td>   27400</td>\n",
       "    </tr>\n",
       "    <tr>\n",
       "      <th>Algeria</th>\n",
       "      <td> 2381740</td>\n",
       "    </tr>\n",
       "    <tr>\n",
       "      <th>American Samoa</th>\n",
       "      <td>     200</td>\n",
       "    </tr>\n",
       "    <tr>\n",
       "      <th>Andorra</th>\n",
       "      <td>     470</td>\n",
       "    </tr>\n",
       "  </tbody>\n",
       "</table>\n",
       "</div>"
      ],
      "text/plain": [
       "                Land area\n",
       "Country Name             \n",
       "Afghanistan        652230\n",
       "Albania             27400\n",
       "Algeria           2381740\n",
       "American Samoa        200\n",
       "Andorra               470"
      ]
     },
     "execution_count": 16,
     "metadata": {},
     "output_type": "execute_result"
    }
   ],
   "source": [
    "s1 = areas[\"Land area\"]\n",
    "s1.index = areas[\"Country Name\"]\n",
    "s1 = pd.DataFrame(s1)\n",
    "s1.head()"
   ]
  },
  {
   "cell_type": "code",
   "execution_count": 17,
   "metadata": {
    "collapsed": false
   },
   "outputs": [
    {
     "data": {
      "text/html": [
       "<div style=\"max-height:1000px;max-width:1500px;overflow:auto;\">\n",
       "<table border=\"1\" class=\"dataframe\">\n",
       "  <thead>\n",
       "    <tr style=\"text-align: right;\">\n",
       "      <th></th>\n",
       "      <th>0</th>\n",
       "    </tr>\n",
       "  </thead>\n",
       "  <tbody>\n",
       "    <tr>\n",
       "      <th>United States</th>\n",
       "      <td> 1697</td>\n",
       "    </tr>\n",
       "    <tr>\n",
       "      <th>Canada</th>\n",
       "      <td>  435</td>\n",
       "    </tr>\n",
       "    <tr>\n",
       "      <th>Germany</th>\n",
       "      <td>  321</td>\n",
       "    </tr>\n",
       "    <tr>\n",
       "      <th>Australia</th>\n",
       "      <td>  263</td>\n",
       "    </tr>\n",
       "    <tr>\n",
       "      <th>Russia</th>\n",
       "      <td>  249</td>\n",
       "    </tr>\n",
       "  </tbody>\n",
       "</table>\n",
       "</div>"
      ],
      "text/plain": [
       "                  0\n",
       "United States  1697\n",
       "Canada          435\n",
       "Germany         321\n",
       "Australia       263\n",
       "Russia          249"
      ]
     },
     "execution_count": 17,
     "metadata": {},
     "output_type": "execute_result"
    }
   ],
   "source": [
    "s2 = airports[\"Country\"].value_counts()\n",
    "s2 = pd.DataFrame(s2)\n",
    "s2.head()"
   ]
  },
  {
   "cell_type": "code",
   "execution_count": 18,
   "metadata": {
    "collapsed": false
   },
   "outputs": [
    {
     "data": {
      "text/html": [
       "<div style=\"max-height:1000px;max-width:1500px;overflow:auto;\">\n",
       "<table border=\"1\" class=\"dataframe\">\n",
       "  <thead>\n",
       "    <tr style=\"text-align: right;\">\n",
       "      <th></th>\n",
       "      <th>Land area</th>\n",
       "      <th>0</th>\n",
       "    </tr>\n",
       "    <tr>\n",
       "      <th>Country Name</th>\n",
       "      <th></th>\n",
       "      <th></th>\n",
       "    </tr>\n",
       "  </thead>\n",
       "  <tbody>\n",
       "    <tr>\n",
       "      <th>Afghanistan</th>\n",
       "      <td>  652230</td>\n",
       "      <td> 21</td>\n",
       "    </tr>\n",
       "    <tr>\n",
       "      <th>Albania</th>\n",
       "      <td>   27400</td>\n",
       "      <td>  1</td>\n",
       "    </tr>\n",
       "    <tr>\n",
       "      <th>Algeria</th>\n",
       "      <td> 2381740</td>\n",
       "      <td> 44</td>\n",
       "    </tr>\n",
       "    <tr>\n",
       "      <th>American Samoa</th>\n",
       "      <td>     200</td>\n",
       "      <td>  3</td>\n",
       "    </tr>\n",
       "    <tr>\n",
       "      <th>Andorra</th>\n",
       "      <td>     470</td>\n",
       "      <td>NaN</td>\n",
       "    </tr>\n",
       "  </tbody>\n",
       "</table>\n",
       "</div>"
      ],
      "text/plain": [
       "                Land area   0\n",
       "Country Name                 \n",
       "Afghanistan        652230  21\n",
       "Albania             27400   1\n",
       "Algeria           2381740  44\n",
       "American Samoa        200   3\n",
       "Andorra               470 NaN"
      ]
     },
     "execution_count": 18,
     "metadata": {},
     "output_type": "execute_result"
    }
   ],
   "source": [
    "s1.join(s2).head()"
   ]
  },
  {
   "cell_type": "code",
   "execution_count": 19,
   "metadata": {
    "collapsed": false
   },
   "outputs": [
    {
     "data": {
      "text/html": [
       "<div style=\"max-height:1000px;max-width:1500px;overflow:auto;\">\n",
       "<table border=\"1\" class=\"dataframe\">\n",
       "  <thead>\n",
       "    <tr style=\"text-align: right;\">\n",
       "      <th></th>\n",
       "      <th>0</th>\n",
       "      <th>Land area</th>\n",
       "    </tr>\n",
       "  </thead>\n",
       "  <tbody>\n",
       "    <tr>\n",
       "      <th>United States</th>\n",
       "      <td> 1697</td>\n",
       "      <td> 9147420</td>\n",
       "    </tr>\n",
       "    <tr>\n",
       "      <th>Canada</th>\n",
       "      <td>  435</td>\n",
       "      <td> 9093510</td>\n",
       "    </tr>\n",
       "    <tr>\n",
       "      <th>Germany</th>\n",
       "      <td>  321</td>\n",
       "      <td>  348610</td>\n",
       "    </tr>\n",
       "    <tr>\n",
       "      <th>Australia</th>\n",
       "      <td>  263</td>\n",
       "      <td> 7682300</td>\n",
       "    </tr>\n",
       "    <tr>\n",
       "      <th>Russia</th>\n",
       "      <td>  249</td>\n",
       "      <td>     NaN</td>\n",
       "    </tr>\n",
       "  </tbody>\n",
       "</table>\n",
       "</div>"
      ],
      "text/plain": [
       "                  0  Land area\n",
       "United States  1697    9147420\n",
       "Canada          435    9093510\n",
       "Germany         321     348610\n",
       "Australia       263    7682300\n",
       "Russia          249        NaN"
      ]
     },
     "execution_count": 19,
     "metadata": {},
     "output_type": "execute_result"
    }
   ],
   "source": [
    "s2.join(s1).head()"
   ]
  },
  {
   "cell_type": "code",
   "execution_count": 97,
   "metadata": {
    "collapsed": false
   },
   "outputs": [
    {
     "data": {
      "text/html": [
       "<div style=\"max-height:1000px;max-width:1500px;overflow:auto;\">\n",
       "<table border=\"1\" class=\"dataframe\">\n",
       "  <thead>\n",
       "    <tr style=\"text-align: right;\">\n",
       "      <th></th>\n",
       "      <th>Land area</th>\n",
       "      <th>0</th>\n",
       "    </tr>\n",
       "  </thead>\n",
       "  <tbody>\n",
       "    <tr>\n",
       "      <th>United States</th>\n",
       "      <td>9147420</td>\n",
       "      <td>1697</td>\n",
       "    </tr>\n",
       "    <tr>\n",
       "      <th>Canada</th>\n",
       "      <td>9093510</td>\n",
       "      <td>435</td>\n",
       "    </tr>\n",
       "    <tr>\n",
       "      <th>Germany</th>\n",
       "      <td>348610</td>\n",
       "      <td>321</td>\n",
       "    </tr>\n",
       "    <tr>\n",
       "      <th>Australia</th>\n",
       "      <td>7682300</td>\n",
       "      <td>263</td>\n",
       "    </tr>\n",
       "    <tr>\n",
       "      <th>France</th>\n",
       "      <td>547660</td>\n",
       "      <td>233</td>\n",
       "    </tr>\n",
       "    <tr>\n",
       "      <th>China</th>\n",
       "      <td>9327480</td>\n",
       "      <td>219</td>\n",
       "    </tr>\n",
       "    <tr>\n",
       "      <th>Brazil</th>\n",
       "      <td>8459420</td>\n",
       "      <td>213</td>\n",
       "    </tr>\n",
       "    <tr>\n",
       "      <th>United Kingdom</th>\n",
       "      <td>241930</td>\n",
       "      <td>210</td>\n",
       "    </tr>\n",
       "    <tr>\n",
       "      <th>India</th>\n",
       "      <td>2973190</td>\n",
       "      <td>140</td>\n",
       "    </tr>\n",
       "    <tr>\n",
       "      <th>Japan</th>\n",
       "      <td>364500</td>\n",
       "      <td>131</td>\n",
       "    </tr>\n",
       "    <tr>\n",
       "      <th>Indonesia</th>\n",
       "      <td>1811570</td>\n",
       "      <td>114</td>\n",
       "    </tr>\n",
       "    <tr>\n",
       "      <th>South Africa</th>\n",
       "      <td>1214470</td>\n",
       "      <td>103</td>\n",
       "    </tr>\n",
       "    <tr>\n",
       "      <th>Argentina</th>\n",
       "      <td>2736690</td>\n",
       "      <td>103</td>\n",
       "    </tr>\n",
       "    <tr>\n",
       "      <th>Mexico</th>\n",
       "      <td>1943950</td>\n",
       "      <td>94</td>\n",
       "    </tr>\n",
       "    <tr>\n",
       "      <th>Italy</th>\n",
       "      <td>294140</td>\n",
       "      <td>92</td>\n",
       "    </tr>\n",
       "    <tr>\n",
       "      <th>Sweden</th>\n",
       "      <td>410340</td>\n",
       "      <td>86</td>\n",
       "    </tr>\n",
       "    <tr>\n",
       "      <th>Spain</th>\n",
       "      <td>498800</td>\n",
       "      <td>84</td>\n",
       "    </tr>\n",
       "    <tr>\n",
       "      <th>Turkey</th>\n",
       "      <td>769630</td>\n",
       "      <td>77</td>\n",
       "    </tr>\n",
       "    <tr>\n",
       "      <th>Colombia</th>\n",
       "      <td>1109500</td>\n",
       "      <td>72</td>\n",
       "    </tr>\n",
       "    <tr>\n",
       "      <th>Norway</th>\n",
       "      <td>305470</td>\n",
       "      <td>69</td>\n",
       "    </tr>\n",
       "    <tr>\n",
       "      <th>Philippines</th>\n",
       "      <td>298170</td>\n",
       "      <td>64</td>\n",
       "    </tr>\n",
       "    <tr>\n",
       "      <th>Greece</th>\n",
       "      <td>128900</td>\n",
       "      <td>60</td>\n",
       "    </tr>\n",
       "    <tr>\n",
       "      <th>Thailand</th>\n",
       "      <td>510890</td>\n",
       "      <td>58</td>\n",
       "    </tr>\n",
       "    <tr>\n",
       "      <th>Papua New Guinea</th>\n",
       "      <td>452860</td>\n",
       "      <td>57</td>\n",
       "    </tr>\n",
       "    <tr>\n",
       "      <th>New Zealand</th>\n",
       "      <td>263310</td>\n",
       "      <td>56</td>\n",
       "    </tr>\n",
       "    <tr>\n",
       "      <th>Kenya</th>\n",
       "      <td>569140</td>\n",
       "      <td>55</td>\n",
       "    </tr>\n",
       "    <tr>\n",
       "      <th>Switzerland</th>\n",
       "      <td>40000</td>\n",
       "      <td>53</td>\n",
       "    </tr>\n",
       "    <tr>\n",
       "      <th>Finland</th>\n",
       "      <td>303900</td>\n",
       "      <td>51</td>\n",
       "    </tr>\n",
       "    <tr>\n",
       "      <th>Malaysia</th>\n",
       "      <td>328550</td>\n",
       "      <td>47</td>\n",
       "    </tr>\n",
       "    <tr>\n",
       "      <th>Pakistan</th>\n",
       "      <td>770880</td>\n",
       "      <td>46</td>\n",
       "    </tr>\n",
       "    <tr>\n",
       "      <th>...</th>\n",
       "      <td>...</td>\n",
       "      <td>...</td>\n",
       "    </tr>\n",
       "    <tr>\n",
       "      <th>Trinidad and Tobago</th>\n",
       "      <td>5130</td>\n",
       "      <td>2</td>\n",
       "    </tr>\n",
       "    <tr>\n",
       "      <th>Togo</th>\n",
       "      <td>54390</td>\n",
       "      <td>2</td>\n",
       "    </tr>\n",
       "    <tr>\n",
       "      <th>Equatorial Guinea</th>\n",
       "      <td>28050</td>\n",
       "      <td>2</td>\n",
       "    </tr>\n",
       "    <tr>\n",
       "      <th>Bermuda</th>\n",
       "      <td>50</td>\n",
       "      <td>2</td>\n",
       "    </tr>\n",
       "    <tr>\n",
       "      <th>Bahrain</th>\n",
       "      <td>760</td>\n",
       "      <td>2</td>\n",
       "    </tr>\n",
       "    <tr>\n",
       "      <th>Kuwait</th>\n",
       "      <td>17820</td>\n",
       "      <td>2</td>\n",
       "    </tr>\n",
       "    <tr>\n",
       "      <th>Mauritius</th>\n",
       "      <td>2030</td>\n",
       "      <td>2</td>\n",
       "    </tr>\n",
       "    <tr>\n",
       "      <th>Lebanon</th>\n",
       "      <td>10230</td>\n",
       "      <td>2</td>\n",
       "    </tr>\n",
       "    <tr>\n",
       "      <th>El Salvador</th>\n",
       "      <td>20720</td>\n",
       "      <td>2</td>\n",
       "    </tr>\n",
       "    <tr>\n",
       "      <th>South Sudan</th>\n",
       "      <td>NaN</td>\n",
       "      <td>2</td>\n",
       "    </tr>\n",
       "    <tr>\n",
       "      <th>Montenegro</th>\n",
       "      <td>13450</td>\n",
       "      <td>2</td>\n",
       "    </tr>\n",
       "    <tr>\n",
       "      <th>Guinea-Bissau</th>\n",
       "      <td>28120</td>\n",
       "      <td>2</td>\n",
       "    </tr>\n",
       "    <tr>\n",
       "      <th>Sao Tome and Principe</th>\n",
       "      <td>960</td>\n",
       "      <td>2</td>\n",
       "    </tr>\n",
       "    <tr>\n",
       "      <th>Burkina Faso</th>\n",
       "      <td>273600</td>\n",
       "      <td>2</td>\n",
       "    </tr>\n",
       "    <tr>\n",
       "      <th>Antigua and Barbuda</th>\n",
       "      <td>440</td>\n",
       "      <td>2</td>\n",
       "    </tr>\n",
       "    <tr>\n",
       "      <th>Guam</th>\n",
       "      <td>540</td>\n",
       "      <td>2</td>\n",
       "    </tr>\n",
       "    <tr>\n",
       "      <th>Myanmar</th>\n",
       "      <td>653520</td>\n",
       "      <td>1</td>\n",
       "    </tr>\n",
       "    <tr>\n",
       "      <th>Mayotte</th>\n",
       "      <td>370</td>\n",
       "      <td>1</td>\n",
       "    </tr>\n",
       "    <tr>\n",
       "      <th>Luxembourg</th>\n",
       "      <td>2590</td>\n",
       "      <td>1</td>\n",
       "    </tr>\n",
       "    <tr>\n",
       "      <th>Swaziland</th>\n",
       "      <td>17200</td>\n",
       "      <td>1</td>\n",
       "    </tr>\n",
       "    <tr>\n",
       "      <th>Isle of Man</th>\n",
       "      <td>570</td>\n",
       "      <td>1</td>\n",
       "    </tr>\n",
       "    <tr>\n",
       "      <th>Gibraltar</th>\n",
       "      <td>10</td>\n",
       "      <td>1</td>\n",
       "    </tr>\n",
       "    <tr>\n",
       "      <th>Burundi</th>\n",
       "      <td>25680</td>\n",
       "      <td>1</td>\n",
       "    </tr>\n",
       "    <tr>\n",
       "      <th>Barbados</th>\n",
       "      <td>430</td>\n",
       "      <td>1</td>\n",
       "    </tr>\n",
       "    <tr>\n",
       "      <th>Monaco</th>\n",
       "      <td>2</td>\n",
       "      <td>1</td>\n",
       "    </tr>\n",
       "    <tr>\n",
       "      <th>Bhutan</th>\n",
       "      <td>38390</td>\n",
       "      <td>1</td>\n",
       "    </tr>\n",
       "    <tr>\n",
       "      <th>Aruba</th>\n",
       "      <td>180</td>\n",
       "      <td>1</td>\n",
       "    </tr>\n",
       "    <tr>\n",
       "      <th>Albania</th>\n",
       "      <td>27400</td>\n",
       "      <td>1</td>\n",
       "    </tr>\n",
       "    <tr>\n",
       "      <th>Tuvalu</th>\n",
       "      <td>30</td>\n",
       "      <td>1</td>\n",
       "    </tr>\n",
       "    <tr>\n",
       "      <th>Benin</th>\n",
       "      <td>110620</td>\n",
       "      <td>1</td>\n",
       "    </tr>\n",
       "  </tbody>\n",
       "</table>\n",
       "<p>181 rows × 2 columns</p>\n",
       "</div>"
      ],
      "text/plain": [
       "                       Land area     0\n",
       "United States            9147420  1697\n",
       "Canada                   9093510   435\n",
       "Germany                   348610   321\n",
       "Australia                7682300   263\n",
       "France                    547660   233\n",
       "China                    9327480   219\n",
       "Brazil                   8459420   213\n",
       "United Kingdom            241930   210\n",
       "India                    2973190   140\n",
       "Japan                     364500   131\n",
       "Indonesia                1811570   114\n",
       "South Africa             1214470   103\n",
       "Argentina                2736690   103\n",
       "Mexico                   1943950    94\n",
       "Italy                     294140    92\n",
       "Sweden                    410340    86\n",
       "Spain                     498800    84\n",
       "Turkey                    769630    77\n",
       "Colombia                 1109500    72\n",
       "Norway                    305470    69\n",
       "Philippines               298170    64\n",
       "Greece                    128900    60\n",
       "Thailand                  510890    58\n",
       "Papua New Guinea          452860    57\n",
       "New Zealand               263310    56\n",
       "Kenya                     569140    55\n",
       "Switzerland                40000    53\n",
       "Finland                   303900    51\n",
       "Malaysia                  328550    47\n",
       "Pakistan                  770880    46\n",
       "...                          ...   ...\n",
       "Trinidad and Tobago         5130     2\n",
       "Togo                       54390     2\n",
       "Equatorial Guinea          28050     2\n",
       "Bermuda                       50     2\n",
       "Bahrain                      760     2\n",
       "Kuwait                     17820     2\n",
       "Mauritius                   2030     2\n",
       "Lebanon                    10230     2\n",
       "El Salvador                20720     2\n",
       "South Sudan                  NaN     2\n",
       "Montenegro                 13450     2\n",
       "Guinea-Bissau              28120     2\n",
       "Sao Tome and Principe        960     2\n",
       "Burkina Faso              273600     2\n",
       "Antigua and Barbuda          440     2\n",
       "Guam                         540     2\n",
       "Myanmar                   653520     1\n",
       "Mayotte                      370     1\n",
       "Luxembourg                  2590     1\n",
       "Swaziland                  17200     1\n",
       "Isle of Man                  570     1\n",
       "Gibraltar                     10     1\n",
       "Burundi                    25680     1\n",
       "Barbados                     430     1\n",
       "Monaco                         2     1\n",
       "Bhutan                     38390     1\n",
       "Aruba                        180     1\n",
       "Albania                    27400     1\n",
       "Tuvalu                        30     1\n",
       "Benin                     110620     1\n",
       "\n",
       "[181 rows x 2 columns]"
      ]
     },
     "execution_count": 97,
     "metadata": {},
     "output_type": "execute_result"
    }
   ],
   "source": [
    "s1.join(s2, how=\"inner\")"
   ]
  },
  {
   "cell_type": "code",
   "execution_count": 98,
   "metadata": {
    "collapsed": false
   },
   "outputs": [
    {
     "data": {
      "text/html": [
       "<div style=\"max-height:1000px;max-width:1500px;overflow:auto;\">\n",
       "<table border=\"1\" class=\"dataframe\">\n",
       "  <thead>\n",
       "    <tr style=\"text-align: right;\">\n",
       "      <th></th>\n",
       "      <th>Land area</th>\n",
       "      <th>0</th>\n",
       "    </tr>\n",
       "  </thead>\n",
       "  <tbody>\n",
       "    <tr>\n",
       "      <th>Afghanistan</th>\n",
       "      <td>652230</td>\n",
       "      <td>21</td>\n",
       "    </tr>\n",
       "    <tr>\n",
       "      <th>Albania</th>\n",
       "      <td>27400</td>\n",
       "      <td>1</td>\n",
       "    </tr>\n",
       "    <tr>\n",
       "      <th>Algeria</th>\n",
       "      <td>2381740</td>\n",
       "      <td>44</td>\n",
       "    </tr>\n",
       "    <tr>\n",
       "      <th>American Samoa</th>\n",
       "      <td>200</td>\n",
       "      <td>3</td>\n",
       "    </tr>\n",
       "    <tr>\n",
       "      <th>Andorra</th>\n",
       "      <td>470</td>\n",
       "      <td>NaN</td>\n",
       "    </tr>\n",
       "    <tr>\n",
       "      <th>Angola</th>\n",
       "      <td>1246700</td>\n",
       "      <td>26</td>\n",
       "    </tr>\n",
       "    <tr>\n",
       "      <th>Anguilla</th>\n",
       "      <td>NaN</td>\n",
       "      <td>1</td>\n",
       "    </tr>\n",
       "    <tr>\n",
       "      <th>Antarctica</th>\n",
       "      <td>NaN</td>\n",
       "      <td>19</td>\n",
       "    </tr>\n",
       "    <tr>\n",
       "      <th>Antigua and Barbuda</th>\n",
       "      <td>440</td>\n",
       "      <td>2</td>\n",
       "    </tr>\n",
       "    <tr>\n",
       "      <th>Argentina</th>\n",
       "      <td>2736690</td>\n",
       "      <td>103</td>\n",
       "    </tr>\n",
       "    <tr>\n",
       "      <th>Armenia</th>\n",
       "      <td>28480</td>\n",
       "      <td>4</td>\n",
       "    </tr>\n",
       "    <tr>\n",
       "      <th>Aruba</th>\n",
       "      <td>180</td>\n",
       "      <td>1</td>\n",
       "    </tr>\n",
       "    <tr>\n",
       "      <th>Australia</th>\n",
       "      <td>7682300</td>\n",
       "      <td>263</td>\n",
       "    </tr>\n",
       "    <tr>\n",
       "      <th>Austria</th>\n",
       "      <td>82430</td>\n",
       "      <td>29</td>\n",
       "    </tr>\n",
       "    <tr>\n",
       "      <th>Azerbaijan</th>\n",
       "      <td>82620</td>\n",
       "      <td>11</td>\n",
       "    </tr>\n",
       "    <tr>\n",
       "      <th>Bahamas</th>\n",
       "      <td>NaN</td>\n",
       "      <td>37</td>\n",
       "    </tr>\n",
       "    <tr>\n",
       "      <th>Bahamas, The</th>\n",
       "      <td>10010</td>\n",
       "      <td>NaN</td>\n",
       "    </tr>\n",
       "    <tr>\n",
       "      <th>Bahrain</th>\n",
       "      <td>760</td>\n",
       "      <td>2</td>\n",
       "    </tr>\n",
       "    <tr>\n",
       "      <th>Bangladesh</th>\n",
       "      <td>130170</td>\n",
       "      <td>13</td>\n",
       "    </tr>\n",
       "    <tr>\n",
       "      <th>Barbados</th>\n",
       "      <td>430</td>\n",
       "      <td>1</td>\n",
       "    </tr>\n",
       "    <tr>\n",
       "      <th>Belarus</th>\n",
       "      <td>202820</td>\n",
       "      <td>9</td>\n",
       "    </tr>\n",
       "    <tr>\n",
       "      <th>Belgium</th>\n",
       "      <td>30280</td>\n",
       "      <td>34</td>\n",
       "    </tr>\n",
       "    <tr>\n",
       "      <th>Belize</th>\n",
       "      <td>22810</td>\n",
       "      <td>12</td>\n",
       "    </tr>\n",
       "    <tr>\n",
       "      <th>Benin</th>\n",
       "      <td>110620</td>\n",
       "      <td>1</td>\n",
       "    </tr>\n",
       "    <tr>\n",
       "      <th>Bermuda</th>\n",
       "      <td>50</td>\n",
       "      <td>2</td>\n",
       "    </tr>\n",
       "    <tr>\n",
       "      <th>Bhutan</th>\n",
       "      <td>38390</td>\n",
       "      <td>1</td>\n",
       "    </tr>\n",
       "    <tr>\n",
       "      <th>Bolivia</th>\n",
       "      <td>1083300</td>\n",
       "      <td>27</td>\n",
       "    </tr>\n",
       "    <tr>\n",
       "      <th>Bosnia and Herzegovina</th>\n",
       "      <td>51000</td>\n",
       "      <td>4</td>\n",
       "    </tr>\n",
       "    <tr>\n",
       "      <th>Botswana</th>\n",
       "      <td>566730</td>\n",
       "      <td>29</td>\n",
       "    </tr>\n",
       "    <tr>\n",
       "      <th>Brazil</th>\n",
       "      <td>8459420</td>\n",
       "      <td>213</td>\n",
       "    </tr>\n",
       "    <tr>\n",
       "      <th>...</th>\n",
       "      <td>...</td>\n",
       "      <td>...</td>\n",
       "    </tr>\n",
       "    <tr>\n",
       "      <th>Togo</th>\n",
       "      <td>54390</td>\n",
       "      <td>2</td>\n",
       "    </tr>\n",
       "    <tr>\n",
       "      <th>Tonga</th>\n",
       "      <td>720</td>\n",
       "      <td>6</td>\n",
       "    </tr>\n",
       "    <tr>\n",
       "      <th>Trinidad and Tobago</th>\n",
       "      <td>5130</td>\n",
       "      <td>2</td>\n",
       "    </tr>\n",
       "    <tr>\n",
       "      <th>Tunisia</th>\n",
       "      <td>155360</td>\n",
       "      <td>13</td>\n",
       "    </tr>\n",
       "    <tr>\n",
       "      <th>Turkey</th>\n",
       "      <td>769630</td>\n",
       "      <td>77</td>\n",
       "    </tr>\n",
       "    <tr>\n",
       "      <th>Turkmenistan</th>\n",
       "      <td>469930</td>\n",
       "      <td>8</td>\n",
       "    </tr>\n",
       "    <tr>\n",
       "      <th>Turks and Caicos Islands</th>\n",
       "      <td>950</td>\n",
       "      <td>6</td>\n",
       "    </tr>\n",
       "    <tr>\n",
       "      <th>Tuvalu</th>\n",
       "      <td>30</td>\n",
       "      <td>1</td>\n",
       "    </tr>\n",
       "    <tr>\n",
       "      <th>Uganda</th>\n",
       "      <td>199810</td>\n",
       "      <td>9</td>\n",
       "    </tr>\n",
       "    <tr>\n",
       "      <th>Ukraine</th>\n",
       "      <td>579320</td>\n",
       "      <td>33</td>\n",
       "    </tr>\n",
       "    <tr>\n",
       "      <th>United Arab Emirates</th>\n",
       "      <td>83600</td>\n",
       "      <td>19</td>\n",
       "    </tr>\n",
       "    <tr>\n",
       "      <th>United Kingdom</th>\n",
       "      <td>241930</td>\n",
       "      <td>210</td>\n",
       "    </tr>\n",
       "    <tr>\n",
       "      <th>United States</th>\n",
       "      <td>9147420</td>\n",
       "      <td>1697</td>\n",
       "    </tr>\n",
       "    <tr>\n",
       "      <th>Uruguay</th>\n",
       "      <td>175020</td>\n",
       "      <td>13</td>\n",
       "    </tr>\n",
       "    <tr>\n",
       "      <th>Uzbekistan</th>\n",
       "      <td>425400</td>\n",
       "      <td>12</td>\n",
       "    </tr>\n",
       "    <tr>\n",
       "      <th>Vanuatu</th>\n",
       "      <td>12190</td>\n",
       "      <td>29</td>\n",
       "    </tr>\n",
       "    <tr>\n",
       "      <th>Venezuela</th>\n",
       "      <td>NaN</td>\n",
       "      <td>58</td>\n",
       "    </tr>\n",
       "    <tr>\n",
       "      <th>Venezuela, RB</th>\n",
       "      <td>882050</td>\n",
       "      <td>NaN</td>\n",
       "    </tr>\n",
       "    <tr>\n",
       "      <th>Vietnam</th>\n",
       "      <td>310070</td>\n",
       "      <td>30</td>\n",
       "    </tr>\n",
       "    <tr>\n",
       "      <th>Virgin Islands</th>\n",
       "      <td>NaN</td>\n",
       "      <td>8</td>\n",
       "    </tr>\n",
       "    <tr>\n",
       "      <th>Virgin Islands (U.S.)</th>\n",
       "      <td>350</td>\n",
       "      <td>NaN</td>\n",
       "    </tr>\n",
       "    <tr>\n",
       "      <th>Wake Island</th>\n",
       "      <td>NaN</td>\n",
       "      <td>1</td>\n",
       "    </tr>\n",
       "    <tr>\n",
       "      <th>Wallis and Futuna</th>\n",
       "      <td>NaN</td>\n",
       "      <td>2</td>\n",
       "    </tr>\n",
       "    <tr>\n",
       "      <th>West Bank</th>\n",
       "      <td>NaN</td>\n",
       "      <td>1</td>\n",
       "    </tr>\n",
       "    <tr>\n",
       "      <th>West Bank and Gaza</th>\n",
       "      <td>6020</td>\n",
       "      <td>NaN</td>\n",
       "    </tr>\n",
       "    <tr>\n",
       "      <th>Western Sahara</th>\n",
       "      <td>NaN</td>\n",
       "      <td>3</td>\n",
       "    </tr>\n",
       "    <tr>\n",
       "      <th>Yemen</th>\n",
       "      <td>NaN</td>\n",
       "      <td>11</td>\n",
       "    </tr>\n",
       "    <tr>\n",
       "      <th>Yemen, Rep.</th>\n",
       "      <td>527970</td>\n",
       "      <td>NaN</td>\n",
       "    </tr>\n",
       "    <tr>\n",
       "      <th>Zambia</th>\n",
       "      <td>743390</td>\n",
       "      <td>13</td>\n",
       "    </tr>\n",
       "    <tr>\n",
       "      <th>Zimbabwe</th>\n",
       "      <td>386850</td>\n",
       "      <td>16</td>\n",
       "    </tr>\n",
       "  </tbody>\n",
       "</table>\n",
       "<p>275 rows × 2 columns</p>\n",
       "</div>"
      ],
      "text/plain": [
       "                          Land area     0\n",
       "Afghanistan                  652230    21\n",
       "Albania                       27400     1\n",
       "Algeria                     2381740    44\n",
       "American Samoa                  200     3\n",
       "Andorra                         470   NaN\n",
       "Angola                      1246700    26\n",
       "Anguilla                        NaN     1\n",
       "Antarctica                      NaN    19\n",
       "Antigua and Barbuda             440     2\n",
       "Argentina                   2736690   103\n",
       "Armenia                       28480     4\n",
       "Aruba                           180     1\n",
       "Australia                   7682300   263\n",
       "Austria                       82430    29\n",
       "Azerbaijan                    82620    11\n",
       "Bahamas                         NaN    37\n",
       "Bahamas, The                  10010   NaN\n",
       "Bahrain                         760     2\n",
       "Bangladesh                   130170    13\n",
       "Barbados                        430     1\n",
       "Belarus                      202820     9\n",
       "Belgium                       30280    34\n",
       "Belize                        22810    12\n",
       "Benin                        110620     1\n",
       "Bermuda                          50     2\n",
       "Bhutan                        38390     1\n",
       "Bolivia                     1083300    27\n",
       "Bosnia and Herzegovina        51000     4\n",
       "Botswana                     566730    29\n",
       "Brazil                      8459420   213\n",
       "...                             ...   ...\n",
       "Togo                          54390     2\n",
       "Tonga                           720     6\n",
       "Trinidad and Tobago            5130     2\n",
       "Tunisia                      155360    13\n",
       "Turkey                       769630    77\n",
       "Turkmenistan                 469930     8\n",
       "Turks and Caicos Islands        950     6\n",
       "Tuvalu                           30     1\n",
       "Uganda                       199810     9\n",
       "Ukraine                      579320    33\n",
       "United Arab Emirates          83600    19\n",
       "United Kingdom               241930   210\n",
       "United States               9147420  1697\n",
       "Uruguay                      175020    13\n",
       "Uzbekistan                   425400    12\n",
       "Vanuatu                       12190    29\n",
       "Venezuela                       NaN    58\n",
       "Venezuela, RB                882050   NaN\n",
       "Vietnam                      310070    30\n",
       "Virgin Islands                  NaN     8\n",
       "Virgin Islands (U.S.)           350   NaN\n",
       "Wake Island                     NaN     1\n",
       "Wallis and Futuna               NaN     2\n",
       "West Bank                       NaN     1\n",
       "West Bank and Gaza             6020   NaN\n",
       "Western Sahara                  NaN     3\n",
       "Yemen                           NaN    11\n",
       "Yemen, Rep.                  527970   NaN\n",
       "Zambia                       743390    13\n",
       "Zimbabwe                     386850    16\n",
       "\n",
       "[275 rows x 2 columns]"
      ]
     },
     "execution_count": 98,
     "metadata": {},
     "output_type": "execute_result"
    }
   ],
   "source": [
    "s1.join(s2, how=\"outer\")"
   ]
  },
  {
   "cell_type": "markdown",
   "metadata": {},
   "source": [
    "## Ćwiczenie\n",
    "\n",
    "Oblicz gęstość lotnisk na km$^2$ dla poszczególnych krajów. Zignoruj przypadki, w których nazwa kraju jest niespójna pomiędzy dwoma zbiorami. Wypisz 20 krajów z największą gęstością lotnisk. Następnie wypisz 20 krajów z największą gęstością lotnisk spośród krajów o powierzchni większej niż 30000 km$^2$.\n",
    "\n",
    "Wskazówka:"
   ]
  },
  {
   "cell_type": "code",
   "execution_count": null,
   "metadata": {
    "collapsed": false
   },
   "outputs": [],
   "source": [
    "airports[\"Altitude\"].order() # zwraca wysokości posortowane rosnąco\n",
    "\n",
    "airports[\"Altitude\"].order(ascening=False) # zwraca wysokości posortowane malejąco"
   ]
  }
 ],
 "metadata": {
  "kernelspec": {
   "display_name": "Python 3",
   "language": "python",
   "name": "python3"
  },
  "language_info": {
   "codemirror_mode": {
    "name": "ipython",
    "version": 3
   },
   "file_extension": ".py",
   "mimetype": "text/x-python",
   "name": "python",
   "nbconvert_exporter": "python",
   "pygments_lexer": "ipython3",
   "version": "3.4.3"
  }
 },
 "nbformat": 4,
 "nbformat_minor": 0
}
