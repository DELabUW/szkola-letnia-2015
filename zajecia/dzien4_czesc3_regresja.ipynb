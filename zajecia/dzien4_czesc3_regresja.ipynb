{
 "cells": [
  {
   "cell_type": "markdown",
   "metadata": {},
   "source": [
    "# Regresja liniowa\n",
    "\n",
    "[Piotr Migdał](http://migdal.wikidot.com/) i Łukasz Jonak, 2015, [DELab UW](http://www.delab.uw.edu.pl/)"
   ]
  },
  {
   "cell_type": "code",
   "execution_count": 1,
   "metadata": {
    "collapsed": true
   },
   "outputs": [],
   "source": [
    "%matplotlib inline\n",
    "import pandas as pd\n",
    "import numpy as np\n",
    "import seaborn as sns"
   ]
  },
  {
   "cell_type": "code",
   "execution_count": 2,
   "metadata": {
    "collapsed": true
   },
   "outputs": [],
   "source": [
    "df = pd.read_csv(\"../dane/SkillCraft1_Dataset.csv\", na_values=[\"?\"])"
   ]
  },
  {
   "cell_type": "code",
   "execution_count": 3,
   "metadata": {
    "collapsed": true
   },
   "outputs": [],
   "source": [
    "# przetwarzamy zgodnie z poprzednim plikiem (dzien4_czesc2_eksploracja_i_wykresy.ipynb)\n",
    "df = df[df.LeagueIndex < 8]\n",
    "df = df.loc[:,\"LeagueIndex\":\"APM\"]\n",
    "df = df[df.TotalHours < 100000]\n",
    "df = df[df.HoursPerWeek > 0]\n",
    "\n",
    "df_przeskalowane = df[[\"LeagueIndex\"]].copy()\n",
    "for col in df.columns[1:]:\n",
    "    df_przeskalowane[col + \"_log10\"] = np.log10(df[col])\n",
    "    \n",
    "df_przeskalowane = df_przeskalowane.dropna()  # usuwamy wiersze z brakującymi danymi"
   ]
  },
  {
   "cell_type": "markdown",
   "metadata": {},
   "source": [
    "## Prościej\n",
    "\n",
    "Jest kilka bibiliotek wspierających [regresję liniową](https://en.wikipedia.org/wiki/Linear_regression). Zacznijmy od prostszego podejścia korzystającego z pakietu [StatsModels](http://statsmodels.sourceforge.net/) zawierającego popularne metody statystyczne."
   ]
  },
  {
   "cell_type": "code",
   "execution_count": 4,
   "metadata": {
    "collapsed": true
   },
   "outputs": [],
   "source": [
    "import statsmodels.formula.api as smf"
   ]
  },
  {
   "cell_type": "code",
   "execution_count": 5,
   "metadata": {
    "collapsed": false
   },
   "outputs": [
    {
     "data": {
      "text/html": [
       "<table class=\"simpletable\">\n",
       "<caption>OLS Regression Results</caption>\n",
       "<tr>\n",
       "  <th>Dep. Variable:</th>       <td>LeagueIndex</td>   <th>  R-squared:         </th> <td>   0.507</td>\n",
       "</tr>\n",
       "<tr>\n",
       "  <th>Model:</th>                   <td>OLS</td>       <th>  Adj. R-squared:    </th> <td>   0.506</td>\n",
       "</tr>\n",
       "<tr>\n",
       "  <th>Method:</th>             <td>Least Squares</td>  <th>  F-statistic:       </th> <td>   855.7</td>\n",
       "</tr>\n",
       "<tr>\n",
       "  <th>Date:</th>             <td>Sun, 19 Jul 2015</td> <th>  Prob (F-statistic):</th>  <td>  0.00</td> \n",
       "</tr>\n",
       "<tr>\n",
       "  <th>Time:</th>                 <td>16:50:34</td>     <th>  Log-Likelihood:    </th> <td> -4789.4</td>\n",
       "</tr>\n",
       "<tr>\n",
       "  <th>No. Observations:</th>      <td>  3336</td>      <th>  AIC:               </th> <td>   9589.</td>\n",
       "</tr>\n",
       "<tr>\n",
       "  <th>Df Residuals:</th>          <td>  3331</td>      <th>  BIC:               </th> <td>   9619.</td>\n",
       "</tr>\n",
       "<tr>\n",
       "  <th>Df Model:</th>              <td>     4</td>      <th>                     </th>     <td> </td>   \n",
       "</tr>\n",
       "<tr>\n",
       "  <th>Covariance Type:</th>      <td>nonrobust</td>    <th>                     </th>     <td> </td>   \n",
       "</tr>\n",
       "</table>\n",
       "<table class=\"simpletable\">\n",
       "<tr>\n",
       "           <td></td>             <th>coef</th>     <th>std err</th>      <th>t</th>      <th>P>|t|</th> <th>[95.0% Conf. Int.]</th> \n",
       "</tr>\n",
       "<tr>\n",
       "  <th>Intercept</th>          <td>   -7.6769</td> <td>    0.403</td> <td>  -19.069</td> <td> 0.000</td> <td>   -8.466    -6.888</td>\n",
       "</tr>\n",
       "<tr>\n",
       "  <th>Age_log10</th>          <td>    0.2472</td> <td>    0.233</td> <td>    1.063</td> <td> 0.288</td> <td>   -0.209     0.703</td>\n",
       "</tr>\n",
       "<tr>\n",
       "  <th>HoursPerWeek_log10</th> <td>   -0.1889</td> <td>    0.063</td> <td>   -2.981</td> <td> 0.003</td> <td>   -0.313    -0.065</td>\n",
       "</tr>\n",
       "<tr>\n",
       "  <th>TotalHours_log10</th>   <td>    1.0340</td> <td>    0.052</td> <td>   19.788</td> <td> 0.000</td> <td>    0.932     1.136</td>\n",
       "</tr>\n",
       "<tr>\n",
       "  <th>APM_log10</th>          <td>    4.4152</td> <td>    0.108</td> <td>   40.808</td> <td> 0.000</td> <td>    4.203     4.627</td>\n",
       "</tr>\n",
       "</table>\n",
       "<table class=\"simpletable\">\n",
       "<tr>\n",
       "  <th>Omnibus:</th>       <td>38.272</td> <th>  Durbin-Watson:     </th> <td>   2.036</td>\n",
       "</tr>\n",
       "<tr>\n",
       "  <th>Prob(Omnibus):</th> <td> 0.000</td> <th>  Jarque-Bera (JB):  </th> <td>  38.805</td>\n",
       "</tr>\n",
       "<tr>\n",
       "  <th>Skew:</th>          <td>-0.252</td> <th>  Prob(JB):          </th> <td>3.75e-09</td>\n",
       "</tr>\n",
       "<tr>\n",
       "  <th>Kurtosis:</th>      <td> 2.844</td> <th>  Cond. No.          </th> <td>    101.</td>\n",
       "</tr>\n",
       "</table>"
      ],
      "text/plain": [
       "<class 'statsmodels.iolib.summary.Summary'>\n",
       "\"\"\"\n",
       "                            OLS Regression Results                            \n",
       "==============================================================================\n",
       "Dep. Variable:            LeagueIndex   R-squared:                       0.507\n",
       "Model:                            OLS   Adj. R-squared:                  0.506\n",
       "Method:                 Least Squares   F-statistic:                     855.7\n",
       "Date:                Sun, 19 Jul 2015   Prob (F-statistic):               0.00\n",
       "Time:                        16:50:34   Log-Likelihood:                -4789.4\n",
       "No. Observations:                3336   AIC:                             9589.\n",
       "Df Residuals:                    3331   BIC:                             9619.\n",
       "Df Model:                           4                                         \n",
       "Covariance Type:            nonrobust                                         \n",
       "======================================================================================\n",
       "                         coef    std err          t      P>|t|      [95.0% Conf. Int.]\n",
       "--------------------------------------------------------------------------------------\n",
       "Intercept             -7.6769      0.403    -19.069      0.000        -8.466    -6.888\n",
       "Age_log10              0.2472      0.233      1.063      0.288        -0.209     0.703\n",
       "HoursPerWeek_log10    -0.1889      0.063     -2.981      0.003        -0.313    -0.065\n",
       "TotalHours_log10       1.0340      0.052     19.788      0.000         0.932     1.136\n",
       "APM_log10              4.4152      0.108     40.808      0.000         4.203     4.627\n",
       "==============================================================================\n",
       "Omnibus:                       38.272   Durbin-Watson:                   2.036\n",
       "Prob(Omnibus):                  0.000   Jarque-Bera (JB):               38.805\n",
       "Skew:                          -0.252   Prob(JB):                     3.75e-09\n",
       "Kurtosis:                       2.844   Cond. No.                         101.\n",
       "==============================================================================\n",
       "\n",
       "Warnings:\n",
       "[1] Standard Errors assume that the covariance matrix of the errors is correctly specified.\n",
       "\"\"\""
      ]
     },
     "execution_count": 5,
     "metadata": {},
     "output_type": "execute_result"
    }
   ],
   "source": [
    "# formuła z wyliczeniem zmiennych; w stylu R-owym\n",
    "formula = 'LeagueIndex ~ Age_log10 + HoursPerWeek_log10 + TotalHours_log10 + APM_log10'\n",
    "result = smf.ols(formula, data=df_przeskalowane).fit()\n",
    "result.summary()"
   ]
  },
  {
   "cell_type": "code",
   "execution_count": 6,
   "metadata": {
    "collapsed": false
   },
   "outputs": [
    {
     "data": {
      "text/plain": [
       "'Age_log10 + HoursPerWeek_log10 + TotalHours_log10 + APM_log10'"
      ]
     },
     "execution_count": 6,
     "metadata": {},
     "output_type": "execute_result"
    }
   ],
   "source": [
    "# Gdy wzór jest długi i nie chczemy go przepisywać, możemy prawą stronę zapisać następująco:\n",
    "\" + \".join(df_przeskalowane.columns[1:])"
   ]
  },
  {
   "cell_type": "markdown",
   "metadata": {},
   "source": [
    "Jeśli zaś zależy nam na ważność parametrów, możemy dane przeskalować (zmieniając ich średnie na `0` a wariancje na `1`)."
   ]
  },
  {
   "cell_type": "code",
   "execution_count": 7,
   "metadata": {
    "collapsed": false
   },
   "outputs": [],
   "source": [
    "df_z = (df_przeskalowane - df_przeskalowane.mean())/df_przeskalowane.std()"
   ]
  },
  {
   "cell_type": "code",
   "execution_count": 8,
   "metadata": {
    "collapsed": false
   },
   "outputs": [
    {
     "data": {
      "text/plain": [
       "<matplotlib.axes._subplots.AxesSubplot at 0x1094b75c0>"
      ]
     },
     "execution_count": 8,
     "metadata": {},
     "output_type": "execute_result"
    },
    {
     "data": {
      "image/png": "[encoded data removed]",
      "text/plain": [
       "<matplotlib.figure.Figure at 0x1090cdbe0>"
      ]
     },
     "metadata": {},
     "output_type": "display_data"
    }
   ],
   "source": [
    "result = smf.ols(formula, data=df_z).fit()\n",
    "result.params.plot(kind='barh')"
   ]
  },
  {
   "cell_type": "markdown",
   "metadata": {},
   "source": [
    "Czyli największy wpływ ma liczba akcji na minutę (APM) oraz całkowita liczba przegranych godzin."
   ]
  },
  {
   "cell_type": "markdown",
   "metadata": {},
   "source": [
    "## Trudniej\n",
    "\n",
    "Jeśli zaś czujemy się na siłach, możemy skorzystać z ogólniejszego pakiety - [scikit-learn](http://scikit-learn.org/). O ile w przypadku regresji liniowej to jest trudniejsze podejście, to w ten sam sposób można korzystać z wielu różnych metod statystycznych i uczenia maszynowego."
   ]
  },
  {
   "cell_type": "code",
   "execution_count": 9,
   "metadata": {
    "collapsed": true
   },
   "outputs": [],
   "source": [
    "from sklearn import linear_model"
   ]
  },
  {
   "cell_type": "code",
   "execution_count": 10,
   "metadata": {
    "collapsed": true
   },
   "outputs": [],
   "source": [
    "# zamieniamy 'wejscie' ma array X, a 'wyjscie' na array Y \n",
    "Y = df_z[\"LeagueIndex\"].values\n",
    "X = df_z.drop(\"LeagueIndex\", axis=1).values"
   ]
  },
  {
   "cell_type": "code",
   "execution_count": 11,
   "metadata": {
    "collapsed": false
   },
   "outputs": [
    {
     "data": {
      "text/plain": [
       "array([ 0.60773454,  0.60773454, -0.08279762, ..., -0.08279762,\n",
       "       -0.77332979, -0.08279762])"
      ]
     },
     "execution_count": 11,
     "metadata": {},
     "output_type": "execute_result"
    }
   ],
   "source": [
    "# array'e to surowe tablice liczb\n",
    "Y"
   ]
  },
  {
   "cell_type": "code",
   "execution_count": 12,
   "metadata": {
    "collapsed": false
   },
   "outputs": [
    {
     "data": {
      "text/plain": [
       "(3336,)"
      ]
     },
     "execution_count": 12,
     "metadata": {},
     "output_type": "execute_result"
    }
   ],
   "source": [
    "Y.shape"
   ]
  },
  {
   "cell_type": "code",
   "execution_count": 13,
   "metadata": {
    "collapsed": false
   },
   "outputs": [
    {
     "data": {
      "text/plain": [
       "array([[ 1.30076699, -0.30725047,  2.04556989,  0.7400451 ],\n",
       "       [ 0.4244336 , -0.30725047,  2.60160169,  0.48950975],\n",
       "       [ 1.87660216, -0.30725047, -0.90213275, -0.95761708],\n",
       "       ..., \n",
       "       [-0.07276166, -0.61776277, -1.6566209 ,  0.34788303],\n",
       "       [-0.33941841,  1.12550212, -0.14764461,  0.57994989],\n",
       "       [ 0.18148786, -1.01808276, -0.14764461, -0.39467245]])"
      ]
     },
     "execution_count": 13,
     "metadata": {},
     "output_type": "execute_result"
    }
   ],
   "source": [
    "X"
   ]
  },
  {
   "cell_type": "code",
   "execution_count": 14,
   "metadata": {
    "collapsed": false
   },
   "outputs": [
    {
     "data": {
      "text/plain": [
       "(3336, 4)"
      ]
     },
     "execution_count": 14,
     "metadata": {},
     "output_type": "execute_result"
    }
   ],
   "source": [
    "X.shape"
   ]
  },
  {
   "cell_type": "code",
   "execution_count": 15,
   "metadata": {
    "collapsed": false
   },
   "outputs": [
    {
     "data": {
      "text/plain": [
       "LinearRegression(copy_X=True, fit_intercept=True, normalize=False)"
      ]
     },
     "execution_count": 15,
     "metadata": {},
     "output_type": "execute_result"
    }
   ],
   "source": [
    "reg = linear_model.LinearRegression()  # tworzymy pusty model\n",
    "reg.fit(X, Y)  # dopasowujemy model do danych (obiekt 'reg' przechowuje parametry)"
   ]
  },
  {
   "cell_type": "code",
   "execution_count": 16,
   "metadata": {
    "collapsed": false
   },
   "outputs": [
    {
     "data": {
      "text/plain": [
       "array([ 0.01356574, -0.04071312,  0.28486834,  0.56150114])"
      ]
     },
     "execution_count": 16,
     "metadata": {},
     "output_type": "execute_result"
    }
   ],
   "source": [
    "# współczynnik regresji\n",
    "reg.coef_"
   ]
  },
  {
   "cell_type": "code",
   "execution_count": 17,
   "metadata": {
    "collapsed": false
   },
   "outputs": [
    {
     "data": {
      "text/plain": [
       "Age_log10             0.013566\n",
       "HoursPerWeek_log10   -0.040713\n",
       "TotalHours_log10      0.284868\n",
       "APM_log10             0.561501\n",
       "dtype: float64"
      ]
     },
     "execution_count": 17,
     "metadata": {},
     "output_type": "execute_result"
    }
   ],
   "source": [
    "wspolczynniki = pd.Series(reg.coef_, index=df_z.columns[1:])\n",
    "wspolczynniki"
   ]
  },
  {
   "cell_type": "code",
   "execution_count": 18,
   "metadata": {
    "collapsed": false
   },
   "outputs": [
    {
     "data": {
      "text/plain": [
       "<matplotlib.axes._subplots.AxesSubplot at 0x109a40198>"
      ]
     },
     "execution_count": 18,
     "metadata": {},
     "output_type": "execute_result"
    },
    {
     "data": {
      "image/png": "[encoded data removed]",
      "text/plain": [
       "<matplotlib.figure.Figure at 0x109a2ec50>"
      ]
     },
     "metadata": {},
     "output_type": "display_data"
    }
   ],
   "source": [
    "wspolczynniki.plot(kind='barh')"
   ]
  },
  {
   "cell_type": "code",
   "execution_count": 19,
   "metadata": {
    "collapsed": false
   },
   "outputs": [
    {
     "data": {
      "text/plain": [
       "array([ 0.01356574])"
      ]
     },
     "execution_count": 19,
     "metadata": {},
     "output_type": "execute_result"
    }
   ],
   "source": [
    "# mozna tez przewidywać dla danych parametrów na wejściu\n",
    "reg.predict([[1,0,0,0]])"
   ]
  },
  {
   "cell_type": "code",
   "execution_count": 20,
   "metadata": {
    "collapsed": false
   },
   "outputs": [
    {
     "data": {
      "text/plain": [
       "<seaborn.axisgrid.JointGrid at 0x109a56f98>"
      ]
     },
     "execution_count": 20,
     "metadata": {},
     "output_type": "execute_result"
    },
    {
     "data": {
      "image/png": "[encoded data removed]",
      "text/plain": [
       "<matplotlib.figure.Figure at 0x109a56a58>"
      ]
     },
     "metadata": {},
     "output_type": "display_data"
    }
   ],
   "source": [
    "# a jak zobaczyc na ile dobrze potrafimy przewidziec wyniki?\n",
    "\n",
    "# tworzymy dataframe z prawdziwymi obserwacjami i predykcją\n",
    "predykcja = pd.DataFrame({'obs': Y, 'pred': reg.predict(X)})\n",
    "\n",
    "# skalujemy wyniki\n",
    "predykcja = (predykcja * df_przeskalowane['LeagueIndex'].std()) + df_przeskalowane['LeagueIndex'].mean()\n",
    "\n",
    "sns.jointplot(x=\"obs\", y=\"pred\", data=predykcja, kind='kde')"
   ]
  },
  {
   "cell_type": "markdown",
   "metadata": {},
   "source": [
    "## Zobacz też\n",
    "\n",
    "* [Statistical functions (scipy.stats)¶](http://docs.scipy.org/doc/scipy/reference/stats.html)\n",
    "* [Probabilistic Programming and Bayesian Methods for Hackers](http://nbviewer.ipython.org/github/CamDavidsonPilon/Probabilistic-Programming-and-Bayesian-Methods-for-Hackers/blob/master/Chapter1_Introduction/Chapter1.ipynb)"
   ]
  },
  {
   "cell_type": "code",
   "execution_count": null,
   "metadata": {
    "collapsed": true
   },
   "outputs": [],
   "source": []
  }
 ],
 "metadata": {
  "kernelspec": {
   "display_name": "Python 3",
   "language": "python",
   "name": "python3"
  },
  "language_info": {
   "codemirror_mode": {
    "name": "ipython",
    "version": 3
   },
   "file_extension": ".py",
   "mimetype": "text/x-python",
   "name": "python",
   "nbconvert_exporter": "python",
   "pygments_lexer": "ipython3",
   "version": "3.4.3"
  }
 },
 "nbformat": 4,
 "nbformat_minor": 0
}
