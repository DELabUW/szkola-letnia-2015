{
 "cells": [
  {
   "cell_type": "markdown",
   "metadata": {},
   "source": [
    "# Regresja liniowa\n",
    "\n",
    "[Piotr Migdał](http://migdal.wikidot.com/) i Łukasz Jonak, 2015, [DELab UW](http://www.delab.uw.edu.pl/)"
   ]
  },
  {
   "cell_type": "code",
   "execution_count": 32,
   "metadata": {
    "collapsed": true
   },
   "outputs": [],
   "source": [
    "%matplotlib inline\n",
    "import pandas as pd\n",
    "import numpy as np\n",
    "import seaborn as sns\n",
    "import matplotlib.pyplot as plt"
   ]
  },
  {
   "cell_type": "code",
   "execution_count": 33,
   "metadata": {
    "collapsed": true
   },
   "outputs": [],
   "source": [
    "df = pd.read_csv(\"../dane/SkillCraft1_Dataset.csv\", na_values=[\"?\"])"
   ]
  },
  {
   "cell_type": "code",
   "execution_count": 34,
   "metadata": {
    "collapsed": true
   },
   "outputs": [],
   "source": [
    "# przetwarzamy zgodnie z poprzednim plikiem (dzien4_czesc2_eksploracja_i_wykresy.ipynb)\n",
    "df = df[df.LeagueIndex < 8]\n",
    "df = df.loc[:,\"LeagueIndex\":\"APM\"]\n",
    "df[df.TotalHours < 100000]\n",
    "df_przeskalowane = df.query(\"HoursPerWeek > 0\")[[\"LeagueIndex\"]].copy()\n",
    "for col in df.columns[1:]:\n",
    "    df_przeskalowane[col + \"_log10\"] = np.log10(df[col])\n",
    "df_przeskalowane = df_przeskalowane.dropna()"
   ]
  },
  {
   "cell_type": "markdown",
   "metadata": {},
   "source": [
    "Jest kilka bibiliotek wspierających [regresję liniową](https://en.wikipedia.org/wiki/Linear_regression). Zacznijmy od prostszego podejścia korzystającego z pakietu [StatsModels](http://statsmodels.sourceforge.net/) zawierającego popularne metody statystyczne."
   ]
  },
  {
   "cell_type": "code",
   "execution_count": 35,
   "metadata": {
    "collapsed": true
   },
   "outputs": [],
   "source": [
    "import statsmodels.formula.api as smf"
   ]
  },
  {
   "cell_type": "code",
   "execution_count": 36,
   "metadata": {
    "collapsed": false
   },
   "outputs": [
    {
     "data": {
      "text/html": [
       "<table class=\"simpletable\">\n",
       "<caption>OLS Regression Results</caption>\n",
       "<tr>\n",
       "  <th>Dep. Variable:</th>       <td>LeagueIndex</td>   <th>  R-squared:         </th> <td>   0.504</td>\n",
       "</tr>\n",
       "<tr>\n",
       "  <th>Model:</th>                   <td>OLS</td>       <th>  Adj. R-squared:    </th> <td>   0.504</td>\n",
       "</tr>\n",
       "<tr>\n",
       "  <th>Method:</th>             <td>Least Squares</td>  <th>  F-statistic:       </th> <td>   847.0</td>\n",
       "</tr>\n",
       "<tr>\n",
       "  <th>Date:</th>             <td>Thu, 16 Jul 2015</td> <th>  Prob (F-statistic):</th>  <td>  0.00</td> \n",
       "</tr>\n",
       "<tr>\n",
       "  <th>Time:</th>                 <td>20:54:35</td>     <th>  Log-Likelihood:    </th> <td> -4799.4</td>\n",
       "</tr>\n",
       "<tr>\n",
       "  <th>No. Observations:</th>      <td>  3337</td>      <th>  AIC:               </th> <td>   9609.</td>\n",
       "</tr>\n",
       "<tr>\n",
       "  <th>Df Residuals:</th>          <td>  3332</td>      <th>  BIC:               </th> <td>   9639.</td>\n",
       "</tr>\n",
       "<tr>\n",
       "  <th>Df Model:</th>              <td>     4</td>      <th>                     </th>     <td> </td>   \n",
       "</tr>\n",
       "<tr>\n",
       "  <th>Covariance Type:</th>      <td>nonrobust</td>    <th>                     </th>     <td> </td>   \n",
       "</tr>\n",
       "</table>\n",
       "<table class=\"simpletable\">\n",
       "<tr>\n",
       "           <td></td>             <th>coef</th>     <th>std err</th>      <th>t</th>      <th>P>|t|</th> <th>[95.0% Conf. Int.]</th> \n",
       "</tr>\n",
       "<tr>\n",
       "  <th>Intercept</th>          <td>   -7.6618</td> <td>    0.404</td> <td>  -18.983</td> <td> 0.000</td> <td>   -8.453    -6.870</td>\n",
       "</tr>\n",
       "<tr>\n",
       "  <th>Age_log10</th>          <td>    0.2743</td> <td>    0.233</td> <td>    1.177</td> <td> 0.239</td> <td>   -0.183     0.731</td>\n",
       "</tr>\n",
       "<tr>\n",
       "  <th>HoursPerWeek_log10</th> <td>   -0.1755</td> <td>    0.063</td> <td>   -2.766</td> <td> 0.006</td> <td>   -0.300    -0.051</td>\n",
       "</tr>\n",
       "<tr>\n",
       "  <th>TotalHours_log10</th>   <td>    1.0009</td> <td>    0.052</td> <td>   19.320</td> <td> 0.000</td> <td>    0.899     1.102</td>\n",
       "</tr>\n",
       "<tr>\n",
       "  <th>APM_log10</th>          <td>    4.4257</td> <td>    0.108</td> <td>   40.810</td> <td> 0.000</td> <td>    4.213     4.638</td>\n",
       "</tr>\n",
       "</table>\n",
       "<table class=\"simpletable\">\n",
       "<tr>\n",
       "  <th>Omnibus:</th>       <td>40.614</td> <th>  Durbin-Watson:     </th> <td>   2.036</td>\n",
       "</tr>\n",
       "<tr>\n",
       "  <th>Prob(Omnibus):</th> <td> 0.000</td> <th>  Jarque-Bera (JB):  </th> <td>  41.815</td>\n",
       "</tr>\n",
       "<tr>\n",
       "  <th>Skew:</th>          <td>-0.270</td> <th>  Prob(JB):          </th> <td>8.32e-10</td>\n",
       "</tr>\n",
       "<tr>\n",
       "  <th>Kurtosis:</th>      <td> 2.900</td> <th>  Cond. No.          </th> <td>    101.</td>\n",
       "</tr>\n",
       "</table>"
      ],
      "text/plain": [
       "<class 'statsmodels.iolib.summary.Summary'>\n",
       "\"\"\"\n",
       "                            OLS Regression Results                            \n",
       "==============================================================================\n",
       "Dep. Variable:            LeagueIndex   R-squared:                       0.504\n",
       "Model:                            OLS   Adj. R-squared:                  0.504\n",
       "Method:                 Least Squares   F-statistic:                     847.0\n",
       "Date:                Thu, 16 Jul 2015   Prob (F-statistic):               0.00\n",
       "Time:                        20:54:35   Log-Likelihood:                -4799.4\n",
       "No. Observations:                3337   AIC:                             9609.\n",
       "Df Residuals:                    3332   BIC:                             9639.\n",
       "Df Model:                           4                                         \n",
       "Covariance Type:            nonrobust                                         \n",
       "======================================================================================\n",
       "                         coef    std err          t      P>|t|      [95.0% Conf. Int.]\n",
       "--------------------------------------------------------------------------------------\n",
       "Intercept             -7.6618      0.404    -18.983      0.000        -8.453    -6.870\n",
       "Age_log10              0.2743      0.233      1.177      0.239        -0.183     0.731\n",
       "HoursPerWeek_log10    -0.1755      0.063     -2.766      0.006        -0.300    -0.051\n",
       "TotalHours_log10       1.0009      0.052     19.320      0.000         0.899     1.102\n",
       "APM_log10              4.4257      0.108     40.810      0.000         4.213     4.638\n",
       "==============================================================================\n",
       "Omnibus:                       40.614   Durbin-Watson:                   2.036\n",
       "Prob(Omnibus):                  0.000   Jarque-Bera (JB):               41.815\n",
       "Skew:                          -0.270   Prob(JB):                     8.32e-10\n",
       "Kurtosis:                       2.900   Cond. No.                         101.\n",
       "==============================================================================\n",
       "\n",
       "Warnings:\n",
       "[1] Standard Errors assume that the covariance matrix of the errors is correctly specified.\n",
       "\"\"\""
      ]
     },
     "execution_count": 36,
     "metadata": {},
     "output_type": "execute_result"
    }
   ],
   "source": [
    "# formuła z wyliczeniem zmiennych\n",
    "formula = 'LeagueIndex ~ Age_log10 + HoursPerWeek_log10 + TotalHours_log10 + APM_log10'\n",
    "result = smf.ols(formula, data=df_przeskalowane).fit()\n",
    "result.summary()"
   ]
  },
  {
   "cell_type": "code",
   "execution_count": 37,
   "metadata": {
    "collapsed": false
   },
   "outputs": [
    {
     "data": {
      "text/plain": [
       "'Age_log10 + HoursPerWeek_log10 + TotalHours_log10 + APM_log10'"
      ]
     },
     "execution_count": 37,
     "metadata": {},
     "output_type": "execute_result"
    }
   ],
   "source": [
    "# Gdy wzór jest długi i nie chczemy go przepisywać, możemy prawą stronę zapisać następująco:\n",
    "\" + \".join(df_z.columns[1:])"
   ]
  },
  {
   "cell_type": "markdown",
   "metadata": {},
   "source": [
    "Jeśli zaś zależy nam na ważność parametrów, możemy dane przeskalować."
   ]
  },
  {
   "cell_type": "code",
   "execution_count": 38,
   "metadata": {
    "collapsed": true
   },
   "outputs": [],
   "source": [
    "df_z = (df_przeskalowane - df_przeskalowane.mean())/df_przeskalowane.std()"
   ]
  },
  {
   "cell_type": "code",
   "execution_count": 39,
   "metadata": {
    "collapsed": false
   },
   "outputs": [
    {
     "data": {
      "text/plain": [
       "<matplotlib.axes._subplots.AxesSubplot at 0x11459a780>"
      ]
     },
     "execution_count": 39,
     "metadata": {},
     "output_type": "execute_result"
    },
    {
     "data": {
      "image/png": "[encoded data removed]",
      "text/plain": [
       "<matplotlib.figure.Figure at 0x114595f98>"
      ]
     },
     "metadata": {},
     "output_type": "display_data"
    }
   ],
   "source": [
    "result = smf.ols(formula, data=df_z).fit()\n",
    "result.params.plot(kind='barh')"
   ]
  },
  {
   "cell_type": "markdown",
   "metadata": {},
   "source": [
    "Jeśli zaś czujemy się na siłach, możemy skorzystać z ogólniejszego pakiety - [scikit-learn](http://scikit-learn.org/). O ile w przypadku regresji liniowej to jest trudniejsze podejście, to w ten sam sposób można korzystać z wielu różnych metod statystycznych i uczenia maszynowego."
   ]
  },
  {
   "cell_type": "code",
   "execution_count": 40,
   "metadata": {
    "collapsed": true
   },
   "outputs": [],
   "source": [
    "from sklearn import linear_model"
   ]
  },
  {
   "cell_type": "code",
   "execution_count": 41,
   "metadata": {
    "collapsed": true
   },
   "outputs": [],
   "source": [
    "# zamieniamy 'wejscie' ma array X, a 'wyjscie' na array Y \n",
    "Y = df_z[\"LeagueIndex\"].values\n",
    "X = df_z.drop(\"LeagueIndex\", axis=1).values"
   ]
  },
  {
   "cell_type": "code",
   "execution_count": 42,
   "metadata": {
    "collapsed": false
   },
   "outputs": [
    {
     "data": {
      "text/plain": [
       "array([ 0.60760987,  0.60760987, -0.08298759, ..., -0.08298759,\n",
       "       -0.77358505, -0.08298759])"
      ]
     },
     "execution_count": 42,
     "metadata": {},
     "output_type": "execute_result"
    }
   ],
   "source": [
    "Y"
   ]
  },
  {
   "cell_type": "code",
   "execution_count": 43,
   "metadata": {
    "collapsed": false
   },
   "outputs": [
    {
     "data": {
      "text/plain": [
       "(3337,)"
      ]
     },
     "execution_count": 43,
     "metadata": {},
     "output_type": "execute_result"
    }
   ],
   "source": [
    "Y.shape"
   ]
  },
  {
   "cell_type": "code",
   "execution_count": 44,
   "metadata": {
    "collapsed": false
   },
   "outputs": [
    {
     "data": {
      "text/plain": [
       "array([[ 1.30107297, -0.30753131,  2.02225073,  0.73886103],\n",
       "       [ 0.42471823, -0.30753131,  2.57261862,  0.48849084],\n",
       "       [ 1.87692217, -0.30753131, -0.89542568, -0.95768198],\n",
       "       ..., \n",
       "       [-0.07248915, -0.61805155, -1.64222837,  0.34695749],\n",
       "       [-0.3391524 ,  1.12525784, -0.14862299,  0.57887136],\n",
       "       [ 0.18176657, -1.01838176, -0.14862299, -0.39510847]])"
      ]
     },
     "execution_count": 44,
     "metadata": {},
     "output_type": "execute_result"
    }
   ],
   "source": [
    "X"
   ]
  },
  {
   "cell_type": "code",
   "execution_count": 45,
   "metadata": {
    "collapsed": false
   },
   "outputs": [
    {
     "data": {
      "text/plain": [
       "(3337, 4)"
      ]
     },
     "execution_count": 45,
     "metadata": {},
     "output_type": "execute_result"
    }
   ],
   "source": [
    "X.shape"
   ]
  },
  {
   "cell_type": "code",
   "execution_count": 46,
   "metadata": {
    "collapsed": false
   },
   "outputs": [
    {
     "data": {
      "text/plain": [
       "LinearRegression(copy_X=True, fit_intercept=True, normalize=False)"
      ]
     },
     "execution_count": 46,
     "metadata": {},
     "output_type": "execute_result"
    }
   ],
   "source": [
    "reg = linear_model.LinearRegression()  # tworzymy pusty model\n",
    "reg.fit(X, Y)  # dopasowujemy model do danych (obiekt 'reg' przechowuje parametry)"
   ]
  },
  {
   "cell_type": "code",
   "execution_count": 47,
   "metadata": {
    "collapsed": false
   },
   "outputs": [
    {
     "data": {
      "text/plain": [
       "array([ 0.01505044, -0.0378322 ,  0.2786152 ,  0.56325188])"
      ]
     },
     "execution_count": 47,
     "metadata": {},
     "output_type": "execute_result"
    }
   ],
   "source": [
    "# współczynnik regresji\n",
    "reg.coef_"
   ]
  },
  {
   "cell_type": "code",
   "execution_count": 48,
   "metadata": {
    "collapsed": false
   },
   "outputs": [
    {
     "data": {
      "text/plain": [
       "Age_log10             0.015050\n",
       "HoursPerWeek_log10   -0.037832\n",
       "TotalHours_log10      0.278615\n",
       "APM_log10             0.563252\n",
       "dtype: float64"
      ]
     },
     "execution_count": 48,
     "metadata": {},
     "output_type": "execute_result"
    }
   ],
   "source": [
    "wspolczynniki = pd.Series(reg.coef_, index=df_z.columns[1:])\n",
    "wspolczynniki"
   ]
  },
  {
   "cell_type": "code",
   "execution_count": 49,
   "metadata": {
    "collapsed": false
   },
   "outputs": [
    {
     "data": {
      "text/plain": [
       "<matplotlib.axes._subplots.AxesSubplot at 0x1145abe10>"
      ]
     },
     "execution_count": 49,
     "metadata": {},
     "output_type": "execute_result"
    },
    {
     "data": {
      "image/png": "[encoded data removed]",
      "text/plain": [
       "<matplotlib.figure.Figure at 0x114b89550>"
      ]
     },
     "metadata": {},
     "output_type": "display_data"
    }
   ],
   "source": [
    "wspolczynniki.plot(kind='barh')"
   ]
  },
  {
   "cell_type": "code",
   "execution_count": 55,
   "metadata": {
    "collapsed": false
   },
   "outputs": [
    {
     "data": {
      "text/plain": [
       "array([ 0.01505044])"
      ]
     },
     "execution_count": 55,
     "metadata": {},
     "output_type": "execute_result"
    }
   ],
   "source": [
    "# mozna tez przewidywać\n",
    "reg.predict([[1,0,0,0]])"
   ]
  },
  {
   "cell_type": "code",
   "execution_count": 57,
   "metadata": {
    "collapsed": false
   },
   "outputs": [
    {
     "data": {
      "text/plain": [
       "<seaborn.axisgrid.JointGrid at 0x114ff3dd8>"
      ]
     },
     "execution_count": 57,
     "metadata": {},
     "output_type": "execute_result"
    },
    {
     "data": {
      "image/png": "[encoded data removed]",
      "text/plain": [
       "<matplotlib.figure.Figure at 0x114cdee48>"
      ]
     },
     "metadata": {},
     "output_type": "display_data"
    }
   ],
   "source": [
    "# a jak zobaczyc na ile dobrze potrafimy przewidziec wyniki?\n",
    "\n",
    "# tworzymy dataframe z prawdziwymi obserwacjami i predykcją\n",
    "predykcja = pd.DataFrame({'obs': Y, 'pred': reg.predict(X)})\n",
    "\n",
    "# skalujemy wyniki\n",
    "predykcja = (predykcja * df_przeskalowane['LeagueIndex'].std()) + df_przeskalowane['LeagueIndex'].mean()\n",
    "\n",
    "sns.jointplot(x=\"obs\", y=\"pred\", data=predykcja, kind='kde')"
   ]
  },
  {
   "cell_type": "markdown",
   "metadata": {},
   "source": [
    "## Zobacz też\n",
    "\n",
    "* [Statistical functions (scipy.stats)¶](http://docs.scipy.org/doc/scipy/reference/stats.html)\n",
    "* [Probabilistic Programming and Bayesian Methods for Hackers](http://nbviewer.ipython.org/github/CamDavidsonPilon/Probabilistic-Programming-and-Bayesian-Methods-for-Hackers/blob/master/Chapter1_Introduction/Chapter1.ipynb)"
   ]
  },
  {
   "cell_type": "code",
   "execution_count": null,
   "metadata": {
    "collapsed": true
   },
   "outputs": [],
   "source": []
  }
 ],
 "metadata": {
  "kernelspec": {
   "display_name": "Python 3",
   "language": "python",
   "name": "python3"
  },
  "language_info": {
   "codemirror_mode": {
    "name": "ipython",
    "version": 3
   },
   "file_extension": ".py",
   "mimetype": "text/x-python",
   "name": "python",
   "nbconvert_exporter": "python",
   "pygments_lexer": "ipython3",
   "version": "3.4.3"
  }
 },
 "nbformat": 4,
 "nbformat_minor": 0
}
