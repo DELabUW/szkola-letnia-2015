{
 "cells": [
  {
   "cell_type": "markdown",
   "metadata": {},
   "source": [
    "# Python jako język programistyczny\n",
    "\n",
    "[tutaj motywujący przykład wykorzystania technik programistycznych w prostej analizie danych]"
   ]
  },
  {
   "cell_type": "markdown",
   "metadata": {},
   "source": [
    "## Gotuj z Pythonem\n",
    "\n",
    "Python należy do tak zwanych imperatywnych języków programowania. Oznacza to, że programy w nim pisane składają się\n",
    "z ciągu instrukcji, które komputer wykonuje krok po kroku. Dobrym skojarzeniem może być porównanie programu\n",
    "komputerowego do przepisu kulinarnego. Przyjrzyjmy się instrukcjom przygotowania holenderskiego wypieku:   "
   ]
  },
  {
   "cell_type": "markdown",
   "metadata": {},
   "source": [
    "### Appelflap\n",
    "\n",
    "<img src=\"Appelflap.jpg\" width=\"300px\" />\n",
    "\n",
    "** Składniki **\n",
    "\n",
    "* jabłka\n",
    "* cukier\n",
    "* sproszkowany cynamon\n",
    "* esencja rumowa\n",
    "* rodzynki\n",
    "* sos z cytryny\n",
    "* ciasto francuskie (własnej produkcji lub gotowe i rozmrożone)\n",
    "* mąka\n",
    "* jajko\n",
    "\n",
    "** Przygotowanie **\n",
    "\n",
    "1. Jabłka obrać się ze skórki, pokroić na ćwiartki, usunąć gniazda nasienne, po czym pokroić na drobne kawałki.\n",
    "2. Do pokrojonych jabłek dodać cukier, uprzednio namoczone rodzynki oraz sproszkowany cynamon i esencję rumową do smaku, ewentualnie doprawić sokiem z cytryny i dokładnie zamieszać łyżką drewnianą w misce.\n",
    "3. Z ciasta francuskiego, przygotowanego na bazie masła i rozwałkowanego na stolnicy uprzednio posypanej mąką, wyciąć kwadraty o boku 12–15 cm i na każdy nałożyć dużą porcję nadzienia, po czym złożyć zwilżone brzegi na kształt trójkąta i zlepić.\n",
    "4. Ciastka posmarować po wierzchu roztrzepanym jajkiem i posypać cukrem kryształem.\n",
    "5. Piec w uprzednio nagrzanym do 200 °C piekarniku przez około 25 minut. Po upieczeniu ciastka mają złocisto-brązowy kolor i są chrupiące.\n",
    "\n",
    "Źródło: http://pl.wikibooks.org/wiki/Książka_kucharska/Appelflap"
   ]
  },
  {
   "cell_type": "markdown",
   "metadata": {},
   "source": [
    "Przepis składa się z listy składników i ciągu instrukcji. W Pythonie rolę składników pełnią zmienne:"
   ]
  },
  {
   "cell_type": "code",
   "execution_count": 4,
   "metadata": {
    "collapsed": false
   },
   "outputs": [
    {
     "name": "stdout",
     "output_type": "stream",
     "text": [
      "2\n",
      "3.4\n",
      "2\n",
      "\n",
      "4\n",
      "2\n"
     ]
    }
   ],
   "source": [
    "x = 2\n",
    "y = 3.4\n",
    "z = x\n",
    "\n",
    "print(x)\n",
    "print(y)\n",
    "print(z)\n",
    "# z jest równe x\n",
    "\n",
    "print(\"\")\n",
    "\n",
    "x = 4\n",
    "print(x)\n",
    "print(z)\n",
    "# z nie jest równe x"
   ]
  },
  {
   "cell_type": "markdown",
   "metadata": {},
   "source": [
    "Rozważmy przepis na pole prostokąta:"
   ]
  },
  {
   "cell_type": "code",
   "execution_count": 16,
   "metadata": {
    "collapsed": false
   },
   "outputs": [
    {
     "data": {
      "text/plain": [
       "12.5"
      ]
     },
     "execution_count": 16,
     "metadata": {},
     "output_type": "execute_result"
    }
   ],
   "source": [
    "dlugosc_boku_a = 2.5\n",
    "dlugosc_boku_b = 5\n",
    "pole_prostokata = dlugosc_boku_a * dlugosc_boku_b\n",
    "pole_prostokata"
   ]
  },
  {
   "cell_type": "markdown",
   "metadata": {},
   "source": [
    "## Funkcje\n",
    "\n",
    "Czasem pewnie ciągi instrukcji pojawiają się w wielu przepisach. W takiej sytuacji wygodnie jest umieścić je w książce kucharskiej jako osobny przepis, a w pozostałych miejscach umieścić odsyłacze. Przykładowo, możemy napotkać takie odnośniki:\n",
    "\n",
    "    (...) Przygotować ciasto naleśnikowe według przepisu (s. 123), dodając dwie łyżki cukru.\n",
    "    (...) Przygotować ciasto naleśnikowe według przepisu (s. 123), zamiast wody używając piwa.\n",
    "\n",
    "Oznacza to wykonanie stosownych instrukcji z uwzględnieniem dodatkowych parametrów. W Pythonie rolę takich odnośników pełnią fukcje."
   ]
  },
  {
   "cell_type": "code",
   "execution_count": 12,
   "metadata": {
    "collapsed": false
   },
   "outputs": [
    {
     "name": "stdout",
     "output_type": "stream",
     "text": [
      "   *   \n",
      "  ***  \n",
      "*******\n",
      "  ***  \n",
      "   *  \n"
     ]
    }
   ],
   "source": [
    "def gwiazda():\n",
    "    print(\"   *   \")\n",
    "    print(\"  ***  \")\n",
    "    print(\"*******\")\n",
    "    print(\"  ***  \")\n",
    "    print(\"   *  \")\n",
    "    \n",
    "gwiazda()"
   ]
  },
  {
   "cell_type": "markdown",
   "metadata": {},
   "source": [
    "Funkcja może zwracać wartość dzięki instrukcji *return*:"
   ]
  },
  {
   "cell_type": "code",
   "execution_count": 18,
   "metadata": {
    "collapsed": false
   },
   "outputs": [],
   "source": [
    "def pole_prostokata(a, b):\n",
    "    return a*b"
   ]
  },
  {
   "cell_type": "markdown",
   "metadata": {},
   "source": [
    "Nazwa funkcji to zwykła zmienna, przechowująca specjalną wartość:"
   ]
  },
  {
   "cell_type": "code",
   "execution_count": 19,
   "metadata": {
    "collapsed": false
   },
   "outputs": [
    {
     "data": {
      "text/plain": [
       "<function __main__.pole_prostokata>"
      ]
     },
     "execution_count": 19,
     "metadata": {},
     "output_type": "execute_result"
    }
   ],
   "source": [
    "pole_prostokata"
   ]
  },
  {
   "cell_type": "markdown",
   "metadata": {},
   "source": [
    "Funkcję wywołujemy poprzez dodanie nawiasów i parametrów:"
   ]
  },
  {
   "cell_type": "code",
   "execution_count": 15,
   "metadata": {
    "collapsed": false
   },
   "outputs": [
    {
     "data": {
      "text/plain": [
       "12.5"
      ]
     },
     "execution_count": 15,
     "metadata": {},
     "output_type": "execute_result"
    }
   ],
   "source": [
    "pole_prostokata(2.5, 5)"
   ]
  },
  {
   "cell_type": "markdown",
   "metadata": {},
   "source": [
    "### Ćwiczenie\n",
    "\n",
    "Przypisz nową wartość do zmiennej *pole_prostokata* i spróbuj wywołać funkcję jak wyżej."
   ]
  },
  {
   "cell_type": "markdown",
   "metadata": {},
   "source": [
    "### Ćwiczenie\n",
    "\n",
    "Przeanalizuj poniższy fragment kodu. Spróbuj przepisać go wprowadzając własne funkcje i zmienne tak, aby maksymalnie skrócić zapis.\n",
    "\n",
    "Uwaga 1: operator \"+\" zastosowany do napisów pozwala sklejać ze sobą ciągi znaków. \"Ala ma\" + \" kota\" = \"Ala ma kota\""
   ]
  },
  {
   "cell_type": "code",
   "execution_count": 1,
   "metadata": {
    "collapsed": false
   },
   "outputs": [
    {
     "name": "stdout",
     "output_type": "stream",
     "text": [
      "Odległość od miasta A do miasta B:\n",
      "4.242640687119285\n",
      "Odległość od miasta A do miasta C:\n",
      "7.0710678118654755\n",
      "Odległość od miasta B do miasta C:\n",
      "4.47213595499958\n",
      "Odległość od miasta A do miasta B przez miasto C:\n",
      "11.543203766865055\n",
      "Odległość od miasta A do miasta C przez miasto B:\n",
      "8.714776642118863\n"
     ]
    }
   ],
   "source": [
    "from math import sqrt\n",
    "\n",
    "# Miasto A\n",
    "a1 = 2\n",
    "a2 = 4\n",
    "\n",
    "# Miasto B\n",
    "b1 = 5\n",
    "b2 = 1\n",
    "\n",
    "# Miasto C\n",
    "c1 = 9\n",
    "c2 = 3\n",
    "\n",
    "print(\"Odległość od miasta \" + \"A\" + \" do miasta \" + \"B\" + \":\")\n",
    "print( sqrt((b1-a1)**2 + (b2-a2)**2) )\n",
    "\n",
    "print(\"Odległość od miasta \" + \"A\" + \" do miasta \" + \"C\" + \":\")\n",
    "print( sqrt((c1-a1)**2 + (c2-a2)**2) )\n",
    "\n",
    "print(\"Odległość od miasta \" + \"B\" + \" do miasta \" + \"C\" + \":\")\n",
    "print( sqrt((b1-c1)**2 + (b2-c2)**2) )\n",
    "\n",
    "print(\"Odległość od miasta \" + \"A\" + \" do miasta \" + \"B\" + \" przez miasto \" + \"C\" +\":\")\n",
    "print( sqrt((c1-a1)**2 + (c2-a2)**2) + sqrt((b1-c1)**2 + (b2-c2)**2) )\n",
    "\n",
    "print(\"Odległość od miasta \" + \"A\" + \" do miasta \" + \"C\" + \" przez miasto \" + \"B\" +\":\")\n",
    "print( sqrt((b1-a1)**2 + (b2-a2)**2) + sqrt((b1-c1)**2 + (b2-c2)**2) )"
   ]
  },
  {
   "cell_type": "code",
   "execution_count": null,
   "metadata": {
    "collapsed": true
   },
   "outputs": [],
   "source": []
  },
  {
   "cell_type": "markdown",
   "metadata": {},
   "source": [
    "## Typy danych\n",
    "\n",
    "Dane w skrypcie pythonowym pełnią analogiczną rolę do składników w przepisie kulinarnym. Używamy składników różnych rodzajów, np:\n",
    "\n",
    "* mięsa\n",
    "* warzywa\n",
    "* kasze\n",
    "* makarony\n",
    "* przyprawy\n",
    "* ...\n",
    "\n",
    "W odniesieniu do konkretnych składników niektóre instrukcje mają sens, a inne nie.\n",
    "\n",
    "    Pokroić w paski: mięso, marchewkę, ryż (?)\n",
    "    Dosypać szczyptę: pieprzu, ziemniaków (?)\n",
    "    Rozbić skorupkę: jajka, filetu z indyka (?)\n",
    "    \n",
    "Podobnie jest danymi w programie komputerowym. Będziemy mówić o typach danych."
   ]
  },
  {
   "cell_type": "markdown",
   "metadata": {},
   "source": [
    "### Liczby"
   ]
  },
  {
   "cell_type": "code",
   "execution_count": 2,
   "metadata": {
    "collapsed": false
   },
   "outputs": [
    {
     "data": {
      "text/plain": [
       "5"
      ]
     },
     "execution_count": 2,
     "metadata": {},
     "output_type": "execute_result"
    }
   ],
   "source": [
    "2 + 3"
   ]
  },
  {
   "cell_type": "code",
   "execution_count": 3,
   "metadata": {
    "collapsed": false
   },
   "outputs": [
    {
     "data": {
      "text/plain": [
       "5.5"
      ]
     },
     "execution_count": 3,
     "metadata": {},
     "output_type": "execute_result"
    }
   ],
   "source": [
    "2.5 + 3"
   ]
  },
  {
   "cell_type": "code",
   "execution_count": 4,
   "metadata": {
    "collapsed": false
   },
   "outputs": [
    {
     "data": {
      "text/plain": [
       "0.6666666666666666"
      ]
     },
     "execution_count": 4,
     "metadata": {},
     "output_type": "execute_result"
    }
   ],
   "source": [
    "2 / 3"
   ]
  },
  {
   "cell_type": "code",
   "execution_count": 5,
   "metadata": {
    "collapsed": false
   },
   "outputs": [
    {
     "data": {
      "text/plain": [
       "8"
      ]
     },
     "execution_count": 5,
     "metadata": {},
     "output_type": "execute_result"
    }
   ],
   "source": [
    "2 ** 3"
   ]
  },
  {
   "cell_type": "markdown",
   "metadata": {},
   "source": [
    "### Ciągi znaków"
   ]
  },
  {
   "cell_type": "code",
   "execution_count": 6,
   "metadata": {
    "collapsed": false
   },
   "outputs": [
    {
     "data": {
      "text/plain": [
       "'Ala ma kota'"
      ]
     },
     "execution_count": 6,
     "metadata": {},
     "output_type": "execute_result"
    }
   ],
   "source": [
    "\"Ala ma \" + \"kota\""
   ]
  },
  {
   "cell_type": "code",
   "execution_count": 7,
   "metadata": {
    "collapsed": false
   },
   "outputs": [
    {
     "data": {
      "text/plain": [
       "4"
      ]
     },
     "execution_count": 7,
     "metadata": {},
     "output_type": "execute_result"
    }
   ],
   "source": [
    "len(\"abcd\")"
   ]
  },
  {
   "cell_type": "code",
   "execution_count": 8,
   "metadata": {
    "collapsed": false
   },
   "outputs": [
    {
     "data": {
      "text/plain": [
       "'a'"
      ]
     },
     "execution_count": 8,
     "metadata": {},
     "output_type": "execute_result"
    }
   ],
   "source": [
    "\"abcd\"[0]"
   ]
  },
  {
   "cell_type": "code",
   "execution_count": 9,
   "metadata": {
    "collapsed": false
   },
   "outputs": [
    {
     "data": {
      "text/plain": [
       "'c'"
      ]
     },
     "execution_count": 9,
     "metadata": {},
     "output_type": "execute_result"
    }
   ],
   "source": [
    "\"abcd\"[2]"
   ]
  },
  {
   "cell_type": "code",
   "execution_count": 10,
   "metadata": {
    "collapsed": false
   },
   "outputs": [
    {
     "ename": "IndexError",
     "evalue": "string index out of range",
     "output_type": "error",
     "traceback": [
      "\u001b[1;31m---------------------------------------------------------------------------\u001b[0m",
      "\u001b[1;31mIndexError\u001b[0m                                Traceback (most recent call last)",
      "\u001b[1;32m<ipython-input-10-19a7e07299ed>\u001b[0m in \u001b[0;36m<module>\u001b[1;34m()\u001b[0m\n\u001b[1;32m----> 1\u001b[1;33m \u001b[1;34m\"abcd\"\u001b[0m\u001b[1;33m[\u001b[0m\u001b[1;36m4\u001b[0m\u001b[1;33m]\u001b[0m\u001b[1;33m\u001b[0m\u001b[0m\n\u001b[0m",
      "\u001b[1;31mIndexError\u001b[0m: string index out of range"
     ]
    }
   ],
   "source": [
    "\"abcd\"[4]"
   ]
  },
  {
   "cell_type": "code",
   "execution_count": 11,
   "metadata": {
    "collapsed": false
   },
   "outputs": [
    {
     "data": {
      "text/plain": [
       "'Ala ma psa'"
      ]
     },
     "execution_count": 11,
     "metadata": {},
     "output_type": "execute_result"
    }
   ],
   "source": [
    "\"Ala ma kota\".replace(\"kota\", \"psa\")"
   ]
  },
  {
   "cell_type": "code",
   "execution_count": 4,
   "metadata": {
    "collapsed": false
   },
   "outputs": [
    {
     "data": {
      "text/plain": [
       "'to jest wielkie słowo'"
      ]
     },
     "execution_count": 4,
     "metadata": {},
     "output_type": "execute_result"
    }
   ],
   "source": [
    "\"to jest WIELKIE słowo\".lower()"
   ]
  },
  {
   "cell_type": "markdown",
   "metadata": {},
   "source": [
    "Zamiana liczby na tekst i odwrotnie:"
   ]
  },
  {
   "cell_type": "code",
   "execution_count": 34,
   "metadata": {
    "collapsed": false
   },
   "outputs": [
    {
     "data": {
      "text/plain": [
       "'2'"
      ]
     },
     "execution_count": 34,
     "metadata": {},
     "output_type": "execute_result"
    }
   ],
   "source": [
    "str(2)"
   ]
  },
  {
   "cell_type": "code",
   "execution_count": 37,
   "metadata": {
    "collapsed": false
   },
   "outputs": [
    {
     "data": {
      "text/plain": [
       "'2.5'"
      ]
     },
     "execution_count": 37,
     "metadata": {},
     "output_type": "execute_result"
    }
   ],
   "source": [
    "str(2.5)"
   ]
  },
  {
   "cell_type": "code",
   "execution_count": 38,
   "metadata": {
    "collapsed": false
   },
   "outputs": [
    {
     "data": {
      "text/plain": [
       "2"
      ]
     },
     "execution_count": 38,
     "metadata": {},
     "output_type": "execute_result"
    }
   ],
   "source": [
    "int(\"2\")"
   ]
  },
  {
   "cell_type": "code",
   "execution_count": 39,
   "metadata": {
    "collapsed": false
   },
   "outputs": [
    {
     "data": {
      "text/plain": [
       "2.5"
      ]
     },
     "execution_count": 39,
     "metadata": {},
     "output_type": "execute_result"
    }
   ],
   "source": [
    "float(\"2.5\")"
   ]
  },
  {
   "cell_type": "code",
   "execution_count": 40,
   "metadata": {
    "collapsed": false
   },
   "outputs": [
    {
     "ename": "ValueError",
     "evalue": "invalid literal for int() with base 10: '2.5'",
     "output_type": "error",
     "traceback": [
      "\u001b[1;31m---------------------------------------------------------------------------\u001b[0m",
      "\u001b[1;31mValueError\u001b[0m                                Traceback (most recent call last)",
      "\u001b[1;32m<ipython-input-40-b44af7edf778>\u001b[0m in \u001b[0;36m<module>\u001b[1;34m()\u001b[0m\n\u001b[1;32m----> 1\u001b[1;33m \u001b[0mint\u001b[0m\u001b[1;33m(\u001b[0m\u001b[1;34m\"2.5\"\u001b[0m\u001b[1;33m)\u001b[0m\u001b[1;33m\u001b[0m\u001b[0m\n\u001b[0m",
      "\u001b[1;31mValueError\u001b[0m: invalid literal for int() with base 10: '2.5'"
     ]
    }
   ],
   "source": [
    "int(\"2.5\")"
   ]
  },
  {
   "cell_type": "markdown",
   "metadata": {},
   "source": [
    "Większość z błędów napotykanych podczas wykonywania programów w Pythonie polega na próbie wykonania operacji niewłaściwej dla danego typu danych."
   ]
  },
  {
   "cell_type": "markdown",
   "metadata": {},
   "source": [
    "### Wartości logiczne"
   ]
  },
  {
   "cell_type": "code",
   "execution_count": 12,
   "metadata": {
    "collapsed": false
   },
   "outputs": [
    {
     "data": {
      "text/plain": [
       "True"
      ]
     },
     "execution_count": 12,
     "metadata": {},
     "output_type": "execute_result"
    }
   ],
   "source": [
    "True"
   ]
  },
  {
   "cell_type": "code",
   "execution_count": 13,
   "metadata": {
    "collapsed": false
   },
   "outputs": [
    {
     "data": {
      "text/plain": [
       "False"
      ]
     },
     "execution_count": 13,
     "metadata": {},
     "output_type": "execute_result"
    }
   ],
   "source": [
    "False"
   ]
  },
  {
   "cell_type": "code",
   "execution_count": 14,
   "metadata": {
    "collapsed": false
   },
   "outputs": [
    {
     "data": {
      "text/plain": [
       "True"
      ]
     },
     "execution_count": 14,
     "metadata": {},
     "output_type": "execute_result"
    }
   ],
   "source": [
    "1 == 1"
   ]
  },
  {
   "cell_type": "code",
   "execution_count": 16,
   "metadata": {
    "collapsed": false
   },
   "outputs": [
    {
     "data": {
      "text/plain": [
       "False"
      ]
     },
     "execution_count": 16,
     "metadata": {},
     "output_type": "execute_result"
    }
   ],
   "source": [
    "1 == 2"
   ]
  },
  {
   "cell_type": "code",
   "execution_count": 17,
   "metadata": {
    "collapsed": false
   },
   "outputs": [
    {
     "data": {
      "text/plain": [
       "True"
      ]
     },
     "execution_count": 17,
     "metadata": {},
     "output_type": "execute_result"
    }
   ],
   "source": [
    "False == False"
   ]
  },
  {
   "cell_type": "code",
   "execution_count": 21,
   "metadata": {
    "collapsed": false
   },
   "outputs": [
    {
     "data": {
      "text/plain": [
       "False"
      ]
     },
     "execution_count": 21,
     "metadata": {},
     "output_type": "execute_result"
    }
   ],
   "source": [
    "not True"
   ]
  },
  {
   "cell_type": "code",
   "execution_count": 22,
   "metadata": {
    "collapsed": false
   },
   "outputs": [
    {
     "data": {
      "text/plain": [
       "True"
      ]
     },
     "execution_count": 22,
     "metadata": {},
     "output_type": "execute_result"
    }
   ],
   "source": [
    "1 == 2 or True"
   ]
  },
  {
   "cell_type": "code",
   "execution_count": 23,
   "metadata": {
    "collapsed": false
   },
   "outputs": [
    {
     "data": {
      "text/plain": [
       "False"
      ]
     },
     "execution_count": 23,
     "metadata": {},
     "output_type": "execute_result"
    }
   ],
   "source": [
    "1 == 2 and True"
   ]
  },
  {
   "cell_type": "code",
   "execution_count": 24,
   "metadata": {
    "collapsed": false
   },
   "outputs": [
    {
     "data": {
      "text/plain": [
       "True"
      ]
     },
     "execution_count": 24,
     "metadata": {},
     "output_type": "execute_result"
    }
   ],
   "source": [
    "not 1 == 2 and True"
   ]
  },
  {
   "cell_type": "markdown",
   "metadata": {},
   "source": [
    "### Pusta wartość"
   ]
  },
  {
   "cell_type": "code",
   "execution_count": 26,
   "metadata": {
    "collapsed": true
   },
   "outputs": [],
   "source": [
    "None"
   ]
  },
  {
   "cell_type": "markdown",
   "metadata": {},
   "source": [
    "### Krotki\n",
    "\n",
    "Czasem wygodnie jest przechowywać kilka składników w jednym pojemniku. Przykładowo, w przepisie kulinarnym:\n",
    "\n",
    "    Do naczynia wrzucić pokrojone pomidory, podsmażoną cebulę i wyciśnięty czosnek. (...) Zawartość naczynia wymieszać z...\n",
    "    \n",
    "W Pythonie rolę pojemników przechowujących kilka wartości pełnią krotki."
   ]
  },
  {
   "cell_type": "code",
   "execution_count": 27,
   "metadata": {
    "collapsed": false
   },
   "outputs": [
    {
     "data": {
      "text/plain": [
       "(1, 'abc', True)"
      ]
     },
     "execution_count": 27,
     "metadata": {},
     "output_type": "execute_result"
    }
   ],
   "source": [
    "1, \"abc\", True"
   ]
  },
  {
   "cell_type": "code",
   "execution_count": 28,
   "metadata": {
    "collapsed": false
   },
   "outputs": [
    {
     "data": {
      "text/plain": [
       "'abc'"
      ]
     },
     "execution_count": 28,
     "metadata": {},
     "output_type": "execute_result"
    }
   ],
   "source": [
    "a = 1, \"abc\", True\n",
    "a[1]"
   ]
  },
  {
   "cell_type": "code",
   "execution_count": 29,
   "metadata": {
    "collapsed": false
   },
   "outputs": [
    {
     "data": {
      "text/plain": [
       "(1, 3, 9, 27)"
      ]
     },
     "execution_count": 29,
     "metadata": {},
     "output_type": "execute_result"
    }
   ],
   "source": [
    "def potegi(x):\n",
    "    return x**0, x**1, x**2, x**3\n",
    "\n",
    "potegi(3)"
   ]
  },
  {
   "cell_type": "code",
   "execution_count": 31,
   "metadata": {
    "collapsed": false
   },
   "outputs": [
    {
     "data": {
      "text/plain": [
       "(4, 5, 6)"
      ]
     },
     "execution_count": 31,
     "metadata": {},
     "output_type": "execute_result"
    }
   ],
   "source": [
    "a = 1, 2, 3, (4, 5, 6), 7\n",
    "a[3]"
   ]
  },
  {
   "cell_type": "code",
   "execution_count": 33,
   "metadata": {
    "collapsed": false
   },
   "outputs": [
    {
     "name": "stdout",
     "output_type": "stream",
     "text": [
      "Odległość od miasta A do miasta B: 4.242640687119285\n"
     ]
    }
   ],
   "source": [
    "from math import sqrt\n",
    "\n",
    "# Miasto A\n",
    "a = 2, 4\n",
    "\n",
    "# Miasto B\n",
    "b = 5, 1\n",
    "\n",
    "print(\"Odległość od miasta A do miasta B: \" + str(sqrt((b[0]-a[0])**2 + (b[1]-a[1])**2)) )"
   ]
  },
  {
   "cell_type": "markdown",
   "metadata": {},
   "source": [
    "### Rodzaje operacji na danych\n",
    "\n",
    "W powyższych przykładach wykonywaliśmy operacji na danych przy pomocy kilku różnych rodzajów składni.\n",
    "\n",
    "Operatory:"
   ]
  },
  {
   "cell_type": "code",
   "execution_count": 2,
   "metadata": {
    "collapsed": false
   },
   "outputs": [
    {
     "data": {
      "text/plain": [
       "'c'"
      ]
     },
     "execution_count": 2,
     "metadata": {},
     "output_type": "execute_result"
    }
   ],
   "source": [
    "1 + 2 - 3 * 4 / 5 ** 6 % 7\n",
    "True == (not False)\n",
    "1 < 2 <= 3\n",
    "\"abc\"[2]"
   ]
  },
  {
   "cell_type": "markdown",
   "metadata": {},
   "source": [
    "Funkcje:"
   ]
  },
  {
   "cell_type": "code",
   "execution_count": 3,
   "metadata": {
    "collapsed": false
   },
   "outputs": [
    {
     "data": {
      "text/plain": [
       "'2'"
      ]
     },
     "execution_count": 3,
     "metadata": {},
     "output_type": "execute_result"
    }
   ],
   "source": [
    "len(\"abd\")\n",
    "str(2)"
   ]
  },
  {
   "cell_type": "markdown",
   "metadata": {},
   "source": [
    "Metody:"
   ]
  },
  {
   "cell_type": "code",
   "execution_count": 5,
   "metadata": {
    "collapsed": false
   },
   "outputs": [
    {
     "data": {
      "text/plain": [
       "'ABCD'"
      ]
     },
     "execution_count": 5,
     "metadata": {},
     "output_type": "execute_result"
    }
   ],
   "source": [
    "\"abcd\".replace(\"a\", \"z\")\n",
    "\"AbCd\".lower()\n",
    "\"AbCd\".upper()"
   ]
  },
  {
   "cell_type": "markdown",
   "metadata": {},
   "source": [
    "## Instrukcje warunkowe\n",
    "\n",
    "Nie wszystkie instrukcje w przepisie kulinarnym wykonuje się za każdym razem tak samo; czasem przepis zawiera wskazówki postępowania w konkretnych sytuacjach, np:\n",
    "\n",
    "    Jeśli potrawka zrobiła się zbyt gęsta, dolej wody.\n",
    "    \n",
    "W Pythonie taką rolę pełnią instrukcje warunkowe."
   ]
  },
  {
   "cell_type": "code",
   "execution_count": 8,
   "metadata": {
    "collapsed": false
   },
   "outputs": [
    {
     "name": "stdout",
     "output_type": "stream",
     "text": [
      "2\n"
     ]
    }
   ],
   "source": [
    "a = 2\n",
    "if a > 0:\n",
    "    print(a)"
   ]
  },
  {
   "cell_type": "code",
   "execution_count": 9,
   "metadata": {
    "collapsed": false
   },
   "outputs": [
    {
     "name": "stdout",
     "output_type": "stream",
     "text": [
      "Słowo dłuższe niż 8 znaków.\n"
     ]
    }
   ],
   "source": [
    "t = \"defenestracja\"\n",
    "if len(t) > 8:\n",
    "    print(\"Słowo dłuższe niż 8 znaków.\")\n",
    "else:\n",
    "    print(\"Słowo krótsze niż 8 znaków.\")"
   ]
  },
  {
   "cell_type": "code",
   "execution_count": 14,
   "metadata": {
    "collapsed": false
   },
   "outputs": [
    {
     "name": "stdout",
     "output_type": "stream",
     "text": [
      "Kolejny tydzień pracy...\n",
      "Weekend!\n",
      "Weekend już niedługo.\n",
      "Weekend już niedługo.\n"
     ]
    }
   ],
   "source": [
    "def kiedy_weekend(dzien):\n",
    "    if dzien == \"sobota\" or dzien == \"niedziela\":\n",
    "        print(\"Weekend!\")\n",
    "    elif dzien == \"poniedziałek\":\n",
    "        print(\"Kolejny tydzień pracy...\")\n",
    "    elif dzien == \"wtorek\":\n",
    "        print(\"Uff, przynajmniej poniedziałek za nami.\")\n",
    "    elif dzien == \"środa\":\n",
    "        print(\"Już środek tygodnia...\")\n",
    "    else:\n",
    "        print(\"Weekend już niedługo.\")\n",
    "        \n",
    "kiedy_weekend(\"poniedziałek\")\n",
    "kiedy_weekend(\"sobota\")\n",
    "kiedy_weekend(\"piątek\")\n",
    "\n",
    "kiedy_weekend(\"szabat\")"
   ]
  },
  {
   "cell_type": "markdown",
   "metadata": {},
   "source": [
    "### Ćwiczenie\n",
    "\n",
    "Trener uniwersyteckiej drużyny koszykówki przeprowadza rekrutację nowych zawodników. Przeprowadza wstępną selekcję na podstawie danych z ankiety personalnej zawierającej następujące pola:\n",
    "* imię\n",
    "* wzrost\n",
    "* waga\n",
    "* kolor oczu\n",
    "\n",
    "Dane o zawodnikach znajdują się w pliku \"koszykarze.csv\" (wczytujemy go do pamięcy przy pomocy pandas.read_csv). Sprawdź, czy pierwszy z kandydatów spełnia podstawowe kryteria. Jeśli ma wzrost powyżej 180 cm i BMI pomiędzy 18 a 30, wypisz jego nazwisko. Dodatkowo, jeśli na niebieskie oczy, wypisz przy nazwisku wykrzyknik \"!\". Jeśli nie spełnia kryteriów wzrostu i BMI, wypisz pojedynczy symbol dywizu \"-\" (niezależnie od koloru oczu).\n",
    "\n",
    "$$BMI = \\frac{waga}{wzrost^2}$$"
   ]
  },
  {
   "cell_type": "code",
   "execution_count": 17,
   "metadata": {
    "collapsed": false
   },
   "outputs": [
    {
     "data": {
      "text/plain": [
       "'Jan Kowalski'"
      ]
     },
     "execution_count": 17,
     "metadata": {},
     "output_type": "execute_result"
    }
   ],
   "source": [
    "import pandas as pd\n",
    "\n",
    "data = pd.read_csv(\"koszykarze.csv\")\n",
    "data[\"imię\"][0]"
   ]
  },
  {
   "cell_type": "markdown",
   "metadata": {},
   "source": [
    "## Pętle"
   ]
  },
  {
   "cell_type": "code",
   "execution_count": null,
   "metadata": {
    "collapsed": true
   },
   "outputs": [],
   "source": []
  },
  {
   "cell_type": "markdown",
   "metadata": {},
   "source": [
    "## Kolekcje\n",
    "\n",
    "[listy, słowniki, obiekty]\n",
    "\n",
    "[obiekt jest kolekcją]"
   ]
  },
  {
   "cell_type": "code",
   "execution_count": null,
   "metadata": {
    "collapsed": true
   },
   "outputs": [],
   "source": []
  }
 ],
 "metadata": {
  "kernelspec": {
   "display_name": "Python 3",
   "language": "python",
   "name": "python3"
  },
  "language_info": {
   "codemirror_mode": {
    "name": "ipython",
    "version": 3
   },
   "file_extension": ".py",
   "mimetype": "text/x-python",
   "name": "python",
   "nbconvert_exporter": "python",
   "pygments_lexer": "ipython3",
   "version": "3.4.3"
  }
 },
 "nbformat": 4,
 "nbformat_minor": 0
}
