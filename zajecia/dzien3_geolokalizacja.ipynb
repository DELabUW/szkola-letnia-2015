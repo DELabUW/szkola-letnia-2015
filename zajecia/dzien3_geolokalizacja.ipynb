{
 "cells": [
  {
   "cell_type": "markdown",
   "metadata": {},
   "source": [
    "# Google API i geokodowania\n",
    "\n",
    "[Piotr Migdał](http://migdal.wikidot.com/), DELab UW"
   ]
  },
  {
   "cell_type": "markdown",
   "metadata": {},
   "source": [
    "Będziemy geokodować adresy przy pomocy  [The Google Geocoding API](https://developers.google.com/maps/documentation/geocoding/).\n",
    "\n",
    "### Słowniczek\n",
    "\n",
    "* [Geokodowanie](https://pl.wikipedia.org/wiki/Geokodowanie) - ustalanie współrzędnych geograficznych na podstawie innych danych geograficznych (np. kodu pocztowego, ulicy i miasta). \n",
    "* [API](https://pl.wikipedia.org/wiki/Application_Programming_Interface) (Application Programming Interface) - ogólne słowo sposób komunikacji z programem, zwłaszcza: zdalnym\n",
    "* [JSON](https://pl.wikipedia.org/wiki/JSON) (JavaScript Object Notation) - tekstowy sposób zapisywania danych, który pozwala zapisać różne dane, nie tylko tabele (jak CSV)\n",
    "* [XML](https://en.wikipedia.org/wiki/XML) (Extensible Markup Language) \n",
    "\n",
    "### Zapytania\n",
    "\n",
    "* https://maps.googleapis.com/maps/api/geocode/json?address=ul.+Dobra+56/66,+Warszawa\n",
    "    * dobra lokalizacja? sprawdzić możemy np. tak:\n",
    "    https://www.google.com/maps/@52.2423917,21.0244245,16z\n",
    "* https://maps.googleapis.com/maps/api/timezone/json?location=39.6034810,-119.6822510&timestamp=1331161200\n",
    "* https://maps.googleapis.com/maps/api/elevation/json?locations=39.7391536,-104.9847034\n",
    "* https://maps.googleapis.com/maps/api/directions/json?origin=Warszawa&destination=Kraków\n",
    "\n",
    "Spróbuj:\n",
    "\n",
    "* Zastanowić co się w nich pyta, i co oznacza odpowiedź.\n",
    "* Zadać inne pytania.\n",
    "* Poprosić o odpowiedź w formacie XML (spójrz na podobieństwa i różnice).\n",
    "\n",
    "### Ograniczenia\n",
    "\n",
    "Wersja darmowa Google API pozwala na 2500 zapytań w ciągu 24h, i nie więcej niż 5 na sekundę.\n",
    "\n",
    "### Inne przykładowe API\n",
    "\n",
    "* http://api.worldbank.org/countries?format=json\n",
    "* https://en.wikipedia.org/w/api.php?action=query&list=backlinks&bltitle=Almond&bllimit=500&blfilterredir=nonredirects&format=json\n",
    "* https://api.stackexchange.com/2.2/tags/python/related?site=stackoverflow\n",
    "\n",
    "### Python\n",
    "\n",
    "Surowa forma pytań i odpowiedzi jest celowa - ułatwia przetwarzanie przez komputer (dla niego łatwije wysłać \"json?location=39.6034810,-119.6822510&timestamp=1331161200\" niż wyklikać na stronie internetowej).\n"
   ]
  },
  {
   "cell_type": "code",
   "execution_count": 3,
   "metadata": {
    "collapsed": true
   },
   "outputs": [],
   "source": [
    "# biblioteka do zapytań \n",
    "import requests"
   ]
  },
  {
   "cell_type": "code",
   "execution_count": 4,
   "metadata": {
    "collapsed": false
   },
   "outputs": [],
   "source": [
    "r = requests.get(\"https://maps.googleapis.com/maps/api/elevation/json?locations=39.7391536,-104.9847034\")"
   ]
  },
  {
   "cell_type": "code",
   "execution_count": null,
   "metadata": {
    "collapsed": true
   },
   "outputs": [],
   "source": [
    "# zapytanie może się skończyć w różny sposób - np. n"
   ]
  },
  {
   "cell_type": "code",
   "execution_count": 9,
   "metadata": {
    "collapsed": false
   },
   "outputs": [
    {
     "data": {
      "text/plain": [
       "b'{\\n   \"results\" : [\\n      {\\n         \"elevation\" : 1608.637939453125,\\n         \"location\" : {\\n            \"lat\" : 39.7391536,\\n            \"lng\" : -104.9847034\\n         },\\n         \"resolution\" : 4.771975994110107\\n      }\\n   ],\\n   \"status\" : \"OK\"\\n}\\n'"
      ]
     },
     "execution_count": 9,
     "metadata": {},
     "output_type": "execute_result"
    }
   ],
   "source": [
    "# surowa treść odpowiedzi\n",
    "r.content"
   ]
  },
  {
   "cell_type": "code",
   "execution_count": 12,
   "metadata": {
    "collapsed": false
   },
   "outputs": [
    {
     "data": {
      "text/plain": [
       "{'results': [{'elevation': 1608.637939453125,\n",
       "   'location': {'lat': 39.7391536, 'lng': -104.9847034},\n",
       "   'resolution': 4.771975994110107}],\n",
       " 'status': 'OK'}"
      ]
     },
     "execution_count": 12,
     "metadata": {},
     "output_type": "execute_result"
    }
   ],
   "source": [
    "# wczytanie JSONa\n",
    "odpowiedz = r.json()\n",
    "odpowiedz"
   ]
  },
  {
   "cell_type": "code",
   "execution_count": 13,
   "metadata": {
    "collapsed": false
   },
   "outputs": [
    {
     "data": {
      "text/plain": [
       "'OK'"
      ]
     },
     "execution_count": 13,
     "metadata": {},
     "output_type": "execute_result"
    }
   ],
   "source": [
    "odpowiedz['status']"
   ]
  },
  {
   "cell_type": "code",
   "execution_count": 14,
   "metadata": {
    "collapsed": false
   },
   "outputs": [
    {
     "data": {
      "text/plain": [
       "[{'elevation': 1608.637939453125,\n",
       "  'location': {'lat': 39.7391536, 'lng': -104.9847034},\n",
       "  'resolution': 4.771975994110107}]"
      ]
     },
     "execution_count": 14,
     "metadata": {},
     "output_type": "execute_result"
    }
   ],
   "source": [
    "odpowiedz['results']"
   ]
  },
  {
   "cell_type": "code",
   "execution_count": 17,
   "metadata": {
    "collapsed": false
   },
   "outputs": [
    {
     "data": {
      "text/plain": [
       "-104.9847034"
      ]
     },
     "execution_count": 17,
     "metadata": {},
     "output_type": "execute_result"
    }
   ],
   "source": [
    "odpowiedz['results'][0]['location']['lng']"
   ]
  },
  {
   "cell_type": "markdown",
   "metadata": {},
   "source": [
    "## Przekazywanie parametrów\n",
    "\n",
    "Typowe zapytania mają parematry. Np.\n",
    "\n",
    "* https://maps.googleapis.com/maps/api/directions/json?origin=Warszawa&destination=Kraków\n",
    "\n",
    "składa się z\n",
    "\n",
    "* głównego adresu `https://maps.googleapis.com/maps/api/directions/json`,\n",
    "* parametru `origin` równemu `Warszawa`\n",
    "* i parametru `destination` równemy `Kraków`.\n",
    "\n",
    "Zapytania mają postać `glowny_adres?parametr1=wartosc1&parametr2=wartosc2&parametr3=wartosc3` itd. Zwykle kolejność parametrów nie ma znaczenia.\n",
    "\n",
    "Do zapytań można \"ręcznie\" tworzyć pełen adres, lub generować parametry z pythonowych słowników (druga opcja jest zwkle dużo przyjemniejsza)."
   ]
  },
  {
   "cell_type": "code",
   "execution_count": 19,
   "metadata": {
    "collapsed": true
   },
   "outputs": [],
   "source": [
    "r = requests.get(\"https://maps.googleapis.com/maps/api/directions/json\",\n",
    "                 params={\"origin\": \"Warszawa\", \"destination\": \"Kraków\"})"
   ]
  },
  {
   "cell_type": "code",
   "execution_count": 29,
   "metadata": {
    "collapsed": false
   },
   "outputs": [
    {
     "data": {
      "text/plain": [
       "'https://maps.googleapis.com/maps/api/directions/json?destination=Krak%C3%B3w&origin=Warszawa'"
      ]
     },
     "execution_count": 29,
     "metadata": {},
     "output_type": "execute_result"
    }
   ],
   "source": [
    "# tak wygląda wygenerowany adres url\n",
    "r.url"
   ]
  },
  {
   "cell_type": "code",
   "execution_count": 35,
   "metadata": {
    "collapsed": false
   },
   "outputs": [
    {
     "data": {
      "text/plain": [
       "{'routes': [{'bounds': {'northeast': {'lat': 52.22968119999999,\n",
       "     'lng': 21.1494693},\n",
       "    'southwest': {'lat': 50.0646454, 'lng': 19.9449779}},\n",
       "   'copyrights': 'Map data ©2015 Google',\n",
       "   'legs': [{'distance': {'text': '296 km', 'value': 295559},\n",
       "     'duration': {'text': '4 hours 1 min', 'value': 14456},\n",
       "     'end_address': 'Kraków, Poland',\n",
       "     'end_location': {'lat': 50.0646454, 'lng': 19.9449779},\n",
       "     'start_address': 'Warsaw, Poland',\n",
       "     'start_location': {'lat': 52.22968119999999, 'lng': 21.0121891},\n",
       "     'steps': [{'distance': {'text': '0.1 km', 'value': 110},\n",
       "       'duration': {'text': '1 min', 'value': 24},\n",
       "       'end_location': {'lat': 52.2299527, 'lng': 21.0112515},\n",
       "       'html_instructions': 'Head <b>north</b> toward <b>Aleje Jerozolimskie/DW631</b>',\n",
       "       'polyline': {'points': 'obx}He}f_CGEO@E?G@E@A?C@A?A@A@C@EBABGFEHEFAL?B?P@N@L@H@F?B@HBHBHBHDJFD'},\n",
       "       'start_location': {'lat': 52.22968119999999, 'lng': 21.0121891},\n",
       "       'travel_mode': 'DRIVING'},\n",
       "      {'distance': {'text': '0.7 km', 'value': 663},\n",
       "       'duration': {'text': '2 mins', 'value': 115},\n",
       "       'end_location': {'lat': 52.2279632, 'lng': 21.0021163},\n",
       "       'html_instructions': 'Exit the roundabout onto <b>Aleje Jerozolimskie/DW631</b>',\n",
       "       'polyline': {'points': 'edx}Hiwf_CNf@HRFRJ`@H^FTBRF\\\\LhAn@vEf@~Db@tDJdANjAVhBJv@Fd@XbCb@lDDV@RBP@P?PBPHp@T|B'},\n",
       "       'start_location': {'lat': 52.2299527, 'lng': 21.0112515},\n",
       "       'travel_mode': 'DRIVING'},\n",
       "      {'distance': {'text': '0.9 km', 'value': 935},\n",
       "       'duration': {'text': '3 mins', 'value': 183},\n",
       "       'end_location': {'lat': 52.225146, 'lng': 20.9891921},\n",
       "       'html_instructions': 'At the roundabout, take the <b>1st</b> exit and stay on <b>Aleje Jerozolimskie/DW631</b>',\n",
       "       'maneuver': 'roundabout-right',\n",
       "       'polyline': {'points': 'www}Hg~d_C@PBN@B@L@B@H@DBNBNBL?@P|@\\\\bBLr@Hp@rB|OP~Ap@nFBTjCjSD^|AnL?@`@vD'},\n",
       "       'start_location': {'lat': 52.2279632, 'lng': 21.0021163},\n",
       "       'travel_mode': 'DRIVING'},\n",
       "      {'distance': {'text': '3.0 km', 'value': 2974},\n",
       "       'duration': {'text': '4 mins', 'value': 256},\n",
       "       'end_location': {'lat': 52.2117696, 'lng': 20.9518466},\n",
       "       'html_instructions': 'At <b>plac Zawiszy</b>, take the <b>1st</b> exit onto <b>Aleje Jerozolimskie/DW717</b><div style=\"font-size:0.9em\">Continue to follow Aleje Jerozolimskie</div>',\n",
       "       'maneuver': 'roundabout-right',\n",
       "       'polyline': {'points': 'efw}Hmmb_CLr@@H?@FXFZXtAXtAXvAZtAZ|AVhAdBjIThAH`@VtAJd@r@tDxE|WZpBh@vCpAhHf@tCfAlGXvALj@Z`B@F\\\\pBZnAPp@x@tC|AlFh@fBPl@b@`Bn@tB`@tAXhAj@jCz@pDp@dCr@`DdBbI@DDRFRH\\\\?DXhABPNl@?BT|@ZxAnBvIh@rBl@nBj@zAv@rBbAfBbAxA?@hH`MBDT^Zf@|@|A'},\n",
       "       'start_location': {'lat': 52.225146, 'lng': 20.9891921},\n",
       "       'travel_mode': 'DRIVING'},\n",
       "      {'distance': {'text': '4.8 km', 'value': 4807},\n",
       "       'duration': {'text': '4 mins', 'value': 215},\n",
       "       'end_location': {'lat': 52.1769385, 'lng': 20.9134358},\n",
       "       'html_instructions': 'Keep <b>left</b> to continue on <b>Aleje Jerozolimskie/DK7</b><div style=\"font-size:0.9em\">Continue to follow DK7</div>',\n",
       "       'maneuver': 'keep-left',\n",
       "       'polyline': {'points': 'qrt}Had{~Bp@dA|ClF|AjCVb@\\\\j@?@R\\\\DHDHdBvC|ClF~AnCz@fBnCnE`@r@dGlKPXNXd@v@JPLTLRNVNVzBtD|ApCh@~@vAvB`A|Ax@rArC|ElArBVb@T^vHrMjC~E~AvCLTrC~ENR`CjDdAnApAbBLPfBnDfAnBjBdDTf@z@~A|BnEnEdIt@nAxEdItBxDzApCd@j@dB|Bf@b@dAp@n@X`A\\\\|@XtAVbBf@lCp@f@NbAVdDx@x@\\\\t@Lt@NvD~@D@bDz@XFdDv@~Cx@HBlAXb@`@nEtAzCz@z@TtD|@'},\n",
       "       'start_location': {'lat': 52.2117696, 'lng': 20.9518466},\n",
       "       'travel_mode': 'DRIVING'},\n",
       "      {'distance': {'text': '2.0 km', 'value': 2021},\n",
       "       'duration': {'text': '2 mins', 'value': 97},\n",
       "       'end_location': {'lat': 52.16852429999999, 'lng': 20.92702},\n",
       "       'html_instructions': 'Keep <b>left</b> at the fork to continue toward <b>aleja Krakowska/DK7/DK8/E67/E77</b>',\n",
       "       'maneuver': 'fork-left',\n",
       "       'polyline': {'points': '{xm}H_ts~BjEjA~F`Bl@RlEhBjBt@b@Vz@dAL\\\\FVBZ?X?XCVARGTCJEJILONOLMHQFK@U@UESGKKMMKQGSG]COCaBd@cC`@sB`@sBhAwFLk@Ji@p@_D`@qBf@eCbAaF`CaLX{AjAwFd@{B`@mBzAqHh@oCd@sBFWP}@lA_G'},\n",
       "       'start_location': {'lat': 52.1769385, 'lng': 20.9134358},\n",
       "       'travel_mode': 'DRIVING'},\n",
       "      {'distance': {'text': '0.5 km', 'value': 486},\n",
       "       'duration': {'text': '1 min', 'value': 53},\n",
       "       'end_location': {'lat': 52.1664581, 'lng': 20.9332953},\n",
       "       'html_instructions': 'Keep <b>right</b>, follow signs for <b>DK7/E67/Kraków/DK8/Wrocław/Centrum</b>',\n",
       "       'maneuver': 'keep-right',\n",
       "       'polyline': {'points': 'gdl}H{hv~BFM@ABGBKZoA`@}Ap@gCl@{Cl@yCj@eCjAoFv@sDLm@'},\n",
       "       'start_location': {'lat': 52.16852429999999, 'lng': 20.92702},\n",
       "       'travel_mode': 'DRIVING'},\n",
       "      {'distance': {'text': '31.3 km', 'value': 31277},\n",
       "       'duration': {'text': '29 mins', 'value': 1728},\n",
       "       'end_location': {'lat': 51.8999062, 'lng': 20.8596196},\n",
       "       'html_instructions': 'Turn <b>right</b> onto <b>aleja Krakowska/DK7/DK8/E67/E77</b><div style=\"font-size:0.9em\">Continue to follow DK7/E77</div>',\n",
       "       'maneuver': 'turn-right',\n",
       "       'polyline': {'points': 'kwk}Hcpw~B`ChCTVDD~@`AlCtCxA~Aj@l@d@h@lAzAnDnDTVnArA~AbBTVpAvA^^HHJJzAfB`AfADFb@`@tArAxBzBVXvE`FRTTVfBrBFFNR@BlDfDl@n@b@b@r@t@~@`Av@v@dCrCnErEh@j@pEzEdDlDTTv@~@RX|@lAPVp@dAv@jAf@t@rFzHtGnJfCtDrEtGHNpBvCRVZd@tBzC`ChDzB~CdAzAbEfGzFrIFHpAlBjA~AbBrB`@VJFRHZJ`@FJD`@L|@VjA`@j@PtDhA~Bp@~@VbIzBdAV^Lv@RZHh@PpBj@x@Vn@R`@Jn@PVHl@Pr@R`@J`@LD@TFvAb@RDr@Tj@PfAZxBp@b@LdBf@fAZd@N|Ab@`AX\\\\JvBl@`Bf@f@NzBn@h@PvBl@ZJf@NZH^JdFzAnDdAfCt@d@LzAb@jEpAzBn@|Ab@JDtA`@t@TfAZf@N|Ab@fI`C^L`AX@?vEtAlA\\\\hDbAPFf@N~H|Bl@PnBl@bAXnGjBJBlHtBzLpDVFJDhLfDdI~BlDbAnJnCbKxCpHtB`MnDdD`AvDfApA^nKxCzH|BvFbBrA^`AZ~P~EtJpCbEjA`FtA~Ab@dFzAxDhAvF~AtEtAhJjC|Bn@hD`AZJfAZ~LlD\\\\HxNhEpN`EnBj@|F`BrBl@x@TfPvEvDfAnDbAnKzCv@TnDdAvF~A~Br@rMvDdOhEjAZzGnBhBh@v@TVHpLhDtNbE|DfAnGhBpF~A|EtA\\\\J^JpEpAt@V|@XtDxApJvDxJ~D`@PxGdCzGhCr@Zr@XbEbBtAj@DBr@VvBz@nFxBhGbCtChAlEfBjHtC|B|@`A^pBv@`HnCfDrA~EnBbBp@hAb@zClAdEbBpHtC~EnBjCdAlLrETLbIvCx@NpATjB?XAJATA~AOt@OBAjCgAlKcEvB{@~QmH`DeA\\\\EtBU^?PAl@BZDZBP@FB^DRDz@Xl@Vj@ZB@z@l@z@n@nC|BFFrD~CrD`D~@x@|@t@tBfB^\\\\rAhAb@^TRtEvDn@j@~@x@dC|B|MlLvCvBhC|@lC\\\\rB?dBQxCu@`@Kf@ODATEzD{@xJwCtDeArCs@nMeDxF{ArEkA`IsB`Bc@nA]n`@oK~T{Dt\\\\gIlD}@`KgC|DaA`_@gJlSeFrD}@xKoCnEgAtQwEbLuCdM}CzEmArCq@fG{AzFuAbBe@pBc@nKqC~A]vD}@nBg@tCw@hD{@dAYvD_A`Be@bOmDTG`@MpWyGlBi@xDeA'},\n",
       "       'start_location': {'lat': 52.1664581, 'lng': 20.9332953},\n",
       "       'travel_mode': 'DRIVING'},\n",
       "      {'distance': {'text': '46.0 km', 'value': 46009},\n",
       "       'duration': {'text': '24 mins', 'value': 1429},\n",
       "       'end_location': {'lat': 51.5309929, 'lng': 21.0829819},\n",
       "       'html_instructions': 'Continue onto <b>E77/S7</b> (signs for <b>Kraków</b>)',\n",
       "       'polyline': {'points': 'muw{Hsci~BzGaBtAOlAKbBAnADjANvAVbAZx@Zv@^nAt@`GrE~HnFnAz@r@h@bAf@hBn@nBd@bAPp@Hh@BdAFjA?pBDvCHhC?zABnMRnCB~IJvJJ~AFx@L`ARfAVr@TlBr@h@TtCdAbExAzChAn@ZvB|@bZfLr@T`B\\\\pATxAR`AF|@BrA?x@Cr@IvBYf@If@Q`@Mr@Uz@]bAe@fAo@bAo@`Aw@dA_Ap@q@|@cAR[`CsDv@{AhBuDfBkE|@cCr@iBxBaGx@}BrAsDdAqCbAmCj@wAtAmD~@sBhAsBb@u@z@mArA{Av@{@f@c@p@m@v@m@lA{@h@[t@i@`Ao@z@m@|IcGzDeCdAw@`@W`@WrCqB`CcBvAeA|@m@|@o@`Aq@r@g@z@k@t@i@r@e@b@WlBqAd@Yb@Sd@Uz@]v@Uz@WpA[l@Sl@Y`@QXM~Ak@|JqClE_A|DaA|FwAfj@iNtEkAhAYhBc@~NiDlHiBbLsChl@wNdiDaz@zVgGl`@{JvHmBlGiB|C_AdKgDpRgG|YsJtQuFrAa@dCw@pAg@bGmBrIqCtImCdPkFjRiGbGoBXItImCzBu@bFaBLEbFaBnZuJ~HgCtDkA~E_BfDeApAc@zTkHl`DicAxQ}FjGoBhBk@tLcEx@UbM_ENGrKeD|TyG`UeIvAk@t@e@p@_@l@Yl@[vBiA|@g@VOxA{@|@i@x@i@vByAx@m@fDiCv@o@|@u@dA_AnCyB|@{@zCaDvFmGnAuAjCaDz@gAp@{@zAkBv@{@zAiBtA_B~BiCl@s@l@o@`AiAvAaBjAwA|AgBxAgBx@aA`EyEhD_EvAaB~AkB|AgBhBwB|AkBlBwBlAwAtCiD~DsEbDyDjC}CfDyDlAyAtEmFrA}AvCcDzB_CrBsBzBuBpBeBXWdB_BlPeOzHgHjE_EfGgFl@g@~A{@zAw@hBa@~A[l@MzBQpBHfBR~Cp@lDpA`Bt@~GzCfRnIrH|CpDzA`Cx@zBn@xCf@nCXbA?|AFPAbBGhCGfBWzBa@pAWvAc@rBy@pBaAvBiAdQsK|CmBxH{E`CqA~BuAdGoDlEqCvA}@r@e@r@c@jBiAdM}HzFkDfHkEd@[~CoB\\\\SxEwCfFaDrG{DrBsAdAo@zR{L`IaFvD}BjNqIhIgFlPaKrPcK|PoKvA{@fKuGd@SpAw@bHiExGcEdA_A`A_Az@aAr@y@n@w@l@y@DEn@aAh@aA~@gBNYtAqDpDgHfEoKnBqE~HwQzEwK|CeHbEkJjCeGzB_FbAwBp@oAvAaCtAqBv@{@VY`CyBr@k@d@a@nA_AzAw@r@[`A]jAa@v@Sh@Kx@Mt@MxAMbDQ`BMxAMr@Gl@Iz@QbA[^K|@a@nAm@j@a@r@e@`@_@n@k@^a@|@cAb@i@V_@`@k@`@s@t@oAXo@d@eAf@mAl@{AjBuEpBgFdBeE~BeGdBiEpDeJdCqG~CaIpBcFrAiDhBoEvBqFtBkF~AeEbCiG~B}FvBoFnCaHd@qAbB}DhBwEj@{AbEcLxAwDlJeV`HiQzE{Lf[ax@rCeH~@_C`DmInEqK'},\n",
       "       'start_location': {'lat': 51.8999062, 'lng': 20.8596196},\n",
       "       'travel_mode': 'DRIVING'},\n",
       "      {'distance': {'text': '12.9 km', 'value': 12905},\n",
       "       'duration': {'text': '11 mins', 'value': 670},\n",
       "       'end_location': {'lat': 51.4279504, 'lng': 21.1495985},\n",
       "       'html_instructions': 'Continue onto <b>Warszawska/DK7/E77</b> (signs for <b>Kraków</b>)<div style=\"font-size:0.9em\">Continue to follow DK7/E77</div>',\n",
       "       'polyline': {'points': 'usoyHswt_ClBwEtYeu@\\\\{@vSgi@tEqL~@qBbAcCDInEgLbB}DBIxDsJhDwIfAoCfBsEl@{Ad@mABEr@eBb@_AXm@f@{@LULQj@u@f@m@^a@t@o@HGz@m@fAi@HEj@SnA_@~HgBhE_AlE}@jBc@LGjAYzBi@|A[nEiA`E_A`Ce@`@Ep@EbFOzKa@vJ[tL_@vEI\\\\C\\\\ClCEp@AbCApCKxBIhEK`BM|@KjA[j@QB?bAc@lBcAnIaGxDqC~CaClCuBDCzIqGtDqCbAu@|AkAp@g@l@c@p@e@fNeKtHyFnDkCrG{E~GaFbCiB|C{BtBcBjE_D|BeBhCmBh@[l@a@fAm@`@QnAe@~Ag@~Bk@~JuB`Do@jGsApBc@nDw@vHaBlAU`KwBfAU`GoAxDw@t@Q~A]lBa@xAYxD{@~HaBlIgBb@IhDo@XGB?xA[`JqB|A]tFkAf@I`AUzCm@dAWLCtIgBRE`@IJCv@QbAUpCm@REJCvJsBjH{At@OREJCjE}@lH_BFAhCk@lCi@|A]rCk@|@SnAYVGPCPAN@RDLD'},\n",
       "       'start_location': {'lat': 51.5309929, 'lng': 21.0829819},\n",
       "       'travel_mode': 'DRIVING'},\n",
       "      {'distance': {'text': '4.5 km', 'value': 4525},\n",
       "       'duration': {'text': '6 mins', 'value': 357},\n",
       "       'end_location': {'lat': 51.3968302, 'lng': 21.1077766},\n",
       "       'html_instructions': 'At <b>Rondo Narodowych Sił Zbrojnych</b>, take the <b>1st</b> exit onto <b>Stefana Czarnieckiego/DK7/E77</b><div style=\"font-size:0.9em\">Continue to follow DK7/E77</div>',\n",
       "       'maneuver': 'roundabout-right',\n",
       "       'polyline': {'points': 'uo{xH_xa`CBBBBBBB@BBD@B@B@FDXTXVTRJLjAxAhEnFrMlPnLxOn@x@tBnCvCrDdAtA`AxAtArBVb@v@tANTr@jALPLRJPXd@tBjDR\\\\fBxCnCtEz@vAzBxDlBbDx@zAPPfBdCj@z@pAdBLPzBvCpCjDd@j@BBJNPRv@|@X\\\\jB~BbAvAdCzDFHHJrArBdBnC?@|@tAdAdBPZdEzGFHR\\\\BB\\\\^BBPXJTNRDHRZ`AxAZf@d@r@jAhBxBnDFPFNHPHHh@z@|AhCpChEV\\\\ZXvBjD\\\\f@HNl@~@xErHbHzK`@n@Zf@bBjCDP@@?B@@BDBDDHRZPXv@pBPb@Xz@'},\n",
       "       'start_location': {'lat': 51.4279504, 'lng': 21.1495985},\n",
       "       'travel_mode': 'DRIVING'},\n",
       "      {'distance': {'text': '6.5 km', 'value': 6527},\n",
       "       'duration': {'text': '6 mins', 'value': 378},\n",
       "       'end_location': {'lat': 51.3526392, 'lng': 21.0462485},\n",
       "       'html_instructions': 'At <b>Rondo Jana Łaskiego</b>, take the <b>2nd</b> exit onto <b>Kielecka/DK7/E77</b><div style=\"font-size:0.9em\">Continue to follow DK7/E77</div>',\n",
       "       'maneuver': 'roundabout-right',\n",
       "       'polyline': {'points': 'emuxHsry_C?D?B@D?B@B?B@B@B@B?B@B@BB@@@@B@@B?@@@@B?@?B?BA@?@??A@?@A@?j@^fAnAJJHBBF|@vAnApBHJxA|BPXDFdGpJ`@n@j@|@dA`Bj@~@dAbBJV@BDJtAvBhCfEbCrDz@pArD|FT\\\\pB~CtBhDb@r@\\\\h@HJJPr@fAV\\\\d@p@`@d@v@nApArB~@xArB`DtAxBjBtChAhBtBfDFJDHFHFJl@|@RXtBfDXb@FXDFhBrChDnFpB`DhBpCXXBBzGnKT^RXvDbGfAdB@@d@t@nApBrEhHhBvC|BrDLPLTjAfB~BrDhAdBpApBz@tAdC|D~@vAb@r@HLT\\\\~@vAXd@b@n@rIbN@D|FfJlBtCFRBD`AdBlBxCFHr@dABDLHz@tA|NlU`GjJdC|Dx@pAt@lAlGzJHRV`@|@zA`BlChC|DDDHDbK~Od@x@LVLRRVHLFDB@NJj@^VJHFDFDFBHBJ'},\n",
       "       'start_location': {'lat': 51.3968302, 'lng': 21.1077766},\n",
       "       'travel_mode': 'DRIVING'},\n",
       "      {'distance': {'text': '33.2 km', 'value': 33174},\n",
       "       'duration': {'text': '30 mins', 'value': 1800},\n",
       "       'end_location': {'lat': 51.1020177, 'lng': 20.8366996},\n",
       "       'html_instructions': 'At the roundabout, take the <b>1st</b> exit and stay on <b>DK7/E77</b>',\n",
       "       'maneuver': 'roundabout-right',\n",
       "       'polyline': {'points': '_ylxHarm_C?P@N@H@HBDBFBFDHDDpBhDR\\\\n@jAPVTXnApBfDpFdBlCBDj@z@fC|DJNL\\\\jAnBTZhAhBhC~DPZLH|IjN~GzKXb@j@~@l@`AxA~B~@zAzBjDjC~DhAdBDNBHr@fAT^fAdBvAfCLP@BB@H@|AbCdGpJdCvDb@r@@BHTbAlBnEzGBDB@HDpDxFnCdEzA~Bn@dAjAjBn@fA`H`LdNbT`NhTrIfNJVHPj@~@bA|AhB|ChCxDRRbAzAfFjIlB~Cn@~@dDjF~@vAbA|ADL@DfAfBjAlB\\\\j@pCnEpBdDlBjCNRJFfCdEHJFTb@r@t@fAlCjELTp@|@`AxAh@bADBHFnLbR`PbW~@xArLdRpJnOlCbEz@rATZzDlG~AdCLVLPdBpCbOtUDDXf@DFtElG\\\\f@BH@BfBdCtAjBxAfBJFhFdHBBP\\\\hBdCjAbB|AjBLHlRdWpL~O`GdIj@x@l@`Af@bAfBhEDRFRHTXr@`AdCnBvEJRDDjUxk@l@|Ax@pB@J?@?BJRj@zA~@~BdChGBBDF`JbUjExKdQhc@L\\\\H^dAjC`AdCJ\\\\hBnENT@@vCjHvDxJ~HbSbFbMh@nALR`@z@rBlDpJdP@B|DpGN\\\\DJfBbD`ExGJHv@rAzVrb@bI~MBF?@zAjCvAfCzAbCb@r@@@B@dRr[fEhHFVxAfC~ApCdAbBPNhAnBl@fAlBdDrIvNxAfCT`@rBlDFR|ApCp@fANXbC`EHBJRl@bA^n@`@p@b@t@d@v@Zf@f@v@d@t@^j@V^Zd@`@d@TXPR\\\\^JHPRXVl@j@d@^ZVbAr@TN|@h@n@\\\\l@Xd@Rd@Pn@Rh@NVHh@Hh@Ll@Hh@HRBXB^BT@Z@d@@`@@n@@pDBp@?vB?xA@xA?H?LB|CDjA@tBDjD?zA?LK~@@P@pDBlADvCNbFh@vCj@`EfApFjBbFbB~CfARFFFx@XtAf@nBr@ZJl@PZN\\\\LVHtDnAP@ZHxEbBzE`BxEbB`FbBnAb@lAb@VJ\\\\Jn@XnBr@t@VhBl@hCz@|Aj@zAn@lAj@zA|@ZR`@XjA`A`@\\\\jAfApArAtA|AFTx@v@XVb@d@TTjA`An@j@`Br@@?fAb@tAZD@b@JbBPNGD@xNTFHzBDvBDxA@XGP@nPVnJR`B@vCDpFL`w@vAx@BfRTnGLtj@z@jX`@xd@p@|ABH@N?fA@`A@~@@z@BbA@|@BhCBpABhCDR@`CD~@Bh@@bABb@?D?rBBf@@h@@lAB@?~BBb@@hBDN?lABV?bABzABX@~ABjBB~BDbA@d@@rABZ?X@dB@\\\\@vADF?tABbCDz@@pABN@xBDr@BF?~A@|BD~ABp@@t@@x@@x@@zABxA@lAB|@BrBBrAB~@BbA@`BDjABF?pCFzAF^Bj@N`@H`@JrBt@rBv@rJxDfC`AvN|FRJJJTHf@VfAb@zAf@hCdAt@^JDjBt@|Aj@h@RlBx@ZLrBx@hBt@|An@lCfAvAj@dBp@b@Pv@ZrAl@PD|Aj@n@Th@Vp@XNDD@B@B?DA`@NnFvBhBr@?B@??@FD@@FBHDf@T`@P~B|@n@ZZL`@Rb@Vt@d@z@j@dC|AbAn@FDDB|@l@B@hAt@fCvAfAr@z@j@v@n@h@d@XVbAtAt@pAtAnCNTDJBDx@dB|@zAh@t@dAnAlB~ApGzExErDzErD`DfC'},\n",
       "       'start_location': {'lat': 51.3526392, 'lng': 21.0462485},\n",
       "       'travel_mode': 'DRIVING'},\n",
       "      {'distance': {'text': '46.3 km', 'value': 46288},\n",
       "       'duration': {'text': '23 mins', 'value': 1404},\n",
       "       'end_location': {'lat': 50.80465599999999, 'lng': 20.4849708},\n",
       "       'html_instructions': 'Continue onto <b>E77/S7</b> (signs for <b>Kraków</b>)',\n",
       "       'polyline': {'points': 'sz{vHktd~B^VLHdEzCPLLHt@b@^RXLZHZJf@Jn@F\\\\F~@DnAEfBSj@ILANC|C]h@GzBWpBMdAGvAErBG`U[@?^Ap@Cx@A`ACx@Aj@A|BElBEh@?@?@?\\\\Ap@AbAAj@Cr@?n@Ar@C`@?ZAdBCrBC~AAD?v@Ch@ALAz@A~@C|@AfBAz@AxAChA?fBCpCA`BCnCAtEOvTWfGAjFp@`Cp@bF~BrJdFbLfGjJdFnOfIfLpGzShMrAr@pDxBdGlDrD|BnKlGjI~EjBbA`I|Ej@ZzCbBxC|AbAj@lC|@fB^xB\\\\`GHhBKlC[dLuBtF}@bBI~A?|BFbCPlAXlAXnAb@tE`BzNvEpBj@tSjEtcAxTF?rBz@hCtAxCrB~ApA`CbClCpDxAbCzBfEpNt[fGtMzL`Y^|@DJf@hA~@nBhKjTtJxSlH`O`FjKpDvH`AtBtJvS|AhDr@bBl@zAbB`E`AhCxAhErBlG~ClKd@bB|@xCzOtj@dGtSfAlDfAlDbBlGZbAv@lCf@tAb@lAl@zAd@hAP`@dApB`@t@PZT`@r@dApAlB|@jA~@fArA|Ah@l@j@n@bAjA`DpDfBvB|ApBrA`Bb@n@HNRZTZhBvCxAdClC|ERd@nHvOrK~TrDbIzJxR\\\\x@HNLZNXjZpo@bGlM^t@b@z@fC|F|IxQFNrC|FbD|GTd@HNt@xAf@bAtAtCpBfEdCjFzCrG`HzNnC|FtCdGpAtCf@hAb@jAh@|Ab@vAf@fBd@hB^hBZhBZjBVlBPxAN`BJpAJfBLfBVtEHhBJbB@\\\\TpEVzENfCV|CR`BTdBTpAVpAXrA^rAZfAb@nA`@jAn@vAt@xAhAvBnAvBhB`DjDdGPXXf@v@vAn@fAb@t@rC`FnAzBhAnBlF~IfApBrAbClA|BxArC`AnB^z@~AlDtA|Cz@lBb@bATl@`@z@|AxDjBbFtAzDnAtDtAhEl@tBp@tBhAdExBxHbAdEvAdGjAjFrBfJzAxGdA~EpIha@dZr_BPx@Nv@~DzSnCjOrCbOhA|FnCfM~@fEbA`EbAbEnBdH~A~FxAlFbB~ElAzDzBpHrBzGRn@xCnJtBnGfC`IpFzQrBpHlB~HlBfIxBrKx@pE^zBdBzJh@bDTlBPdAZnB\\\\dCpBlPLz@l@tFz@rHP|AR|At@nGpBdQlAvK`BrNpB~PfA`KTzBDXDZ^vC^|CNbAh@xEb@~D^pCn@tFhBfOdBrOf@nEt@rGXvBZlCj@vEp@zFr@nFz@hFhA|Gx@zDlAnFbBpG|A|EnBdGxBzFzApDjAjCN\\\\jC`Fh@fAb@t@dCjEdCtD`CbD~FbHnEjEvFvEbBnA~BzA~D|BlExBtAl@zFzBdE|AhEhBxAf@zAf@vAj@bA^`A^^JpAd@rBt@vBv@pBv@vAj@hAb@zAh@xAj@tNtFtAf@vAj@`C|@lCdAzAj@jAb@`A^rAf@hBr@tAh@lAb@jAd@tAh@dA`@bA^hAb@jAb@jAb@`A^z@\\\\bA\\\\`A^jAd@xAh@fA`@dA`@h@Rf@RZLVJj@Td@Pd@Pd@Pl@Vd@Nj@Tt@\\\\j@VZLj@X~@b@jAr@fAp@~@n@zAjAzArAbA`At@x@^b@~AnB`DrEvAzBfAlBpCvGr@bBx@dCxBzH~@zDn@fChBhHtBrHlAdDpAvCpA|BlAtBxB|CvC|C~CjCpD`DzCxC\\\\\\\\dArAhAfAnBbC`B|BjBnClBtCxDbGzBjDrDvFhHfLhAdBb@p@d@p@`D|El@~@lQpXxEhHv@tAhGfJf@x@f@x@|@rA`C|CzAdBfCbCxD~BxAv@jBx@nBh@dBZdBPdBJ~A?vBIdEc@hC{@fDuA|CoBhDuClByBpBoChB_D|@iBpA}CzC_IdE{KnDeJtAuCtAmCjB_DnBqCrCeDz@}@z@{@fA_AhAy@vAaArAs@bEqB`C{@\\\\KpA[ZGPCnF}@d@AtAEtBGh@@n@@t@BfAFn@Fx@Jv@LbAR'},\n",
       "       'start_location': {'lat': 51.1020177, 'lng': 20.8366996},\n",
       "       'travel_mode': 'DRIVING'},\n",
       "      {'distance': {'text': '99.6 km', 'value': 99596},\n",
       "       'duration': {'text': '1 hour 29 mins', 'value': 5310},\n",
       "       'end_location': {'lat': 50.0863115, 'lng': 19.9547424},\n",
       "       'html_instructions': 'Continue onto <b>DK7/E77</b><div style=\"font-size:0.9em\">Continue to follow E77</div>',\n",
       "       'polyline': {'points': 'cxauHa~_|B~HjBd@HnAZf@Nd@R~@`@~Ap@fBt@~B`AbCdAzB`A`Bp@zAp@pBz@xAn@z@\\\\`@NxAl@FBlCjAtAj@n@XtAn@p@Zv@h@b@^~@|@~B~BdBhB|AzAPNx@`AHNv@lAd@v@Xj@fAhCvAvDvApDdArC@?r@fBf@jAjAvCXr@nA|Cd@lATn@tAhDb@jA`DfIHRdGpOh@pAj@xARd@t@dC\\\\|@v@xB`B`Ef@tAr@fB|DxJnAzCf@hAb@v@r@dAb@f@b@d@|@x@VN`@Vj@^VNfDjAz@ZlBr@|Bx@JBF?J@xHhCdGtBtFjBdBj@nMhEFFh@VB@v@^p@Z~@v@^b@JJZf@Rb@h@jAp@`B`BtDhAvCb@fAbA~BdAhCt@hBt@jBn@|A^z@?@R`@j@fA~@dB@@^n@j@z@n@bAt@lAn@dAp@fAnApB`@n@b@r@LHt@lA^v@DHXz@ZhAJb@Jj@LhANbBJtD\\\\jI\\\\tG@FPhCPbCHpAHj@Jx@N|@Pp@^jAb@fAj@|@l@x@r@v@HFpM`K`IpGt@n@vDxC~AnAhBxAhA|@vVdSb@^zCbCpAdAzEpDdBrAx@l@h@`@HNRRVRp@f@DDbCdBlCvB~BjBdAx@dAz@lLjJj@r@~@v@HHr@j@n@f@PJHBv@l@lDrChBxAzBfBzAjAx@h@`@Tn@\\\\xB~@p@VJBnC~@jBr@p@Xz@f@dAv@nAdAl@l@n@v@v@~@j@x@n@`Ad@x@t@pA^z@`AfCdAfD^lAhGzSxKv^Jp@nBlGf@|AJVTn@d@bAVb@FHHJn@p@j@l@RLRRjClCrDfDZZDDrOnN~@t@B@B@D?PP~JnJnAjALLDDZZ\\\\ZfGrFrAjAFFfNfMvEhE`CxBvKzJtI~HnIxHdCbCzCpCx@t@FNFHr@l@j@f@pBbBxCfCrAt@NFDB|@d@HBD@HAl@\\\\|EnC`CpA`@ThGlDl@^f@VvHfEdMhHlAp@bCxAnBtArC`CtAjAhY`UzBjBjCvBxAlAzBhB|BjBpC`CvXnTbEbDhBpAr@n@t@p@b@d@jApAdBzBfZr_@DL|@jAt@`AlCpDx@|@jAtAB@@@HBhK`NhApAzEdGvAnBnBdCpA|A|C~DdAlA`ArAj@t@nAbBRVtHdJvBvCpDpEfArA^l@nBdCbBhB@@nBpBzArApA`AlAx@pA|@|@f@fAj@~Ar@tAj@tAf@vA`@vA\\\\pAZl@L|Bf@dB^dF~@|HfBlEz@|EbAvCn@fGjA~K`Ct@NhE~@H@HBbDr@z@RzCj@n@LPD`@HTBhB\\\\bB`@n@NpDt@VFB@b@Hz@PjAVNDhBd@NBPDB@hA^hBp@ND`@R|AbAr@f@hA|@x@t@z@z@dAnAx@dAr@`Ah@x@f@~@v@tAr@`Bv@jBn@bB?B`@nABHV|@Nf@Rx@FRh@bCVrAZhBVdBR`BRpBPzBNzBJfC`@xJd@lOh@dPbA`V?R@R@Tj@hQBjAJnBPvBPbB@NR|Ad@dCRbAVpAd@xAf@|Ap@hBf@hAl@lA`@t@NRFHLFl@~@rBrCxFlHz@jAv@fAbEpFfOdStBnCdU`ZdCbDpAbBzAnBhGbI~@nAlEzFjChD~@lAhIjKz@hA~@lAzPtT\\\\f@Z\\\\h@n@~L`PBF?B@B@@HLPTh@r@dCbDn@x@jBdC|AnBvFjHBDDBH@dFvGFHp@|@`CzCd@n@rBhCzH|JbDpEFFLVh@r@r@|@DDHJ|LdPb@f@BBNHxOdSxEdGBBvDzE`D`E@NxAlBfEtFlEzFrGlIfAtATXdBzB`@d@FFPLnMjPXd@l@p@p@v@`DtEvFnH`@r@`BvBdApAhBvBdE~EPLZ`@lCjDzC`EzAlBjA|AtBjC|@lAhErFzBvCdIjKpA`BzCzDj@v@JJx@dAhCdD~BvCh@r@p@z@BHBDzApBzAdBl@j@l@h@dA|@lAz@tClBtAr@vAj@t@\\\\z@Xv@Tv@RxCr@xAV^H|FtADADAdFjAb@Jb@HhGhA|@VzDv@hATnCh@pB`@fUxEtDz@vFjARLbEt@lB`@`B\\\\vFjAbE|@xGxAz@Pj@JVBH@n@C|GrAvAZ`ANjAJh@Dn@@h@@h@ApBMj@Gl@Kh@Kj@Md@Mj@S`Aa@v@a@t@a@~@k@RK|@g@vAaAr@_@DEhAs@TKn@g@PKpAw@dC}A`G}DvB{@hA]VGrBUpACp@@~@D@?|AT|@VZHpAl@n@Xn@`@lA|@Z`@\\\\^|@dArI|LxDpF~FrIfDzEdDzEhAzAjAvA`AbAfAbAv@f@v@j@n@^~An@rDnAjDv@hDl@F?hIdB`JhBbIbBn]fHtJrBhATRB|EdA~Ez@bMnCbAT~@RFJtCr@~@TrA\\\\xA^^HH@D?V?bBVHH~A`@pAZd@JlCb@JCfCf@`Dn@`Dl@dI~AdIfBH@vCl@`Dp@jAVvFhAdSdEvDr@NBlB`@|@R`AVhB^bA^j@\\\\x@x@|@lArBzCdAfBrCpEdM|QhAdB`KbOzG`K`@n@Zl@Xj@Vt@Nb@Ll@P`ALhAFbADvA?nACpAEzAGjAk@|I_@fGEtAGrBCrAAnA?fA@nABr@Br@Fp@Fp@Ht@Jt@Jn@Nt@Rx@Tv@Rf@Vf@Vb@V`@V\\\\h@n@j@h@\\\\X^ZdAr@jBnAnH|EjPpKrFrDzHdFx@j@vJrGpBpAvE~Cn@d@LFd@ZxA|@p@b@hC`Bj@b@n@^DDr@^FBlBx@ZL~CrAB@lDvAn@XpCfAjCdAt@ZtCvAd@TpFzC|ChBFBxNpIFNdC|AhHfEjM`IfFbDnCdBrAz@lAl@FE\\\\RpAr@nAv@rAv@f@XrAv@`Ah@t@`@h@b@ZVPNPNj@p@Vb@Vf@JRVl@d@xA^lAnB~G|AtFVx@l@fB`@fAz@|AJLv@|@\\\\d@TZTXx@jATZHJFHVRz@rAvCpEj@dAVf@Zn@Pj@V|@\\\\|APp@bApCZp@X^tZt]lAlArNfJbDtBFZ|A|@d@\\\\ZT@B@@XXJLb@j@z@xArAfCZf@~BhEJBbB`DzMxVJVpCfFbKnRzKtSfCxEtFbKtBbEr@nBTx@Px@ThBPhBZ|E@f@@V@n@@zAChAKjAI~@i@nDm@zDu@nDw@lDe@jBg@jB]`BAF[jBIjAEjAA~CB|@BdAJvAL|AN|ALlAVfB^~Ar@|C|@fEFX`@|Bb@rCp@fEfIfj@`@vBh@bBN`@Z`ANb@DF\\\\l@DHb@n@f@h@BBDFFDfAbArDnCfJlHn@h@n@t@j@x@PVT`@^z@^bA|@fCvBrGdF~NATTl@Zn@Zj@\\\\f@z@dA`@Z`@ZpAl@p@Vx@Pz@Fl@BFAlA@R@rBA~CBnEHpBFTIxAGzXZzGJzC@fED~BFtBJ|AHp@LN@v@JZB`@DB?f@D`@BjDZdAJJ?RA^D^FtBZ~@Lz@Jh@Dh@Db@BZAlHE|GAjAAj@?XAN?P?|A?tEAHFlB@|@@lB?P?bA?fB?^?ZBj@@REb@Fh@H^HtATl@Lh@Lp@Rp@Rr@V`A\\\\n@Zr@\\\\v@b@l@^d@Xb@\\\\z@l@|BrBT\\\\DDnCbD~@tAZf@~DfHDDPVl@hAFJj@fAh@|@d@v@Zd@X`@^`@RRPPZZf@d@b@\\\\h@b@j@^v@`@ZL\\\\Np@Vn@Rt@Th@LF@lANb@Dj@Dt@DxCLxBF|@D~DLnEPfEJxBJz@BfCJtABdFPpADzBJjEL`L^~AHjDJlBFX@R@N@@?~FRl@?vADn@BxERlBFr@Av@Kh@Sh@WzAiA`Ay@x@o@`A{@n@e@zAmA^Yb@W\\\\Q`@O^MtEwAJ?~DmAdBg@`IeCdA]JCzIoCRQhUeH~@Od@AVBb@Hn@Px@ZdDhAhIlC|SjH~SbHhPvFlA^h@H|@Hz@O\\\\Mh@]^[~A{ANOPGdBiBjAmAv@s@~A{AfC_CFIDIHWRWBE\\\\o@Zs@^oAVmANy@J{@FcADiBJqEDsBJgBH]@G@IHs@Fq@Fe@F_@@CLaAFc@F[Pw@Jc@Nk@Lg@Rs@To@L_@Ti@\\\\}@\\\\u@\\\\s@BOLSr@gAnOuRjNqQDEvJcMV[v[sa@~AqBtDwEtD{Er@{@rDyEpBiCr@{@`AaAvCuCtAuAjBgBlCiCnAkApCoClBmBn@o@vCsCpAoAvHqH`BaBvBuBbAaAf@i@|A{AhFgFdTyS|@{@jU{TzByBjFeF|DyDjAqANOPC`B{@jEDd@Kx@D^@bDJ`CL`@FTDTJRNRPRTJTJVJXH^Hj@JtALpBFt@Hn@Lf@L^HRJPV^j@f@hBh@`Bh@h@\\\\d@N~A`@bEbAR?tBl@fD~@x@T~C|@PH\\\\NnBx@THdA`@PFB@B@L?BABAFC^c@HMFIFC@ANIN?XD~HzAh@L`F|@rCf@\\\\HLDLFLJLNJLHLFPHRFVF\\\\Fj@p@jKx@|LTtENrARvAJr@f@~BTdAh@pBBHx@jDj@hCh@|Bz@dDxAjGHZF\\\\dArETz@j@`Cz@tDvCdM~@vDd@pBX`AfKnc@jG|WjIp]bDfNpArFlAbFDX@DV`AnClLrA|Fj@vBZ~@Zx@f@jAh@bApAnBlDzEdJbMfY``@~F~HnBrCbBzBbAtAHJV`@hAvATZ~B|CbDjEbEvFnAdBRVpA|AHJ|@bAxDjFb@h@dIzKBDb@h@b@j@PRJNVT^ZrClBvDfCfIdFtCnBtCnBdG`ExBtA|@l@\\\\VTNzA`AtBtAbDtBb@ZbAl@JHrAz@^V|AbAvA`Aj@b@`@\\\\lApAnCxC|CpDhCtCpEjF~AhB|BfCfCxCxA|AdAhAz@dAz@dA@@j@p@`D|DlAvAlAxAlCtC`DpDxClD|ClDd@d@v@l@bAt@~H|FxItGDB|ApARRLLLPRVh@|@Xj@JVRl@\\\\fATv@VjAT~@r@rDHx@FnCDbBD|B@z@D|@Dl@Fr@Lz@Lr@Pr@Ld@Xp@Zp@T`@\\\\f@NRLLRNZXTJTLXNXHRDFBTBRDVBT?X?P@N?P?F?\\\\@jB@|@?n@?jA@z@?z@@Z@X?`@?TCPAXG`@GvAUbASBAvAWx@QVETERElAUzAYHC^IdBYnASjASbASbAQ^GTE^InAS~AY|@Ot@Of@I`@IR@h@Gr@MRE|@QREXE~AYt@Op@Mx@OPCHCHILCh@KNEb@Kd@S`@Q\\\\Ob@WZO~CoB^UHE\\\\WTIlAw@z@g@LIl@_@n@a@r@e@ZOh@_@d@Yb@UVIREVA`@@^?f@@p@?z@@jABfBBN?B?L@bA@V@l@@T@R@PDTDXNRLPLZ\\\\h@n@r@dAPTb@n@Xb@`@l@Xj@Xn@Tn@Rl@Nj@Lp@Jt@Ht@Ft@Bx@B|@BhBBnB@rB@jA@d@@h@BZJn@Lf@L\\\\PZTVPRPNVHl@HRAREVMRKRQb@k@l@u@n@}@l@s@TWNITKJCN?PAPBJBVNTRR\\\\JRLXZ~@V|@Hd@Ff@Bf@@f@Aj@Ed@Kj@Mr@Oj@Sv@Mb@GXI`@EXE`@AZA`@?N?P@VBRLp@Ld@Rd@LTRTXRVLb@NDFnBp@^JTFPDh@Pj@Ph@Rt@TrA^xA^lA^HC`AZHBbDbA~Ad@vA`@HBBH@?@@jA^|@Xp@RVFt@Rd@Nh@RbAZh@Nh@PbAX`AZFBv@THBt@T|@Xb@NZH\\\\J^J\\\\DVBH@PAd@IZK`@Sf@Ur@[TKz@a@p@[h@Wp@]j@Wr@]d@Qh@O^EVCd@DP@H@L?dAHz@Dv@Hh@D`BJb@Bv@HT@^Bb@Dl@Bb@Bj@B`@Dj@Bd@F|@Fn@Dv@Fz@FN@d@D`AF`CRH?pAHP@~@FJ?B?@?BCVFpFZP@ZBZDnALp@Bp@Dn@DL@\\\\@d@DN@T@\\\\?^AZC^Er@Mb@IZI`@Ib@ITETCXCTAh@@T@b@BPBPDTFPHVHb@Rh@TZPZNZPNHVH@@p@Pz@R~@LVBhAF`DVbEXpBNdAHbAFn@FJ@zAVpLdCjDt@VFbAT~A\\\\nAXlAVjB^fB^vAZtAZj@JTFt@LtAXjATxBb@hB^tAZp@N`B^tAVx@PNDp@NxAX|@RjDn@\\\\JRBz@Tl@J`ARTDrAVt@NhARvAZbAVJ@zCl@LDRDRJ`@^PLfAfAVTPPXZNNx@z@NLLP|@~@t@v@PPd@f@Z^tAxAJJ\\\\ZnAxAdAjAx@v@@L@DBFPTTTVZ`@b@PTTXdAbA'},\n",
       "       'start_location': {'lat': 50.80465599999999, 'lng': 20.4849708},\n",
       "       'travel_mode': 'DRIVING'},\n",
       "      {'distance': {'text': '1.2 km', 'value': 1229},\n",
       "       'duration': {'text': '2 mins', 'value': 133},\n",
       "       'end_location': {'lat': 50.0763076, 'lng': 19.9474294},\n",
       "       'html_instructions': 'Continue straight onto <b>Aleja 29 Listopada</b>',\n",
       "       'maneuver': 'straight',\n",
       "       'polyline': {'points': 'mnupHclxxBZVLJLJ^Zj@`@v@l@LHj@^~AfAPJl@`@hAr@|@n@hBlAh@Zz@f@VN^Rh@X~A|@bAp@|@l@x@f@ZRRLXPv@f@h@Z`@Zf@Zz@n@f@ZXTFBd@Z|@d@nFlDpAdA`Ar@'},\n",
       "       'start_location': {'lat': 50.0863115, 'lng': 19.9547424},\n",
       "       'travel_mode': 'DRIVING'},\n",
       "      {'distance': {'text': '1.2 km', 'value': 1236},\n",
       "       'duration': {'text': '2 mins', 'value': 110},\n",
       "       'end_location': {'lat': 50.0679305, 'lng': 19.9523748},\n",
       "       'html_instructions': 'Turn <b>right</b> onto <b>II obwodnica</b>',\n",
       "       'maneuver': 'turn-right',\n",
       "       'polyline': {'points': '}ospHm~vxBNXFLBF@DBH@D@BFf@@lF@H?D?D@DBF@BBBBBBBB@D?D?TC~AWnB]TGVIVKTKn@[XQj@c@n@m@l@o@hAkA`@c@f@k@h@i@p@s@PSd@g@`AeAf@i@BCHGNOPKRK@AHETGRCRCj@EVATCt@Ed@E\\\\I\\\\KDC@?JGTORQHKHKT[Ra@Pc@Pi@BMRq@^{ANq@Ls@ViB'},\n",
       "       'start_location': {'lat': 50.0763076, 'lng': 19.9474294},\n",
       "       'travel_mode': 'DRIVING'},\n",
       "      {'distance': {'text': '0.3 km', 'value': 321},\n",
       "       'duration': {'text': '2 mins', 'value': 94},\n",
       "       'end_location': {'lat': 50.06510189999999, 'lng': 19.9515944},\n",
       "       'html_instructions': 'Turn <b>right</b> onto <b>Rakowicka</b>',\n",
       "       'maneuver': 'turn-right',\n",
       "       'polyline': {'points': 'q{qpHi}wxBZTFBB@B@nATx@J`El@jBTf@FN@F@PJ'},\n",
       "       'start_location': {'lat': 50.0679305, 'lng': 19.9523748},\n",
       "       'travel_mode': 'DRIVING'},\n",
       "      {'distance': {'text': '0.5 km', 'value': 476},\n",
       "       'duration': {'text': '2 mins', 'value': 100},\n",
       "       'end_location': {'lat': 50.0646454, 'lng': 19.9449779},\n",
       "       'html_instructions': 'Turn <b>right</b> onto <b>Lubicz</b>',\n",
       "       'maneuver': 'turn-right',\n",
       "       'polyline': {'points': '{iqpHmxwxBTjGDhABbB@b@V`H@b@JdCFjANtF?ZCZAD'},\n",
       "       'start_location': {'lat': 50.06510189999999, 'lng': 19.9515944},\n",
       "       'travel_mode': 'DRIVING'}],\n",
       "     'via_waypoint': []}],\n",
       "   'overview_polyline': {'points': 'obx}He}f_CdJ~_AfZfoBrj@rjC|Oxg@d`@vp@zlA~qBdl@vaAjh@fNr|@vYsA~GnAu[jWsnAtEaS|DwQ|EhF|SdUxIpJv]z^ff@jj@d~@rrAle@`Shw@`UfbBff@bsMjvDvfD|nAhfAl^jz@kV`a@|YxRvPl[`StKsArk@kOfrBqf@rpDo}@~cB{b@zYu@j]bUrkAhEreAb^r^wJtc@kbAli@mf@fa@{Xr|Aab@ntKkqCdqLiwD`sAgi@tq@cs@nnBiyBls@qm@z[bAfz@l\\\\tWi@fpA{s@h_CexApcBuhAd~@qrBx_@aXz_@mKtxAkmDnrDchJ|g@aS|qAcLx\\\\eAv]kT|vAaeAjWuQ~j@oMxsAaYvrB{b@fFBzy@|fA|y@tnAxjAlmBfvAfvBpnGp~JdtEtkHzzBxaD|xAjqDdw@hcBxoAfwBhx@psAhQlLhU~Abl@d@jr@`Srv@xWx[nVpj@hHnpFpI~_AxAtgAbBr{@pTh`@~Olo@hWzZpRji@hk@bZtMhu@iDpz@kAf{@p@n_Bj|@`x@pe@ta@fJ|h@eDtwBhh@|]x]lu@|aBfhAfkCjl@xkBd_@de@ryAh{Ct}@tlBpN~p@vI`y@jg@z}@bb@j`ApgAzhF~p@`mCvj@`iCzp@dvFzUzu@vZfe@neA`k@dbBxn@lVnJrO`KlUd^dSlr@p^nc@pu@xgAxj@~z@~[rP|b@yLj^sv@zUu\\\\fUmKfj@dC~g@fTn`@r[t_A``Crh@zTj]~LxIvOpT|e@bOn]`Kxs@nuArgAhmAb{@bMfMf]xeAtVv`@fdCpzBhu@ta@dfBpuAvvBtmC~f@nVtpA|W|YlGxZpXbL~d@hI~pB~Wpk@x_BruBt}AjrB~xB~rCp}AbjBphCzj@d`@xAxW{NxYuKjLfD`v@p`Ar|Czp@dvA`YlQ`Oxk@d|@K|r@vDjZpnB`oAtoBviAdf@|gAb}@t{@hiAdxBaFtv@zC`p@hU|iA|VhT`Ojb@|H|IrLt@vnApBtfAdChWfEj\\\\p_@pOlPdj@jEnz@tChZj@xNoKxdAo\\\\|yApa@|UeWnDka@fG{SfgBa|Blx@mw@jgAefArRaAvGtBvAjL``@`Ptk@zK`Ktz@lj@z_C~X`lAhOj]dnAjbBvp@~n@zk@x_@xhB~jBxQpv@bc@Mvq@sLnc@qSfRb@fLnRrBp\\\\|LyEfGxIsBxPtKlJhYpIxT|GlOR|QmEdV`Bjj@~Czb@lDjyA`Xna@hIbNfMpf@pc@lj@p_@dDnH`TeOrTqNpCaIzNrBjBth@'},\n",
       "   'summary': 'DK7/E77, S7 and E77',\n",
       "   'warnings': [],\n",
       "   'waypoint_order': []}],\n",
       " 'status': 'OK'}"
      ]
     },
     "execution_count": 35,
     "metadata": {},
     "output_type": "execute_result"
    }
   ],
   "source": [
    "odpowiedz = r.json()\n",
    "odpowiedz"
   ]
  },
  {
   "cell_type": "markdown",
   "metadata": {},
   "source": [
    "Dla ścieżki odpowiedź jest długa, bo podaje listę możliwych tras, a każda trasa składa się z punktów. Jak to eksporować?"
   ]
  },
  {
   "cell_type": "code",
   "execution_count": 36,
   "metadata": {
    "collapsed": false
   },
   "outputs": [
    {
     "data": {
      "text/plain": [
       "dict_keys(['status', 'routes'])"
      ]
     },
     "execution_count": 36,
     "metadata": {},
     "output_type": "execute_result"
    }
   ],
   "source": [
    "odpowiedz.keys()"
   ]
  },
  {
   "cell_type": "code",
   "execution_count": 37,
   "metadata": {
    "collapsed": false
   },
   "outputs": [
    {
     "data": {
      "text/plain": [
       "'OK'"
      ]
     },
     "execution_count": 37,
     "metadata": {},
     "output_type": "execute_result"
    }
   ],
   "source": [
    "odpowiedz[\"status\"]"
   ]
  },
  {
   "cell_type": "code",
   "execution_count": 40,
   "metadata": {
    "collapsed": false
   },
   "outputs": [
    {
     "data": {
      "text/plain": [
       "1"
      ]
     },
     "execution_count": 40,
     "metadata": {},
     "output_type": "execute_result"
    }
   ],
   "source": [
    "len(odpowiedz[\"routes\"])"
   ]
  },
  {
   "cell_type": "code",
   "execution_count": 42,
   "metadata": {
    "collapsed": false
   },
   "outputs": [
    {
     "data": {
      "text/plain": [
       "dict_keys(['legs', 'overview_polyline', 'waypoint_order', 'warnings', 'copyrights', 'summary', 'bounds'])"
      ]
     },
     "execution_count": 42,
     "metadata": {},
     "output_type": "execute_result"
    }
   ],
   "source": [
    "odpowiedz[\"routes\"][0].keys()"
   ]
  },
  {
   "cell_type": "code",
   "execution_count": 47,
   "metadata": {
    "collapsed": false
   },
   "outputs": [
    {
     "data": {
      "text/plain": [
       "19"
      ]
     },
     "execution_count": 47,
     "metadata": {},
     "output_type": "execute_result"
    }
   ],
   "source": [
    "len(odpowiedz[\"routes\"][0][\"legs\"][0][\"steps\"])"
   ]
  },
  {
   "cell_type": "code",
   "execution_count": 50,
   "metadata": {
    "collapsed": false
   },
   "outputs": [
    {
     "data": {
      "text/plain": [
       "{'text': '296 km', 'value': 295559}"
      ]
     },
     "execution_count": 50,
     "metadata": {},
     "output_type": "execute_result"
    }
   ],
   "source": [
    "odpowiedz[\"routes\"][0][\"legs\"][0][\"distance\"]"
   ]
  },
  {
   "cell_type": "code",
   "execution_count": 48,
   "metadata": {
    "collapsed": false
   },
   "outputs": [
    {
     "data": {
      "text/plain": [
       "{'distance': {'text': '2.0 km', 'value': 2021},\n",
       " 'duration': {'text': '2 mins', 'value': 97},\n",
       " 'end_location': {'lat': 52.16852429999999, 'lng': 20.92702},\n",
       " 'html_instructions': 'Keep <b>left</b> at the fork to continue toward <b>aleja Krakowska/DK7/DK8/E67/E77</b>',\n",
       " 'maneuver': 'fork-left',\n",
       " 'polyline': {'points': '{xm}H_ts~BjEjA~F`Bl@RlEhBjBt@b@Vz@dAL\\\\FVBZ?X?XCVARGTCJEJILONOLMHQFK@U@UESGKKMMKQGSG]COCaBd@cC`@sB`@sBhAwFLk@Ji@p@_D`@qBf@eCbAaF`CaLX{AjAwFd@{B`@mBzAqHh@oCd@sBFWP}@lA_G'},\n",
       " 'start_location': {'lat': 52.1769385, 'lng': 20.9134358},\n",
       " 'travel_mode': 'DRIVING'}"
      ]
     },
     "execution_count": 48,
     "metadata": {},
     "output_type": "execute_result"
    }
   ],
   "source": [
    "odpowiedz[\"routes\"][0][\"legs\"][0][\"steps\"][5]"
   ]
  },
  {
   "cell_type": "markdown",
   "metadata": {},
   "source": [
    "## Co jeszcze możemy z nimi zrobić?\n",
    "\n",
    "Oczywiście - zapisać, odczytać."
   ]
  },
  {
   "cell_type": "code",
   "execution_count": 51,
   "metadata": {
    "collapsed": true
   },
   "outputs": [],
   "source": [
    "import json"
   ]
  },
  {
   "cell_type": "code",
   "execution_count": 53,
   "metadata": {
    "collapsed": false
   },
   "outputs": [],
   "source": [
    "# tak zapisujemy plik JSON\n",
    "json.dump(odpowiedz, open(\"../dane/waw_krk.json\", \"w\"), indent=2)\n",
    "# teraz warto go otworzy"
   ]
  },
  {
   "cell_type": "markdown",
   "metadata": {},
   "source": [
    "Warto zobaczyć jak wygląda w edytorze tekstu, np. [Sublime Text](http://www.sublimetext.com/) (płatny, ale można długo próbować) lub [Notepad++](https://notepad-plus-plus.org/) (darmowy, Windows). Do mniejszych plików (tak do 2MB) jest [Atom](https://atom.io/). Jak chcesz głęboką wodę, to można spróbować Vim lub Emacs."
   ]
  },
  {
   "cell_type": "code",
   "execution_count": 55,
   "metadata": {
    "collapsed": true
   },
   "outputs": [],
   "source": [
    "# a tak wczytujemy\n",
    "zaladowany = json.load(open(\"../dane/waw_krk.json\"))"
   ]
  },
  {
   "cell_type": "code",
   "execution_count": 56,
   "metadata": {
    "collapsed": false
   },
   "outputs": [
    {
     "data": {
      "text/plain": [
       "{'routes': [{'bounds': {'northeast': {'lat': 52.22968119999999,\n",
       "     'lng': 21.1494693},\n",
       "    'southwest': {'lat': 50.0646454, 'lng': 19.9449779}},\n",
       "   'copyrights': 'Map data ©2015 Google',\n",
       "   'legs': [{'distance': {'text': '296 km', 'value': 295559},\n",
       "     'duration': {'text': '4 hours 1 min', 'value': 14456},\n",
       "     'end_address': 'Kraków, Poland',\n",
       "     'end_location': {'lat': 50.0646454, 'lng': 19.9449779},\n",
       "     'start_address': 'Warsaw, Poland',\n",
       "     'start_location': {'lat': 52.22968119999999, 'lng': 21.0121891},\n",
       "     'steps': [{'distance': {'text': '0.1 km', 'value': 110},\n",
       "       'duration': {'text': '1 min', 'value': 24},\n",
       "       'end_location': {'lat': 52.2299527, 'lng': 21.0112515},\n",
       "       'html_instructions': 'Head <b>north</b> toward <b>Aleje Jerozolimskie/DW631</b>',\n",
       "       'polyline': {'points': 'obx}He}f_CGEO@E?G@E@A?C@A?A@A@C@EBABGFEHEFAL?B?P@N@L@H@F?B@HBHBHBHDJFD'},\n",
       "       'start_location': {'lat': 52.22968119999999, 'lng': 21.0121891},\n",
       "       'travel_mode': 'DRIVING'},\n",
       "      {'distance': {'text': '0.7 km', 'value': 663},\n",
       "       'duration': {'text': '2 mins', 'value': 115},\n",
       "       'end_location': {'lat': 52.2279632, 'lng': 21.0021163},\n",
       "       'html_instructions': 'Exit the roundabout onto <b>Aleje Jerozolimskie/DW631</b>',\n",
       "       'polyline': {'points': 'edx}Hiwf_CNf@HRFRJ`@H^FTBRF\\\\LhAn@vEf@~Db@tDJdANjAVhBJv@Fd@XbCb@lDDV@RBP@P?PBPHp@T|B'},\n",
       "       'start_location': {'lat': 52.2299527, 'lng': 21.0112515},\n",
       "       'travel_mode': 'DRIVING'},\n",
       "      {'distance': {'text': '0.9 km', 'value': 935},\n",
       "       'duration': {'text': '3 mins', 'value': 183},\n",
       "       'end_location': {'lat': 52.225146, 'lng': 20.9891921},\n",
       "       'html_instructions': 'At the roundabout, take the <b>1st</b> exit and stay on <b>Aleje Jerozolimskie/DW631</b>',\n",
       "       'maneuver': 'roundabout-right',\n",
       "       'polyline': {'points': 'www}Hg~d_C@PBN@B@L@B@H@DBNBNBL?@P|@\\\\bBLr@Hp@rB|OP~Ap@nFBTjCjSD^|AnL?@`@vD'},\n",
       "       'start_location': {'lat': 52.2279632, 'lng': 21.0021163},\n",
       "       'travel_mode': 'DRIVING'},\n",
       "      {'distance': {'text': '3.0 km', 'value': 2974},\n",
       "       'duration': {'text': '4 mins', 'value': 256},\n",
       "       'end_location': {'lat': 52.2117696, 'lng': 20.9518466},\n",
       "       'html_instructions': 'At <b>plac Zawiszy</b>, take the <b>1st</b> exit onto <b>Aleje Jerozolimskie/DW717</b><div style=\"font-size:0.9em\">Continue to follow Aleje Jerozolimskie</div>',\n",
       "       'maneuver': 'roundabout-right',\n",
       "       'polyline': {'points': 'efw}Hmmb_CLr@@H?@FXFZXtAXtAXvAZtAZ|AVhAdBjIThAH`@VtAJd@r@tDxE|WZpBh@vCpAhHf@tCfAlGXvALj@Z`B@F\\\\pBZnAPp@x@tC|AlFh@fBPl@b@`Bn@tB`@tAXhAj@jCz@pDp@dCr@`DdBbI@DDRFRH\\\\?DXhABPNl@?BT|@ZxAnBvIh@rBl@nBj@zAv@rBbAfBbAxA?@hH`MBDT^Zf@|@|A'},\n",
       "       'start_location': {'lat': 52.225146, 'lng': 20.9891921},\n",
       "       'travel_mode': 'DRIVING'},\n",
       "      {'distance': {'text': '4.8 km', 'value': 4807},\n",
       "       'duration': {'text': '4 mins', 'value': 215},\n",
       "       'end_location': {'lat': 52.1769385, 'lng': 20.9134358},\n",
       "       'html_instructions': 'Keep <b>left</b> to continue on <b>Aleje Jerozolimskie/DK7</b><div style=\"font-size:0.9em\">Continue to follow DK7</div>',\n",
       "       'maneuver': 'keep-left',\n",
       "       'polyline': {'points': 'qrt}Had{~Bp@dA|ClF|AjCVb@\\\\j@?@R\\\\DHDHdBvC|ClF~AnCz@fBnCnE`@r@dGlKPXNXd@v@JPLTLRNVNVzBtD|ApCh@~@vAvB`A|Ax@rArC|ElArBVb@T^vHrMjC~E~AvCLTrC~ENR`CjDdAnApAbBLPfBnDfAnBjBdDTf@z@~A|BnEnEdIt@nAxEdItBxDzApCd@j@dB|Bf@b@dAp@n@X`A\\\\|@XtAVbBf@lCp@f@NbAVdDx@x@\\\\t@Lt@NvD~@D@bDz@XFdDv@~Cx@HBlAXb@`@nEtAzCz@z@TtD|@'},\n",
       "       'start_location': {'lat': 52.2117696, 'lng': 20.9518466},\n",
       "       'travel_mode': 'DRIVING'},\n",
       "      {'distance': {'text': '2.0 km', 'value': 2021},\n",
       "       'duration': {'text': '2 mins', 'value': 97},\n",
       "       'end_location': {'lat': 52.16852429999999, 'lng': 20.92702},\n",
       "       'html_instructions': 'Keep <b>left</b> at the fork to continue toward <b>aleja Krakowska/DK7/DK8/E67/E77</b>',\n",
       "       'maneuver': 'fork-left',\n",
       "       'polyline': {'points': '{xm}H_ts~BjEjA~F`Bl@RlEhBjBt@b@Vz@dAL\\\\FVBZ?X?XCVARGTCJEJILONOLMHQFK@U@UESGKKMMKQGSG]COCaBd@cC`@sB`@sBhAwFLk@Ji@p@_D`@qBf@eCbAaF`CaLX{AjAwFd@{B`@mBzAqHh@oCd@sBFWP}@lA_G'},\n",
       "       'start_location': {'lat': 52.1769385, 'lng': 20.9134358},\n",
       "       'travel_mode': 'DRIVING'},\n",
       "      {'distance': {'text': '0.5 km', 'value': 486},\n",
       "       'duration': {'text': '1 min', 'value': 53},\n",
       "       'end_location': {'lat': 52.1664581, 'lng': 20.9332953},\n",
       "       'html_instructions': 'Keep <b>right</b>, follow signs for <b>DK7/E67/Kraków/DK8/Wrocław/Centrum</b>',\n",
       "       'maneuver': 'keep-right',\n",
       "       'polyline': {'points': 'gdl}H{hv~BFM@ABGBKZoA`@}Ap@gCl@{Cl@yCj@eCjAoFv@sDLm@'},\n",
       "       'start_location': {'lat': 52.16852429999999, 'lng': 20.92702},\n",
       "       'travel_mode': 'DRIVING'},\n",
       "      {'distance': {'text': '31.3 km', 'value': 31277},\n",
       "       'duration': {'text': '29 mins', 'value': 1728},\n",
       "       'end_location': {'lat': 51.8999062, 'lng': 20.8596196},\n",
       "       'html_instructions': 'Turn <b>right</b> onto <b>aleja Krakowska/DK7/DK8/E67/E77</b><div style=\"font-size:0.9em\">Continue to follow DK7/E77</div>',\n",
       "       'maneuver': 'turn-right',\n",
       "       'polyline': {'points': 'kwk}Hcpw~B`ChCTVDD~@`AlCtCxA~Aj@l@d@h@lAzAnDnDTVnArA~AbBTVpAvA^^HHJJzAfB`AfADFb@`@tArAxBzBVXvE`FRTTVfBrBFFNR@BlDfDl@n@b@b@r@t@~@`Av@v@dCrCnErEh@j@pEzEdDlDTTv@~@RX|@lAPVp@dAv@jAf@t@rFzHtGnJfCtDrEtGHNpBvCRVZd@tBzC`ChDzB~CdAzAbEfGzFrIFHpAlBjA~AbBrB`@VJFRHZJ`@FJD`@L|@VjA`@j@PtDhA~Bp@~@VbIzBdAV^Lv@RZHh@PpBj@x@Vn@R`@Jn@PVHl@Pr@R`@J`@LD@TFvAb@RDr@Tj@PfAZxBp@b@LdBf@fAZd@N|Ab@`AX\\\\JvBl@`Bf@f@NzBn@h@PvBl@ZJf@NZH^JdFzAnDdAfCt@d@LzAb@jEpAzBn@|Ab@JDtA`@t@TfAZf@N|Ab@fI`C^L`AX@?vEtAlA\\\\hDbAPFf@N~H|Bl@PnBl@bAXnGjBJBlHtBzLpDVFJDhLfDdI~BlDbAnJnCbKxCpHtB`MnDdD`AvDfApA^nKxCzH|BvFbBrA^`AZ~P~EtJpCbEjA`FtA~Ab@dFzAxDhAvF~AtEtAhJjC|Bn@hD`AZJfAZ~LlD\\\\HxNhEpN`EnBj@|F`BrBl@x@TfPvEvDfAnDbAnKzCv@TnDdAvF~A~Br@rMvDdOhEjAZzGnBhBh@v@TVHpLhDtNbE|DfAnGhBpF~A|EtA\\\\J^JpEpAt@V|@XtDxApJvDxJ~D`@PxGdCzGhCr@Zr@XbEbBtAj@DBr@VvBz@nFxBhGbCtChAlEfBjHtC|B|@`A^pBv@`HnCfDrA~EnBbBp@hAb@zClAdEbBpHtC~EnBjCdAlLrETLbIvCx@NpATjB?XAJATA~AOt@OBAjCgAlKcEvB{@~QmH`DeA\\\\EtBU^?PAl@BZDZBP@FB^DRDz@Xl@Vj@ZB@z@l@z@n@nC|BFFrD~CrD`D~@x@|@t@tBfB^\\\\rAhAb@^TRtEvDn@j@~@x@dC|B|MlLvCvBhC|@lC\\\\rB?dBQxCu@`@Kf@ODATEzD{@xJwCtDeArCs@nMeDxF{ArEkA`IsB`Bc@nA]n`@oK~T{Dt\\\\gIlD}@`KgC|DaA`_@gJlSeFrD}@xKoCnEgAtQwEbLuCdM}CzEmArCq@fG{AzFuAbBe@pBc@nKqC~A]vD}@nBg@tCw@hD{@dAYvD_A`Be@bOmDTG`@MpWyGlBi@xDeA'},\n",
       "       'start_location': {'lat': 52.1664581, 'lng': 20.9332953},\n",
       "       'travel_mode': 'DRIVING'},\n",
       "      {'distance': {'text': '46.0 km', 'value': 46009},\n",
       "       'duration': {'text': '24 mins', 'value': 1429},\n",
       "       'end_location': {'lat': 51.5309929, 'lng': 21.0829819},\n",
       "       'html_instructions': 'Continue onto <b>E77/S7</b> (signs for <b>Kraków</b>)',\n",
       "       'polyline': {'points': 'muw{Hsci~BzGaBtAOlAKbBAnADjANvAVbAZx@Zv@^nAt@`GrE~HnFnAz@r@h@bAf@hBn@nBd@bAPp@Hh@BdAFjA?pBDvCHhC?zABnMRnCB~IJvJJ~AFx@L`ARfAVr@TlBr@h@TtCdAbExAzChAn@ZvB|@bZfLr@T`B\\\\pATxAR`AF|@BrA?x@Cr@IvBYf@If@Q`@Mr@Uz@]bAe@fAo@bAo@`Aw@dA_Ap@q@|@cAR[`CsDv@{AhBuDfBkE|@cCr@iBxBaGx@}BrAsDdAqCbAmCj@wAtAmD~@sBhAsBb@u@z@mArA{Av@{@f@c@p@m@v@m@lA{@h@[t@i@`Ao@z@m@|IcGzDeCdAw@`@W`@WrCqB`CcBvAeA|@m@|@o@`Aq@r@g@z@k@t@i@r@e@b@WlBqAd@Yb@Sd@Uz@]v@Uz@WpA[l@Sl@Y`@QXM~Ak@|JqClE_A|DaA|FwAfj@iNtEkAhAYhBc@~NiDlHiBbLsChl@wNdiDaz@zVgGl`@{JvHmBlGiB|C_AdKgDpRgG|YsJtQuFrAa@dCw@pAg@bGmBrIqCtImCdPkFjRiGbGoBXItImCzBu@bFaBLEbFaBnZuJ~HgCtDkA~E_BfDeApAc@zTkHl`DicAxQ}FjGoBhBk@tLcEx@UbM_ENGrKeD|TyG`UeIvAk@t@e@p@_@l@Yl@[vBiA|@g@VOxA{@|@i@x@i@vByAx@m@fDiCv@o@|@u@dA_AnCyB|@{@zCaDvFmGnAuAjCaDz@gAp@{@zAkBv@{@zAiBtA_B~BiCl@s@l@o@`AiAvAaBjAwA|AgBxAgBx@aA`EyEhD_EvAaB~AkB|AgBhBwB|AkBlBwBlAwAtCiD~DsEbDyDjC}CfDyDlAyAtEmFrA}AvCcDzB_CrBsBzBuBpBeBXWdB_BlPeOzHgHjE_EfGgFl@g@~A{@zAw@hBa@~A[l@MzBQpBHfBR~Cp@lDpA`Bt@~GzCfRnIrH|CpDzA`Cx@zBn@xCf@nCXbA?|AFPAbBGhCGfBWzBa@pAWvAc@rBy@pBaAvBiAdQsK|CmBxH{E`CqA~BuAdGoDlEqCvA}@r@e@r@c@jBiAdM}HzFkDfHkEd@[~CoB\\\\SxEwCfFaDrG{DrBsAdAo@zR{L`IaFvD}BjNqIhIgFlPaKrPcK|PoKvA{@fKuGd@SpAw@bHiExGcEdA_A`A_Az@aAr@y@n@w@l@y@DEn@aAh@aA~@gBNYtAqDpDgHfEoKnBqE~HwQzEwK|CeHbEkJjCeGzB_FbAwBp@oAvAaCtAqBv@{@VY`CyBr@k@d@a@nA_AzAw@r@[`A]jAa@v@Sh@Kx@Mt@MxAMbDQ`BMxAMr@Gl@Iz@QbA[^K|@a@nAm@j@a@r@e@`@_@n@k@^a@|@cAb@i@V_@`@k@`@s@t@oAXo@d@eAf@mAl@{AjBuEpBgFdBeE~BeGdBiEpDeJdCqG~CaIpBcFrAiDhBoEvBqFtBkF~AeEbCiG~B}FvBoFnCaHd@qAbB}DhBwEj@{AbEcLxAwDlJeV`HiQzE{Lf[ax@rCeH~@_C`DmInEqK'},\n",
       "       'start_location': {'lat': 51.8999062, 'lng': 20.8596196},\n",
       "       'travel_mode': 'DRIVING'},\n",
       "      {'distance': {'text': '12.9 km', 'value': 12905},\n",
       "       'duration': {'text': '11 mins', 'value': 670},\n",
       "       'end_location': {'lat': 51.4279504, 'lng': 21.1495985},\n",
       "       'html_instructions': 'Continue onto <b>Warszawska/DK7/E77</b> (signs for <b>Kraków</b>)<div style=\"font-size:0.9em\">Continue to follow DK7/E77</div>',\n",
       "       'polyline': {'points': 'usoyHswt_ClBwEtYeu@\\\\{@vSgi@tEqL~@qBbAcCDInEgLbB}DBIxDsJhDwIfAoCfBsEl@{Ad@mABEr@eBb@_AXm@f@{@LULQj@u@f@m@^a@t@o@HGz@m@fAi@HEj@SnA_@~HgBhE_AlE}@jBc@LGjAYzBi@|A[nEiA`E_A`Ce@`@Ep@EbFOzKa@vJ[tL_@vEI\\\\C\\\\ClCEp@AbCApCKxBIhEK`BM|@KjA[j@QB?bAc@lBcAnIaGxDqC~CaClCuBDCzIqGtDqCbAu@|AkAp@g@l@c@p@e@fNeKtHyFnDkCrG{E~GaFbCiB|C{BtBcBjE_D|BeBhCmBh@[l@a@fAm@`@QnAe@~Ag@~Bk@~JuB`Do@jGsApBc@nDw@vHaBlAU`KwBfAU`GoAxDw@t@Q~A]lBa@xAYxD{@~HaBlIgBb@IhDo@XGB?xA[`JqB|A]tFkAf@I`AUzCm@dAWLCtIgBRE`@IJCv@QbAUpCm@REJCvJsBjH{At@OREJCjE}@lH_BFAhCk@lCi@|A]rCk@|@SnAYVGPCPAN@RDLD'},\n",
       "       'start_location': {'lat': 51.5309929, 'lng': 21.0829819},\n",
       "       'travel_mode': 'DRIVING'},\n",
       "      {'distance': {'text': '4.5 km', 'value': 4525},\n",
       "       'duration': {'text': '6 mins', 'value': 357},\n",
       "       'end_location': {'lat': 51.3968302, 'lng': 21.1077766},\n",
       "       'html_instructions': 'At <b>Rondo Narodowych Sił Zbrojnych</b>, take the <b>1st</b> exit onto <b>Stefana Czarnieckiego/DK7/E77</b><div style=\"font-size:0.9em\">Continue to follow DK7/E77</div>',\n",
       "       'maneuver': 'roundabout-right',\n",
       "       'polyline': {'points': 'uo{xH_xa`CBBBBBBB@BBD@B@B@FDXTXVTRJLjAxAhEnFrMlPnLxOn@x@tBnCvCrDdAtA`AxAtArBVb@v@tANTr@jALPLRJPXd@tBjDR\\\\fBxCnCtEz@vAzBxDlBbDx@zAPPfBdCj@z@pAdBLPzBvCpCjDd@j@BBJNPRv@|@X\\\\jB~BbAvAdCzDFHHJrArBdBnC?@|@tAdAdBPZdEzGFHR\\\\BB\\\\^BBPXJTNRDHRZ`AxAZf@d@r@jAhBxBnDFPFNHPHHh@z@|AhCpChEV\\\\ZXvBjD\\\\f@HNl@~@xErHbHzK`@n@Zf@bBjCDP@@?B@@BDBDDHRZPXv@pBPb@Xz@'},\n",
       "       'start_location': {'lat': 51.4279504, 'lng': 21.1495985},\n",
       "       'travel_mode': 'DRIVING'},\n",
       "      {'distance': {'text': '6.5 km', 'value': 6527},\n",
       "       'duration': {'text': '6 mins', 'value': 378},\n",
       "       'end_location': {'lat': 51.3526392, 'lng': 21.0462485},\n",
       "       'html_instructions': 'At <b>Rondo Jana Łaskiego</b>, take the <b>2nd</b> exit onto <b>Kielecka/DK7/E77</b><div style=\"font-size:0.9em\">Continue to follow DK7/E77</div>',\n",
       "       'maneuver': 'roundabout-right',\n",
       "       'polyline': {'points': 'emuxHsry_C?D?B@D?B@B?B@B@B@B?B@B@BB@@@@B@@B?@@@@B?@?B?BA@?@??A@?@A@?j@^fAnAJJHBBF|@vAnApBHJxA|BPXDFdGpJ`@n@j@|@dA`Bj@~@dAbBJV@BDJtAvBhCfEbCrDz@pArD|FT\\\\pB~CtBhDb@r@\\\\h@HJJPr@fAV\\\\d@p@`@d@v@nApArB~@xArB`DtAxBjBtChAhBtBfDFJDHFHFJl@|@RXtBfDXb@FXDFhBrChDnFpB`DhBpCXXBBzGnKT^RXvDbGfAdB@@d@t@nApBrEhHhBvC|BrDLPLTjAfB~BrDhAdBpApBz@tAdC|D~@vAb@r@HLT\\\\~@vAXd@b@n@rIbN@D|FfJlBtCFRBD`AdBlBxCFHr@dABDLHz@tA|NlU`GjJdC|Dx@pAt@lAlGzJHRV`@|@zA`BlChC|DDDHDbK~Od@x@LVLRRVHLFDB@NJj@^VJHFDFDFBHBJ'},\n",
       "       'start_location': {'lat': 51.3968302, 'lng': 21.1077766},\n",
       "       'travel_mode': 'DRIVING'},\n",
       "      {'distance': {'text': '33.2 km', 'value': 33174},\n",
       "       'duration': {'text': '30 mins', 'value': 1800},\n",
       "       'end_location': {'lat': 51.1020177, 'lng': 20.8366996},\n",
       "       'html_instructions': 'At the roundabout, take the <b>1st</b> exit and stay on <b>DK7/E77</b>',\n",
       "       'maneuver': 'roundabout-right',\n",
       "       'polyline': {'points': '_ylxHarm_C?P@N@H@HBDBFBFDHDDpBhDR\\\\n@jAPVTXnApBfDpFdBlCBDj@z@fC|DJNL\\\\jAnBTZhAhBhC~DPZLH|IjN~GzKXb@j@~@l@`AxA~B~@zAzBjDjC~DhAdBDNBHr@fAT^fAdBvAfCLP@BB@H@|AbCdGpJdCvDb@r@@BHTbAlBnEzGBDB@HDpDxFnCdEzA~Bn@dAjAjBn@fA`H`LdNbT`NhTrIfNJVHPj@~@bA|AhB|ChCxDRRbAzAfFjIlB~Cn@~@dDjF~@vAbA|ADL@DfAfBjAlB\\\\j@pCnEpBdDlBjCNRJFfCdEHJFTb@r@t@fAlCjELTp@|@`AxAh@bADBHFnLbR`PbW~@xArLdRpJnOlCbEz@rATZzDlG~AdCLVLPdBpCbOtUDDXf@DFtElG\\\\f@BH@BfBdCtAjBxAfBJFhFdHBBP\\\\hBdCjAbB|AjBLHlRdWpL~O`GdIj@x@l@`Af@bAfBhEDRFRHTXr@`AdCnBvEJRDDjUxk@l@|Ax@pB@J?@?BJRj@zA~@~BdChGBBDF`JbUjExKdQhc@L\\\\H^dAjC`AdCJ\\\\hBnENT@@vCjHvDxJ~HbSbFbMh@nALR`@z@rBlDpJdP@B|DpGN\\\\DJfBbD`ExGJHv@rAzVrb@bI~MBF?@zAjCvAfCzAbCb@r@@@B@dRr[fEhHFVxAfC~ApCdAbBPNhAnBl@fAlBdDrIvNxAfCT`@rBlDFR|ApCp@fANXbC`EHBJRl@bA^n@`@p@b@t@d@v@Zf@f@v@d@t@^j@V^Zd@`@d@TXPR\\\\^JHPRXVl@j@d@^ZVbAr@TN|@h@n@\\\\l@Xd@Rd@Pn@Rh@NVHh@Hh@Ll@Hh@HRBXB^BT@Z@d@@`@@n@@pDBp@?vB?xA@xA?H?LB|CDjA@tBDjD?zA?LK~@@P@pDBlADvCNbFh@vCj@`EfApFjBbFbB~CfARFFFx@XtAf@nBr@ZJl@PZN\\\\LVHtDnAP@ZHxEbBzE`BxEbB`FbBnAb@lAb@VJ\\\\Jn@XnBr@t@VhBl@hCz@|Aj@zAn@lAj@zA|@ZR`@XjA`A`@\\\\jAfApArAtA|AFTx@v@XVb@d@TTjA`An@j@`Br@@?fAb@tAZD@b@JbBPNGD@xNTFHzBDvBDxA@XGP@nPVnJR`B@vCDpFL`w@vAx@BfRTnGLtj@z@jX`@xd@p@|ABH@N?fA@`A@~@@z@BbA@|@BhCBpABhCDR@`CD~@Bh@@bABb@?D?rBBf@@h@@lAB@?~BBb@@hBDN?lABV?bABzABX@~ABjBB~BDbA@d@@rABZ?X@dB@\\\\@vADF?tABbCDz@@pABN@xBDr@BF?~A@|BD~ABp@@t@@x@@x@@zABxA@lAB|@BrBBrAB~@BbA@`BDjABF?pCFzAF^Bj@N`@H`@JrBt@rBv@rJxDfC`AvN|FRJJJTHf@VfAb@zAf@hCdAt@^JDjBt@|Aj@h@RlBx@ZLrBx@hBt@|An@lCfAvAj@dBp@b@Pv@ZrAl@PD|Aj@n@Th@Vp@XNDD@B@B?DA`@NnFvBhBr@?B@??@FD@@FBHDf@T`@P~B|@n@ZZL`@Rb@Vt@d@z@j@dC|AbAn@FDDB|@l@B@hAt@fCvAfAr@z@j@v@n@h@d@XVbAtAt@pAtAnCNTDJBDx@dB|@zAh@t@dAnAlB~ApGzExErDzErD`DfC'},\n",
       "       'start_location': {'lat': 51.3526392, 'lng': 21.0462485},\n",
       "       'travel_mode': 'DRIVING'},\n",
       "      {'distance': {'text': '46.3 km', 'value': 46288},\n",
       "       'duration': {'text': '23 mins', 'value': 1404},\n",
       "       'end_location': {'lat': 50.80465599999999, 'lng': 20.4849708},\n",
       "       'html_instructions': 'Continue onto <b>E77/S7</b> (signs for <b>Kraków</b>)',\n",
       "       'polyline': {'points': 'sz{vHktd~B^VLHdEzCPLLHt@b@^RXLZHZJf@Jn@F\\\\F~@DnAEfBSj@ILANC|C]h@GzBWpBMdAGvAErBG`U[@?^Ap@Cx@A`ACx@Aj@A|BElBEh@?@?@?\\\\Ap@AbAAj@Cr@?n@Ar@C`@?ZAdBCrBC~AAD?v@Ch@ALAz@A~@C|@AfBAz@AxAChA?fBCpCA`BCnCAtEOvTWfGAjFp@`Cp@bF~BrJdFbLfGjJdFnOfIfLpGzShMrAr@pDxBdGlDrD|BnKlGjI~EjBbA`I|Ej@ZzCbBxC|AbAj@lC|@fB^xB\\\\`GHhBKlC[dLuBtF}@bBI~A?|BFbCPlAXlAXnAb@tE`BzNvEpBj@tSjEtcAxTF?rBz@hCtAxCrB~ApA`CbClCpDxAbCzBfEpNt[fGtMzL`Y^|@DJf@hA~@nBhKjTtJxSlH`O`FjKpDvH`AtBtJvS|AhDr@bBl@zAbB`E`AhCxAhErBlG~ClKd@bB|@xCzOtj@dGtSfAlDfAlDbBlGZbAv@lCf@tAb@lAl@zAd@hAP`@dApB`@t@PZT`@r@dApAlB|@jA~@fArA|Ah@l@j@n@bAjA`DpDfBvB|ApBrA`Bb@n@HNRZTZhBvCxAdClC|ERd@nHvOrK~TrDbIzJxR\\\\x@HNLZNXjZpo@bGlM^t@b@z@fC|F|IxQFNrC|FbD|GTd@HNt@xAf@bAtAtCpBfEdCjFzCrG`HzNnC|FtCdGpAtCf@hAb@jAh@|Ab@vAf@fBd@hB^hBZhBZjBVlBPxAN`BJpAJfBLfBVtEHhBJbB@\\\\TpEVzENfCV|CR`BTdBTpAVpAXrA^rAZfAb@nA`@jAn@vAt@xAhAvBnAvBhB`DjDdGPXXf@v@vAn@fAb@t@rC`FnAzBhAnBlF~IfApBrAbClA|BxArC`AnB^z@~AlDtA|Cz@lBb@bATl@`@z@|AxDjBbFtAzDnAtDtAhEl@tBp@tBhAdExBxHbAdEvAdGjAjFrBfJzAxGdA~EpIha@dZr_BPx@Nv@~DzSnCjOrCbOhA|FnCfM~@fEbA`EbAbEnBdH~A~FxAlFbB~ElAzDzBpHrBzGRn@xCnJtBnGfC`IpFzQrBpHlB~HlBfIxBrKx@pE^zBdBzJh@bDTlBPdAZnB\\\\dCpBlPLz@l@tFz@rHP|AR|At@nGpBdQlAvK`BrNpB~PfA`KTzBDXDZ^vC^|CNbAh@xEb@~D^pCn@tFhBfOdBrOf@nEt@rGXvBZlCj@vEp@zFr@nFz@hFhA|Gx@zDlAnFbBpG|A|EnBdGxBzFzApDjAjCN\\\\jC`Fh@fAb@t@dCjEdCtD`CbD~FbHnEjEvFvEbBnA~BzA~D|BlExBtAl@zFzBdE|AhEhBxAf@zAf@vAj@bA^`A^^JpAd@rBt@vBv@pBv@vAj@hAb@zAh@xAj@tNtFtAf@vAj@`C|@lCdAzAj@jAb@`A^rAf@hBr@tAh@lAb@jAd@tAh@dA`@bA^hAb@jAb@jAb@`A^z@\\\\bA\\\\`A^jAd@xAh@fA`@dA`@h@Rf@RZLVJj@Td@Pd@Pd@Pl@Vd@Nj@Tt@\\\\j@VZLj@X~@b@jAr@fAp@~@n@zAjAzArAbA`At@x@^b@~AnB`DrEvAzBfAlBpCvGr@bBx@dCxBzH~@zDn@fChBhHtBrHlAdDpAvCpA|BlAtBxB|CvC|C~CjCpD`DzCxC\\\\\\\\dArAhAfAnBbC`B|BjBnClBtCxDbGzBjDrDvFhHfLhAdBb@p@d@p@`D|El@~@lQpXxEhHv@tAhGfJf@x@f@x@|@rA`C|CzAdBfCbCxD~BxAv@jBx@nBh@dBZdBPdBJ~A?vBIdEc@hC{@fDuA|CoBhDuClByBpBoChB_D|@iBpA}CzC_IdE{KnDeJtAuCtAmCjB_DnBqCrCeDz@}@z@{@fA_AhAy@vAaArAs@bEqB`C{@\\\\KpA[ZGPCnF}@d@AtAEtBGh@@n@@t@BfAFn@Fx@Jv@LbAR'},\n",
       "       'start_location': {'lat': 51.1020177, 'lng': 20.8366996},\n",
       "       'travel_mode': 'DRIVING'},\n",
       "      {'distance': {'text': '99.6 km', 'value': 99596},\n",
       "       'duration': {'text': '1 hour 29 mins', 'value': 5310},\n",
       "       'end_location': {'lat': 50.0863115, 'lng': 19.9547424},\n",
       "       'html_instructions': 'Continue onto <b>DK7/E77</b><div style=\"font-size:0.9em\">Continue to follow E77</div>',\n",
       "       'polyline': {'points': 'cxauHa~_|B~HjBd@HnAZf@Nd@R~@`@~Ap@fBt@~B`AbCdAzB`A`Bp@zAp@pBz@xAn@z@\\\\`@NxAl@FBlCjAtAj@n@XtAn@p@Zv@h@b@^~@|@~B~BdBhB|AzAPNx@`AHNv@lAd@v@Xj@fAhCvAvDvApDdArC@?r@fBf@jAjAvCXr@nA|Cd@lATn@tAhDb@jA`DfIHRdGpOh@pAj@xARd@t@dC\\\\|@v@xB`B`Ef@tAr@fB|DxJnAzCf@hAb@v@r@dAb@f@b@d@|@x@VN`@Vj@^VNfDjAz@ZlBr@|Bx@JBF?J@xHhCdGtBtFjBdBj@nMhEFFh@VB@v@^p@Z~@v@^b@JJZf@Rb@h@jAp@`B`BtDhAvCb@fAbA~BdAhCt@hBt@jBn@|A^z@?@R`@j@fA~@dB@@^n@j@z@n@bAt@lAn@dAp@fAnApB`@n@b@r@LHt@lA^v@DHXz@ZhAJb@Jj@LhANbBJtD\\\\jI\\\\tG@FPhCPbCHpAHj@Jx@N|@Pp@^jAb@fAj@|@l@x@r@v@HFpM`K`IpGt@n@vDxC~AnAhBxAhA|@vVdSb@^zCbCpAdAzEpDdBrAx@l@h@`@HNRRVRp@f@DDbCdBlCvB~BjBdAx@dAz@lLjJj@r@~@v@HHr@j@n@f@PJHBv@l@lDrChBxAzBfBzAjAx@h@`@Tn@\\\\xB~@p@VJBnC~@jBr@p@Xz@f@dAv@nAdAl@l@n@v@v@~@j@x@n@`Ad@x@t@pA^z@`AfCdAfD^lAhGzSxKv^Jp@nBlGf@|AJVTn@d@bAVb@FHHJn@p@j@l@RLRRjClCrDfDZZDDrOnN~@t@B@B@D?PP~JnJnAjALLDDZZ\\\\ZfGrFrAjAFFfNfMvEhE`CxBvKzJtI~HnIxHdCbCzCpCx@t@FNFHr@l@j@f@pBbBxCfCrAt@NFDB|@d@HBD@HAl@\\\\|EnC`CpA`@ThGlDl@^f@VvHfEdMhHlAp@bCxAnBtArC`CtAjAhY`UzBjBjCvBxAlAzBhB|BjBpC`CvXnTbEbDhBpAr@n@t@p@b@d@jApAdBzBfZr_@DL|@jAt@`AlCpDx@|@jAtAB@@@HBhK`NhApAzEdGvAnBnBdCpA|A|C~DdAlA`ArAj@t@nAbBRVtHdJvBvCpDpEfArA^l@nBdCbBhB@@nBpBzArApA`AlAx@pA|@|@f@fAj@~Ar@tAj@tAf@vA`@vA\\\\pAZl@L|Bf@dB^dF~@|HfBlEz@|EbAvCn@fGjA~K`Ct@NhE~@H@HBbDr@z@RzCj@n@LPD`@HTBhB\\\\bB`@n@NpDt@VFB@b@Hz@PjAVNDhBd@NBPDB@hA^hBp@ND`@R|AbAr@f@hA|@x@t@z@z@dAnAx@dAr@`Ah@x@f@~@v@tAr@`Bv@jBn@bB?B`@nABHV|@Nf@Rx@FRh@bCVrAZhBVdBR`BRpBPzBNzBJfC`@xJd@lOh@dPbA`V?R@R@Tj@hQBjAJnBPvBPbB@NR|Ad@dCRbAVpAd@xAf@|Ap@hBf@hAl@lA`@t@NRFHLFl@~@rBrCxFlHz@jAv@fAbEpFfOdStBnCdU`ZdCbDpAbBzAnBhGbI~@nAlEzFjChD~@lAhIjKz@hA~@lAzPtT\\\\f@Z\\\\h@n@~L`PBF?B@B@@HLPTh@r@dCbDn@x@jBdC|AnBvFjHBDDBH@dFvGFHp@|@`CzCd@n@rBhCzH|JbDpEFFLVh@r@r@|@DDHJ|LdPb@f@BBNHxOdSxEdGBBvDzE`D`E@NxAlBfEtFlEzFrGlIfAtATXdBzB`@d@FFPLnMjPXd@l@p@p@v@`DtEvFnH`@r@`BvBdApAhBvBdE~EPLZ`@lCjDzC`EzAlBjA|AtBjC|@lAhErFzBvCdIjKpA`BzCzDj@v@JJx@dAhCdD~BvCh@r@p@z@BHBDzApBzAdBl@j@l@h@dA|@lAz@tClBtAr@vAj@t@\\\\z@Xv@Tv@RxCr@xAV^H|FtADADAdFjAb@Jb@HhGhA|@VzDv@hATnCh@pB`@fUxEtDz@vFjARLbEt@lB`@`B\\\\vFjAbE|@xGxAz@Pj@JVBH@n@C|GrAvAZ`ANjAJh@Dn@@h@@h@ApBMj@Gl@Kh@Kj@Md@Mj@S`Aa@v@a@t@a@~@k@RK|@g@vAaAr@_@DEhAs@TKn@g@PKpAw@dC}A`G}DvB{@hA]VGrBUpACp@@~@D@?|AT|@VZHpAl@n@Xn@`@lA|@Z`@\\\\^|@dArI|LxDpF~FrIfDzEdDzEhAzAjAvA`AbAfAbAv@f@v@j@n@^~An@rDnAjDv@hDl@F?hIdB`JhBbIbBn]fHtJrBhATRB|EdA~Ez@bMnCbAT~@RFJtCr@~@TrA\\\\xA^^HH@D?V?bBVHH~A`@pAZd@JlCb@JCfCf@`Dn@`Dl@dI~AdIfBH@vCl@`Dp@jAVvFhAdSdEvDr@NBlB`@|@R`AVhB^bA^j@\\\\x@x@|@lArBzCdAfBrCpEdM|QhAdB`KbOzG`K`@n@Zl@Xj@Vt@Nb@Ll@P`ALhAFbADvA?nACpAEzAGjAk@|I_@fGEtAGrBCrAAnA?fA@nABr@Br@Fp@Fp@Ht@Jt@Jn@Nt@Rx@Tv@Rf@Vf@Vb@V`@V\\\\h@n@j@h@\\\\X^ZdAr@jBnAnH|EjPpKrFrDzHdFx@j@vJrGpBpAvE~Cn@d@LFd@ZxA|@p@b@hC`Bj@b@n@^DDr@^FBlBx@ZL~CrAB@lDvAn@XpCfAjCdAt@ZtCvAd@TpFzC|ChBFBxNpIFNdC|AhHfEjM`IfFbDnCdBrAz@lAl@FE\\\\RpAr@nAv@rAv@f@XrAv@`Ah@t@`@h@b@ZVPNPNj@p@Vb@Vf@JRVl@d@xA^lAnB~G|AtFVx@l@fB`@fAz@|AJLv@|@\\\\d@TZTXx@jATZHJFHVRz@rAvCpEj@dAVf@Zn@Pj@V|@\\\\|APp@bApCZp@X^tZt]lAlArNfJbDtBFZ|A|@d@\\\\ZT@B@@XXJLb@j@z@xArAfCZf@~BhEJBbB`DzMxVJVpCfFbKnRzKtSfCxEtFbKtBbEr@nBTx@Px@ThBPhBZ|E@f@@V@n@@zAChAKjAI~@i@nDm@zDu@nDw@lDe@jBg@jB]`BAF[jBIjAEjAA~CB|@BdAJvAL|AN|ALlAVfB^~Ar@|C|@fEFX`@|Bb@rCp@fEfIfj@`@vBh@bBN`@Z`ANb@DF\\\\l@DHb@n@f@h@BBDFFDfAbArDnCfJlHn@h@n@t@j@x@PVT`@^z@^bA|@fCvBrGdF~NATTl@Zn@Zj@\\\\f@z@dA`@Z`@ZpAl@p@Vx@Pz@Fl@BFAlA@R@rBA~CBnEHpBFTIxAGzXZzGJzC@fED~BFtBJ|AHp@LN@v@JZB`@DB?f@D`@BjDZdAJJ?RA^D^FtBZ~@Lz@Jh@Dh@Db@BZAlHE|GAjAAj@?XAN?P?|A?tEAHFlB@|@@lB?P?bA?fB?^?ZBj@@REb@Fh@H^HtATl@Lh@Lp@Rp@Rr@V`A\\\\n@Zr@\\\\v@b@l@^d@Xb@\\\\z@l@|BrBT\\\\DDnCbD~@tAZf@~DfHDDPVl@hAFJj@fAh@|@d@v@Zd@X`@^`@RRPPZZf@d@b@\\\\h@b@j@^v@`@ZL\\\\Np@Vn@Rt@Th@LF@lANb@Dj@Dt@DxCLxBF|@D~DLnEPfEJxBJz@BfCJtABdFPpADzBJjEL`L^~AHjDJlBFX@R@N@@?~FRl@?vADn@BxERlBFr@Av@Kh@Sh@WzAiA`Ay@x@o@`A{@n@e@zAmA^Yb@W\\\\Q`@O^MtEwAJ?~DmAdBg@`IeCdA]JCzIoCRQhUeH~@Od@AVBb@Hn@Px@ZdDhAhIlC|SjH~SbHhPvFlA^h@H|@Hz@O\\\\Mh@]^[~A{ANOPGdBiBjAmAv@s@~A{AfC_CFIDIHWRWBE\\\\o@Zs@^oAVmANy@J{@FcADiBJqEDsBJgBH]@G@IHs@Fq@Fe@F_@@CLaAFc@F[Pw@Jc@Nk@Lg@Rs@To@L_@Ti@\\\\}@\\\\u@\\\\s@BOLSr@gAnOuRjNqQDEvJcMV[v[sa@~AqBtDwEtD{Er@{@rDyEpBiCr@{@`AaAvCuCtAuAjBgBlCiCnAkApCoClBmBn@o@vCsCpAoAvHqH`BaBvBuBbAaAf@i@|A{AhFgFdTyS|@{@jU{TzByBjFeF|DyDjAqANOPC`B{@jEDd@Kx@D^@bDJ`CL`@FTDTJRNRPRTJTJVJXH^Hj@JtALpBFt@Hn@Lf@L^HRJPV^j@f@hBh@`Bh@h@\\\\d@N~A`@bEbAR?tBl@fD~@x@T~C|@PH\\\\NnBx@THdA`@PFB@B@L?BABAFC^c@HMFIFC@ANIN?XD~HzAh@L`F|@rCf@\\\\HLDLFLJLNJLHLFPHRFVF\\\\Fj@p@jKx@|LTtENrARvAJr@f@~BTdAh@pBBHx@jDj@hCh@|Bz@dDxAjGHZF\\\\dArETz@j@`Cz@tDvCdM~@vDd@pBX`AfKnc@jG|WjIp]bDfNpArFlAbFDX@DV`AnClLrA|Fj@vBZ~@Zx@f@jAh@bApAnBlDzEdJbMfY``@~F~HnBrCbBzBbAtAHJV`@hAvATZ~B|CbDjEbEvFnAdBRVpA|AHJ|@bAxDjFb@h@dIzKBDb@h@b@j@PRJNVT^ZrClBvDfCfIdFtCnBtCnBdG`ExBtA|@l@\\\\VTNzA`AtBtAbDtBb@ZbAl@JHrAz@^V|AbAvA`Aj@b@`@\\\\lApAnCxC|CpDhCtCpEjF~AhB|BfCfCxCxA|AdAhAz@dAz@dA@@j@p@`D|DlAvAlAxAlCtC`DpDxClD|ClDd@d@v@l@bAt@~H|FxItGDB|ApARRLLLPRVh@|@Xj@JVRl@\\\\fATv@VjAT~@r@rDHx@FnCDbBD|B@z@D|@Dl@Fr@Lz@Lr@Pr@Ld@Xp@Zp@T`@\\\\f@NRLLRNZXTJTLXNXHRDFBTBRDVBT?X?P@N?P?F?\\\\@jB@|@?n@?jA@z@?z@@Z@X?`@?TCPAXG`@GvAUbASBAvAWx@QVETERElAUzAYHC^IdBYnASjASbASbAQ^GTE^InAS~AY|@Ot@Of@I`@IR@h@Gr@MRE|@QREXE~AYt@Op@Mx@OPCHCHILCh@KNEb@Kd@S`@Q\\\\Ob@WZO~CoB^UHE\\\\WTIlAw@z@g@LIl@_@n@a@r@e@ZOh@_@d@Yb@UVIREVA`@@^?f@@p@?z@@jABfBBN?B?L@bA@V@l@@T@R@PDTDXNRLPLZ\\\\h@n@r@dAPTb@n@Xb@`@l@Xj@Xn@Tn@Rl@Nj@Lp@Jt@Ht@Ft@Bx@B|@BhBBnB@rB@jA@d@@h@BZJn@Lf@L\\\\PZTVPRPNVHl@HRAREVMRKRQb@k@l@u@n@}@l@s@TWNITKJCN?PAPBJBVNTRR\\\\JRLXZ~@V|@Hd@Ff@Bf@@f@Aj@Ed@Kj@Mr@Oj@Sv@Mb@GXI`@EXE`@AZA`@?N?P@VBRLp@Ld@Rd@LTRTXRVLb@NDFnBp@^JTFPDh@Pj@Ph@Rt@TrA^xA^lA^HC`AZHBbDbA~Ad@vA`@HBBH@?@@jA^|@Xp@RVFt@Rd@Nh@RbAZh@Nh@PbAX`AZFBv@THBt@T|@Xb@NZH\\\\J^J\\\\DVBH@PAd@IZK`@Sf@Ur@[TKz@a@p@[h@Wp@]j@Wr@]d@Qh@O^EVCd@DP@H@L?dAHz@Dv@Hh@D`BJb@Bv@HT@^Bb@Dl@Bb@Bj@B`@Dj@Bd@F|@Fn@Dv@Fz@FN@d@D`AF`CRH?pAHP@~@FJ?B?@?BCVFpFZP@ZBZDnALp@Bp@Dn@DL@\\\\@d@DN@T@\\\\?^AZC^Er@Mb@IZI`@Ib@ITETCXCTAh@@T@b@BPBPDTFPHVHb@Rh@TZPZNZPNHVH@@p@Pz@R~@LVBhAF`DVbEXpBNdAHbAFn@FJ@zAVpLdCjDt@VFbAT~A\\\\nAXlAVjB^fB^vAZtAZj@JTFt@LtAXjATxBb@hB^tAZp@N`B^tAVx@PNDp@NxAX|@RjDn@\\\\JRBz@Tl@J`ARTDrAVt@NhARvAZbAVJ@zCl@LDRDRJ`@^PLfAfAVTPPXZNNx@z@NLLP|@~@t@v@PPd@f@Z^tAxAJJ\\\\ZnAxAdAjAx@v@@L@DBFPTTTVZ`@b@PTTXdAbA'},\n",
       "       'start_location': {'lat': 50.80465599999999, 'lng': 20.4849708},\n",
       "       'travel_mode': 'DRIVING'},\n",
       "      {'distance': {'text': '1.2 km', 'value': 1229},\n",
       "       'duration': {'text': '2 mins', 'value': 133},\n",
       "       'end_location': {'lat': 50.0763076, 'lng': 19.9474294},\n",
       "       'html_instructions': 'Continue straight onto <b>Aleja 29 Listopada</b>',\n",
       "       'maneuver': 'straight',\n",
       "       'polyline': {'points': 'mnupHclxxBZVLJLJ^Zj@`@v@l@LHj@^~AfAPJl@`@hAr@|@n@hBlAh@Zz@f@VN^Rh@X~A|@bAp@|@l@x@f@ZRRLXPv@f@h@Z`@Zf@Zz@n@f@ZXTFBd@Z|@d@nFlDpAdA`Ar@'},\n",
       "       'start_location': {'lat': 50.0863115, 'lng': 19.9547424},\n",
       "       'travel_mode': 'DRIVING'},\n",
       "      {'distance': {'text': '1.2 km', 'value': 1236},\n",
       "       'duration': {'text': '2 mins', 'value': 110},\n",
       "       'end_location': {'lat': 50.0679305, 'lng': 19.9523748},\n",
       "       'html_instructions': 'Turn <b>right</b> onto <b>II obwodnica</b>',\n",
       "       'maneuver': 'turn-right',\n",
       "       'polyline': {'points': '}ospHm~vxBNXFLBF@DBH@D@BFf@@lF@H?D?D@DBF@BBBBBBBB@D?D?TC~AWnB]TGVIVKTKn@[XQj@c@n@m@l@o@hAkA`@c@f@k@h@i@p@s@PSd@g@`AeAf@i@BCHGNOPKRK@AHETGRCRCj@EVATCt@Ed@E\\\\I\\\\KDC@?JGTORQHKHKT[Ra@Pc@Pi@BMRq@^{ANq@Ls@ViB'},\n",
       "       'start_location': {'lat': 50.0763076, 'lng': 19.9474294},\n",
       "       'travel_mode': 'DRIVING'},\n",
       "      {'distance': {'text': '0.3 km', 'value': 321},\n",
       "       'duration': {'text': '2 mins', 'value': 94},\n",
       "       'end_location': {'lat': 50.06510189999999, 'lng': 19.9515944},\n",
       "       'html_instructions': 'Turn <b>right</b> onto <b>Rakowicka</b>',\n",
       "       'maneuver': 'turn-right',\n",
       "       'polyline': {'points': 'q{qpHi}wxBZTFBB@B@nATx@J`El@jBTf@FN@F@PJ'},\n",
       "       'start_location': {'lat': 50.0679305, 'lng': 19.9523748},\n",
       "       'travel_mode': 'DRIVING'},\n",
       "      {'distance': {'text': '0.5 km', 'value': 476},\n",
       "       'duration': {'text': '2 mins', 'value': 100},\n",
       "       'end_location': {'lat': 50.0646454, 'lng': 19.9449779},\n",
       "       'html_instructions': 'Turn <b>right</b> onto <b>Lubicz</b>',\n",
       "       'maneuver': 'turn-right',\n",
       "       'polyline': {'points': '{iqpHmxwxBTjGDhABbB@b@V`H@b@JdCFjANtF?ZCZAD'},\n",
       "       'start_location': {'lat': 50.06510189999999, 'lng': 19.9515944},\n",
       "       'travel_mode': 'DRIVING'}],\n",
       "     'via_waypoint': []}],\n",
       "   'overview_polyline': {'points': 'obx}He}f_CdJ~_AfZfoBrj@rjC|Oxg@d`@vp@zlA~qBdl@vaAjh@fNr|@vYsA~GnAu[jWsnAtEaS|DwQ|EhF|SdUxIpJv]z^ff@jj@d~@rrAle@`Shw@`UfbBff@bsMjvDvfD|nAhfAl^jz@kV`a@|YxRvPl[`StKsArk@kOfrBqf@rpDo}@~cB{b@zYu@j]bUrkAhEreAb^r^wJtc@kbAli@mf@fa@{Xr|Aab@ntKkqCdqLiwD`sAgi@tq@cs@nnBiyBls@qm@z[bAfz@l\\\\tWi@fpA{s@h_CexApcBuhAd~@qrBx_@aXz_@mKtxAkmDnrDchJ|g@aS|qAcLx\\\\eAv]kT|vAaeAjWuQ~j@oMxsAaYvrB{b@fFBzy@|fA|y@tnAxjAlmBfvAfvBpnGp~JdtEtkHzzBxaD|xAjqDdw@hcBxoAfwBhx@psAhQlLhU~Abl@d@jr@`Srv@xWx[nVpj@hHnpFpI~_AxAtgAbBr{@pTh`@~Olo@hWzZpRji@hk@bZtMhu@iDpz@kAf{@p@n_Bj|@`x@pe@ta@fJ|h@eDtwBhh@|]x]lu@|aBfhAfkCjl@xkBd_@de@ryAh{Ct}@tlBpN~p@vI`y@jg@z}@bb@j`ApgAzhF~p@`mCvj@`iCzp@dvFzUzu@vZfe@neA`k@dbBxn@lVnJrO`KlUd^dSlr@p^nc@pu@xgAxj@~z@~[rP|b@yLj^sv@zUu\\\\fUmKfj@dC~g@fTn`@r[t_A``Crh@zTj]~LxIvOpT|e@bOn]`Kxs@nuArgAhmAb{@bMfMf]xeAtVv`@fdCpzBhu@ta@dfBpuAvvBtmC~f@nVtpA|W|YlGxZpXbL~d@hI~pB~Wpk@x_BruBt}AjrB~xB~rCp}AbjBphCzj@d`@xAxW{NxYuKjLfD`v@p`Ar|Czp@dvA`YlQ`Oxk@d|@K|r@vDjZpnB`oAtoBviAdf@|gAb}@t{@hiAdxBaFtv@zC`p@hU|iA|VhT`Ojb@|H|IrLt@vnApBtfAdChWfEj\\\\p_@pOlPdj@jEnz@tChZj@xNoKxdAo\\\\|yApa@|UeWnDka@fG{SfgBa|Blx@mw@jgAefArRaAvGtBvAjL``@`Ptk@zK`Ktz@lj@z_C~X`lAhOj]dnAjbBvp@~n@zk@x_@xhB~jBxQpv@bc@Mvq@sLnc@qSfRb@fLnRrBp\\\\|LyEfGxIsBxPtKlJhYpIxT|GlOR|QmEdV`Bjj@~Czb@lDjyA`Xna@hIbNfMpf@pc@lj@p_@dDnH`TeOrTqNpCaIzNrBjBth@'},\n",
       "   'summary': 'DK7/E77, S7 and E77',\n",
       "   'warnings': [],\n",
       "   'waypoint_order': []}],\n",
       " 'status': 'OK'}"
      ]
     },
     "execution_count": 56,
     "metadata": {},
     "output_type": "execute_result"
    }
   ],
   "source": [
    "zaladowany"
   ]
  },
  {
   "cell_type": "code",
   "execution_count": 59,
   "metadata": {
    "collapsed": false
   },
   "outputs": [
    {
     "data": {
      "text/plain": [
       "{'results': [{'address_components': [{'long_name': '56',\n",
       "     'short_name': '56',\n",
       "     'types': ['street_number']},\n",
       "    {'long_name': 'Dobra', 'short_name': 'Dobra', 'types': ['route']},\n",
       "    {'long_name': 'Śródmieście',\n",
       "     'short_name': 'Śródmieście',\n",
       "     'types': ['sublocality_level_1', 'sublocality', 'political']},\n",
       "    {'long_name': 'Warszawa',\n",
       "     'short_name': 'Warszawa',\n",
       "     'types': ['locality', 'political']},\n",
       "    {'long_name': 'Warszawa',\n",
       "     'short_name': 'Warszawa',\n",
       "     'types': ['administrative_area_level_2', 'political']},\n",
       "    {'long_name': 'mazowieckie',\n",
       "     'short_name': 'mazowieckie',\n",
       "     'types': ['administrative_area_level_1', 'political']},\n",
       "    {'long_name': 'Poland',\n",
       "     'short_name': 'PL',\n",
       "     'types': ['country', 'political']},\n",
       "    {'long_name': '00-384', 'short_name': '00-384', 'types': ['postal_code']}],\n",
       "   'formatted_address': 'Dobra 56, 00-384 Warszawa, Poland',\n",
       "   'geometry': {'bounds': {'northeast': {'lat': 52.2422762, 'lng': 21.0242115},\n",
       "     'southwest': {'lat': 52.24226880000001, 'lng': 21.0241977}},\n",
       "    'location': {'lat': 52.2422762, 'lng': 21.0242115},\n",
       "    'location_type': 'RANGE_INTERPOLATED',\n",
       "    'viewport': {'northeast': {'lat': 52.2436214802915,\n",
       "      'lng': 21.0255535802915},\n",
       "     'southwest': {'lat': 52.2409235197085, 'lng': 21.02285561970849}}},\n",
       "   'place_id': 'EiFEb2JyYSA1NiwgMDAtMzg0IFdhcnN6YXdhLCBQb2xza2E',\n",
       "   'types': ['street_address']}],\n",
       " 'status': 'OK'}"
      ]
     },
     "execution_count": 59,
     "metadata": {},
     "output_type": "execute_result"
    }
   ],
   "source": [
    "# wracając do lokalizacji\n",
    "lokalizacja_adres = \"https://maps.googleapis.com/maps/api/geocode/json\"\n",
    "\n",
    "zlokalizowane = requests.get(lokalizacja_adres, params={\"address\": \"Dobra 56, Warszawa\"}).json()\n",
    "zlokalizowane"
   ]
  },
  {
   "cell_type": "markdown",
   "metadata": {},
   "source": [
    "Do rzeczy! Zlokalizujmy szkoły w Warszawie.\n",
    "\n",
    "Dane pochodzą z Zespołu Pomiaru Dydaktycznego Instytutu Badań Edukacyjnych, przez [pakiet R zozlak/ZDP](https://github.com/zozlak/ZPD), następnie przetworzony w ramach [badania wyników matur w DELab](https://github.com/stared/delab-matury)."
   ]
  },
  {
   "cell_type": "code",
   "execution_count": 63,
   "metadata": {
    "collapsed": true
   },
   "outputs": [],
   "source": [
    "import pandas as pd"
   ]
  },
  {
   "cell_type": "code",
   "execution_count": 64,
   "metadata": {
    "collapsed": true
   },
   "outputs": [],
   "source": [
    "licea = pd.read_csv(\"../dane/licea_warszawskie.csv\")"
   ]
  },
  {
   "cell_type": "code",
   "execution_count": 69,
   "metadata": {
    "collapsed": false
   },
   "outputs": [
    {
     "data": {
      "text/plain": [
       "165"
      ]
     },
     "execution_count": 69,
     "metadata": {},
     "output_type": "execute_result"
    }
   ],
   "source": [
    "len(licea)"
   ]
  },
  {
   "cell_type": "code",
   "execution_count": 65,
   "metadata": {
    "collapsed": false
   },
   "outputs": [
    {
     "data": {
      "text/html": [
       "<div>\n",
       "<table border=\"1\" class=\"dataframe\">\n",
       "  <thead>\n",
       "    <tr style=\"text-align: right;\">\n",
       "      <th></th>\n",
       "      <th>id_szkoly</th>\n",
       "      <th>nazwa_szkoly</th>\n",
       "      <th>adres</th>\n",
       "      <th>miejscowosc</th>\n",
       "      <th>kod_pocztowy</th>\n",
       "      <th>dzielnica</th>\n",
       "    </tr>\n",
       "  </thead>\n",
       "  <tbody>\n",
       "    <tr>\n",
       "      <th>0</th>\n",
       "      <td>25302</td>\n",
       "      <td>Liceum Ogólnokształcące dla Dorosłych nr 48 MGM</td>\n",
       "      <td>Obrońców Tobruku 40</td>\n",
       "      <td>Warszawa</td>\n",
       "      <td>01-494</td>\n",
       "      <td>Bemowo</td>\n",
       "    </tr>\n",
       "    <tr>\n",
       "      <th>1</th>\n",
       "      <td>25300</td>\n",
       "      <td>Sportowe Liceum Ogólnokształcące nr 67 MGM</td>\n",
       "      <td>Obrońców Tobruku 40</td>\n",
       "      <td>Warszawa</td>\n",
       "      <td>01-494</td>\n",
       "      <td>Bemowo</td>\n",
       "    </tr>\n",
       "    <tr>\n",
       "      <th>2</th>\n",
       "      <td>25298</td>\n",
       "      <td>LXXVIII Liceum Ogólnokształcące im. Marii Pawl...</td>\n",
       "      <td>Anieli Krzywoń 3</td>\n",
       "      <td>Warszawa</td>\n",
       "      <td>01-391</td>\n",
       "      <td>Bemowo</td>\n",
       "    </tr>\n",
       "    <tr>\n",
       "      <th>3</th>\n",
       "      <td>25499</td>\n",
       "      <td>Liceum Ogólnokształcące Niepubliczne nr 29 im....</td>\n",
       "      <td>Powązkowska 90</td>\n",
       "      <td>Warszawa</td>\n",
       "      <td>01-728</td>\n",
       "      <td>Bemowo</td>\n",
       "    </tr>\n",
       "    <tr>\n",
       "      <th>4</th>\n",
       "      <td>25303</td>\n",
       "      <td>CV Liceum Ogólnokształcące im. Zbigniewa Herberta</td>\n",
       "      <td>Vincenta van Gogha 1</td>\n",
       "      <td>Warszawa</td>\n",
       "      <td>03-188</td>\n",
       "      <td>Białołęka</td>\n",
       "    </tr>\n",
       "  </tbody>\n",
       "</table>\n",
       "</div>"
      ],
      "text/plain": [
       "   id_szkoly                                       nazwa_szkoly  \\\n",
       "0      25302    Liceum Ogólnokształcące dla Dorosłych nr 48 MGM   \n",
       "1      25300         Sportowe Liceum Ogólnokształcące nr 67 MGM   \n",
       "2      25298  LXXVIII Liceum Ogólnokształcące im. Marii Pawl...   \n",
       "3      25499  Liceum Ogólnokształcące Niepubliczne nr 29 im....   \n",
       "4      25303  CV Liceum Ogólnokształcące im. Zbigniewa Herberta   \n",
       "\n",
       "                  adres miejscowosc kod_pocztowy  dzielnica  \n",
       "0   Obrońców Tobruku 40    Warszawa       01-494     Bemowo  \n",
       "1   Obrońców Tobruku 40    Warszawa       01-494     Bemowo  \n",
       "2      Anieli Krzywoń 3    Warszawa       01-391     Bemowo  \n",
       "3        Powązkowska 90    Warszawa       01-728     Bemowo  \n",
       "4  Vincenta van Gogha 1    Warszawa       03-188  Białołęka  "
      ]
     },
     "execution_count": 65,
     "metadata": {},
     "output_type": "execute_result"
    }
   ],
   "source": [
    "licea.head()"
   ]
  },
  {
   "cell_type": "code",
   "execution_count": 68,
   "metadata": {
    "collapsed": false
   },
   "outputs": [
    {
     "data": {
      "text/plain": [
       "Śródmieście       33\n",
       "Mokotów           23\n",
       "Praga-Południe    17\n",
       "Wola              16\n",
       "Bielany           13\n",
       "Ursynów           12\n",
       "Praga-Północ       9\n",
       "Ochota             8\n",
       "Żoliborz           7\n",
       "Wawer              7\n",
       "Targówek           6\n",
       "Bemowo             4\n",
       "Włochy             2\n",
       "Wilanów            2\n",
       "Wesoła             2\n",
       "Białołęka          2\n",
       "Ursus              1\n",
       "Rembertów          1\n",
       "dtype: int64"
      ]
     },
     "execution_count": 68,
     "metadata": {},
     "output_type": "execute_result"
    }
   ],
   "source": [
    "licea[\"dzielnica\"].value_counts()"
   ]
  },
  {
   "cell_type": "markdown",
   "metadata": {},
   "source": [
    "### Zadanie\n",
    "\n",
    "Dla wybranej przez siebie dzielnicy Warszawy dodać kolumny `szerokosc` i `dlugosc` zgodnie z geolokalizacją szkoły."
   ]
  },
  {
   "cell_type": "code",
   "execution_count": null,
   "metadata": {
    "collapsed": true
   },
   "outputs": [],
   "source": []
  }
 ],
 "metadata": {
  "kernelspec": {
   "display_name": "Python 3",
   "language": "python",
   "name": "python3"
  },
  "language_info": {
   "codemirror_mode": {
    "name": "ipython",
    "version": 3
   },
   "file_extension": ".py",
   "mimetype": "text/x-python",
   "name": "python",
   "nbconvert_exporter": "python",
   "pygments_lexer": "ipython3",
   "version": "3.4.3"
  }
 },
 "nbformat": 4,
 "nbformat_minor": 0
}
