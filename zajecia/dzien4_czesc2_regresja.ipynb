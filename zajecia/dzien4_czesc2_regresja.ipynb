{
 "cells": [
  {
   "cell_type": "markdown",
   "metadata": {},
   "source": [
    "# Eksploracja, wykresy, regresja\n",
    "\n",
    "[Piotr Migdał](http://migdal.wikidot.com/), 2015, [DELab UW](http://www.delab.uw.edu.pl/)"
   ]
  },
  {
   "cell_type": "markdown",
   "metadata": {},
   "source": [
    "Pokażę proste metody statystyczne takie jak regresja liniowa.\n",
    "\n",
    "[SkillCraft - zbiór danych](http://summit.sfu.ca/item/13328 ) graczy z rozgrywek w strategię czasu rzeczywistego  [StarCraft 2](https://en.wikipedia.org/wiki/StarCraft_II:_Wings_of_Liberty), związanych a artykułem:\n",
    "\n",
    "* Thompson JJ, Blair MR, Chen L, Henrey AJ (2013) [Video Game Telemetry as a Critical Tool in the Study of Complex Skill Learning.](http://dx.doi.org/10.1371/journal.pone.0075129) PLoS ONE 8(9): e75129.\n",
    "\n",
    "Skrótowe infromacje w [tym archiwum](https://archive.ics.uci.edu/ml/datasets/SkillCraft1+Master+Table+Dataset), w szczególności opis zmiennych (przedstawiamy wybrane):\n",
    "\n",
    "> * `2.` LeagueIndex: Bronze, Silver, Gold, Platinum, Diamond, Master, GrandMaster, and Professional leagues coded 1-8 (Ordinal) \n",
    "* `3.` Age: Age of each player (integer) \n",
    "* `4.` HoursPerWeek: Reported hours spent playing per week (integer) \n",
    "* `5.` TotalHours: Reported total hours spent playing (integer) \n",
    "* `6.` APM: Action per minute (continuous) "
   ]
  },
  {
   "cell_type": "code",
   "execution_count": 2,
   "metadata": {
    "collapsed": true
   },
   "outputs": [],
   "source": [
    "%matplotlib inline\n",
    "import pandas as pd\n",
    "import numpy as np\n",
    "import seaborn as sns\n",
    "import matplotlib.pyplot as plt"
   ]
  },
  {
   "cell_type": "code",
   "execution_count": 16,
   "metadata": {
    "collapsed": true
   },
   "outputs": [],
   "source": [
    "df = pd.read_csv(\"../dane/SkillCraft1_Dataset.csv\", na_values=[\"?\"])"
   ]
  },
  {
   "cell_type": "code",
   "execution_count": 17,
   "metadata": {
    "collapsed": false
   },
   "outputs": [
    {
     "data": {
      "text/html": [
       "<div>\n",
       "<table border=\"1\" class=\"dataframe\">\n",
       "  <thead>\n",
       "    <tr style=\"text-align: right;\">\n",
       "      <th></th>\n",
       "      <th>GameID</th>\n",
       "      <th>LeagueIndex</th>\n",
       "      <th>Age</th>\n",
       "      <th>HoursPerWeek</th>\n",
       "      <th>TotalHours</th>\n",
       "      <th>APM</th>\n",
       "      <th>SelectByHotkeys</th>\n",
       "      <th>AssignToHotkeys</th>\n",
       "      <th>UniqueHotkeys</th>\n",
       "      <th>MinimapAttacks</th>\n",
       "      <th>MinimapRightClicks</th>\n",
       "      <th>NumberOfPACs</th>\n",
       "      <th>GapBetweenPACs</th>\n",
       "      <th>ActionLatency</th>\n",
       "      <th>ActionsInPAC</th>\n",
       "      <th>TotalMapExplored</th>\n",
       "      <th>WorkersMade</th>\n",
       "      <th>UniqueUnitsMade</th>\n",
       "      <th>ComplexUnitsMade</th>\n",
       "      <th>ComplexAbilitiesUsed</th>\n",
       "    </tr>\n",
       "  </thead>\n",
       "  <tbody>\n",
       "    <tr>\n",
       "      <th>0</th>\n",
       "      <td>52</td>\n",
       "      <td>5</td>\n",
       "      <td>27</td>\n",
       "      <td>10</td>\n",
       "      <td>3000</td>\n",
       "      <td>143.7180</td>\n",
       "      <td>0.003515</td>\n",
       "      <td>0.000220</td>\n",
       "      <td>7</td>\n",
       "      <td>0.000110</td>\n",
       "      <td>0.000392</td>\n",
       "      <td>0.004849</td>\n",
       "      <td>32.6677</td>\n",
       "      <td>40.8673</td>\n",
       "      <td>4.7508</td>\n",
       "      <td>28</td>\n",
       "      <td>0.001397</td>\n",
       "      <td>6</td>\n",
       "      <td>0</td>\n",
       "      <td>0.000000</td>\n",
       "    </tr>\n",
       "    <tr>\n",
       "      <th>1</th>\n",
       "      <td>55</td>\n",
       "      <td>5</td>\n",
       "      <td>23</td>\n",
       "      <td>10</td>\n",
       "      <td>5000</td>\n",
       "      <td>129.2322</td>\n",
       "      <td>0.003304</td>\n",
       "      <td>0.000259</td>\n",
       "      <td>4</td>\n",
       "      <td>0.000294</td>\n",
       "      <td>0.000432</td>\n",
       "      <td>0.004307</td>\n",
       "      <td>32.9194</td>\n",
       "      <td>42.3454</td>\n",
       "      <td>4.8434</td>\n",
       "      <td>22</td>\n",
       "      <td>0.001194</td>\n",
       "      <td>5</td>\n",
       "      <td>0</td>\n",
       "      <td>0.000208</td>\n",
       "    </tr>\n",
       "    <tr>\n",
       "      <th>2</th>\n",
       "      <td>56</td>\n",
       "      <td>4</td>\n",
       "      <td>30</td>\n",
       "      <td>10</td>\n",
       "      <td>200</td>\n",
       "      <td>69.9612</td>\n",
       "      <td>0.001101</td>\n",
       "      <td>0.000336</td>\n",
       "      <td>4</td>\n",
       "      <td>0.000294</td>\n",
       "      <td>0.000461</td>\n",
       "      <td>0.002926</td>\n",
       "      <td>44.6475</td>\n",
       "      <td>75.3548</td>\n",
       "      <td>4.0430</td>\n",
       "      <td>22</td>\n",
       "      <td>0.000745</td>\n",
       "      <td>6</td>\n",
       "      <td>0</td>\n",
       "      <td>0.000189</td>\n",
       "    </tr>\n",
       "    <tr>\n",
       "      <th>3</th>\n",
       "      <td>57</td>\n",
       "      <td>3</td>\n",
       "      <td>19</td>\n",
       "      <td>20</td>\n",
       "      <td>400</td>\n",
       "      <td>107.6016</td>\n",
       "      <td>0.001034</td>\n",
       "      <td>0.000213</td>\n",
       "      <td>1</td>\n",
       "      <td>0.000053</td>\n",
       "      <td>0.000543</td>\n",
       "      <td>0.003783</td>\n",
       "      <td>29.2203</td>\n",
       "      <td>53.7352</td>\n",
       "      <td>4.9155</td>\n",
       "      <td>19</td>\n",
       "      <td>0.000426</td>\n",
       "      <td>7</td>\n",
       "      <td>0</td>\n",
       "      <td>0.000384</td>\n",
       "    </tr>\n",
       "    <tr>\n",
       "      <th>4</th>\n",
       "      <td>58</td>\n",
       "      <td>3</td>\n",
       "      <td>32</td>\n",
       "      <td>10</td>\n",
       "      <td>500</td>\n",
       "      <td>122.8908</td>\n",
       "      <td>0.001136</td>\n",
       "      <td>0.000327</td>\n",
       "      <td>2</td>\n",
       "      <td>0.000000</td>\n",
       "      <td>0.001329</td>\n",
       "      <td>0.002368</td>\n",
       "      <td>22.6885</td>\n",
       "      <td>62.0813</td>\n",
       "      <td>9.3740</td>\n",
       "      <td>15</td>\n",
       "      <td>0.001174</td>\n",
       "      <td>4</td>\n",
       "      <td>0</td>\n",
       "      <td>0.000019</td>\n",
       "    </tr>\n",
       "  </tbody>\n",
       "</table>\n",
       "</div>"
      ],
      "text/plain": [
       "   GameID  LeagueIndex  Age  HoursPerWeek  TotalHours       APM  \\\n",
       "0      52            5   27            10        3000  143.7180   \n",
       "1      55            5   23            10        5000  129.2322   \n",
       "2      56            4   30            10         200   69.9612   \n",
       "3      57            3   19            20         400  107.6016   \n",
       "4      58            3   32            10         500  122.8908   \n",
       "\n",
       "   SelectByHotkeys  AssignToHotkeys  UniqueHotkeys  MinimapAttacks  \\\n",
       "0         0.003515         0.000220              7        0.000110   \n",
       "1         0.003304         0.000259              4        0.000294   \n",
       "2         0.001101         0.000336              4        0.000294   \n",
       "3         0.001034         0.000213              1        0.000053   \n",
       "4         0.001136         0.000327              2        0.000000   \n",
       "\n",
       "   MinimapRightClicks  NumberOfPACs  GapBetweenPACs  ActionLatency  \\\n",
       "0            0.000392      0.004849         32.6677        40.8673   \n",
       "1            0.000432      0.004307         32.9194        42.3454   \n",
       "2            0.000461      0.002926         44.6475        75.3548   \n",
       "3            0.000543      0.003783         29.2203        53.7352   \n",
       "4            0.001329      0.002368         22.6885        62.0813   \n",
       "\n",
       "   ActionsInPAC  TotalMapExplored  WorkersMade  UniqueUnitsMade  \\\n",
       "0        4.7508                28     0.001397                6   \n",
       "1        4.8434                22     0.001194                5   \n",
       "2        4.0430                22     0.000745                6   \n",
       "3        4.9155                19     0.000426                7   \n",
       "4        9.3740                15     0.001174                4   \n",
       "\n",
       "   ComplexUnitsMade  ComplexAbilitiesUsed  \n",
       "0                 0              0.000000  \n",
       "1                 0              0.000208  \n",
       "2                 0              0.000189  \n",
       "3                 0              0.000384  \n",
       "4                 0              0.000019  "
      ]
     },
     "execution_count": 17,
     "metadata": {},
     "output_type": "execute_result"
    }
   ],
   "source": [
    "df.head()"
   ]
  },
  {
   "cell_type": "code",
   "execution_count": 8,
   "metadata": {
    "collapsed": false
   },
   "outputs": [
    {
     "data": {
      "text/plain": [
       "LeagueIndex\n",
       "1    167\n",
       "2    347\n",
       "3    553\n",
       "4    811\n",
       "5    806\n",
       "6    621\n",
       "7     35\n",
       "8     55\n",
       "dtype: int64"
      ]
     },
     "execution_count": 8,
     "metadata": {},
     "output_type": "execute_result"
    }
   ],
   "source": [
    "df.groupby(\"LeagueIndex\").size()"
   ]
  },
  {
   "cell_type": "code",
   "execution_count": 9,
   "metadata": {
    "collapsed": false
   },
   "outputs": [
    {
     "data": {
      "text/html": [
       "<div>\n",
       "<table border=\"1\" class=\"dataframe\">\n",
       "  <thead>\n",
       "    <tr style=\"text-align: right;\">\n",
       "      <th></th>\n",
       "      <th>GameID</th>\n",
       "      <th>LeagueIndex</th>\n",
       "      <th>Age</th>\n",
       "      <th>HoursPerWeek</th>\n",
       "      <th>TotalHours</th>\n",
       "      <th>APM</th>\n",
       "      <th>SelectByHotkeys</th>\n",
       "      <th>AssignToHotkeys</th>\n",
       "      <th>UniqueHotkeys</th>\n",
       "      <th>MinimapAttacks</th>\n",
       "      <th>MinimapRightClicks</th>\n",
       "      <th>NumberOfPACs</th>\n",
       "      <th>GapBetweenPACs</th>\n",
       "      <th>ActionLatency</th>\n",
       "      <th>ActionsInPAC</th>\n",
       "      <th>TotalMapExplored</th>\n",
       "      <th>WorkersMade</th>\n",
       "      <th>UniqueUnitsMade</th>\n",
       "      <th>ComplexUnitsMade</th>\n",
       "      <th>ComplexAbilitiesUsed</th>\n",
       "    </tr>\n",
       "  </thead>\n",
       "  <tbody>\n",
       "    <tr>\n",
       "      <th>7</th>\n",
       "      <td>72</td>\n",
       "      <td>7</td>\n",
       "      <td>17</td>\n",
       "      <td>42</td>\n",
       "      <td>10000</td>\n",
       "      <td>212.6022</td>\n",
       "      <td>0.009040</td>\n",
       "      <td>0.000676</td>\n",
       "      <td>6</td>\n",
       "      <td>0.001164</td>\n",
       "      <td>0.001253</td>\n",
       "      <td>0.004952</td>\n",
       "      <td>24.6117</td>\n",
       "      <td>41.7671</td>\n",
       "      <td>6.6104</td>\n",
       "      <td>45</td>\n",
       "      <td>0.002277</td>\n",
       "      <td>9</td>\n",
       "      <td>0.000129</td>\n",
       "      <td>0.000249</td>\n",
       "    </tr>\n",
       "    <tr>\n",
       "      <th>104</th>\n",
       "      <td>357</td>\n",
       "      <td>7</td>\n",
       "      <td>21</td>\n",
       "      <td>24</td>\n",
       "      <td>1000</td>\n",
       "      <td>286.4538</td>\n",
       "      <td>0.017852</td>\n",
       "      <td>0.000717</td>\n",
       "      <td>6</td>\n",
       "      <td>0.000049</td>\n",
       "      <td>0.001298</td>\n",
       "      <td>0.006206</td>\n",
       "      <td>20.4232</td>\n",
       "      <td>30.9801</td>\n",
       "      <td>5.7171</td>\n",
       "      <td>30</td>\n",
       "      <td>0.001372</td>\n",
       "      <td>6</td>\n",
       "      <td>0.000000</td>\n",
       "      <td>0.000000</td>\n",
       "    </tr>\n",
       "    <tr>\n",
       "      <th>119</th>\n",
       "      <td>398</td>\n",
       "      <td>7</td>\n",
       "      <td>24</td>\n",
       "      <td>16</td>\n",
       "      <td>1250</td>\n",
       "      <td>216.6852</td>\n",
       "      <td>0.011957</td>\n",
       "      <td>0.000396</td>\n",
       "      <td>6</td>\n",
       "      <td>0.000528</td>\n",
       "      <td>0.000839</td>\n",
       "      <td>0.005691</td>\n",
       "      <td>21.6119</td>\n",
       "      <td>32.6225</td>\n",
       "      <td>5.0083</td>\n",
       "      <td>33</td>\n",
       "      <td>0.000688</td>\n",
       "      <td>8</td>\n",
       "      <td>0.000038</td>\n",
       "      <td>0.000000</td>\n",
       "    </tr>\n",
       "    <tr>\n",
       "      <th>320</th>\n",
       "      <td>953</td>\n",
       "      <td>7</td>\n",
       "      <td>25</td>\n",
       "      <td>42</td>\n",
       "      <td>2400</td>\n",
       "      <td>182.6208</td>\n",
       "      <td>0.005607</td>\n",
       "      <td>0.000310</td>\n",
       "      <td>8</td>\n",
       "      <td>0.000203</td>\n",
       "      <td>0.000662</td>\n",
       "      <td>0.005254</td>\n",
       "      <td>24.4969</td>\n",
       "      <td>38.6260</td>\n",
       "      <td>5.4065</td>\n",
       "      <td>18</td>\n",
       "      <td>0.001164</td>\n",
       "      <td>7</td>\n",
       "      <td>0.000000</td>\n",
       "      <td>0.000000</td>\n",
       "    </tr>\n",
       "    <tr>\n",
       "      <th>368</th>\n",
       "      <td>1096</td>\n",
       "      <td>7</td>\n",
       "      <td>19</td>\n",
       "      <td>56</td>\n",
       "      <td>1700</td>\n",
       "      <td>130.8600</td>\n",
       "      <td>0.003419</td>\n",
       "      <td>0.000552</td>\n",
       "      <td>5</td>\n",
       "      <td>0.000104</td>\n",
       "      <td>0.000069</td>\n",
       "      <td>0.003108</td>\n",
       "      <td>18.7416</td>\n",
       "      <td>52.3111</td>\n",
       "      <td>6.6667</td>\n",
       "      <td>15</td>\n",
       "      <td>0.000932</td>\n",
       "      <td>5</td>\n",
       "      <td>0.000000</td>\n",
       "      <td>0.000000</td>\n",
       "    </tr>\n",
       "  </tbody>\n",
       "</table>\n",
       "</div>"
      ],
      "text/plain": [
       "     GameID  LeagueIndex  Age  HoursPerWeek  TotalHours       APM  \\\n",
       "7        72            7   17            42       10000  212.6022   \n",
       "104     357            7   21            24        1000  286.4538   \n",
       "119     398            7   24            16        1250  216.6852   \n",
       "320     953            7   25            42        2400  182.6208   \n",
       "368    1096            7   19            56        1700  130.8600   \n",
       "\n",
       "     SelectByHotkeys  AssignToHotkeys  UniqueHotkeys  MinimapAttacks  \\\n",
       "7           0.009040         0.000676              6        0.001164   \n",
       "104         0.017852         0.000717              6        0.000049   \n",
       "119         0.011957         0.000396              6        0.000528   \n",
       "320         0.005607         0.000310              8        0.000203   \n",
       "368         0.003419         0.000552              5        0.000104   \n",
       "\n",
       "     MinimapRightClicks  NumberOfPACs  GapBetweenPACs  ActionLatency  \\\n",
       "7              0.001253      0.004952         24.6117        41.7671   \n",
       "104            0.001298      0.006206         20.4232        30.9801   \n",
       "119            0.000839      0.005691         21.6119        32.6225   \n",
       "320            0.000662      0.005254         24.4969        38.6260   \n",
       "368            0.000069      0.003108         18.7416        52.3111   \n",
       "\n",
       "     ActionsInPAC  TotalMapExplored  WorkersMade  UniqueUnitsMade  \\\n",
       "7          6.6104                45     0.002277                9   \n",
       "104        5.7171                30     0.001372                6   \n",
       "119        5.0083                33     0.000688                8   \n",
       "320        5.4065                18     0.001164                7   \n",
       "368        6.6667                15     0.000932                5   \n",
       "\n",
       "     ComplexUnitsMade  ComplexAbilitiesUsed  \n",
       "7            0.000129              0.000249  \n",
       "104          0.000000              0.000000  \n",
       "119          0.000038              0.000000  \n",
       "320          0.000000              0.000000  \n",
       "368          0.000000              0.000000  "
      ]
     },
     "execution_count": 9,
     "metadata": {},
     "output_type": "execute_result"
    }
   ],
   "source": [
    "df[df.LeagueIndex == 7].head()"
   ]
  },
  {
   "cell_type": "code",
   "execution_count": 10,
   "metadata": {
    "collapsed": false
   },
   "outputs": [
    {
     "data": {
      "text/html": [
       "<div>\n",
       "<table border=\"1\" class=\"dataframe\">\n",
       "  <thead>\n",
       "    <tr style=\"text-align: right;\">\n",
       "      <th></th>\n",
       "      <th>GameID</th>\n",
       "      <th>LeagueIndex</th>\n",
       "      <th>Age</th>\n",
       "      <th>HoursPerWeek</th>\n",
       "      <th>TotalHours</th>\n",
       "      <th>APM</th>\n",
       "      <th>SelectByHotkeys</th>\n",
       "      <th>AssignToHotkeys</th>\n",
       "      <th>UniqueHotkeys</th>\n",
       "      <th>MinimapAttacks</th>\n",
       "      <th>MinimapRightClicks</th>\n",
       "      <th>NumberOfPACs</th>\n",
       "      <th>GapBetweenPACs</th>\n",
       "      <th>ActionLatency</th>\n",
       "      <th>ActionsInPAC</th>\n",
       "      <th>TotalMapExplored</th>\n",
       "      <th>WorkersMade</th>\n",
       "      <th>UniqueUnitsMade</th>\n",
       "      <th>ComplexUnitsMade</th>\n",
       "      <th>ComplexAbilitiesUsed</th>\n",
       "    </tr>\n",
       "  </thead>\n",
       "  <tbody>\n",
       "    <tr>\n",
       "      <th>3340</th>\n",
       "      <td>10001</td>\n",
       "      <td>8</td>\n",
       "      <td>NaN</td>\n",
       "      <td>NaN</td>\n",
       "      <td>NaN</td>\n",
       "      <td>189.7404</td>\n",
       "      <td>0.004582</td>\n",
       "      <td>0.000655</td>\n",
       "      <td>4</td>\n",
       "      <td>0.000073</td>\n",
       "      <td>0.000618</td>\n",
       "      <td>0.006291</td>\n",
       "      <td>23.5130</td>\n",
       "      <td>32.5665</td>\n",
       "      <td>4.4451</td>\n",
       "      <td>25</td>\n",
       "      <td>0.002218</td>\n",
       "      <td>6</td>\n",
       "      <td>0.000000</td>\n",
       "      <td>0</td>\n",
       "    </tr>\n",
       "    <tr>\n",
       "      <th>3341</th>\n",
       "      <td>10005</td>\n",
       "      <td>8</td>\n",
       "      <td>NaN</td>\n",
       "      <td>NaN</td>\n",
       "      <td>NaN</td>\n",
       "      <td>287.8128</td>\n",
       "      <td>0.029040</td>\n",
       "      <td>0.001041</td>\n",
       "      <td>9</td>\n",
       "      <td>0.000231</td>\n",
       "      <td>0.000656</td>\n",
       "      <td>0.005399</td>\n",
       "      <td>31.6416</td>\n",
       "      <td>36.1143</td>\n",
       "      <td>4.5893</td>\n",
       "      <td>34</td>\n",
       "      <td>0.001138</td>\n",
       "      <td>6</td>\n",
       "      <td>0.000058</td>\n",
       "      <td>0</td>\n",
       "    </tr>\n",
       "    <tr>\n",
       "      <th>3342</th>\n",
       "      <td>10006</td>\n",
       "      <td>8</td>\n",
       "      <td>NaN</td>\n",
       "      <td>NaN</td>\n",
       "      <td>NaN</td>\n",
       "      <td>294.0996</td>\n",
       "      <td>0.029640</td>\n",
       "      <td>0.001076</td>\n",
       "      <td>6</td>\n",
       "      <td>0.000302</td>\n",
       "      <td>0.002374</td>\n",
       "      <td>0.006294</td>\n",
       "      <td>16.6393</td>\n",
       "      <td>36.8192</td>\n",
       "      <td>4.1850</td>\n",
       "      <td>26</td>\n",
       "      <td>0.000987</td>\n",
       "      <td>6</td>\n",
       "      <td>0.000000</td>\n",
       "      <td>0</td>\n",
       "    </tr>\n",
       "    <tr>\n",
       "      <th>3343</th>\n",
       "      <td>10015</td>\n",
       "      <td>8</td>\n",
       "      <td>NaN</td>\n",
       "      <td>NaN</td>\n",
       "      <td>NaN</td>\n",
       "      <td>274.2552</td>\n",
       "      <td>0.018121</td>\n",
       "      <td>0.001264</td>\n",
       "      <td>8</td>\n",
       "      <td>0.000053</td>\n",
       "      <td>0.000975</td>\n",
       "      <td>0.007111</td>\n",
       "      <td>10.6419</td>\n",
       "      <td>24.3556</td>\n",
       "      <td>4.3870</td>\n",
       "      <td>28</td>\n",
       "      <td>0.001106</td>\n",
       "      <td>6</td>\n",
       "      <td>0.000000</td>\n",
       "      <td>0</td>\n",
       "    </tr>\n",
       "    <tr>\n",
       "      <th>3344</th>\n",
       "      <td>10016</td>\n",
       "      <td>8</td>\n",
       "      <td>NaN</td>\n",
       "      <td>NaN</td>\n",
       "      <td>NaN</td>\n",
       "      <td>274.3404</td>\n",
       "      <td>0.023131</td>\n",
       "      <td>0.000739</td>\n",
       "      <td>8</td>\n",
       "      <td>0.000622</td>\n",
       "      <td>0.003552</td>\n",
       "      <td>0.005355</td>\n",
       "      <td>19.1568</td>\n",
       "      <td>36.3098</td>\n",
       "      <td>5.2811</td>\n",
       "      <td>28</td>\n",
       "      <td>0.000739</td>\n",
       "      <td>6</td>\n",
       "      <td>0.000000</td>\n",
       "      <td>0</td>\n",
       "    </tr>\n",
       "  </tbody>\n",
       "</table>\n",
       "</div>"
      ],
      "text/plain": [
       "      GameID  LeagueIndex  Age  HoursPerWeek  TotalHours       APM  \\\n",
       "3340   10001            8  NaN           NaN         NaN  189.7404   \n",
       "3341   10005            8  NaN           NaN         NaN  287.8128   \n",
       "3342   10006            8  NaN           NaN         NaN  294.0996   \n",
       "3343   10015            8  NaN           NaN         NaN  274.2552   \n",
       "3344   10016            8  NaN           NaN         NaN  274.3404   \n",
       "\n",
       "      SelectByHotkeys  AssignToHotkeys  UniqueHotkeys  MinimapAttacks  \\\n",
       "3340         0.004582         0.000655              4        0.000073   \n",
       "3341         0.029040         0.001041              9        0.000231   \n",
       "3342         0.029640         0.001076              6        0.000302   \n",
       "3343         0.018121         0.001264              8        0.000053   \n",
       "3344         0.023131         0.000739              8        0.000622   \n",
       "\n",
       "      MinimapRightClicks  NumberOfPACs  GapBetweenPACs  ActionLatency  \\\n",
       "3340            0.000618      0.006291         23.5130        32.5665   \n",
       "3341            0.000656      0.005399         31.6416        36.1143   \n",
       "3342            0.002374      0.006294         16.6393        36.8192   \n",
       "3343            0.000975      0.007111         10.6419        24.3556   \n",
       "3344            0.003552      0.005355         19.1568        36.3098   \n",
       "\n",
       "      ActionsInPAC  TotalMapExplored  WorkersMade  UniqueUnitsMade  \\\n",
       "3340        4.4451                25     0.002218                6   \n",
       "3341        4.5893                34     0.001138                6   \n",
       "3342        4.1850                26     0.000987                6   \n",
       "3343        4.3870                28     0.001106                6   \n",
       "3344        5.2811                28     0.000739                6   \n",
       "\n",
       "      ComplexUnitsMade  ComplexAbilitiesUsed  \n",
       "3340          0.000000                     0  \n",
       "3341          0.000058                     0  \n",
       "3342          0.000000                     0  \n",
       "3343          0.000000                     0  \n",
       "3344          0.000000                     0  "
      ]
     },
     "execution_count": 10,
     "metadata": {},
     "output_type": "execute_result"
    }
   ],
   "source": [
    "df[df.LeagueIndex == 8].head()"
   ]
  },
  {
   "cell_type": "code",
   "execution_count": 12,
   "metadata": {
    "collapsed": false
   },
   "outputs": [
    {
     "data": {
      "text/plain": [
       "GameID                  55\n",
       "LeagueIndex             55\n",
       "Age                      0\n",
       "HoursPerWeek             0\n",
       "TotalHours               0\n",
       "APM                     55\n",
       "SelectByHotkeys         55\n",
       "AssignToHotkeys         55\n",
       "UniqueHotkeys           55\n",
       "MinimapAttacks          55\n",
       "MinimapRightClicks      55\n",
       "NumberOfPACs            55\n",
       "GapBetweenPACs          55\n",
       "ActionLatency           55\n",
       "ActionsInPAC            55\n",
       "TotalMapExplored        55\n",
       "WorkersMade             55\n",
       "UniqueUnitsMade         55\n",
       "ComplexUnitsMade        55\n",
       "ComplexAbilitiesUsed    55\n",
       "dtype: int64"
      ]
     },
     "execution_count": 12,
     "metadata": {},
     "output_type": "execute_result"
    }
   ],
   "source": [
    "df[df.LeagueIndex == 8].count()"
   ]
  },
  {
   "cell_type": "code",
   "execution_count": 18,
   "metadata": {
    "collapsed": true
   },
   "outputs": [],
   "source": [
    "df_mniej = df[df.LeagueIndex < 7]"
   ]
  },
  {
   "cell_type": "code",
   "execution_count": 14,
   "metadata": {
    "collapsed": false
   },
   "outputs": [
    {
     "data": {
      "text/plain": [
       "LeagueIndex\n",
       "1    167\n",
       "2    347\n",
       "3    553\n",
       "4    811\n",
       "5    806\n",
       "6    621\n",
       "dtype: int64"
      ]
     },
     "execution_count": 14,
     "metadata": {},
     "output_type": "execute_result"
    }
   ],
   "source": [
    "df_mniej.groupby(\"LeagueIndex\").size()"
   ]
  },
  {
   "cell_type": "code",
   "execution_count": 19,
   "metadata": {
    "collapsed": true
   },
   "outputs": [],
   "source": [
    "df = df_mniej"
   ]
  },
  {
   "cell_type": "code",
   "execution_count": 21,
   "metadata": {
    "collapsed": false
   },
   "outputs": [
    {
     "data": {
      "text/plain": [
       "<matplotlib.axes._subplots.AxesSubplot at 0x1091c7be0>"
      ]
     },
     "execution_count": 21,
     "metadata": {},
     "output_type": "execute_result"
    },
    {
     "data": {
      "image/png": "[encoded data removed]",
      "text/plain": [
       "<matplotlib.figure.Figure at 0x1091c7048>"
      ]
     },
     "metadata": {},
     "output_type": "display_data"
    }
   ],
   "source": [
    "df[[\"LeagueIndex\",\"Age\"]].boxplot(by=\"LeagueIndex\", figsize=(12,6))"
   ]
  },
  {
   "cell_type": "code",
   "execution_count": 64,
   "metadata": {
    "collapsed": false
   },
   "outputs": [
    {
     "data": {
      "text/plain": [
       "<matplotlib.axes._subplots.AxesSubplot at 0x10d19c390>"
      ]
     },
     "execution_count": 64,
     "metadata": {},
     "output_type": "execute_result"
    },
    {
     "data": {
      "image/png": "[encoded data removed]",
      "text/plain": [
       "<matplotlib.figure.Figure at 0x10cf61978>"
      ]
     },
     "metadata": {},
     "output_type": "display_data"
    }
   ],
   "source": [
    "sns.violinplot(\"LeagueIndex2\", \"APM\", data=df)"
   ]
  },
  {
   "cell_type": "code",
   "execution_count": 24,
   "metadata": {
    "collapsed": false,
    "scrolled": false
   },
   "outputs": [],
   "source": [
    "# for k, v in df_mniej.groupby(\"LeagueIndex\")['APM']:\n",
    "#    print(\"LeagueIndex: \", k)\n",
    "#    print(v)"
   ]
  },
  {
   "cell_type": "code",
   "execution_count": 26,
   "metadata": {
    "collapsed": false
   },
   "outputs": [
    {
     "data": {
      "text/plain": [
       "<matplotlib.axes._subplots.AxesSubplot at 0x10996c470>"
      ]
     },
     "execution_count": 26,
     "metadata": {},
     "output_type": "execute_result"
    },
    {
     "data": {
      "image/png": "[encoded data removed]",
      "text/plain": [
       "<matplotlib.figure.Figure at 0x1099347b8>"
      ]
     },
     "metadata": {},
     "output_type": "display_data"
    }
   ],
   "source": [
    "df['APM'].hist()"
   ]
  },
  {
   "cell_type": "code",
   "execution_count": 42,
   "metadata": {
    "collapsed": false
   },
   "outputs": [],
   "source": [
    "# df[df[\"LeagueIndex\"]isin([1, 6])]"
   ]
  },
  {
   "cell_type": "code",
   "execution_count": 54,
   "metadata": {
    "collapsed": true
   },
   "outputs": [],
   "source": [
    "kolorki = [\"#555555\", \"#111111\", \"#111111\", \"#111111\", \"#111111\", \"#ff0000\"]"
   ]
  },
  {
   "cell_type": "code",
   "execution_count": 68,
   "metadata": {
    "collapsed": false
   },
   "outputs": [
    {
     "data": {
      "text/plain": [
       "<matplotlib.text.Text at 0x10d9c2710>"
      ]
     },
     "execution_count": 68,
     "metadata": {},
     "output_type": "execute_result"
    },
    {
     "data": {
      "image/png": "[encoded data removed]",
      "text/plain": [
       "<matplotlib.figure.Figure at 0x10d6f1be0>"
      ]
     },
     "metadata": {},
     "output_type": "display_data"
    }
   ],
   "source": [
    "for nr_ligi, gracze in df.query(\"LeagueIndex in [1,6]\").groupby(\"LeagueIndex\")['APM']:\n",
    "    gracze.hist(range=(0, 400), bins=20, alpha=0.5, label=str(nr_ligi), color=kolorki[nr_ligi-1])\n",
    "plt.legend(loc=\"upper left\")\n",
    "plt.title(\"Kliki na minutę\")\n",
    "plt.vlines(100, 0, 120)\n",
    "plt.text(20, 80, \"leszcze\")\n",
    "plt.text(df[\"APM\"].mean(), 80, \"nie leszcze\")"
   ]
  },
  {
   "cell_type": "code",
   "execution_count": 43,
   "metadata": {
    "collapsed": true
   },
   "outputs": [],
   "source": [
    "grupy = df.groupby(\"LeagueIndex\")"
   ]
  },
  {
   "cell_type": "code",
   "execution_count": 56,
   "metadata": {
    "collapsed": false
   },
   "outputs": [
    {
     "data": {
      "text/html": [
       "<div>\n",
       "<table border=\"1\" class=\"dataframe\">\n",
       "  <thead>\n",
       "    <tr style=\"text-align: right;\">\n",
       "      <th></th>\n",
       "      <th>GameID</th>\n",
       "      <th>LeagueIndex</th>\n",
       "      <th>Age</th>\n",
       "      <th>HoursPerWeek</th>\n",
       "      <th>TotalHours</th>\n",
       "      <th>APM</th>\n",
       "      <th>SelectByHotkeys</th>\n",
       "      <th>AssignToHotkeys</th>\n",
       "      <th>UniqueHotkeys</th>\n",
       "      <th>MinimapAttacks</th>\n",
       "      <th>MinimapRightClicks</th>\n",
       "      <th>NumberOfPACs</th>\n",
       "      <th>GapBetweenPACs</th>\n",
       "      <th>ActionLatency</th>\n",
       "      <th>ActionsInPAC</th>\n",
       "      <th>TotalMapExplored</th>\n",
       "      <th>WorkersMade</th>\n",
       "      <th>UniqueUnitsMade</th>\n",
       "      <th>ComplexUnitsMade</th>\n",
       "      <th>ComplexAbilitiesUsed</th>\n",
       "    </tr>\n",
       "  </thead>\n",
       "  <tbody>\n",
       "    <tr>\n",
       "      <th>3</th>\n",
       "      <td>57</td>\n",
       "      <td>3</td>\n",
       "      <td>19</td>\n",
       "      <td>20</td>\n",
       "      <td>400</td>\n",
       "      <td>107.6016</td>\n",
       "      <td>0.001034</td>\n",
       "      <td>0.000213</td>\n",
       "      <td>1</td>\n",
       "      <td>0.000053</td>\n",
       "      <td>0.000543</td>\n",
       "      <td>0.003783</td>\n",
       "      <td>29.2203</td>\n",
       "      <td>53.7352</td>\n",
       "      <td>4.9155</td>\n",
       "      <td>19</td>\n",
       "      <td>0.000426</td>\n",
       "      <td>7</td>\n",
       "      <td>0</td>\n",
       "      <td>0.000384</td>\n",
       "    </tr>\n",
       "    <tr>\n",
       "      <th>4</th>\n",
       "      <td>58</td>\n",
       "      <td>3</td>\n",
       "      <td>32</td>\n",
       "      <td>10</td>\n",
       "      <td>500</td>\n",
       "      <td>122.8908</td>\n",
       "      <td>0.001136</td>\n",
       "      <td>0.000327</td>\n",
       "      <td>2</td>\n",
       "      <td>0.000000</td>\n",
       "      <td>0.001329</td>\n",
       "      <td>0.002368</td>\n",
       "      <td>22.6885</td>\n",
       "      <td>62.0813</td>\n",
       "      <td>9.3740</td>\n",
       "      <td>15</td>\n",
       "      <td>0.001174</td>\n",
       "      <td>4</td>\n",
       "      <td>0</td>\n",
       "      <td>0.000019</td>\n",
       "    </tr>\n",
       "    <tr>\n",
       "      <th>10</th>\n",
       "      <td>83</td>\n",
       "      <td>3</td>\n",
       "      <td>16</td>\n",
       "      <td>16</td>\n",
       "      <td>6000</td>\n",
       "      <td>153.8010</td>\n",
       "      <td>0.001677</td>\n",
       "      <td>0.000319</td>\n",
       "      <td>4</td>\n",
       "      <td>0.000000</td>\n",
       "      <td>0.000822</td>\n",
       "      <td>0.003772</td>\n",
       "      <td>23.4107</td>\n",
       "      <td>48.0711</td>\n",
       "      <td>7.0044</td>\n",
       "      <td>24</td>\n",
       "      <td>0.001593</td>\n",
       "      <td>7</td>\n",
       "      <td>0</td>\n",
       "      <td>0.000017</td>\n",
       "    </tr>\n",
       "    <tr>\n",
       "      <th>12</th>\n",
       "      <td>97</td>\n",
       "      <td>3</td>\n",
       "      <td>18</td>\n",
       "      <td>12</td>\n",
       "      <td>350</td>\n",
       "      <td>67.4754</td>\n",
       "      <td>0.000423</td>\n",
       "      <td>0.000169</td>\n",
       "      <td>1</td>\n",
       "      <td>0.000024</td>\n",
       "      <td>0.000145</td>\n",
       "      <td>0.002885</td>\n",
       "      <td>42.4370</td>\n",
       "      <td>68.0502</td>\n",
       "      <td>4.3222</td>\n",
       "      <td>16</td>\n",
       "      <td>0.000748</td>\n",
       "      <td>7</td>\n",
       "      <td>0</td>\n",
       "      <td>0.000435</td>\n",
       "    </tr>\n",
       "    <tr>\n",
       "      <th>13</th>\n",
       "      <td>98</td>\n",
       "      <td>3</td>\n",
       "      <td>38</td>\n",
       "      <td>6</td>\n",
       "      <td>1000</td>\n",
       "      <td>119.4366</td>\n",
       "      <td>0.004952</td>\n",
       "      <td>0.000052</td>\n",
       "      <td>2</td>\n",
       "      <td>0.000087</td>\n",
       "      <td>0.000035</td>\n",
       "      <td>0.002728</td>\n",
       "      <td>54.8718</td>\n",
       "      <td>79.2102</td>\n",
       "      <td>6.2293</td>\n",
       "      <td>21</td>\n",
       "      <td>0.001494</td>\n",
       "      <td>5</td>\n",
       "      <td>0</td>\n",
       "      <td>0.000000</td>\n",
       "    </tr>\n",
       "  </tbody>\n",
       "</table>\n",
       "</div>"
      ],
      "text/plain": [
       "    GameID  LeagueIndex  Age  HoursPerWeek  TotalHours       APM  \\\n",
       "3       57            3   19            20         400  107.6016   \n",
       "4       58            3   32            10         500  122.8908   \n",
       "10      83            3   16            16        6000  153.8010   \n",
       "12      97            3   18            12         350   67.4754   \n",
       "13      98            3   38             6        1000  119.4366   \n",
       "\n",
       "    SelectByHotkeys  AssignToHotkeys  UniqueHotkeys  MinimapAttacks  \\\n",
       "3          0.001034         0.000213              1        0.000053   \n",
       "4          0.001136         0.000327              2        0.000000   \n",
       "10         0.001677         0.000319              4        0.000000   \n",
       "12         0.000423         0.000169              1        0.000024   \n",
       "13         0.004952         0.000052              2        0.000087   \n",
       "\n",
       "    MinimapRightClicks  NumberOfPACs  GapBetweenPACs  ActionLatency  \\\n",
       "3             0.000543      0.003783         29.2203        53.7352   \n",
       "4             0.001329      0.002368         22.6885        62.0813   \n",
       "10            0.000822      0.003772         23.4107        48.0711   \n",
       "12            0.000145      0.002885         42.4370        68.0502   \n",
       "13            0.000035      0.002728         54.8718        79.2102   \n",
       "\n",
       "    ActionsInPAC  TotalMapExplored  WorkersMade  UniqueUnitsMade  \\\n",
       "3         4.9155                19     0.000426                7   \n",
       "4         9.3740                15     0.001174                4   \n",
       "10        7.0044                24     0.001593                7   \n",
       "12        4.3222                16     0.000748                7   \n",
       "13        6.2293                21     0.001494                5   \n",
       "\n",
       "    ComplexUnitsMade  ComplexAbilitiesUsed  \n",
       "3                  0              0.000384  \n",
       "4                  0              0.000019  \n",
       "10                 0              0.000017  \n",
       "12                 0              0.000435  \n",
       "13                 0              0.000000  "
      ]
     },
     "execution_count": 56,
     "metadata": {},
     "output_type": "execute_result"
    }
   ],
   "source": [
    "grupy.get_group(3).head()"
   ]
  },
  {
   "cell_type": "code",
   "execution_count": null,
   "metadata": {
    "collapsed": true
   },
   "outputs": [],
   "source": []
  },
  {
   "cell_type": "code",
   "execution_count": 70,
   "metadata": {
    "collapsed": false
   },
   "outputs": [
    {
     "data": {
      "text/plain": [
       "21.0"
      ]
     },
     "execution_count": 70,
     "metadata": {},
     "output_type": "execute_result"
    }
   ],
   "source": [
    "df[\"Age\"].median()"
   ]
  },
  {
   "cell_type": "code",
   "execution_count": 79,
   "metadata": {
    "collapsed": false
   },
   "outputs": [
    {
     "data": {
      "text/plain": [
       "12.0"
      ]
     },
     "execution_count": 79,
     "metadata": {},
     "output_type": "execute_result"
    }
   ],
   "source": [
    "df[\"HoursPerWeek\"].median()"
   ]
  },
  {
   "cell_type": "code",
   "execution_count": 78,
   "metadata": {
    "collapsed": true
   },
   "outputs": [],
   "source": [
    "df[\"mlody\"] = df[\"Age\"] < df[\"Age\"].median()\n",
    "df[\"maniacy\"] = df[\"HoursPerWeek\"] > df[\"HoursPerWeek\"].median()"
   ]
  },
  {
   "cell_type": "code",
   "execution_count": 74,
   "metadata": {
    "collapsed": false
   },
   "outputs": [
    {
     "data": {
      "text/plain": [
       "0    False\n",
       "1    False\n",
       "2    False\n",
       "3     True\n",
       "4    False\n",
       "Name: mlody, dtype: bool"
      ]
     },
     "execution_count": 74,
     "metadata": {},
     "output_type": "execute_result"
    }
   ],
   "source": [
    "df[\"mlody\"].head()"
   ]
  },
  {
   "cell_type": "code",
   "execution_count": 80,
   "metadata": {
    "collapsed": false
   },
   "outputs": [
    {
     "data": {
      "text/plain": [
       "<seaborn.axisgrid.FacetGrid at 0x10e204c50>"
      ]
     },
     "execution_count": 80,
     "metadata": {},
     "output_type": "execute_result"
    },
    {
     "data": {
      "image/png": "[encoded data removed]",
      "text/plain": [
       "<matplotlib.figure.Figure at 0x10d6ac780>"
      ]
     },
     "metadata": {},
     "output_type": "display_data"
    }
   ],
   "source": [
    "sns.factorplot(\"LeagueIndex\", \"APM\", data=df, hue=\"mlody\", col=\"maniacy\",\n",
    "               kind=\"point\")"
   ]
  },
  {
   "cell_type": "code",
   "execution_count": 81,
   "metadata": {
    "collapsed": false
   },
   "outputs": [
    {
     "data": {
      "text/html": [
       "<div>\n",
       "<table border=\"1\" class=\"dataframe\">\n",
       "  <thead>\n",
       "    <tr style=\"text-align: right;\">\n",
       "      <th></th>\n",
       "      <th>GameID</th>\n",
       "      <th>LeagueIndex</th>\n",
       "      <th>Age</th>\n",
       "      <th>HoursPerWeek</th>\n",
       "      <th>TotalHours</th>\n",
       "      <th>APM</th>\n",
       "      <th>SelectByHotkeys</th>\n",
       "      <th>AssignToHotkeys</th>\n",
       "      <th>UniqueHotkeys</th>\n",
       "      <th>MinimapAttacks</th>\n",
       "      <th>...</th>\n",
       "      <th>GapBetweenPACs</th>\n",
       "      <th>ActionLatency</th>\n",
       "      <th>ActionsInPAC</th>\n",
       "      <th>TotalMapExplored</th>\n",
       "      <th>WorkersMade</th>\n",
       "      <th>UniqueUnitsMade</th>\n",
       "      <th>ComplexUnitsMade</th>\n",
       "      <th>ComplexAbilitiesUsed</th>\n",
       "      <th>mlody</th>\n",
       "      <th>maniacy</th>\n",
       "    </tr>\n",
       "  </thead>\n",
       "  <tbody>\n",
       "    <tr>\n",
       "      <th>count</th>\n",
       "      <td>3305.000000</td>\n",
       "      <td>3305.000000</td>\n",
       "      <td>3305.000000</td>\n",
       "      <td>3304.000000</td>\n",
       "      <td>3303.000000</td>\n",
       "      <td>3305.000000</td>\n",
       "      <td>3305.000000</td>\n",
       "      <td>3305.000000</td>\n",
       "      <td>3305.000000</td>\n",
       "      <td>3305.000000</td>\n",
       "      <td>...</td>\n",
       "      <td>3305.000000</td>\n",
       "      <td>3305.000000</td>\n",
       "      <td>3305.000000</td>\n",
       "      <td>3305.000000</td>\n",
       "      <td>3305.000000</td>\n",
       "      <td>3305.000000</td>\n",
       "      <td>3305.000000</td>\n",
       "      <td>3305.000000</td>\n",
       "      <td>3305</td>\n",
       "      <td>3305</td>\n",
       "    </tr>\n",
       "    <tr>\n",
       "      <th>mean</th>\n",
       "      <td>4718.986989</td>\n",
       "      <td>4.090772</td>\n",
       "      <td>21.652950</td>\n",
       "      <td>15.743341</td>\n",
       "      <td>953.845595</td>\n",
       "      <td>113.777963</td>\n",
       "      <td>0.003967</td>\n",
       "      <td>0.000360</td>\n",
       "      <td>4.289561</td>\n",
       "      <td>0.000091</td>\n",
       "      <td>...</td>\n",
       "      <td>40.901643</td>\n",
       "      <td>64.458945</td>\n",
       "      <td>5.266766</td>\n",
       "      <td>22.057186</td>\n",
       "      <td>0.001029</td>\n",
       "      <td>6.535552</td>\n",
       "      <td>0.000060</td>\n",
       "      <td>0.000141</td>\n",
       "      <td>0.4499244</td>\n",
       "      <td>0.4623298</td>\n",
       "    </tr>\n",
       "    <tr>\n",
       "      <th>std</th>\n",
       "      <td>2655.043173</td>\n",
       "      <td>1.424743</td>\n",
       "      <td>4.218278</td>\n",
       "      <td>11.729187</td>\n",
       "      <td>17408.749363</td>\n",
       "      <td>47.546823</td>\n",
       "      <td>0.004690</td>\n",
       "      <td>0.000206</td>\n",
       "      <td>2.324981</td>\n",
       "      <td>0.000155</td>\n",
       "      <td>...</td>\n",
       "      <td>17.033924</td>\n",
       "      <td>18.961527</td>\n",
       "      <td>1.504577</td>\n",
       "      <td>7.408934</td>\n",
       "      <td>0.000518</td>\n",
       "      <td>1.857847</td>\n",
       "      <td>0.000111</td>\n",
       "      <td>0.000260</td>\n",
       "      <td>0.4975614</td>\n",
       "      <td>0.4986544</td>\n",
       "    </tr>\n",
       "    <tr>\n",
       "      <th>min</th>\n",
       "      <td>52.000000</td>\n",
       "      <td>1.000000</td>\n",
       "      <td>16.000000</td>\n",
       "      <td>0.000000</td>\n",
       "      <td>3.000000</td>\n",
       "      <td>22.059600</td>\n",
       "      <td>0.000000</td>\n",
       "      <td>0.000000</td>\n",
       "      <td>0.000000</td>\n",
       "      <td>0.000000</td>\n",
       "      <td>...</td>\n",
       "      <td>6.666700</td>\n",
       "      <td>24.632600</td>\n",
       "      <td>2.038900</td>\n",
       "      <td>5.000000</td>\n",
       "      <td>0.000077</td>\n",
       "      <td>2.000000</td>\n",
       "      <td>0.000000</td>\n",
       "      <td>0.000000</td>\n",
       "      <td>False</td>\n",
       "      <td>False</td>\n",
       "    </tr>\n",
       "    <tr>\n",
       "      <th>25%</th>\n",
       "      <td>2430.000000</td>\n",
       "      <td>3.000000</td>\n",
       "      <td>19.000000</td>\n",
       "      <td>8.000000</td>\n",
       "      <td>300.000000</td>\n",
       "      <td>78.873600</td>\n",
       "      <td>0.001238</td>\n",
       "      <td>0.000201</td>\n",
       "      <td>3.000000</td>\n",
       "      <td>0.000000</td>\n",
       "      <td>...</td>\n",
       "      <td>29.536900</td>\n",
       "      <td>51.285300</td>\n",
       "      <td>4.258500</td>\n",
       "      <td>17.000000</td>\n",
       "      <td>0.000681</td>\n",
       "      <td>5.000000</td>\n",
       "      <td>0.000000</td>\n",
       "      <td>0.000000</td>\n",
       "      <td>0</td>\n",
       "      <td>0</td>\n",
       "    </tr>\n",
       "    <tr>\n",
       "      <th>50%</th>\n",
       "      <td>4789.000000</td>\n",
       "      <td>4.000000</td>\n",
       "      <td>21.000000</td>\n",
       "      <td>12.000000</td>\n",
       "      <td>500.000000</td>\n",
       "      <td>106.621800</td>\n",
       "      <td>0.002401</td>\n",
       "      <td>0.000347</td>\n",
       "      <td>4.000000</td>\n",
       "      <td>0.000038</td>\n",
       "      <td>...</td>\n",
       "      <td>37.268800</td>\n",
       "      <td>61.445300</td>\n",
       "      <td>5.084500</td>\n",
       "      <td>22.000000</td>\n",
       "      <td>0.000903</td>\n",
       "      <td>6.000000</td>\n",
       "      <td>0.000000</td>\n",
       "      <td>0.000020</td>\n",
       "      <td>0</td>\n",
       "      <td>0</td>\n",
       "    </tr>\n",
       "    <tr>\n",
       "      <th>75%</th>\n",
       "      <td>6993.000000</td>\n",
       "      <td>5.000000</td>\n",
       "      <td>24.000000</td>\n",
       "      <td>20.000000</td>\n",
       "      <td>800.000000</td>\n",
       "      <td>139.340400</td>\n",
       "      <td>0.004825</td>\n",
       "      <td>0.000491</td>\n",
       "      <td>6.000000</td>\n",
       "      <td>0.000110</td>\n",
       "      <td>...</td>\n",
       "      <td>48.650000</td>\n",
       "      <td>74.216200</td>\n",
       "      <td>6.026000</td>\n",
       "      <td>27.000000</td>\n",
       "      <td>0.001257</td>\n",
       "      <td>8.000000</td>\n",
       "      <td>0.000087</td>\n",
       "      <td>0.000180</td>\n",
       "      <td>1</td>\n",
       "      <td>1</td>\n",
       "    </tr>\n",
       "    <tr>\n",
       "      <th>max</th>\n",
       "      <td>9271.000000</td>\n",
       "      <td>6.000000</td>\n",
       "      <td>44.000000</td>\n",
       "      <td>168.000000</td>\n",
       "      <td>1000000.000000</td>\n",
       "      <td>389.831400</td>\n",
       "      <td>0.043088</td>\n",
       "      <td>0.001648</td>\n",
       "      <td>10.000000</td>\n",
       "      <td>0.003019</td>\n",
       "      <td>...</td>\n",
       "      <td>237.142900</td>\n",
       "      <td>176.372100</td>\n",
       "      <td>18.558100</td>\n",
       "      <td>58.000000</td>\n",
       "      <td>0.005149</td>\n",
       "      <td>13.000000</td>\n",
       "      <td>0.000902</td>\n",
       "      <td>0.003084</td>\n",
       "      <td>True</td>\n",
       "      <td>True</td>\n",
       "    </tr>\n",
       "  </tbody>\n",
       "</table>\n",
       "<p>8 rows × 22 columns</p>\n",
       "</div>"
      ],
      "text/plain": [
       "            GameID  LeagueIndex          Age  HoursPerWeek      TotalHours  \\\n",
       "count  3305.000000  3305.000000  3305.000000   3304.000000     3303.000000   \n",
       "mean   4718.986989     4.090772    21.652950     15.743341      953.845595   \n",
       "std    2655.043173     1.424743     4.218278     11.729187    17408.749363   \n",
       "min      52.000000     1.000000    16.000000      0.000000        3.000000   \n",
       "25%    2430.000000     3.000000    19.000000      8.000000      300.000000   \n",
       "50%    4789.000000     4.000000    21.000000     12.000000      500.000000   \n",
       "75%    6993.000000     5.000000    24.000000     20.000000      800.000000   \n",
       "max    9271.000000     6.000000    44.000000    168.000000  1000000.000000   \n",
       "\n",
       "               APM  SelectByHotkeys  AssignToHotkeys  UniqueHotkeys  \\\n",
       "count  3305.000000      3305.000000      3305.000000    3305.000000   \n",
       "mean    113.777963         0.003967         0.000360       4.289561   \n",
       "std      47.546823         0.004690         0.000206       2.324981   \n",
       "min      22.059600         0.000000         0.000000       0.000000   \n",
       "25%      78.873600         0.001238         0.000201       3.000000   \n",
       "50%     106.621800         0.002401         0.000347       4.000000   \n",
       "75%     139.340400         0.004825         0.000491       6.000000   \n",
       "max     389.831400         0.043088         0.001648      10.000000   \n",
       "\n",
       "       MinimapAttacks    ...      GapBetweenPACs  ActionLatency  ActionsInPAC  \\\n",
       "count     3305.000000    ...         3305.000000    3305.000000   3305.000000   \n",
       "mean         0.000091    ...           40.901643      64.458945      5.266766   \n",
       "std          0.000155    ...           17.033924      18.961527      1.504577   \n",
       "min          0.000000    ...            6.666700      24.632600      2.038900   \n",
       "25%          0.000000    ...           29.536900      51.285300      4.258500   \n",
       "50%          0.000038    ...           37.268800      61.445300      5.084500   \n",
       "75%          0.000110    ...           48.650000      74.216200      6.026000   \n",
       "max          0.003019    ...          237.142900     176.372100     18.558100   \n",
       "\n",
       "       TotalMapExplored  WorkersMade  UniqueUnitsMade  ComplexUnitsMade  \\\n",
       "count       3305.000000  3305.000000      3305.000000       3305.000000   \n",
       "mean          22.057186     0.001029         6.535552          0.000060   \n",
       "std            7.408934     0.000518         1.857847          0.000111   \n",
       "min            5.000000     0.000077         2.000000          0.000000   \n",
       "25%           17.000000     0.000681         5.000000          0.000000   \n",
       "50%           22.000000     0.000903         6.000000          0.000000   \n",
       "75%           27.000000     0.001257         8.000000          0.000087   \n",
       "max           58.000000     0.005149        13.000000          0.000902   \n",
       "\n",
       "       ComplexAbilitiesUsed      mlody    maniacy  \n",
       "count           3305.000000       3305       3305  \n",
       "mean               0.000141  0.4499244  0.4623298  \n",
       "std                0.000260  0.4975614  0.4986544  \n",
       "min                0.000000      False      False  \n",
       "25%                0.000000          0          0  \n",
       "50%                0.000020          0          0  \n",
       "75%                0.000180          1          1  \n",
       "max                0.003084       True       True  \n",
       "\n",
       "[8 rows x 22 columns]"
      ]
     },
     "execution_count": 81,
     "metadata": {},
     "output_type": "execute_result"
    }
   ],
   "source": [
    "df.describe()"
   ]
  },
  {
   "cell_type": "code",
   "execution_count": 87,
   "metadata": {
    "collapsed": false
   },
   "outputs": [
    {
     "data": {
      "text/plain": [
       "<matplotlib.axes._subplots.AxesSubplot at 0x10e785780>"
      ]
     },
     "execution_count": 87,
     "metadata": {},
     "output_type": "execute_result"
    },
    {
     "data": {
      "image/png": "[encoded data removed]",
      "text/plain": [
       "<matplotlib.figure.Figure at 0x10e95cef0>"
      ]
     },
     "metadata": {},
     "output_type": "display_data"
    }
   ],
   "source": [
    "# wyższa liga, lepiej\n",
    "df[\"LeagueIndex\"].hist(bins=6)"
   ]
  },
  {
   "cell_type": "code",
   "execution_count": 95,
   "metadata": {
    "collapsed": false
   },
   "outputs": [
    {
     "data": {
      "text/plain": [
       "<matplotlib.axes._subplots.AxesSubplot at 0x10ee6e400>"
      ]
     },
     "execution_count": 95,
     "metadata": {},
     "output_type": "execute_result"
    },
    {
     "data": {
      "image/png": "[encoded data removed]",
      "text/plain": [
       "<matplotlib.figure.Figure at 0x10ea68588>"
      ]
     },
     "metadata": {},
     "output_type": "display_data"
    }
   ],
   "source": [
    "df[\"LeagueIndex\"].value_counts().sort_index(ascending=False).plot(kind='barh')"
   ]
  },
  {
   "cell_type": "code",
   "execution_count": 117,
   "metadata": {
    "collapsed": false
   },
   "outputs": [],
   "source": [
    "df_some = df.loc[:,\"LeagueIndex\":\"APM\"]"
   ]
  },
  {
   "cell_type": "code",
   "execution_count": 120,
   "metadata": {
    "collapsed": false
   },
   "outputs": [
    {
     "ename": "ValueError",
     "evalue": "labels [1793] not contained in axis",
     "output_type": "error",
     "traceback": [
      "\u001b[0;31m---------------------------------------------------------------------------\u001b[0m",
      "\u001b[0;31mValueError\u001b[0m                                Traceback (most recent call last)",
      "\u001b[0;32m<ipython-input-120-cdc9cc501fc4>\u001b[0m in \u001b[0;36m<module>\u001b[0;34m()\u001b[0m\n\u001b[1;32m      1\u001b[0m \u001b[0;31m# absurdlanie wysoki HoursPlayed\u001b[0m\u001b[0;34m\u001b[0m\u001b[0;34m\u001b[0m\u001b[0m\n\u001b[0;32m----> 2\u001b[0;31m \u001b[0mdf_some\u001b[0m \u001b[0;34m=\u001b[0m \u001b[0mdf_some\u001b[0m\u001b[0;34m.\u001b[0m\u001b[0mdrop\u001b[0m\u001b[0;34m(\u001b[0m\u001b[0;36m1793\u001b[0m\u001b[0;34m)\u001b[0m\u001b[0;34m\u001b[0m\u001b[0m\n\u001b[0m",
      "\u001b[0;32m/usr/local/lib/python3.4/site-packages/pandas/core/generic.py\u001b[0m in \u001b[0;36mdrop\u001b[0;34m(self, labels, axis, level, inplace, errors)\u001b[0m\n\u001b[1;32m   1595\u001b[0m                 \u001b[0mnew_axis\u001b[0m \u001b[0;34m=\u001b[0m \u001b[0maxis\u001b[0m\u001b[0;34m.\u001b[0m\u001b[0mdrop\u001b[0m\u001b[0;34m(\u001b[0m\u001b[0mlabels\u001b[0m\u001b[0;34m,\u001b[0m \u001b[0mlevel\u001b[0m\u001b[0;34m=\u001b[0m\u001b[0mlevel\u001b[0m\u001b[0;34m,\u001b[0m \u001b[0merrors\u001b[0m\u001b[0;34m=\u001b[0m\u001b[0merrors\u001b[0m\u001b[0;34m)\u001b[0m\u001b[0;34m\u001b[0m\u001b[0m\n\u001b[1;32m   1596\u001b[0m             \u001b[0;32melse\u001b[0m\u001b[0;34m:\u001b[0m\u001b[0;34m\u001b[0m\u001b[0m\n\u001b[0;32m-> 1597\u001b[0;31m                 \u001b[0mnew_axis\u001b[0m \u001b[0;34m=\u001b[0m \u001b[0maxis\u001b[0m\u001b[0;34m.\u001b[0m\u001b[0mdrop\u001b[0m\u001b[0;34m(\u001b[0m\u001b[0mlabels\u001b[0m\u001b[0;34m,\u001b[0m \u001b[0merrors\u001b[0m\u001b[0;34m=\u001b[0m\u001b[0merrors\u001b[0m\u001b[0;34m)\u001b[0m\u001b[0;34m\u001b[0m\u001b[0m\n\u001b[0m\u001b[1;32m   1598\u001b[0m             \u001b[0mdropped\u001b[0m \u001b[0;34m=\u001b[0m \u001b[0mself\u001b[0m\u001b[0;34m.\u001b[0m\u001b[0mreindex\u001b[0m\u001b[0;34m(\u001b[0m\u001b[0;34m**\u001b[0m\u001b[0;34m{\u001b[0m\u001b[0maxis_name\u001b[0m\u001b[0;34m:\u001b[0m \u001b[0mnew_axis\u001b[0m\u001b[0;34m}\u001b[0m\u001b[0;34m)\u001b[0m\u001b[0;34m\u001b[0m\u001b[0m\n\u001b[1;32m   1599\u001b[0m             \u001b[0;32mtry\u001b[0m\u001b[0;34m:\u001b[0m\u001b[0;34m\u001b[0m\u001b[0m\n",
      "\u001b[0;32m/usr/local/lib/python3.4/site-packages/pandas/core/index.py\u001b[0m in \u001b[0;36mdrop\u001b[0;34m(self, labels, errors)\u001b[0m\n\u001b[1;32m   2568\u001b[0m         \u001b[0;32mif\u001b[0m \u001b[0mmask\u001b[0m\u001b[0;34m.\u001b[0m\u001b[0many\u001b[0m\u001b[0;34m(\u001b[0m\u001b[0;34m)\u001b[0m\u001b[0;34m:\u001b[0m\u001b[0;34m\u001b[0m\u001b[0m\n\u001b[1;32m   2569\u001b[0m             \u001b[0;32mif\u001b[0m \u001b[0merrors\u001b[0m \u001b[0;34m!=\u001b[0m \u001b[0;34m'ignore'\u001b[0m\u001b[0;34m:\u001b[0m\u001b[0;34m\u001b[0m\u001b[0m\n\u001b[0;32m-> 2570\u001b[0;31m                 \u001b[0;32mraise\u001b[0m \u001b[0mValueError\u001b[0m\u001b[0;34m(\u001b[0m\u001b[0;34m'labels %s not contained in axis'\u001b[0m \u001b[0;34m%\u001b[0m \u001b[0mlabels\u001b[0m\u001b[0;34m[\u001b[0m\u001b[0mmask\u001b[0m\u001b[0;34m]\u001b[0m\u001b[0;34m)\u001b[0m\u001b[0;34m\u001b[0m\u001b[0m\n\u001b[0m\u001b[1;32m   2571\u001b[0m             \u001b[0mindexer\u001b[0m \u001b[0;34m=\u001b[0m \u001b[0mindexer\u001b[0m\u001b[0;34m[\u001b[0m\u001b[0;34m~\u001b[0m\u001b[0mmask\u001b[0m\u001b[0;34m]\u001b[0m\u001b[0;34m\u001b[0m\u001b[0m\n\u001b[1;32m   2572\u001b[0m         \u001b[0;32mreturn\u001b[0m \u001b[0mself\u001b[0m\u001b[0;34m.\u001b[0m\u001b[0mdelete\u001b[0m\u001b[0;34m(\u001b[0m\u001b[0mindexer\u001b[0m\u001b[0;34m)\u001b[0m\u001b[0;34m\u001b[0m\u001b[0m\n",
      "\u001b[0;31mValueError\u001b[0m: labels [1793] not contained in axis"
     ]
    }
   ],
   "source": [
    "# absurdlanie wysoki HoursPlayed\n",
    "df_some = df_some.drop(1793)"
   ]
  },
  {
   "cell_type": "code",
   "execution_count": 121,
   "metadata": {
    "collapsed": false
   },
   "outputs": [
    {
     "data": {
      "text/html": [
       "<div>\n",
       "<table border=\"1\" class=\"dataframe\">\n",
       "  <thead>\n",
       "    <tr style=\"text-align: right;\">\n",
       "      <th></th>\n",
       "      <th>LeagueIndex</th>\n",
       "      <th>Age</th>\n",
       "      <th>HoursPerWeek</th>\n",
       "      <th>TotalHours</th>\n",
       "      <th>APM</th>\n",
       "    </tr>\n",
       "  </thead>\n",
       "  <tbody>\n",
       "    <tr>\n",
       "      <th>0</th>\n",
       "      <td>5</td>\n",
       "      <td>27</td>\n",
       "      <td>10</td>\n",
       "      <td>3000</td>\n",
       "      <td>143.7180</td>\n",
       "    </tr>\n",
       "    <tr>\n",
       "      <th>1</th>\n",
       "      <td>5</td>\n",
       "      <td>23</td>\n",
       "      <td>10</td>\n",
       "      <td>5000</td>\n",
       "      <td>129.2322</td>\n",
       "    </tr>\n",
       "    <tr>\n",
       "      <th>2</th>\n",
       "      <td>4</td>\n",
       "      <td>30</td>\n",
       "      <td>10</td>\n",
       "      <td>200</td>\n",
       "      <td>69.9612</td>\n",
       "    </tr>\n",
       "    <tr>\n",
       "      <th>3</th>\n",
       "      <td>3</td>\n",
       "      <td>19</td>\n",
       "      <td>20</td>\n",
       "      <td>400</td>\n",
       "      <td>107.6016</td>\n",
       "    </tr>\n",
       "    <tr>\n",
       "      <th>4</th>\n",
       "      <td>3</td>\n",
       "      <td>32</td>\n",
       "      <td>10</td>\n",
       "      <td>500</td>\n",
       "      <td>122.8908</td>\n",
       "    </tr>\n",
       "  </tbody>\n",
       "</table>\n",
       "</div>"
      ],
      "text/plain": [
       "   LeagueIndex  Age  HoursPerWeek  TotalHours       APM\n",
       "0            5   27            10        3000  143.7180\n",
       "1            5   23            10        5000  129.2322\n",
       "2            4   30            10         200   69.9612\n",
       "3            3   19            20         400  107.6016\n",
       "4            3   32            10         500  122.8908"
      ]
     },
     "execution_count": 121,
     "metadata": {},
     "output_type": "execute_result"
    }
   ],
   "source": [
    "df_some.head()"
   ]
  },
  {
   "cell_type": "code",
   "execution_count": 99,
   "metadata": {
    "collapsed": false
   },
   "outputs": [],
   "source": [
    "df_some.corr?"
   ]
  },
  {
   "cell_type": "code",
   "execution_count": 122,
   "metadata": {
    "collapsed": false
   },
   "outputs": [
    {
     "data": {
      "text/plain": [
       "<matplotlib.axes._subplots.AxesSubplot at 0x1102c9278>"
      ]
     },
     "execution_count": 122,
     "metadata": {},
     "output_type": "execute_result"
    },
    {
     "data": {
      "image/png": "[encoded data removed]",
      "text/plain": [
       "<matplotlib.figure.Figure at 0x10f675c50>"
      ]
     },
     "metadata": {},
     "output_type": "display_data"
    }
   ],
   "source": [
    "sns.heatmap(df_some.corr())"
   ]
  },
  {
   "cell_type": "code",
   "execution_count": 123,
   "metadata": {
    "collapsed": false
   },
   "outputs": [
    {
     "data": {
      "text/html": [
       "<div>\n",
       "<table border=\"1\" class=\"dataframe\">\n",
       "  <thead>\n",
       "    <tr style=\"text-align: right;\">\n",
       "      <th></th>\n",
       "      <th>LeagueIndex</th>\n",
       "      <th>Age</th>\n",
       "      <th>HoursPerWeek</th>\n",
       "      <th>TotalHours</th>\n",
       "      <th>APM</th>\n",
       "    </tr>\n",
       "  </thead>\n",
       "  <tbody>\n",
       "    <tr>\n",
       "      <th>LeagueIndex</th>\n",
       "      <td>1.000000</td>\n",
       "      <td>-0.082059</td>\n",
       "      <td>0.212444</td>\n",
       "      <td>0.490030</td>\n",
       "      <td>0.653109</td>\n",
       "    </tr>\n",
       "    <tr>\n",
       "      <th>Age</th>\n",
       "      <td>-0.082059</td>\n",
       "      <td>1.000000</td>\n",
       "      <td>-0.209337</td>\n",
       "      <td>-0.024744</td>\n",
       "      <td>-0.187513</td>\n",
       "    </tr>\n",
       "    <tr>\n",
       "      <th>HoursPerWeek</th>\n",
       "      <td>0.212444</td>\n",
       "      <td>-0.209337</td>\n",
       "      <td>1.000000</td>\n",
       "      <td>0.444848</td>\n",
       "      <td>0.242460</td>\n",
       "    </tr>\n",
       "    <tr>\n",
       "      <th>TotalHours</th>\n",
       "      <td>0.490030</td>\n",
       "      <td>-0.024744</td>\n",
       "      <td>0.444848</td>\n",
       "      <td>1.000000</td>\n",
       "      <td>0.391505</td>\n",
       "    </tr>\n",
       "    <tr>\n",
       "      <th>APM</th>\n",
       "      <td>0.653109</td>\n",
       "      <td>-0.187513</td>\n",
       "      <td>0.242460</td>\n",
       "      <td>0.391505</td>\n",
       "      <td>1.000000</td>\n",
       "    </tr>\n",
       "  </tbody>\n",
       "</table>\n",
       "</div>"
      ],
      "text/plain": [
       "              LeagueIndex       Age  HoursPerWeek  TotalHours       APM\n",
       "LeagueIndex      1.000000 -0.082059      0.212444    0.490030  0.653109\n",
       "Age             -0.082059  1.000000     -0.209337   -0.024744 -0.187513\n",
       "HoursPerWeek     0.212444 -0.209337      1.000000    0.444848  0.242460\n",
       "TotalHours       0.490030 -0.024744      0.444848    1.000000  0.391505\n",
       "APM              0.653109 -0.187513      0.242460    0.391505  1.000000"
      ]
     },
     "execution_count": 123,
     "metadata": {},
     "output_type": "execute_result"
    }
   ],
   "source": [
    "df_some.corr(method='spearman')"
   ]
  },
  {
   "cell_type": "code",
   "execution_count": 124,
   "metadata": {
    "collapsed": false,
    "scrolled": true
   },
   "outputs": [
    {
     "data": {
      "text/plain": [
       "<matplotlib.axes._subplots.AxesSubplot at 0x10f424ba8>"
      ]
     },
     "execution_count": 124,
     "metadata": {},
     "output_type": "execute_result"
    },
    {
     "data": {
      "image/png": "[encoded data removed]",
      "text/plain": [
       "<matplotlib.figure.Figure at 0x10f4567f0>"
      ]
     },
     "metadata": {},
     "output_type": "display_data"
    }
   ],
   "source": [
    "sns.heatmap(df_some.corr(method='spearman')**2 - df_some.corr(method='pearson')**2)"
   ]
  },
  {
   "cell_type": "code",
   "execution_count": 101,
   "metadata": {
    "collapsed": false
   },
   "outputs": [
    {
     "name": "stderr",
     "output_type": "stream",
     "text": [
      "/usr/local/lib/python3.4/site-packages/numpy/core/_methods.py:59: RuntimeWarning: Mean of empty slice.\n",
      "  warnings.warn(\"Mean of empty slice.\", RuntimeWarning)\n"
     ]
    },
    {
     "data": {
      "text/plain": [
       "<matplotlib.axes._subplots.AxesSubplot at 0x10f1b6438>"
      ]
     },
     "execution_count": 101,
     "metadata": {},
     "output_type": "execute_result"
    },
    {
     "data": {
      "image/png": "[encoded data removed]",
      "text/plain": [
       "<matplotlib.figure.Figure at 0x10efbcfd0>"
      ]
     },
     "metadata": {},
     "output_type": "display_data"
    }
   ],
   "source": [
    "sns.corrplot(df_some)"
   ]
  },
  {
   "cell_type": "code",
   "execution_count": 103,
   "metadata": {
    "collapsed": false
   },
   "outputs": [
    {
     "name": "stdout",
     "output_type": "stream",
     "text": [
      "LeagueIndex\n",
      "Age\n",
      "HoursPerWeek\n",
      "TotalHours\n",
      "APM\n"
     ]
    }
   ],
   "source": [
    "for col in df_some:\n",
    "    print(col)"
   ]
  },
  {
   "cell_type": "code",
   "execution_count": 105,
   "metadata": {
    "collapsed": false
   },
   "outputs": [
    {
     "data": {
      "image/png": "[encoded data removed]",
      "text/plain": [
       "<matplotlib.figure.Figure at 0x10fb2bac8>"
      ]
     },
     "metadata": {},
     "output_type": "display_data"
    },
    {
     "data": {
      "text/plain": [
       "<matplotlib.axes._subplots.AxesSubplot at 0x10fbe46d8>"
      ]
     },
     "execution_count": 105,
     "metadata": {},
     "output_type": "execute_result"
    },
    {
     "data": {
      "image/png": "[encoded data removed]",
      "text/plain": [
       "<matplotlib.figure.Figure at 0x10fc6d828>"
      ]
     },
     "metadata": {},
     "output_type": "display_data"
    }
   ],
   "source": [
    "df_some[\"APM\"].hist()\n",
    "plt.show()\n",
    "df_some[\"Age\"].hist()\n",
    "# plt.show()"
   ]
  },
  {
   "cell_type": "code",
   "execution_count": 125,
   "metadata": {
    "collapsed": false
   },
   "outputs": [
    {
     "data": {
      "image/png": "[encoded data removed]",
      "text/plain": [
       "<matplotlib.figure.Figure at 0x10feb6470>"
      ]
     },
     "metadata": {},
     "output_type": "display_data"
    },
    {
     "data": {
      "image/png": "[encoded data removed]",
      "text/plain": [
       "<matplotlib.figure.Figure at 0x10f763a20>"
      ]
     },
     "metadata": {},
     "output_type": "display_data"
    },
    {
     "data": {
      "image/png": "[encoded data removed]",
      "text/plain": [
       "<matplotlib.figure.Figure at 0x11024eeb8>"
      ]
     },
     "metadata": {},
     "output_type": "display_data"
    },
    {
     "data": {
      "image/png": "[encoded data removed]",
      "text/plain": [
       "<matplotlib.figure.Figure at 0x108959cf8>"
      ]
     },
     "metadata": {},
     "output_type": "display_data"
    },
    {
     "data": {
      "image/png": "[encoded data removed]",
      "text/plain": [
       "<matplotlib.figure.Figure at 0x108f7bb70>"
      ]
     },
     "metadata": {},
     "output_type": "display_data"
    }
   ],
   "source": [
    "for col in df_some:\n",
    "    df_some[col].hist()\n",
    "    plt.title(col)\n",
    "    plt.show()"
   ]
  },
  {
   "cell_type": "code",
   "execution_count": 111,
   "metadata": {
    "collapsed": false
   },
   "outputs": [
    {
     "data": {
      "text/plain": [
       "114.15525114155251"
      ]
     },
     "execution_count": 111,
     "metadata": {},
     "output_type": "execute_result"
    }
   ],
   "source": [
    "df_some[\"TotalHours\"].max() / (24 * 365)"
   ]
  },
  {
   "cell_type": "code",
   "execution_count": 112,
   "metadata": {
    "collapsed": false
   },
   "outputs": [
    {
     "data": {
      "text/html": [
       "<div>\n",
       "<table border=\"1\" class=\"dataframe\">\n",
       "  <thead>\n",
       "    <tr style=\"text-align: right;\">\n",
       "      <th></th>\n",
       "      <th>LeagueIndex</th>\n",
       "      <th>Age</th>\n",
       "      <th>HoursPerWeek</th>\n",
       "      <th>TotalHours</th>\n",
       "      <th>APM</th>\n",
       "    </tr>\n",
       "  </thead>\n",
       "  <tbody>\n",
       "    <tr>\n",
       "      <th>1793</th>\n",
       "      <td>5</td>\n",
       "      <td>18</td>\n",
       "      <td>24</td>\n",
       "      <td>1000000</td>\n",
       "      <td>281.4246</td>\n",
       "    </tr>\n",
       "  </tbody>\n",
       "</table>\n",
       "</div>"
      ],
      "text/plain": [
       "      LeagueIndex  Age  HoursPerWeek  TotalHours       APM\n",
       "1793            5   18            24     1000000  281.4246"
      ]
     },
     "execution_count": 112,
     "metadata": {},
     "output_type": "execute_result"
    }
   ],
   "source": [
    "df_some[df_some[\"TotalHours\"] == 1000000]"
   ]
  },
  {
   "cell_type": "code",
   "execution_count": 114,
   "metadata": {
    "collapsed": false
   },
   "outputs": [],
   "source": [
    "df_some = df_some.drop(1793)"
   ]
  },
  {
   "cell_type": "code",
   "execution_count": 115,
   "metadata": {
    "collapsed": false
   },
   "outputs": [
    {
     "data": {
      "text/plain": [
       "25000.0"
      ]
     },
     "execution_count": 115,
     "metadata": {},
     "output_type": "execute_result"
    }
   ],
   "source": [
    "df_some[\"TotalHours\"].max()"
   ]
  },
  {
   "cell_type": "code",
   "execution_count": 116,
   "metadata": {
    "collapsed": false
   },
   "outputs": [
    {
     "data": {
      "text/plain": [
       "4.280821917808219"
      ]
     },
     "execution_count": 116,
     "metadata": {},
     "output_type": "execute_result"
    }
   ],
   "source": [
    "25000 / (16 * 365)"
   ]
  },
  {
   "cell_type": "code",
   "execution_count": null,
   "metadata": {
    "collapsed": true
   },
   "outputs": [],
   "source": [
    "# \"SelfReported\""
   ]
  },
  {
   "cell_type": "code",
   "execution_count": 134,
   "metadata": {
    "collapsed": true
   },
   "outputs": [],
   "source": [
    "df_przeskalowane = df_some.query(\"HoursPerWeek > 0\")[[\"LeagueIndex\"]].copy()\n",
    "for col in df_some.columns[1:]:\n",
    "    df_przeskalowane[col + \"_log10\"] = np.log10(df_some[col])"
   ]
  },
  {
   "cell_type": "code",
   "execution_count": 135,
   "metadata": {
    "collapsed": false
   },
   "outputs": [
    {
     "data": {
      "text/html": [
       "<div>\n",
       "<table border=\"1\" class=\"dataframe\">\n",
       "  <thead>\n",
       "    <tr style=\"text-align: right;\">\n",
       "      <th></th>\n",
       "      <th>LeagueIndex</th>\n",
       "      <th>Age_log10</th>\n",
       "      <th>HoursPerWeek_log10</th>\n",
       "      <th>TotalHours_log10</th>\n",
       "      <th>APM_log10</th>\n",
       "    </tr>\n",
       "  </thead>\n",
       "  <tbody>\n",
       "    <tr>\n",
       "      <th>0</th>\n",
       "      <td>5</td>\n",
       "      <td>1.431364</td>\n",
       "      <td>1.00000</td>\n",
       "      <td>3.477121</td>\n",
       "      <td>2.157511</td>\n",
       "    </tr>\n",
       "    <tr>\n",
       "      <th>1</th>\n",
       "      <td>5</td>\n",
       "      <td>1.361728</td>\n",
       "      <td>1.00000</td>\n",
       "      <td>3.698970</td>\n",
       "      <td>2.111371</td>\n",
       "    </tr>\n",
       "    <tr>\n",
       "      <th>2</th>\n",
       "      <td>4</td>\n",
       "      <td>1.477121</td>\n",
       "      <td>1.00000</td>\n",
       "      <td>2.301030</td>\n",
       "      <td>1.844857</td>\n",
       "    </tr>\n",
       "    <tr>\n",
       "      <th>3</th>\n",
       "      <td>3</td>\n",
       "      <td>1.278754</td>\n",
       "      <td>1.30103</td>\n",
       "      <td>2.602060</td>\n",
       "      <td>2.031819</td>\n",
       "    </tr>\n",
       "    <tr>\n",
       "      <th>4</th>\n",
       "      <td>3</td>\n",
       "      <td>1.505150</td>\n",
       "      <td>1.00000</td>\n",
       "      <td>2.698970</td>\n",
       "      <td>2.089519</td>\n",
       "    </tr>\n",
       "  </tbody>\n",
       "</table>\n",
       "</div>"
      ],
      "text/plain": [
       "   LeagueIndex  Age_log10  HoursPerWeek_log10  TotalHours_log10  APM_log10\n",
       "0            5   1.431364             1.00000          3.477121   2.157511\n",
       "1            5   1.361728             1.00000          3.698970   2.111371\n",
       "2            4   1.477121             1.00000          2.301030   1.844857\n",
       "3            3   1.278754             1.30103          2.602060   2.031819\n",
       "4            3   1.505150             1.00000          2.698970   2.089519"
      ]
     },
     "execution_count": 135,
     "metadata": {},
     "output_type": "execute_result"
    }
   ],
   "source": [
    "df_przeskalowane.head()"
   ]
  },
  {
   "cell_type": "code",
   "execution_count": 137,
   "metadata": {
    "collapsed": false
   },
   "outputs": [
    {
     "data": {
      "image/png": "[encoded data removed]",
      "text/plain": [
       "<matplotlib.figure.Figure at 0x10fb1f630>"
      ]
     },
     "metadata": {},
     "output_type": "display_data"
    },
    {
     "data": {
      "image/png": "[encoded data removed]",
      "text/plain": [
       "<matplotlib.figure.Figure at 0x10f922828>"
      ]
     },
     "metadata": {},
     "output_type": "display_data"
    },
    {
     "data": {
      "image/png": "[encoded data removed]",
      "text/plain": [
       "<matplotlib.figure.Figure at 0x10efafb00>"
      ]
     },
     "metadata": {},
     "output_type": "display_data"
    },
    {
     "data": {
      "image/png": "[encoded data removed]",
      "text/plain": [
       "<matplotlib.figure.Figure at 0x10f7a2668>"
      ]
     },
     "metadata": {},
     "output_type": "display_data"
    },
    {
     "data": {
      "image/png": "[encoded data removed]",
      "text/plain": [
       "<matplotlib.figure.Figure at 0x10fef7a90>"
      ]
     },
     "metadata": {},
     "output_type": "display_data"
    }
   ],
   "source": [
    "# Wydaje sie, ze dla wszystkiego procz ligii lepsza bylaby skala logarytmiczna\n",
    "for col in df_przeskalowane:\n",
    "    df_przeskalowane[col].hist(bins=20)\n",
    "    plt.title(col)\n",
    "    plt.show()"
   ]
  },
  {
   "cell_type": "code",
   "execution_count": 146,
   "metadata": {
    "collapsed": true
   },
   "outputs": [],
   "source": [
    "sns.jointplot?"
   ]
  },
  {
   "cell_type": "code",
   "execution_count": 147,
   "metadata": {
    "collapsed": false
   },
   "outputs": [
    {
     "data": {
      "text/plain": [
       "<seaborn.axisgrid.JointGrid at 0x10f9ec5f8>"
      ]
     },
     "execution_count": 147,
     "metadata": {},
     "output_type": "execute_result"
    },
    {
     "data": {
      "image/png": "[encoded data removed]",
      "text/plain": [
       "<matplotlib.figure.Figure at 0x10f9ec4a8>"
      ]
     },
     "metadata": {},
     "output_type": "display_data"
    }
   ],
   "source": [
    "sns.jointplot(x=\"APM_log10\", y=\"HoursPerWeek_log10\",\n",
    "              data=df_przeskalowane, kind=\"kde\")"
   ]
  },
  {
   "cell_type": "code",
   "execution_count": 153,
   "metadata": {
    "collapsed": true
   },
   "outputs": [],
   "source": [
    "df_przeskalowane = df_przeskalowane.drop(\"League\", axis=1)"
   ]
  },
  {
   "cell_type": "code",
   "execution_count": 157,
   "metadata": {
    "collapsed": false
   },
   "outputs": [
    {
     "data": {
      "text/plain": [
       "Index(['LeagueIndex', 'Age_log10', 'HoursPerWeek_log10', 'TotalHours_log10',\n",
       "       'APM_log10'],\n",
       "      dtype='object')"
      ]
     },
     "execution_count": 157,
     "metadata": {},
     "output_type": "execute_result"
    }
   ],
   "source": [
    "df_przeskalowane.columns"
   ]
  },
  {
   "cell_type": "code",
   "execution_count": 156,
   "metadata": {
    "collapsed": true
   },
   "outputs": [],
   "source": [
    "sns.pairplot?"
   ]
  },
  {
   "cell_type": "code",
   "execution_count": 163,
   "metadata": {
    "collapsed": true
   },
   "outputs": [],
   "source": [
    "sns.pairplot?"
   ]
  },
  {
   "cell_type": "code",
   "execution_count": 162,
   "metadata": {
    "collapsed": false
   },
   "outputs": [
    {
     "data": {
      "text/plain": [
       "<seaborn.axisgrid.PairGrid at 0x1188484e0>"
      ]
     },
     "execution_count": 162,
     "metadata": {},
     "output_type": "execute_result"
    },
    {
     "data": {
      "image/png": "[encoded data removed]",
      "text/plain": [
       "<matplotlib.figure.Figure at 0x118848518>"
      ]
     },
     "metadata": {},
     "output_type": "display_data"
    }
   ],
   "source": [
    "sns.pairplot(df_przeskalowane.query(\"LeagueIndex in [1,6]\"),\n",
    "             hue=\"LeagueIndex\",\n",
    "             vars=['Age_log10', 'TotalHours_log10', 'APM_log10'])"
   ]
  },
  {
   "cell_type": "code",
   "execution_count": 159,
   "metadata": {
    "collapsed": false
   },
   "outputs": [
    {
     "name": "stderr",
     "output_type": "stream",
     "text": [
      "/usr/local/lib/python3.4/site-packages/numpy/core/_methods.py:59: RuntimeWarning: Mean of empty slice.\n",
      "  warnings.warn(\"Mean of empty slice.\", RuntimeWarning)\n"
     ]
    },
    {
     "data": {
      "text/plain": [
       "<matplotlib.axes._subplots.AxesSubplot at 0x116e5e160>"
      ]
     },
     "execution_count": 159,
     "metadata": {},
     "output_type": "execute_result"
    },
    {
     "data": {
      "image/png": "[encoded data removed]",
      "text/plain": [
       "<matplotlib.figure.Figure at 0x11652d550>"
      ]
     },
     "metadata": {},
     "output_type": "display_data"
    }
   ],
   "source": [
    "sns.corrplot(df_przeskalowane)"
   ]
  },
  {
   "cell_type": "code",
   "execution_count": 160,
   "metadata": {
    "collapsed": false
   },
   "outputs": [
    {
     "data": {
      "text/plain": [
       "<seaborn.matrix.ClusterGrid at 0x113137a58>"
      ]
     },
     "execution_count": 160,
     "metadata": {},
     "output_type": "execute_result"
    },
    {
     "data": {
      "image/png": "[encoded data removed]",
      "text/plain": [
       "<matplotlib.figure.Figure at 0x116fce1d0>"
      ]
     },
     "metadata": {},
     "output_type": "display_data"
    }
   ],
   "source": [
    "sns.clustermap(df_przeskalowane.corr())"
   ]
  },
  {
   "cell_type": "code",
   "execution_count": 164,
   "metadata": {
    "collapsed": true
   },
   "outputs": [],
   "source": [
    "from sklearn import linear_model"
   ]
  },
  {
   "cell_type": "code",
   "execution_count": 183,
   "metadata": {
    "collapsed": false
   },
   "outputs": [],
   "source": [
    "df_z = (df_przeskalowane - df_przeskalowane.mean())/df_przeskalowane.std()\n",
    "df_z = df_z.dropna()\n",
    "\n",
    "Y = df_z[\"LeagueIndex\"].values\n",
    "X = df_z.iloc[:,1:].values"
   ]
  },
  {
   "cell_type": "code",
   "execution_count": 184,
   "metadata": {
    "collapsed": false
   },
   "outputs": [
    {
     "data": {
      "text/plain": [
       "LeagueIndex           1.424827\n",
       "Age_log10             0.079649\n",
       "HoursPerWeek_log10    0.310357\n",
       "TotalHours_log10      0.397503\n",
       "APM_log10             0.183097\n",
       "dtype: float64"
      ]
     },
     "execution_count": 184,
     "metadata": {},
     "output_type": "execute_result"
    }
   ],
   "source": [
    "df_przeskalowane.std()"
   ]
  },
  {
   "cell_type": "code",
   "execution_count": 185,
   "metadata": {
    "collapsed": false
   },
   "outputs": [
    {
     "data": {
      "text/plain": [
       "array([ 0.63892483,  0.63892483, -0.06291475, -0.76475434, -0.76475434])"
      ]
     },
     "execution_count": 185,
     "metadata": {},
     "output_type": "execute_result"
    }
   ],
   "source": [
    "df_z[\"LeagueIndex\"].head().values"
   ]
  },
  {
   "cell_type": "code",
   "execution_count": 186,
   "metadata": {
    "collapsed": false
   },
   "outputs": [
    {
     "data": {
      "text/plain": [
       "array([[ 1.29725645, -0.29893301,  2.06416309,  0.7587333 ],\n",
       "       [ 0.42297586, -0.29893301,  2.62226963,  0.50673397],\n",
       "       [ 1.87174274, -0.29893301, -0.89453844, -0.948849  ],\n",
       "       ..., \n",
       "       [-0.07305473, -0.61118685, -1.65184183,  0.36427967],\n",
       "       [-0.33908684,  1.1418553 , -0.13723504,  0.59770259],\n",
       "       [ 0.18059922, -1.01375207, -0.13723504, -0.38261486]])"
      ]
     },
     "execution_count": 186,
     "metadata": {},
     "output_type": "execute_result"
    }
   ],
   "source": [
    "df_z.drop(\"LeagueIndex\", axis=1).values"
   ]
  },
  {
   "cell_type": "code",
   "execution_count": 187,
   "metadata": {
    "collapsed": false
   },
   "outputs": [
    {
     "data": {
      "text/plain": [
       "LeagueIndex          -1.935549e-04\n",
       "Age_log10             3.711705e-04\n",
       "HoursPerWeek_log10   -2.032766e-04\n",
       "TotalHours_log10      4.932964e-14\n",
       "APM_log10             7.161446e-05\n",
       "dtype: float64"
      ]
     },
     "execution_count": 187,
     "metadata": {},
     "output_type": "execute_result"
    }
   ],
   "source": [
    "df_z.mean()"
   ]
  },
  {
   "cell_type": "code",
   "execution_count": 167,
   "metadata": {
    "collapsed": false
   },
   "outputs": [
    {
     "data": {
      "text/plain": [
       "LeagueIndex           1\n",
       "Age_log10             1\n",
       "HoursPerWeek_log10    1\n",
       "TotalHours_log10      1\n",
       "APM_log10             1\n",
       "dtype: float64"
      ]
     },
     "execution_count": 167,
     "metadata": {},
     "output_type": "execute_result"
    }
   ],
   "source": [
    "df_z.std()"
   ]
  },
  {
   "cell_type": "code",
   "execution_count": 188,
   "metadata": {
    "collapsed": false
   },
   "outputs": [
    {
     "data": {
      "text/plain": [
       "(3301, 4)"
      ]
     },
     "execution_count": 188,
     "metadata": {},
     "output_type": "execute_result"
    }
   ],
   "source": [
    "X.shape"
   ]
  },
  {
   "cell_type": "code",
   "execution_count": 189,
   "metadata": {
    "collapsed": false
   },
   "outputs": [
    {
     "data": {
      "text/plain": [
       "(3301,)"
      ]
     },
     "execution_count": 189,
     "metadata": {},
     "output_type": "execute_result"
    }
   ],
   "source": [
    "Y.shape"
   ]
  },
  {
   "cell_type": "code",
   "execution_count": 190,
   "metadata": {
    "collapsed": false
   },
   "outputs": [],
   "source": [
    "reg = linear_model.LinearRegression()"
   ]
  },
  {
   "cell_type": "code",
   "execution_count": 191,
   "metadata": {
    "collapsed": false
   },
   "outputs": [
    {
     "data": {
      "text/plain": [
       "LinearRegression(copy_X=True, fit_intercept=True, normalize=False)"
      ]
     },
     "execution_count": 191,
     "metadata": {},
     "output_type": "execute_result"
    }
   ],
   "source": [
    "reg.fit(X, Y)"
   ]
  },
  {
   "cell_type": "code",
   "execution_count": 192,
   "metadata": {
    "collapsed": false
   },
   "outputs": [
    {
     "data": {
      "text/plain": [
       "array([ 0.0111973 , -0.04707185,  0.28651251,  0.55633108])"
      ]
     },
     "execution_count": 192,
     "metadata": {},
     "output_type": "execute_result"
    }
   ],
   "source": [
    "reg.coef_"
   ]
  },
  {
   "cell_type": "code",
   "execution_count": 193,
   "metadata": {
    "collapsed": false
   },
   "outputs": [
    {
     "data": {
      "text/plain": [
       "Index(['LeagueIndex', 'Age_log10', 'HoursPerWeek_log10', 'TotalHours_log10',\n",
       "       'APM_log10'],\n",
       "      dtype='object')"
      ]
     },
     "execution_count": 193,
     "metadata": {},
     "output_type": "execute_result"
    }
   ],
   "source": [
    "df_z.columns"
   ]
  },
  {
   "cell_type": "code",
   "execution_count": 194,
   "metadata": {
    "collapsed": false,
    "scrolled": true
   },
   "outputs": [
    {
     "data": {
      "text/plain": [
       "Age_log10             0.011197\n",
       "HoursPerWeek_log10   -0.047072\n",
       "TotalHours_log10      0.286513\n",
       "APM_log10             0.556331\n",
       "dtype: float64"
      ]
     },
     "execution_count": 194,
     "metadata": {},
     "output_type": "execute_result"
    }
   ],
   "source": [
    "wspolczynniki = pd.Series(reg.coef_, index=df_z.columns[1:])\n",
    "wspolczynniki"
   ]
  },
  {
   "cell_type": "code",
   "execution_count": 196,
   "metadata": {
    "collapsed": false
   },
   "outputs": [
    {
     "data": {
      "text/plain": [
       "<matplotlib.axes._subplots.AxesSubplot at 0x1139e3518>"
      ]
     },
     "execution_count": 196,
     "metadata": {},
     "output_type": "execute_result"
    },
    {
     "data": {
      "image/png": "[encoded data removed]",
      "text/plain": [
       "<matplotlib.figure.Figure at 0x1139de748>"
      ]
     },
     "metadata": {},
     "output_type": "display_data"
    }
   ],
   "source": [
    "wspolczynniki.plot(kind='barh')"
   ]
  },
  {
   "cell_type": "code",
   "execution_count": null,
   "metadata": {
    "collapsed": true
   },
   "outputs": [],
   "source": []
  },
  {
   "cell_type": "code",
   "execution_count": 38,
   "metadata": {
    "collapsed": false
   },
   "outputs": [
    {
     "data": {
      "text/plain": [
       "array([ 0.01409089, -0.03627548,  0.27742002,  0.56214952])"
      ]
     },
     "execution_count": 38,
     "metadata": {},
     "output_type": "execute_result"
    }
   ],
   "source": [
    "reg_lasso = linear_model.Lasso(alpha=0.001)\n",
    "reg_lasso.fit(X, Y)\n",
    "reg_lasso.coef_"
   ]
  },
  {
   "cell_type": "code",
   "execution_count": 39,
   "metadata": {
    "collapsed": false
   },
   "outputs": [
    {
     "data": {
      "text/plain": [
       "<seaborn.axisgrid.JointGrid at 0x10bfa2f60>"
      ]
     },
     "execution_count": 39,
     "metadata": {},
     "output_type": "execute_result"
    },
    {
     "data": {
      "image/png": "[encoded data removed]",
      "text/plain": [
       "<matplotlib.figure.Figure at 0x10bfa2978>"
      ]
     },
     "metadata": {},
     "output_type": "display_data"
    }
   ],
   "source": [
    "predykcja = pd.DataFrame({'obs': Y, 'pred': reg.predict(X)})\n",
    "sns.jointplot(x=\"obs\", y=\"pred\", data=predykcja)"
   ]
  },
  {
   "cell_type": "markdown",
   "metadata": {
    "collapsed": true
   },
   "source": [
    "## Zobacz też\n",
    "\n",
    "* [Statistical functions (scipy.stats)¶](http://docs.scipy.org/doc/scipy/reference/stats.html)\n",
    "* [http://camdavidsonpilon.github.io/Probabilistic-Programming-and-Bayesian-Methods-for-Hackers/](http://nbviewer.ipython.org/github/CamDavidsonPilon/Probabilistic-Programming-and-Bayesian-Methods-for-Hackers/blob/master/Chapter1_Introduction/Chapter1.ipynb)\n"
   ]
  },
  {
   "cell_type": "code",
   "execution_count": null,
   "metadata": {
    "collapsed": true
   },
   "outputs": [],
   "source": []
  }
 ],
 "metadata": {
  "kernelspec": {
   "display_name": "Python 3",
   "language": "python",
   "name": "python3"
  },
  "language_info": {
   "codemirror_mode": {
    "name": "ipython",
    "version": 3
   },
   "file_extension": ".py",
   "mimetype": "text/x-python",
   "name": "python",
   "nbconvert_exporter": "python",
   "pygments_lexer": "ipython3",
   "version": "3.4.3"
  }
 },
 "nbformat": 4,
 "nbformat_minor": 0
}
