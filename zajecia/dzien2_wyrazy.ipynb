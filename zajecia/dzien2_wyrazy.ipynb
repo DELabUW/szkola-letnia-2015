{
 "cells": [
  {
   "cell_type": "markdown",
   "metadata": {},
   "source": [
    "# Wyrazy - zabawa słownikiem\n",
    "\n",
    "[Piotr Migdał](http://migdal.wikidot.com/), 2015, [DELab UW](http://www.delab.uw.edu.pl/)"
   ]
  },
  {
   "cell_type": "markdown",
   "metadata": {},
   "source": [
    "### Różne kodowania znaków\n",
    "\n",
    "**Uwaga**: języki polskie bywają różnie kodowane (tj. *'ł'* może być różnie zapisane na komputerze za pomocą zer i jedynek). Jeśli spróbujemy odczytać inaczej znaki niż zostały zapisane, dostaniemy dziwne symbole, pytajniki lub jeszcze coś innego.\n",
    "\n",
    "Dobrym kodowaniem jest [UTF-8](https://en.wikipedia.org/wiki/UTF-8) - jest to uniwersalny standard pozwalający zapisywać znaki z różnych języków. Jednak w wielu miejscach (głównie z powodów historycznych) do polskich znaków jest użwyane `Windows-1250` (znane też jako `CP1250`) lub `ISO-8859-2`.\n",
    "\n",
    "Gdy mamy do wyboru kodowanie **zawsze** używajmy `UTF-8`. Inaczej wcześniej czy później będziemy mieli problemy. To standard zarówno między językami, jak i między różnymi systemami operacyjnymi.\n",
    "\n",
    "Dodatkowymi zaletami:"
   ]
  },
  {
   "cell_type": "code",
   "execution_count": 1,
   "metadata": {
    "collapsed": false
   },
   "outputs": [
    {
     "data": {
      "text/plain": [
       "'ZAŻÓŁĆ GĘŚLĄ JAŹŃ'"
      ]
     },
     "execution_count": 1,
     "metadata": {},
     "output_type": "execute_result"
    }
   ],
   "source": [
    "# unicode w Pythonie \"wie\" jak zmieniać litery na wielkie \n",
    "\"zażółć gęślą jaźń\".upper()"
   ]
  },
  {
   "cell_type": "code",
   "execution_count": 2,
   "metadata": {
    "collapsed": false
   },
   "outputs": [
    {
     "name": "stdout",
     "output_type": "stream",
     "text": [
      "干杯 Živjeli Skål ΥΓΕΙΑ Будем\n",
      "здоровы לחיים Egészségedre 乾杯 건배 будьмо هتاف\n"
     ]
    }
   ],
   "source": [
    "# można mieszać języki\n",
    "# (nawet gdy tekst jest po polsku mogą być zapożyczone słowa czy obce nazwiska)\n",
    "print(\"干杯 Živjeli Skål ΥΓΕΙΑ Будем\\nздоровы לחיים Egészségedre 乾杯 건배 будьмо هتاف\")\n",
    "# spróbuj zmienić na wielkie lub małe litery"
   ]
  },
  {
   "cell_type": "code",
   "execution_count": 3,
   "metadata": {
    "collapsed": false
   },
   "outputs": [
    {
     "name": "stdout",
     "output_type": "stream",
     "text": [
      "⚛ I ♥ UTF8 ⚛\n"
     ]
    }
   ],
   "source": [
    "# można też użyć innych symboli\n",
    "print(\"\\u269B I \\u2665 UTF8 \\u269B\")"
   ]
  },
  {
   "cell_type": "code",
   "execution_count": 8,
   "metadata": {
    "collapsed": false
   },
   "outputs": [
    {
     "data": {
      "text/plain": [
       "378"
      ]
     },
     "execution_count": 8,
     "metadata": {},
     "output_type": "execute_result"
    }
   ],
   "source": [
    "ord(\"ź\")"
   ]
  },
  {
   "cell_type": "markdown",
   "metadata": {},
   "source": [
    "Słownik języka polskiego do literaków (do 15 liter, bez nazw własnych)\n",
    "http://sjp.pl/slownik/growy/ (nie zawarty w repozytorium - należy samemu ściągnąć)."
   ]
  },
  {
   "cell_type": "code",
   "execution_count": 9,
   "metadata": {
    "collapsed": false
   },
   "outputs": [
    {
     "data": {
      "text/plain": [
       "'अ'"
      ]
     },
     "execution_count": 9,
     "metadata": {},
     "output_type": "execute_result"
    }
   ],
   "source": [
    "chr(2309)"
   ]
  },
  {
   "cell_type": "code",
   "execution_count": 11,
   "metadata": {
    "collapsed": true
   },
   "outputs": [],
   "source": [
    "# biblioteka do wczytywania znaków w różnych kodowaniach\n",
    "import codecs"
   ]
  },
  {
   "cell_type": "code",
   "execution_count": 21,
   "metadata": {
    "collapsed": false
   },
   "outputs": [],
   "source": [
    "# niestety, plik jest zapisany w innym kodowaniu, więc musimy go przekonwertować\n",
    "plik = codecs.open(\"../dane_surowe/slowa-win.txt\", 'r',\n",
    "                   encoding='cp1250')"
   ]
  },
  {
   "cell_type": "code",
   "execution_count": 22,
   "metadata": {
    "collapsed": true
   },
   "outputs": [],
   "source": [
    "tresc = plik.read()"
   ]
  },
  {
   "cell_type": "code",
   "execution_count": 24,
   "metadata": {
    "collapsed": false
   },
   "outputs": [
    {
     "data": {
      "text/plain": [
       "'jsze\\r\\nżyźniejszego\\r\\nżyźniejszej\\r\\nżyźniejszemu\\r\\nżyźniejszy\\r\\nżyźniejszych\\r\\nżyźniejszym\\r\\nżyźniejszymi\\r\\n'"
      ]
     },
     "execution_count": 24,
     "metadata": {},
     "output_type": "execute_result"
    }
   ],
   "source": [
    "tresc[-100:]"
   ]
  },
  {
   "cell_type": "code",
   "execution_count": 25,
   "metadata": {
    "collapsed": false
   },
   "outputs": [
    {
     "data": {
      "text/plain": [
       "35924538"
      ]
     },
     "execution_count": 25,
     "metadata": {},
     "output_type": "execute_result"
    }
   ],
   "source": [
    "len(tresc)"
   ]
  },
  {
   "cell_type": "code",
   "execution_count": 26,
   "metadata": {
    "collapsed": false
   },
   "outputs": [],
   "source": [
    "slowa = tresc.split()"
   ]
  },
  {
   "cell_type": "code",
   "execution_count": 27,
   "metadata": {
    "collapsed": false
   },
   "outputs": [
    {
     "data": {
      "text/plain": [
       "2709883"
      ]
     },
     "execution_count": 27,
     "metadata": {},
     "output_type": "execute_result"
    }
   ],
   "source": [
    "# liczba slow\n",
    "len(slowa)"
   ]
  },
  {
   "cell_type": "code",
   "execution_count": 30,
   "metadata": {
    "collapsed": false
   },
   "outputs": [
    {
     "data": {
      "text/plain": [
       "['abolicjonistkom',\n",
       " 'abolicjonisto',\n",
       " 'abolicjonistom',\n",
       " 'abolicjonistów',\n",
       " 'abolicjonisty',\n",
       " 'abolicjoniści',\n",
       " 'abolicjoniście',\n",
       " 'abolicjonizm',\n",
       " 'abolicjonizmach',\n",
       " 'abolicjonizmami']"
      ]
     },
     "execution_count": 30,
     "metadata": {},
     "output_type": "execute_result"
    }
   ],
   "source": [
    "slowa[1000:1010]"
   ]
  },
  {
   "cell_type": "code",
   "execution_count": 32,
   "metadata": {
    "collapsed": false
   },
   "outputs": [
    {
     "data": {
      "text/plain": [
       "Counter({'Python': 3, 'Ala': 2, 'Andrzej': 1, 'python': 1})"
      ]
     },
     "execution_count": 32,
     "metadata": {},
     "output_type": "execute_result"
    }
   ],
   "source": [
    "# obiekt Counter służy do zliczania wystąpień okiektów\n",
    "from collections import Counter\n",
    "\n",
    "Counter([\"Ala\", \"Python\", \"Andrzej\", \"Python\", \"Ala\", \"Python\", \"python\"])"
   ]
  },
  {
   "cell_type": "code",
   "execution_count": 36,
   "metadata": {
    "collapsed": true
   },
   "outputs": [],
   "source": [
    "lista1 = [\"Ala\", \"kot\", \"pies\", \"pyton\", \"Python\", \"pyton\"]"
   ]
  },
  {
   "cell_type": "code",
   "execution_count": 37,
   "metadata": {
    "collapsed": false
   },
   "outputs": [
    {
     "data": {
      "text/plain": [
       "['Ala!', 'kot!', 'pies!', 'pyton!', 'Python!', 'pyton!']"
      ]
     },
     "execution_count": 37,
     "metadata": {},
     "output_type": "execute_result"
    }
   ],
   "source": [
    "[x + \"!\" for x in lista1]"
   ]
  },
  {
   "cell_type": "code",
   "execution_count": 39,
   "metadata": {
    "collapsed": false
   },
   "outputs": [
    {
     "data": {
      "text/plain": [
       "['ALA', 'KOT', 'PIES', 'PYTON', 'PYTHON', 'PYTON']"
      ]
     },
     "execution_count": 39,
     "metadata": {},
     "output_type": "execute_result"
    }
   ],
   "source": [
    "[x for x in lista1]"
   ]
  },
  {
   "cell_type": "code",
   "execution_count": 40,
   "metadata": {
    "collapsed": false
   },
   "outputs": [
    {
     "data": {
      "text/plain": [
       "Counter({12: 383690, 11: 376712, 13: 362607, 10: 336076, 14: 320210, 9: 268738, 15: 262562, 8: 188657, 7: 115799, 6: 59079, 5: 26439, 4: 7664, 3: 1523, 2: 127})"
      ]
     },
     "execution_count": 40,
     "metadata": {},
     "output_type": "execute_result"
    }
   ],
   "source": [
    "Counter([len(slowo) for slowo in slowa])"
   ]
  },
  {
   "cell_type": "code",
   "execution_count": 41,
   "metadata": {
    "collapsed": true
   },
   "outputs": [],
   "source": [
    "%matplotlib inline\n",
    "import matplotlib.pyplot as plt"
   ]
  },
  {
   "cell_type": "code",
   "execution_count": 51,
   "metadata": {
    "collapsed": true
   },
   "outputs": [],
   "source": [
    "dlugosci = Counter([len(slowo) for slowo in slowa])"
   ]
  },
  {
   "cell_type": "code",
   "execution_count": 54,
   "metadata": {
    "collapsed": false
   },
   "outputs": [
    {
     "data": {
      "text/plain": [
       "[(12, 383690), (11, 376712), (13, 362607)]"
      ]
     },
     "execution_count": 54,
     "metadata": {},
     "output_type": "execute_result"
    }
   ],
   "source": [
    "dlugosci."
   ]
  },
  {
   "cell_type": "code",
   "execution_count": 44,
   "metadata": {
    "collapsed": false
   },
   "outputs": [
    {
     "data": {
      "text/plain": [
       "[2, 3, 4, 5, 6, 7, 8, 9, 10, 11, 12, 13, 14, 15]"
      ]
     },
     "execution_count": 44,
     "metadata": {},
     "output_type": "execute_result"
    }
   ],
   "source": [
    "list(dlugosci.keys())"
   ]
  },
  {
   "cell_type": "code",
   "execution_count": 45,
   "metadata": {
    "collapsed": false
   },
   "outputs": [
    {
     "data": {
      "text/plain": [
       "[127,\n",
       " 1523,\n",
       " 7664,\n",
       " 26439,\n",
       " 59079,\n",
       " 115799,\n",
       " 188657,\n",
       " 268738,\n",
       " 336076,\n",
       " 376712,\n",
       " 383690,\n",
       " 362607,\n",
       " 320210,\n",
       " 262562]"
      ]
     },
     "execution_count": 45,
     "metadata": {},
     "output_type": "execute_result"
    }
   ],
   "source": [
    "list(dlugosci.values())"
   ]
  },
  {
   "cell_type": "code",
   "execution_count": 43,
   "metadata": {
    "collapsed": false
   },
   "outputs": [
    {
     "data": {
      "image/png": "[encoded data removed]",
      "text/plain": [
       "<matplotlib.figure.Figure at 0x12c8afe48>"
      ]
     },
     "metadata": {},
     "output_type": "display_data"
    }
   ],
   "source": [
    "plt.bar(list(dlugosci.keys()), list(dlugosci.values()));"
   ]
  },
  {
   "cell_type": "code",
   "execution_count": 46,
   "metadata": {
    "collapsed": true
   },
   "outputs": [],
   "source": [
    "def zlicz_wystapienia(lista):\n",
    "    slownik = {}\n",
    "    for x in lista:\n",
    "        if x in slownik:\n",
    "            slownik[x] += 1\n",
    "        else:\n",
    "            slownik[x] = 1\n",
    "    return slownik"
   ]
  },
  {
   "cell_type": "code",
   "execution_count": 47,
   "metadata": {
    "collapsed": false
   },
   "outputs": [
    {
     "data": {
      "text/plain": [
       "{'Ala': 1, 'Python': 1, 'kot': 1, 'pies': 1, 'pyton': 2}"
      ]
     },
     "execution_count": 47,
     "metadata": {},
     "output_type": "execute_result"
    }
   ],
   "source": [
    "zlicz_wystapienia(lista1)"
   ]
  },
  {
   "cell_type": "code",
   "execution_count": 55,
   "metadata": {
    "collapsed": true
   },
   "outputs": [],
   "source": [
    "dlugosci = [len(x) for x in slowa]"
   ]
  },
  {
   "cell_type": "code",
   "execution_count": 57,
   "metadata": {
    "collapsed": false
   },
   "outputs": [
    {
     "name": "stdout",
     "output_type": "stream",
     "text": [
      "1 loops, best of 3: 576 ms per loop\n"
     ]
    }
   ],
   "source": [
    "%%timeit\n",
    "zlicz_wystapienia(dlugosci)"
   ]
  },
  {
   "cell_type": "code",
   "execution_count": 58,
   "metadata": {
    "collapsed": false
   },
   "outputs": [
    {
     "name": "stdout",
     "output_type": "stream",
     "text": [
      "1 loops, best of 3: 275 ms per loop\n"
     ]
    }
   ],
   "source": [
    "%%timeit\n",
    "Counter(dlugosci)"
   ]
  },
  {
   "cell_type": "code",
   "execution_count": 59,
   "metadata": {
    "collapsed": false
   },
   "outputs": [],
   "source": [
    "pierwsze = Counter([slowo[0] for slowo in slowa])"
   ]
  },
  {
   "cell_type": "code",
   "execution_count": 60,
   "metadata": {
    "collapsed": false
   },
   "outputs": [],
   "source": [
    "ostatnie = Counter([slowo[-1] for slowo in slowa])"
   ]
  },
  {
   "cell_type": "code",
   "execution_count": 64,
   "metadata": {
    "collapsed": false
   },
   "outputs": [
    {
     "data": {
      "text/plain": [
       "dict_items([('c', 57907), ('h', 27678), ('i', 23810), ('n', 611326), ('e', 28644), ('b', 68633), ('o', 163399), ('a', 60324), ('k', 122792), ('ź', 593), ('u', 75444), ('ś', 13475), ('ó', 88), ('d', 105516), ('z', 189766), ('t', 60757), ('j', 17337), ('m', 78328), ('p', 396811), ('ł', 11277), ('ć', 1422), ('s', 164409), ('f', 36296), ('g', 46252), ('r', 108067), ('y', 191), ('ę', 1), ('w', 197169), ('ż', 10147), ('l', 32024)])"
      ]
     },
     "execution_count": 64,
     "metadata": {},
     "output_type": "execute_result"
    }
   ],
   "source": [
    "pierwsze.items()"
   ]
  },
  {
   "cell_type": "code",
   "execution_count": 67,
   "metadata": {
    "collapsed": false
   },
   "outputs": [
    {
     "data": {
      "text/plain": [
       "57907"
      ]
     },
     "execution_count": 67,
     "metadata": {},
     "output_type": "execute_result"
    }
   ],
   "source": [
    "pierwsze['c']"
   ]
  },
  {
   "cell_type": "code",
   "execution_count": 73,
   "metadata": {
    "collapsed": false
   },
   "outputs": [
    {
     "name": "stdout",
     "output_type": "stream",
     "text": [
      "0\n",
      "1\n",
      "2\n",
      "3\n",
      "4\n"
     ]
    }
   ],
   "source": [
    "for q in range(5):\n",
    "    print(q)"
   ]
  },
  {
   "cell_type": "code",
   "execution_count": 75,
   "metadata": {
    "collapsed": false
   },
   "outputs": [
    {
     "name": "stdout",
     "output_type": "stream",
     "text": [
      "Literka: c\n",
      "45029\n",
      "Literka: h\n",
      "-140225\n",
      "Literka: i\n",
      "-311896\n",
      "Literka: n\n",
      "604158\n",
      "Literka: e\n",
      "-293194\n",
      "Literka: b\n",
      "68008\n",
      "Literka: o\n",
      "7114\n",
      "Literka: a\n",
      "-154903\n",
      "Literka: k\n",
      "105874\n",
      "Literka: ź\n",
      "-234\n",
      "Literka: u\n",
      "-75362\n",
      "Literka: ś\n",
      "-66130\n",
      "Literka: ó\n",
      "88\n",
      "Literka: d\n",
      "103950\n",
      "Literka: z\n",
      "163228\n",
      "Literka: t\n",
      "56179\n",
      "Literka: j\n",
      "-99807\n",
      "Literka: m\n",
      "-265021\n",
      "Literka: p\n",
      "395882\n",
      "Literka: ł\n",
      "-10986\n",
      "Literka: ć\n",
      "-27181\n",
      "Literka: s\n",
      "162466\n",
      "Literka: f\n",
      "35865\n",
      "Literka: g\n",
      "44932\n",
      "Literka: r\n",
      "103970\n",
      "Literka: y\n",
      "-372683\n",
      "Literka: ę\n",
      "-43325\n",
      "Literka: w\n",
      "162731\n",
      "Literka: ż\n",
      "-32377\n",
      "Literka: l\n",
      "29845\n"
     ]
    }
   ],
   "source": [
    "for klucz, wartosc in pierwsze.items():\n",
    "    print(\"Literka: \" + klucz)\n",
    "    print(wartosc - ostatnie[klucz])"
   ]
  },
  {
   "cell_type": "code",
   "execution_count": 72,
   "metadata": {
    "collapsed": false
   },
   "outputs": [
    {
     "name": "stdout",
     "output_type": "stream",
     "text": [
      "Literka: c\n",
      "45029\n",
      "Literka: h\n",
      "-140225\n",
      "Literka: i\n",
      "-311896\n",
      "Literka: n\n",
      "604158\n",
      "Literka: e\n",
      "-293194\n",
      "Literka: b\n",
      "68008\n",
      "Literka: o\n",
      "7114\n",
      "Literka: a\n",
      "-154903\n",
      "Literka: k\n",
      "105874\n",
      "Literka: ź\n",
      "-234\n",
      "Literka: u\n",
      "-75362\n",
      "Literka: ś\n",
      "-66130\n",
      "Literka: ó\n",
      "88\n",
      "Literka: d\n",
      "103950\n",
      "Literka: z\n",
      "163228\n",
      "Literka: t\n",
      "56179\n",
      "Literka: j\n",
      "-99807\n",
      "Literka: m\n",
      "-265021\n",
      "Literka: p\n",
      "395882\n",
      "Literka: ł\n",
      "-10986\n",
      "Literka: ć\n",
      "-27181\n",
      "Literka: s\n",
      "162466\n",
      "Literka: f\n",
      "35865\n",
      "Literka: g\n",
      "44932\n",
      "Literka: r\n",
      "103970\n",
      "Literka: y\n",
      "-372683\n",
      "Literka: ę\n",
      "-43325\n",
      "Literka: w\n",
      "162731\n",
      "Literka: ż\n",
      "-32377\n",
      "Literka: l\n",
      "29845\n"
     ]
    }
   ],
   "source": [
    "for qqq in pierwsze:\n",
    "    print(\"Literka: \" + qqq)\n",
    "    print(pierwsze[qqq] - ostatnie[qqq])"
   ]
  },
  {
   "cell_type": "code",
   "execution_count": 76,
   "metadata": {
    "collapsed": false
   },
   "outputs": [
    {
     "name": "stdout",
     "output_type": "stream",
     "text": [
      "abadańskie\n"
     ]
    }
   ],
   "source": [
    "print(slowa[10])"
   ]
  },
  {
   "cell_type": "code",
   "execution_count": 80,
   "metadata": {
    "collapsed": false
   },
   "outputs": [],
   "source": [
    "def zlicz(slowo, lit):\n",
    "    zliczenia = 0\n",
    "    for litera in slowo:\n",
    "        if litera == lit:\n",
    "            zliczenia += 1\n",
    "    return zliczenia"
   ]
  },
  {
   "cell_type": "code",
   "execution_count": 81,
   "metadata": {
    "collapsed": false
   },
   "outputs": [
    {
     "data": {
      "text/plain": [
       "5"
      ]
     },
     "execution_count": 81,
     "metadata": {},
     "output_type": "execute_result"
    }
   ],
   "source": [
    "zlicz(\"abrakadabra\", \"a\")"
   ]
  },
  {
   "cell_type": "code",
   "execution_count": 82,
   "metadata": {
    "collapsed": false
   },
   "outputs": [
    {
     "name": "stdout",
     "output_type": "stream",
     "text": [
      "wybyczyłybyśmy\n",
      "wypytywałybyśmy\n",
      "wysypywałybyśmy\n",
      "wytyczyłybyśmy\n",
      "wywyższyłybyśmy\n"
     ]
    }
   ],
   "source": [
    "for slowo in slowa:\n",
    "    if zlicz(slowo, 'y') == 6:\n",
    "        print(slowo)"
   ]
  },
  {
   "cell_type": "code",
   "execution_count": 83,
   "metadata": {
    "collapsed": true
   },
   "outputs": [],
   "source": [
    "ile_z = [zlicz(slowo, \"z\") for slowo in slowa]"
   ]
  },
  {
   "cell_type": "code",
   "execution_count": 86,
   "metadata": {
    "collapsed": false
   },
   "outputs": [
    {
     "data": {
      "text/plain": [
       "Counter({0: 1540195, 1: 938106, 2: 209456, 3: 20911, 4: 1152, 5: 62, 6: 1})"
      ]
     },
     "execution_count": 86,
     "metadata": {},
     "output_type": "execute_result"
    }
   ],
   "source": [
    "Counter(ile_z)"
   ]
  },
  {
   "cell_type": "code",
   "execution_count": 87,
   "metadata": {
    "collapsed": false
   },
   "outputs": [
    {
     "data": {
      "text/plain": [
       "6"
      ]
     },
     "execution_count": 87,
     "metadata": {},
     "output_type": "execute_result"
    }
   ],
   "source": [
    "max(ile_z)"
   ]
  },
  {
   "cell_type": "code",
   "execution_count": 88,
   "metadata": {
    "collapsed": false
   },
   "outputs": [
    {
     "data": {
      "text/plain": [
       "0"
      ]
     },
     "execution_count": 88,
     "metadata": {},
     "output_type": "execute_result"
    }
   ],
   "source": [
    "min(ile_z)"
   ]
  },
  {
   "cell_type": "code",
   "execution_count": 90,
   "metadata": {
    "collapsed": false
   },
   "outputs": [
    {
     "data": {
      "text/plain": [
       "1424675"
      ]
     },
     "execution_count": 90,
     "metadata": {},
     "output_type": "execute_result"
    }
   ],
   "source": [
    "sum(ile_z)"
   ]
  },
  {
   "cell_type": "code",
   "execution_count": 92,
   "metadata": {
    "collapsed": false
   },
   "outputs": [
    {
     "data": {
      "text/plain": [
       "['Ala', 'kot', 'pies', 'pyton', 'Python', 'pyton']"
      ]
     },
     "execution_count": 92,
     "metadata": {},
     "output_type": "execute_result"
    }
   ],
   "source": [
    "lista1"
   ]
  },
  {
   "cell_type": "code",
   "execution_count": 95,
   "metadata": {
    "collapsed": false
   },
   "outputs": [
    {
     "data": {
      "text/plain": [
       "[(0, 'Ala'),\n",
       " (1, 'kot'),\n",
       " (2, 'pies'),\n",
       " (3, 'pyton'),\n",
       " (4, 'Python'),\n",
       " (5, 'pyton')]"
      ]
     },
     "execution_count": 95,
     "metadata": {},
     "output_type": "execute_result"
    }
   ],
   "source": [
    "list(enumerate(lista1))"
   ]
  },
  {
   "cell_type": "code",
   "execution_count": 93,
   "metadata": {
    "collapsed": false
   },
   "outputs": [
    {
     "name": "stdout",
     "output_type": "stream",
     "text": [
      "0\n",
      "Ala\n",
      "1\n",
      "kot\n",
      "2\n",
      "pies\n",
      "3\n",
      "pyton\n",
      "4\n",
      "Python\n",
      "5\n",
      "pyton\n"
     ]
    }
   ],
   "source": [
    "for i, x in enumerate(lista1):\n",
    "    print(i)\n",
    "    print(x)"
   ]
  },
  {
   "cell_type": "code",
   "execution_count": 97,
   "metadata": {
    "collapsed": false
   },
   "outputs": [
    {
     "name": "stdout",
     "output_type": "stream",
     "text": [
      "zbezczeszczasz\n",
      "zbezczeszczasz\n",
      "zbezczeszczasz\n",
      "zbezczeszczasz\n",
      "1 loops, best of 3: 3.68 s per loop\n"
     ]
    }
   ],
   "source": [
    "for slowo in slowa:\n",
    "    if zlicz(slowo, \"z\") == 6:\n",
    "        print(slowo)"
   ]
  },
  {
   "cell_type": "code",
   "execution_count": 98,
   "metadata": {
    "collapsed": false
   },
   "outputs": [
    {
     "name": "stdout",
     "output_type": "stream",
     "text": [
      "zbezczeszczasz\n",
      "zbezczeszczasz\n",
      "zbezczeszczasz\n",
      "zbezczeszczasz\n",
      "1 loops, best of 3: 591 ms per loop\n"
     ]
    }
   ],
   "source": [
    "for i, slowo in enumerate(slowa):\n",
    "    if ile_z[i] == 6:\n",
    "        print(slowo)"
   ]
  },
  {
   "cell_type": "code",
   "execution_count": 99,
   "metadata": {
    "collapsed": true
   },
   "outputs": [],
   "source": [
    "czesto_z = [slowo for slowo in slowa if zlicz(slowo, \"z\") > 4]"
   ]
  },
  {
   "cell_type": "code",
   "execution_count": 101,
   "metadata": {
    "collapsed": false
   },
   "outputs": [
    {
     "data": {
      "text/plain": [
       "63"
      ]
     },
     "execution_count": 101,
     "metadata": {},
     "output_type": "execute_result"
    }
   ],
   "source": [
    "len(czesto_z)"
   ]
  },
  {
   "cell_type": "code",
   "execution_count": 103,
   "metadata": {
    "collapsed": false
   },
   "outputs": [
    {
     "data": {
      "text/plain": [
       "['zbezczeszczone',\n",
       " 'zbezczeszczonej',\n",
       " 'zbezczeszczono',\n",
       " 'zbezczeszczony',\n",
       " 'zbezczeszczonym']"
      ]
     },
     "execution_count": 103,
     "metadata": {},
     "output_type": "execute_result"
    }
   ],
   "source": [
    "czesto_z[-5:]"
   ]
  },
  {
   "cell_type": "code",
   "execution_count": 104,
   "metadata": {
    "collapsed": false
   },
   "outputs": [
    {
     "name": "stdout",
     "output_type": "stream",
     "text": [
      "The Zen of Python, by Tim Peters\n",
      "\n",
      "Beautiful is better than ugly.\n",
      "Explicit is better than implicit.\n",
      "Simple is better than complex.\n",
      "Complex is better than complicated.\n",
      "Flat is better than nested.\n",
      "Sparse is better than dense.\n",
      "Readability counts.\n",
      "Special cases aren't special enough to break the rules.\n",
      "Although practicality beats purity.\n",
      "Errors should never pass silently.\n",
      "Unless explicitly silenced.\n",
      "In the face of ambiguity, refuse the temptation to guess.\n",
      "There should be one-- and preferably only one --obvious way to do it.\n",
      "Although that way may not be obvious at first unless you're Dutch.\n",
      "Now is better than never.\n",
      "Although never is often better than *right* now.\n",
      "If the implementation is hard to explain, it's a bad idea.\n",
      "If the implementation is easy to explain, it may be a good idea.\n",
      "Namespaces are one honking great idea -- let's do more of those!\n"
     ]
    }
   ],
   "source": [
    "import this"
   ]
  },
  {
   "cell_type": "code",
   "execution_count": 106,
   "metadata": {
    "collapsed": false
   },
   "outputs": [
    {
     "data": {
      "text/plain": [
       "'bcd'"
      ]
     },
     "execution_count": 106,
     "metadata": {},
     "output_type": "execute_result"
    }
   ],
   "source": [
    "\"abcdefghij\"[1:-1]"
   ]
  },
  {
   "cell_type": "code",
   "execution_count": 108,
   "metadata": {
    "collapsed": false
   },
   "outputs": [
    {
     "data": {
      "text/plain": [
       "'beh'"
      ]
     },
     "execution_count": 108,
     "metadata": {},
     "output_type": "execute_result"
    }
   ],
   "source": [
    "\"abcdefghij\"[1:-1:3]"
   ]
  },
  {
   "cell_type": "code",
   "execution_count": 109,
   "metadata": {
    "collapsed": false
   },
   "outputs": [
    {
     "data": {
      "text/plain": [
       "'acegi'"
      ]
     },
     "execution_count": 109,
     "metadata": {},
     "output_type": "execute_result"
    }
   ],
   "source": [
    "\"abcdefghij\"[::2]"
   ]
  },
  {
   "cell_type": "code",
   "execution_count": 110,
   "metadata": {
    "collapsed": false
   },
   "outputs": [
    {
     "data": {
      "text/plain": [
       "'bdfhj'"
      ]
     },
     "execution_count": 110,
     "metadata": {},
     "output_type": "execute_result"
    }
   ],
   "source": [
    "\"abcdefghij\"[1::2]"
   ]
  },
  {
   "cell_type": "code",
   "execution_count": 113,
   "metadata": {
    "collapsed": false
   },
   "outputs": [
    {
     "data": {
      "text/plain": [
       "'jihgfedcba'"
      ]
     },
     "execution_count": 113,
     "metadata": {},
     "output_type": "execute_result"
    }
   ],
   "source": [
    "\"abcdefghij\"[::-1]"
   ]
  },
  {
   "cell_type": "code",
   "execution_count": 114,
   "metadata": {
    "collapsed": false
   },
   "outputs": [
    {
     "data": {
      "text/plain": [
       "['pies', 'kot', 'ala']"
      ]
     },
     "execution_count": 114,
     "metadata": {},
     "output_type": "execute_result"
    }
   ],
   "source": [
    "[\"ala\", \"kot\", \"pies\"][::-1]"
   ]
  },
  {
   "cell_type": "code",
   "execution_count": 116,
   "metadata": {
    "collapsed": false
   },
   "outputs": [
    {
     "data": {
      "text/plain": [
       "False"
      ]
     },
     "execution_count": 116,
     "metadata": {},
     "output_type": "execute_result"
    }
   ],
   "source": [
    "\"slowo\" == \"slowo\"[::-1]"
   ]
  },
  {
   "cell_type": "code",
   "execution_count": 118,
   "metadata": {
    "collapsed": true
   },
   "outputs": [],
   "source": [
    "slowo = \"ala\""
   ]
  },
  {
   "cell_type": "code",
   "execution_count": 119,
   "metadata": {
    "collapsed": false
   },
   "outputs": [
    {
     "data": {
      "text/plain": [
       "True"
      ]
     },
     "execution_count": 119,
     "metadata": {},
     "output_type": "execute_result"
    }
   ],
   "source": [
    "slowo == slowo[::-1]"
   ]
  },
  {
   "cell_type": "code",
   "execution_count": 121,
   "metadata": {
    "collapsed": true
   },
   "outputs": [],
   "source": [
    "def palindrom(slowo):\n",
    "    return slowo == slowo[::-1]"
   ]
  },
  {
   "cell_type": "code",
   "execution_count": 122,
   "metadata": {
    "collapsed": true
   },
   "outputs": [],
   "source": [
    "palindromy = [slowo for slowo in slowa if palindrom(slowo)]"
   ]
  },
  {
   "cell_type": "code",
   "execution_count": 123,
   "metadata": {
    "collapsed": false
   },
   "outputs": [
    {
     "data": {
      "text/plain": [
       "142"
      ]
     },
     "execution_count": 123,
     "metadata": {},
     "output_type": "execute_result"
    }
   ],
   "source": [
    "len(palindromy)"
   ]
  },
  {
   "cell_type": "code",
   "execution_count": 127,
   "metadata": {
    "collapsed": false
   },
   "outputs": [
    {
     "data": {
      "text/plain": [
       "['anilina',\n",
       " 'apokopa',\n",
       " 'imagami',\n",
       " 'imakami',\n",
       " 'imamami',\n",
       " 'imażami',\n",
       " 'jadaj',\n",
       " 'jaraj',\n",
       " 'juroruj',\n",
       " 'kajak',\n",
       " 'kanak',\n",
       " 'karak',\n",
       " 'karrak',\n",
       " 'kasak',\n",
       " 'lunul',\n",
       " 'łajał',\n",
       " 'łamał',\n",
       " 'łapał',\n",
       " 'łatał',\n",
       " 'macam',\n",
       " 'makam',\n",
       " 'malajalam',\n",
       " 'melem',\n",
       " 'mełłem',\n",
       " 'memem',\n",
       " 'menem',\n",
       " 'merem',\n",
       " 'milim',\n",
       " 'minim',\n",
       " 'misim',\n",
       " 'mocom',\n",
       " 'modom',\n",
       " 'mokkom',\n",
       " 'molom',\n",
       " 'mołłom',\n",
       " 'monom',\n",
       " 'mopom',\n",
       " 'morom',\n",
       " 'motetom',\n",
       " 'mottom',\n",
       " 'mowom',\n",
       " 'moxom',\n",
       " 'mytym',\n",
       " 'nagan',\n",
       " 'nizin',\n",
       " 'okrawarko',\n",
       " 'owocowo',\n",
       " 'pokop',\n",
       " 'potop',\n",
       " 'radar',\n",
       " 'rener',\n",
       " 'reper',\n",
       " 'rotator',\n",
       " 'rotor',\n",
       " 'sedes',\n",
       " 'senes',\n",
       " 'telet',\n",
       " 'tilit',\n",
       " 'tillit',\n",
       " 'titit',\n",
       " 'towot',\n",
       " 'toyot',\n",
       " 'ususu',\n",
       " 'wyryw',\n",
       " 'wyżyw',\n",
       " 'zakaz',\n",
       " 'zaraz']"
      ]
     },
     "execution_count": 127,
     "metadata": {},
     "output_type": "execute_result"
    }
   ],
   "source": [
    "[slowo for slowo in palindromy if len(slowo) > 4]"
   ]
  },
  {
   "cell_type": "code",
   "execution_count": 128,
   "metadata": {
    "collapsed": true
   },
   "outputs": [],
   "source": [
    "polskie = \"ąęćńłóśźż\""
   ]
  },
  {
   "cell_type": "code",
   "execution_count": 132,
   "metadata": {
    "collapsed": false
   },
   "outputs": [],
   "source": [
    "def ile_polskich(slowo):\n",
    "    liczba = 0\n",
    "    for literka in slowo:\n",
    "        if literka in polskie:\n",
    "            liczba += 1\n",
    "    return liczba"
   ]
  },
  {
   "cell_type": "code",
   "execution_count": 134,
   "metadata": {
    "collapsed": false
   },
   "outputs": [
    {
     "data": {
      "text/plain": [
       "4"
      ]
     },
     "execution_count": 134,
     "metadata": {},
     "output_type": "execute_result"
    }
   ],
   "source": [
    "ile_polskich(\"żółć\")"
   ]
  },
  {
   "cell_type": "code",
   "execution_count": 135,
   "metadata": {
    "collapsed": true
   },
   "outputs": [],
   "source": [
    "zlicz_polskie = [ile_polskich(slowo) for slowo in slowa]"
   ]
  },
  {
   "cell_type": "code",
   "execution_count": 137,
   "metadata": {
    "collapsed": false
   },
   "outputs": [
    {
     "data": {
      "text/plain": [
       "Counter({0: 1293089, 1: 959357, 2: 366406, 3: 79909, 4: 10402, 5: 689, 6: 31})"
      ]
     },
     "execution_count": 137,
     "metadata": {},
     "output_type": "execute_result"
    }
   ],
   "source": [
    "Counter(zlicz_polskie)"
   ]
  },
  {
   "cell_type": "code",
   "execution_count": 138,
   "metadata": {
    "collapsed": false
   },
   "outputs": [
    {
     "data": {
      "text/plain": [
       "['mosiężnożółtą',\n",
       " 'nadżółknąłbyś',\n",
       " 'nadżółknąłeś',\n",
       " 'nieróżowożółtą',\n",
       " 'nieżółtoróżową',\n",
       " 'pożółknąłbyś',\n",
       " 'pożółknąłeś',\n",
       " 'półciągłością',\n",
       " 'półciągłość',\n",
       " 'półciężarówką',\n",
       " 'półciężarówkę',\n",
       " 'półgłośnością',\n",
       " 'półgłośność',\n",
       " 'półobłąkańców',\n",
       " 'półokrągłością',\n",
       " 'półokrągłość',\n",
       " 'przeżółknąłbyś',\n",
       " 'przeżółknąłeś',\n",
       " 'przyżółknąłbyś',\n",
       " 'przyżółknąłeś',\n",
       " 'różowawożółtą',\n",
       " 'różowożółtą',\n",
       " 'współdźwięczącą',\n",
       " 'wyżółknąłbyś',\n",
       " 'wyżółknąłeś',\n",
       " 'zżółknąłbyś',\n",
       " 'zżółknąłeś',\n",
       " 'żółknąłbyś',\n",
       " 'żółknąłeś',\n",
       " 'żółtaworóżową',\n",
       " 'żółtoróżową']"
      ]
     },
     "execution_count": 138,
     "metadata": {},
     "output_type": "execute_result"
    }
   ],
   "source": [
    "[slowo for slowo in slowa if ile_polskich(slowo) == 6]"
   ]
  },
  {
   "cell_type": "code",
   "execution_count": 139,
   "metadata": {
    "collapsed": false
   },
   "outputs": [
    {
     "data": {
      "text/plain": [
       "5"
      ]
     },
     "execution_count": 139,
     "metadata": {},
     "output_type": "execute_result"
    }
   ],
   "source": [
    "\"abrakadabra\".count(\"a\")"
   ]
  },
  {
   "cell_type": "code",
   "execution_count": 140,
   "metadata": {
    "collapsed": false
   },
   "outputs": [
    {
     "data": {
      "text/plain": [
       "True"
      ]
     },
     "execution_count": 140,
     "metadata": {},
     "output_type": "execute_result"
    }
   ],
   "source": [
    "\"niebezpiecznie\".startswith(\"nie\")"
   ]
  },
  {
   "cell_type": "code",
   "execution_count": 141,
   "metadata": {
    "collapsed": false
   },
   "outputs": [
    {
     "data": {
      "text/plain": [
       "False"
      ]
     },
     "execution_count": 141,
     "metadata": {},
     "output_type": "execute_result"
    }
   ],
   "source": [
    "\"Ala\".startswith(\"nie\")"
   ]
  },
  {
   "cell_type": "code",
   "execution_count": 145,
   "metadata": {
    "collapsed": false
   },
   "outputs": [
    {
     "data": {
      "text/plain": [
       "['niebiałożółty',\n",
       " 'niebladożółty',\n",
       " 'niebrązowożółty',\n",
       " 'niebrudnożółty',\n",
       " 'nieciemnożółty',\n",
       " 'niejasnożółty',\n",
       " 'niekremowożółty',\n",
       " 'niematowożółty',\n",
       " 'niemiodowożółty',\n",
       " 'niemlecznożółty',\n",
       " 'nieochrowożółty',\n",
       " 'nieognistożółty',\n",
       " 'niepłowożółty',\n",
       " 'nierdzawożółty',\n",
       " 'nieróżowożółty',\n",
       " 'nierudawożółty',\n",
       " 'nierudożółty',\n",
       " 'nieszarożółty',\n",
       " 'niewoskowożółty',\n",
       " 'niezielonożółty',\n",
       " 'niezłotawożółty',\n",
       " 'niezłotożółty',\n",
       " 'nieżółty']"
      ]
     },
     "execution_count": 145,
     "metadata": {},
     "output_type": "execute_result"
    }
   ],
   "source": [
    "[slowo for slowo in slowa \n",
    " if slowo.endswith(\"żółty\") and slowo.startswith(\"nie\")]"
   ]
  },
  {
   "cell_type": "code",
   "execution_count": 157,
   "metadata": {
    "collapsed": false
   },
   "outputs": [
    {
     "data": {
      "text/plain": [
       "['denominowano',\n",
       " 'farnochinonom',\n",
       " 'farnochinonowi',\n",
       " 'nominowano',\n",
       " 'nomokanonom',\n",
       " 'nomokanonowi',\n",
       " 'noumenonom',\n",
       " 'noumenonowi',\n",
       " 'ponominowano',\n",
       " 'zdenominowano']"
      ]
     },
     "execution_count": 157,
     "metadata": {},
     "output_type": "execute_result"
    }
   ],
   "source": [
    "[slowo for slowo in slowa if slowo.count(\"no\") > 2]"
   ]
  },
  {
   "cell_type": "markdown",
   "metadata": {},
   "source": [
    "### Zadania\n",
    "\n",
    "* Palindromy\n",
    "* Najwięcej polskich znaków?\n",
    "* Najwięcej różnych polskich znaków?\n",
    "* Słowa:\n",
    "    * zaczynające się od (`.startswith(poczatek)`)\n",
    "    * kończące się na (`.endswith(koniec)`)\n",
    "    * zawierające (`.counts(podslowo)`)\n",
    "* Punkty w Scrabble lub Literaki a częstość występowania"
   ]
  },
  {
   "cell_type": "markdown",
   "metadata": {},
   "source": [
    "# W pustyni i w puszczy\n",
    "\n",
    "ze zbioru [Wolne Lektury](https://wolnelektury.pl/)"
   ]
  },
  {
   "cell_type": "code",
   "execution_count": 158,
   "metadata": {
    "collapsed": false
   },
   "outputs": [],
   "source": [
    "import requests"
   ]
  },
  {
   "cell_type": "code",
   "execution_count": 159,
   "metadata": {
    "collapsed": true
   },
   "outputs": [],
   "source": [
    "tekst = requests.get(\"https://wolnelektury.pl/media/book/txt/w-pustyni-i-w-puszczy.txt\").content.decode('utf8')"
   ]
  },
  {
   "cell_type": "code",
   "execution_count": 164,
   "metadata": {
    "collapsed": true
   },
   "outputs": [],
   "source": [
    "# jak nie ma internetu a plik jest na dysku to\n",
    "tekst = open(\"../dane_surowe/w-pustyni-i-w-puszczy.txt\",\n",
    "             encoding=\"utf8\").read()"
   ]
  },
  {
   "cell_type": "code",
   "execution_count": 166,
   "metadata": {
    "collapsed": false
   },
   "outputs": [
    {
     "data": {
      "text/plain": [
       "638803"
      ]
     },
     "execution_count": 166,
     "metadata": {},
     "output_type": "execute_result"
    }
   ],
   "source": [
    "len(tekst)"
   ]
  },
  {
   "cell_type": "code",
   "execution_count": 165,
   "metadata": {
    "collapsed": false
   },
   "outputs": [
    {
     "data": {
      "text/plain": [
       "'Henryk Sienkiewicz\\n\\nW pustyni i w puszczy\\n\\n\\n\\n\\n\\nROZDZIAŁ I\\n\\n— Wiesz, Nel — mówił Staś Tarkowski do swojej przyjaciółki, małej Angielki — wczoraj przyszli zabtie (policjanci) i aresztowali żonę dozorcy Smaina i jej troje dzieci — tę Fatmę, która już kilka razy przychodziła do biura do twojego ojca i do mego.\\n\\nA mała, podobna do ślicznego obrazka Nel podniosła swe zielonawe oczy na Stasia i zapytała na wpół ze zdziwieniem, a na wpół ze strachem:\\n\\n— Wzięli ją do więzienia?\\n\\n— Nie, ale nie pozwolili '"
      ]
     },
     "execution_count": 165,
     "metadata": {},
     "output_type": "execute_result"
    }
   ],
   "source": [
    "tekst[:500]"
   ]
  },
  {
   "cell_type": "code",
   "execution_count": 23,
   "metadata": {
    "collapsed": false
   },
   "outputs": [
    {
     "name": "stdout",
     "output_type": "stream",
     "text": [
      "Henryk Sienkiewicz\n",
      "\n",
      "W pustyni i w puszczy\n",
      "\n",
      "\n",
      "\n",
      "\n",
      "\n",
      "ROZDZIAŁ I\n",
      "\n",
      "— Wiesz, Nel — mówił Staś Tarkowski do swojej przyjaciółki, małej Angielki — wczoraj przyszli zabtie (policjanci) i aresztowali żonę dozorcy Smaina i jej troje dzieci — tę Fatmę, która już kilka razy przychodziła do biura do twojego ojca i do mego.\n",
      "\n",
      "A mała, podobna do ślicznego obrazka Nel podniosła swe zielonawe oczy na Stasia i zapytała na wpół ze zdziwieniem, a na wpół ze strachem:\n",
      "\n",
      "— Wzięli ją do więzienia?\n",
      "\n",
      "— Nie, ale nie pozwolili \n"
     ]
    }
   ],
   "source": [
    "print(tekst[:500])"
   ]
  },
  {
   "cell_type": "code",
   "execution_count": 167,
   "metadata": {
    "collapsed": false
   },
   "outputs": [],
   "source": [
    "slowa = tekst.split()"
   ]
  },
  {
   "cell_type": "code",
   "execution_count": 168,
   "metadata": {
    "collapsed": false
   },
   "outputs": [
    {
     "data": {
      "text/plain": [
       "['Henryk', 'Sienkiewicz', 'W', 'pustyni', 'i']"
      ]
     },
     "execution_count": 168,
     "metadata": {},
     "output_type": "execute_result"
    }
   ],
   "source": [
    "slowa[:5]"
   ]
  },
  {
   "cell_type": "code",
   "execution_count": 169,
   "metadata": {
    "collapsed": false
   },
   "outputs": [
    {
     "data": {
      "text/plain": [
       "102226"
      ]
     },
     "execution_count": 169,
     "metadata": {},
     "output_type": "execute_result"
    }
   ],
   "source": [
    "len(slowa)"
   ]
  },
  {
   "cell_type": "code",
   "execution_count": 170,
   "metadata": {
    "collapsed": true
   },
   "outputs": [],
   "source": [
    "slowa_mniejsze = [slowo.lower() for slowo in slowa]"
   ]
  },
  {
   "cell_type": "code",
   "execution_count": 172,
   "metadata": {
    "collapsed": false
   },
   "outputs": [
    {
     "data": {
      "text/plain": [
       "[('i', 4030),\n",
       " ('się', 2544),\n",
       " ('—', 2486),\n",
       " ('w', 2225),\n",
       " ('na', 1988),\n",
       " ('nie', 1893),\n",
       " ('z', 1755),\n",
       " ('że', 1393),\n",
       " ('do', 1202),\n",
       " ('a', 1038),\n",
       " ('ale', 782),\n",
       " ('to', 781),\n",
       " ('po', 726),\n",
       " ('jak', 540),\n",
       " ('staś', 513),\n",
       " ('o', 490),\n",
       " ('tak', 432),\n",
       " ('od', 426),\n",
       " ('za', 410),\n",
       " ('co', 394)]"
      ]
     },
     "execution_count": 172,
     "metadata": {},
     "output_type": "execute_result"
    }
   ],
   "source": [
    "Counter(slowa_mniejsze).most_common(20)"
   ]
  },
  {
   "cell_type": "code",
   "execution_count": 173,
   "metadata": {
    "collapsed": true
   },
   "outputs": [],
   "source": [
    "wlasne = [slowo for slowo in slowa if slowo != slowo.lower()]"
   ]
  },
  {
   "cell_type": "code",
   "execution_count": 178,
   "metadata": {
    "collapsed": true
   },
   "outputs": [],
   "source": [
    "zbior_slow = set(slowa_mniejsze)"
   ]
  },
  {
   "cell_type": "code",
   "execution_count": 187,
   "metadata": {
    "collapsed": true
   },
   "outputs": [],
   "source": [
    "slowa_normalne = set([slowo for slowo in slowa\n",
    "                      if slowo == slowo.lower()])"
   ]
  },
  {
   "cell_type": "code",
   "execution_count": 180,
   "metadata": {
    "collapsed": false
   },
   "outputs": [
    {
     "data": {
      "text/plain": [
       "{'Ala', 'Python', 'kot'}"
      ]
     },
     "execution_count": 180,
     "metadata": {},
     "output_type": "execute_result"
    }
   ],
   "source": [
    "set([\"Ala\", \"kot\", \"kot\", \"Python\"])"
   ]
  },
  {
   "cell_type": "code",
   "execution_count": 188,
   "metadata": {
    "collapsed": false
   },
   "outputs": [],
   "source": [
    "wlasne2 = [slowo for slowo in slowa if slowo.lower() not in slowa_normalne]"
   ]
  },
  {
   "cell_type": "code",
   "execution_count": 189,
   "metadata": {
    "collapsed": false
   },
   "outputs": [
    {
     "data": {
      "text/plain": [
       "[('Staś', 513),\n",
       " ('Nel', 320),\n",
       " ('Kali', 204),\n",
       " ('Nel,', 133),\n",
       " ('Stasia', 111),\n",
       " ('Idrys', 100),\n",
       " ('Staś.', 70),\n",
       " ('Gebhr', 60),\n",
       " ('Nel.', 60),\n",
       " ('Mahdi', 57),\n",
       " ('Chamis', 50),\n",
       " ('ROZDZIAŁ', 46),\n",
       " ('Stasia,', 44),\n",
       " ('Kalego', 44),\n",
       " ('Staś,', 42),\n",
       " ('Stasiowi', 41),\n",
       " ('Rawlison', 40),\n",
       " ('Beduini', 40),\n",
       " ('Mzimu', 40),\n",
       " ('Saba', 38),\n",
       " ('Murzyni', 32),\n",
       " ('Bóg', 31),\n",
       " ('Kali,', 31),\n",
       " ('Tarkowski', 31),\n",
       " ('Jakoż', 30),\n",
       " ('Smain', 30),\n",
       " ('Kalego,', 30),\n",
       " ('Mahdiego', 29),\n",
       " ('Murzyn', 29),\n",
       " ('Mea', 28),\n",
       " ('Dinah', 26),\n",
       " ('Gebhra', 24),\n",
       " ('Mahdiego,', 24),\n",
       " ('Faszody', 23),\n",
       " ('Murzynów', 23),\n",
       " ('Gebhra,', 23),\n",
       " ('Arabowie', 22),\n",
       " ('Mzimu,', 22),\n",
       " ('Smaina', 22),\n",
       " ('Sudańczycy', 22),\n",
       " ('King', 21),\n",
       " ('Chartumu', 20),\n",
       " ('Nilu', 20),\n",
       " ('Wa-hima', 20),\n",
       " ('Idrysa', 19),\n",
       " ('Stasiu,', 19),\n",
       " ('Kinga', 18),\n",
       " ('Lindego', 18),\n",
       " ('Mahdiego.', 18),\n",
       " ('Nel!', 18),\n",
       " ('Medinet', 18),\n",
       " ('Medinet.', 17),\n",
       " ('Kalemu', 17),\n",
       " ('Linde', 17),\n",
       " ('Saba,', 16),\n",
       " ('Nilu,', 16),\n",
       " ('Arabów', 15),\n",
       " ('Rawlison.', 15),\n",
       " ('Nilu.', 15),\n",
       " ('Kinga,', 15),\n",
       " ('Port-Saidzie', 15),\n",
       " ('Idrys.', 15),\n",
       " ('Beduinów', 14),\n",
       " ('Nasibu', 14),\n",
       " ('Samburu', 14),\n",
       " ('Faszody,', 14),\n",
       " ('Fatma', 14),\n",
       " ('Murzynów,', 14),\n",
       " ('Wa-himów', 14),\n",
       " ('King,', 13),\n",
       " ('Smaina.', 13),\n",
       " ('Saby,', 13),\n",
       " ('Mei', 13),\n",
       " ('Kali.', 13),\n",
       " ('Allach!', 12),\n",
       " ('Chamisa,', 12),\n",
       " ('Saby', 12),\n",
       " ('Gebhr,', 12),\n",
       " ('Fumby,', 12),\n",
       " ('Kalim', 12),\n",
       " ('Stasiowi,', 11),\n",
       " ('Afryce', 11),\n",
       " ('Allach', 11),\n",
       " ('Dinah,', 11),\n",
       " ('Wa-himów,', 11),\n",
       " ('Egipcie', 11),\n",
       " ('Sudańczyk', 11),\n",
       " ('Smaina,', 11),\n",
       " ('Idrys,', 11),\n",
       " ('Tarkowski,', 11),\n",
       " ('Glen', 11),\n",
       " ('Stasia.', 10),\n",
       " ('Tarkowski.', 10),\n",
       " ('Mombassa', 10),\n",
       " ('Mzimu.', 10),\n",
       " ('Abdullahi', 10),\n",
       " (\"M'Rua\", 10),\n",
       " ('Rawlisona', 10),\n",
       " ('Murzyn.', 10),\n",
       " ('Stasiu!', 10),\n",
       " ('Port-Saidzie,', 9),\n",
       " ('Stasiem', 9),\n",
       " ('Kairu', 9),\n",
       " ('Otóż', 9),\n",
       " ('Lindego,', 9),\n",
       " ('Gebhr.', 9),\n",
       " ('Sabę,', 9),\n",
       " ('Anglicy', 9),\n",
       " ('Grek', 9),\n",
       " ('Omdurmanie', 9),\n",
       " ('Samburu.', 9),\n",
       " ('Gebhra.', 9),\n",
       " ('Samburów', 9),\n",
       " ('Mzimu!', 9),\n",
       " ('Medinet,', 8),\n",
       " ('Idrysa,', 8),\n",
       " ('Sudańczyków', 8),\n",
       " ('Faszody.', 8),\n",
       " ('Beduin', 8),\n",
       " ('Wa-himów.', 8),\n",
       " ('Chamisa', 8),\n",
       " ('Stasiu?', 8),\n",
       " ('Egipcie,', 8),\n",
       " ('Beduinów,', 8),\n",
       " ('Wa-himowie', 8),\n",
       " ('Beduinów.', 8),\n",
       " ('Smain,', 8),\n",
       " ('Nasibu,', 8),\n",
       " ('Fajumu', 8),\n",
       " ('Meą', 8),\n",
       " ('Ach!', 8),\n",
       " ('Hatim', 7),\n",
       " ('Olivier', 7),\n",
       " ('Kalego.', 7),\n",
       " ('Chamis,', 7),\n",
       " ('Dangalów,', 7),\n",
       " ('Bismillach!', 7),\n",
       " ('Sabą', 7),\n",
       " ('Chamisa.', 7),\n",
       " ('Mombassa.', 7),\n",
       " ('Tarkowskiego', 7),\n",
       " ('Stasia:', 7),\n",
       " ('Nilem', 7),\n",
       " ('Wa-hima,', 7),\n",
       " ('Wadi-Halfa,', 7),\n",
       " ('Chamis.', 7),\n",
       " (\"M'Ruy,\", 7),\n",
       " ('Mea,', 7),\n",
       " ('Port-Saidu', 7),\n",
       " ('Kalim.', 6),\n",
       " ('Bassa-Narok', 6),\n",
       " ('Arabowie,', 6),\n",
       " ('Chartum', 6),\n",
       " ('Chadigiego,', 6),\n",
       " ('Anglia', 6),\n",
       " ('Fumby.', 6),\n",
       " ('Murzynom', 6),\n",
       " ('Lindem', 6),\n",
       " ('Port-Saidu,', 6),\n",
       " ('Faru', 6),\n",
       " ('Clary', 6),\n",
       " ('Kalemu,', 6),\n",
       " ('Arabów,', 6),\n",
       " ('Mei,', 6),\n",
       " ('Faszodzie', 6),\n",
       " ('Rawlisona,', 6),\n",
       " ('Rawlison,', 6),\n",
       " ('Fumby', 6),\n",
       " ('Chartumu,', 6),\n",
       " ('Kairu,', 6),\n",
       " ('Murzyn,', 6),\n",
       " ('Chartum,', 6),\n",
       " ('Faru,', 6),\n",
       " ('Nur-el-Tadhil', 6),\n",
       " ('Samburów,', 6),\n",
       " ('King.', 6),\n",
       " ('Mzimu?', 5),\n",
       " ('Anglicy,', 5),\n",
       " ('Egiptu,', 5),\n",
       " ('Omdurmanie.', 5),\n",
       " ('Smainowi', 5),\n",
       " ('Bassa-Narok,', 5),\n",
       " ('Murzynów.', 5),\n",
       " ('Wadi-Halfa', 5),\n",
       " ('El-Gharak.', 5),\n",
       " ('Kinga.', 5),\n",
       " ('Afryki', 5),\n",
       " ('Saba!', 5),\n",
       " ('Beduini,', 5),\n",
       " ('Nubii,', 5),\n",
       " ('Port-Saidu.', 5),\n",
       " ('Murzyna,', 5),\n",
       " ('Linde,', 5),\n",
       " ('Glena', 5),\n",
       " ('…Który', 5),\n",
       " ('Egiptu', 5),\n",
       " ('Nel?', 5),\n",
       " ('Boga', 5),\n",
       " ('Idrysa.', 5),\n",
       " ('Omdurman', 5),\n",
       " ('Omdurmanu', 5),\n",
       " ('Sudanu', 5),\n",
       " ('Chartumie,', 5),\n",
       " ('Fatmy', 5),\n",
       " ('Fumba', 5),\n",
       " ('Chamisem', 5),\n",
       " ('Afryce,', 5),\n",
       " ('Glen,', 5),\n",
       " ('Sudańczycy,', 4),\n",
       " (\"M'Kunje\", 4),\n",
       " ('Samburowie', 4),\n",
       " ('Bahr-Jussef', 4),\n",
       " ('El-Wasta', 4),\n",
       " ('Meę', 4),\n",
       " ('Omdurmanu.', 4),\n",
       " ('Stanisław', 4),\n",
       " ('Smaina?', 4),\n",
       " ('Beduinami', 4),\n",
       " ('Chartumu.', 4),\n",
       " ('Sudańczyk.', 4),\n",
       " ('Chartumie', 4),\n",
       " ('Mahdi.', 4),\n",
       " ('Egipt,', 4),\n",
       " ('Stasiem,', 4),\n",
       " ('Owóż', 4),\n",
       " ('Kali?', 4),\n",
       " ('Greków', 4),\n",
       " ('Anglików', 4),\n",
       " ('Nastało', 4),\n",
       " ('Mahdi,', 4),\n",
       " ('Abisynii', 4),\n",
       " ('Tadhil', 4),\n",
       " ('Lueli', 4),\n",
       " ('Sabę.', 4),\n",
       " ('Gordona', 4),\n",
       " ('Abdullahiego', 4),\n",
       " ('Murzyna', 4),\n",
       " ('Lueli,', 4),\n",
       " ('Sudanie', 4),\n",
       " ('Murzynek', 4),\n",
       " ('Oj!', 4),\n",
       " ('Mahdiego?', 4),\n",
       " (\"M'Ruy.\", 4),\n",
       " ('Mahdiemu', 4),\n",
       " ('Saby.', 4),\n",
       " ('Słuchaj,', 4),\n",
       " ('Fajumu.', 4),\n",
       " ('Ha!', 4),\n",
       " ('Afryki,', 4),\n",
       " ('Rawlisonowi,', 4),\n",
       " ('Abdullahi,', 4),\n",
       " ('Bogu,', 4),\n",
       " ('Abisynii.', 4),\n",
       " ('Clary.', 4),\n",
       " ('Samburu,', 4),\n",
       " ('Fajumu,', 4),\n",
       " ('Kilima-Ndżaro', 4),\n",
       " ('Lindem,', 4),\n",
       " ('Sudańczykom', 4),\n",
       " ('Fatmy.', 4),\n",
       " ('Stasiu', 4),\n",
       " ('Idrysem', 4),\n",
       " ('Gharak.', 4),\n",
       " ('Karamojo.', 4),\n",
       " ('Sabę', 4),\n",
       " ('Anglii,', 4),\n",
       " ('Stasiowi.', 4),\n",
       " ('Anglików,', 4),\n",
       " ('Karamojo', 4),\n",
       " ('Lindego.', 3),\n",
       " ('Faszodzie,', 3),\n",
       " ('Samburów.', 3),\n",
       " ('Wa-himom', 3),\n",
       " ('Kali!', 3),\n",
       " ('…I', 3),\n",
       " ('El-Medine,', 3),\n",
       " ('Egipcjan', 3),\n",
       " ('Clarego', 3),\n",
       " ('Karoun.', 3),\n",
       " ('Saba.', 3),\n",
       " ('Widziałeś', 3),\n",
       " ('Afryka', 3),\n",
       " ('Kingowi', 3),\n",
       " ('Fatma,', 3),\n",
       " ('Sudanie,', 3),\n",
       " ('Indiach', 3),\n",
       " ('Starzy', 3),\n",
       " ('Europejczyków,', 3),\n",
       " ('Omdurmanu,', 3),\n",
       " ('Nilem,', 3),\n",
       " ('Owszem,', 3),\n",
       " ('Fajum,', 3),\n",
       " ('Fatmy,', 3),\n",
       " ('No,', 3),\n",
       " ('Murzynami', 3),\n",
       " ('Kalego:', 3),\n",
       " ('Nelly', 3),\n",
       " ('Linde.', 3),\n",
       " ('Nel…', 3),\n",
       " ('Samburowie,', 3),\n",
       " ('Bogu', 3),\n",
       " ('Europy', 3),\n",
       " ('Fumbie', 3),\n",
       " ('Izmaili', 3),\n",
       " ('Olivier,', 3),\n",
       " ('Sabie', 3),\n",
       " ('Upłynęła', 3),\n",
       " ('Hatima', 3),\n",
       " ('Zanzibaru.', 3),\n",
       " ('Egiptu.', 3),\n",
       " ('Chadigiego', 3),\n",
       " ('Ja?', 3),\n",
       " ('Smainie', 3),\n",
       " ('M’Tana', 3),\n",
       " ('Medinet-el-Fajum', 3),\n",
       " ('El-Fachen', 3),\n",
       " ('Abisynii,', 3),\n",
       " ('„Krakowa”.', 3),\n",
       " ('Szylluk,', 3),\n",
       " ('Abdullahiego.', 3),\n",
       " ('Ależ', 3),\n",
       " ('Kalim,', 3),\n",
       " ('Fatmę', 3),\n",
       " ('Maszallach!', 3),\n",
       " (\"M'Pua\", 3),\n",
       " ('Mahdim,', 3),\n",
       " ('Assuanu', 3),\n",
       " ('Stasiu…', 3),\n",
       " ('Wa-himowie,', 3),\n",
       " ('Samburu?', 3),\n",
       " ('Chartumu?', 3),\n",
       " ('Fumbę', 3),\n",
       " ('Aha!', 3),\n",
       " ('Wa-hima.', 3),\n",
       " ('Boga,', 3),\n",
       " ('Szwajcar', 3),\n",
       " ('Hatim,', 3),\n",
       " ('Afryce.', 3),\n",
       " ('Luela!', 3),\n",
       " ('Mahdim', 3),\n",
       " ('Nel:', 3),\n",
       " ('Kingu', 3),\n",
       " ('Sudańczyków,', 3),\n",
       " ('Menzaleh', 3),\n",
       " ('Spodziewam', 3),\n",
       " ('Europejczycy', 3),\n",
       " ('Kordofan,', 3),\n",
       " ('Rawlisonem', 3),\n",
       " ('Dinka,', 2),\n",
       " ('Suezu,', 2),\n",
       " ('Tarkowscy', 2),\n",
       " ('Cooka', 2),\n",
       " ('Sudanem', 2),\n",
       " ('Stasiowe', 2),\n",
       " ('Cook', 2),\n",
       " ('Fatmą', 2),\n",
       " ('Mamby', 2),\n",
       " ('Assuan!', 2),\n",
       " ('Glen.', 2),\n",
       " ('Głupcze,', 2),\n",
       " ('Seki-Tamala.', 2),\n",
       " ('Faszodzie.', 2),\n",
       " ('„Ha!', 2),\n",
       " ('Szylluków,', 2),\n",
       " (\"M'Rua,\", 2),\n",
       " ('Murzynka', 2),\n",
       " ('„Dzięki', 2),\n",
       " ('Sudan', 2),\n",
       " ('Sobbatu', 2),\n",
       " ('Musa,', 2),\n",
       " ('Anglia.', 2),\n",
       " ('Abu-Anga', 2),\n",
       " ('Boga.', 2),\n",
       " ('Nil,', 2),\n",
       " ('Murzyna.', 2),\n",
       " ('Sueski', 2),\n",
       " ('Anglii.', 2),\n",
       " ('Hannibal', 2),\n",
       " ('Mea.', 2),\n",
       " ('Fumba,', 2),\n",
       " ('Ładnie', 2),\n",
       " ('Mahdiemu,', 2),\n",
       " ('Afryka!…', 2),\n",
       " ('Chamisowi', 2),\n",
       " ('„O', 2),\n",
       " ('No', 2),\n",
       " ('„Tak!', 2),\n",
       " ('Hatima,', 2),\n",
       " ('Fatmie', 2),\n",
       " ('Koń,', 2),\n",
       " ('Cooka.', 2),\n",
       " ('Beduini.', 2),\n",
       " ('O!', 2),\n",
       " ('Dinah.', 2),\n",
       " ('„Mzimu!”,', 2),\n",
       " ('Sudanie.', 2),\n",
       " ('Kingu,', 2),\n",
       " ('Bassa-Narok.', 2),\n",
       " ('Kordofanie,', 2),\n",
       " ('Beduinom', 2),\n",
       " ('Kaliopuli,', 2),\n",
       " ('Aleksandra', 2),\n",
       " ('Nel;', 2),\n",
       " ('Assuanu.', 2),\n",
       " ('Libijskiej,', 2),\n",
       " ('Duchowi,', 2),\n",
       " ('Wa-himki', 2),\n",
       " ('Cooka,', 2),\n",
       " ('Wadi-Rajan.', 2),\n",
       " ('Chamis!', 2),\n",
       " ('Sudańczyka', 2),\n",
       " ('Smainowi.', 2),\n",
       " ('Mamba,', 2),\n",
       " ('Nubii', 2),\n",
       " ('Glenem', 2),\n",
       " ('Pojedziecie', 2),\n",
       " ('Sudanu,', 2),\n",
       " ('„Nelly', 2),\n",
       " ('Przybiegły', 2),\n",
       " ('Nur', 2),\n",
       " ('Port-Saidzie.', 2),\n",
       " ('Byleś', 2),\n",
       " ('Chadigi,', 2),\n",
       " ('Kinga?', 2),\n",
       " ('Dlaczego,', 2),\n",
       " ('Arabów.', 2),\n",
       " ('Kairze', 2),\n",
       " ('Arabowie.', 2),\n",
       " ('„Kraków”', 2),\n",
       " ('Obiecuję', 2),\n",
       " ('Gordon!', 2),\n",
       " ('Pamiętasz,', 2),\n",
       " ('Beni-Suef,', 2),\n",
       " (\"M'Ruo\", 2),\n",
       " ('Mów,', 2),\n",
       " ('„Ach', 2),\n",
       " ('Chcemy', 2),\n",
       " ('Fatmo', 2),\n",
       " ('Henryk', 2),\n",
       " ('Wa-himom,', 2),\n",
       " ('Idrysie', 2),\n",
       " ('„Może', 2),\n",
       " ('Nel?…', 2),\n",
       " ('Murzynkę', 2),\n",
       " ('Jeńcy', 2),\n",
       " ('Chamis?', 2),\n",
       " ('„I', 2),\n",
       " ('„Stes”', 2),\n",
       " ('Ndege?', 2),\n",
       " ('Koranu,', 2),\n",
       " ('Beduin,', 2),\n",
       " ('Fumbę,', 2),\n",
       " ('Abisynii?', 2),\n",
       " ('Boże,', 2),\n",
       " ('„Pójdę', 2),\n",
       " ('Indiach,', 2),\n",
       " ('Bahr-Jussef,', 2),\n",
       " ('„Allach!', 2),\n",
       " ('Mekkę', 2),\n",
       " ('Port-Saidu?', 2),\n",
       " ('Widziałaś,', 2),\n",
       " ('El-Fachen,', 2),\n",
       " ('Kenia', 2),\n",
       " ('Izmailę', 2),\n",
       " ('Gharak-el-Sultani', 2),\n",
       " ('Nilem.', 2),\n",
       " ('Boże!', 2),\n",
       " ('Faszoda', 2),\n",
       " ('Boko,', 2),\n",
       " ('Turków', 2),\n",
       " ('El-Faszer', 2),\n",
       " ('Assuan', 2),\n",
       " ('Chartumie.', 2),\n",
       " ('Egipt', 2),\n",
       " ('Szwajcarii.', 2),\n",
       " ('Hej!', 2),\n",
       " ('„Co', 2),\n",
       " ('Chartum.', 2),\n",
       " ('Gebhrem', 2),\n",
       " ('Egiptem', 2),\n",
       " ('Gharak', 2),\n",
       " ('La!', 2),\n",
       " ('Libijskiej', 2),\n",
       " ('Czasami', 2),\n",
       " ('Abu-Hammed,', 2),\n",
       " ('Rawlisona.', 2),\n",
       " ('Stasiu.', 2),\n",
       " ('Wigilia', 2),\n",
       " ('Araba,', 2),\n",
       " ('Sabą.', 2),\n",
       " ('Samburom.', 2),\n",
       " (\"M'Rua!\", 2),\n",
       " ('Idrysowi,', 2),\n",
       " ('Wypisze', 2),\n",
       " ('„Oto', 2),\n",
       " ('Smainie,', 2),\n",
       " ('Lueli.', 2),\n",
       " ('Egipcjan,', 2),\n",
       " ('Koptów,', 2),\n",
       " ('Dinka', 2),\n",
       " ('Albert-Nianza,', 2),\n",
       " ('„Krakowa”', 2),\n",
       " ('Idrysem,', 2),\n",
       " ('Niebieskiego', 2),\n",
       " ('Murzynowi', 2),\n",
       " ('„Ja', 2),\n",
       " ('Karoun', 2),\n",
       " ('Lessepsa', 2),\n",
       " ('Sudańczyk,', 2),\n",
       " ('Chartum!', 2),\n",
       " ('Idrysowi', 2),\n",
       " ('Bombaju', 2),\n",
       " ('Minąwszy', 2),\n",
       " ('„To', 2),\n",
       " ('Bogu.', 2),\n",
       " ('Niebieski', 2),\n",
       " ('Chamisie,', 2),\n",
       " ('Staś!', 2),\n",
       " ('Fajumie,', 2),\n",
       " ('Idrysie,', 2),\n",
       " ('Wadi-Rajan', 2),\n",
       " ('Kingiem', 2),\n",
       " ('Gordonowi', 2),\n",
       " ('Milcz', 2),\n",
       " ('Suezu', 2),\n",
       " ('Mamba', 2),\n",
       " ('Europie', 2),\n",
       " ('Wadi-Rajan,', 2),\n",
       " ('Darfur', 2),\n",
       " ('Aleksandrii,', 2),\n",
       " ('Tadhilowi.', 2),\n",
       " ('Assuanem', 2),\n",
       " ('Boko.', 2),\n",
       " ('Seki-Tamala', 2),\n",
       " ('Grek,', 2),\n",
       " ('Wiktoria-Nianza,', 2),\n",
       " ('Goz-Abu-Guma', 2),\n",
       " ('Lindemu,', 2),\n",
       " ('Nasibu.', 2),\n",
       " ('Allacha,', 2),\n",
       " ('Meą,', 2),\n",
       " ('Karamojo,', 2),\n",
       " ('Jussef', 2),\n",
       " ('„Dzieci', 2),\n",
       " ('Sudańczyków.', 2),\n",
       " ('Kairze,', 2),\n",
       " (\"M'Ruy\", 2),\n",
       " ('Murzynką,', 2),\n",
       " ('Adenie', 2),\n",
       " ('Gordona.', 2),\n",
       " ('Libijskiej.', 2),\n",
       " ('Czerwonaki!', 2),\n",
       " ('Meę.', 1),\n",
       " ('Dym!', 1),\n",
       " ('Kłamał', 1),\n",
       " ('Dałem', 1),\n",
       " ('Beduinów:', 1),\n",
       " ('Sueskim,', 1),\n",
       " ('Fatma.', 1),\n",
       " ('Zatchnął', 1),\n",
       " ('Otwórz!', 1),\n",
       " ('Przebiegło', 1),\n",
       " ('Polska.', 1),\n",
       " ('Kamby,', 1),\n",
       " ('Murzynom,', 1),\n",
       " ('Turkami', 1),\n",
       " ('Patrole,', 1),\n",
       " ('Macedońskiego', 1),\n",
       " ('Wystarczy', 1),\n",
       " ('Poznaję', 1),\n",
       " ('Zejdzie', 1),\n",
       " ('Mahdiemu:', 1),\n",
       " ('Cudne', 1),\n",
       " ('Ballor,', 1),\n",
       " ('Zanzibarczyków', 1),\n",
       " ('Ugandy,', 1),\n",
       " ('Nazywamy', 1),\n",
       " ('Wrócimy,', 1),\n",
       " ('Proroku', 1),\n",
       " ('Ryszard,', 1),\n",
       " ('XXXVIII', 1),\n",
       " ('Dromader,', 1),\n",
       " ('„Stes”.', 1),\n",
       " ('Mauritius,', 1),\n",
       " ('Rozciągało', 1),\n",
       " ('Gezire', 1),\n",
       " ('Można,', 1),\n",
       " ('Śpiewu', 1),\n",
       " ('XI', 1),\n",
       " ('„Wąwóz', 1),\n",
       " ('M’Ruy,', 1),\n",
       " ('Oddaliście', 1),\n",
       " ('Rawlison?', 1),\n",
       " ('Jakoś…', 1),\n",
       " ('Zakotłowało', 1),\n",
       " (\"M'Ruy”\", 1),\n",
       " ('XVI', 1),\n",
       " ('Omaja,', 1),\n",
       " ('Bahr-el-Jussef,', 1),\n",
       " ('Abisyńczyków', 1),\n",
       " ('Inglezi,', 1),\n",
       " ('Porozcinane', 1),\n",
       " ('Murzyni.', 1),\n",
       " ('Mahdi!', 1),\n",
       " ('Port-Saidem.', 1),\n",
       " ('Narada', 1),\n",
       " ('Śmiano', 1),\n",
       " ('Sterling', 1),\n",
       " ('Anglicy…', 1),\n",
       " ('Ogeloguen,', 1),\n",
       " ('Oddawałem', 1),\n",
       " ('Szwajcara', 1),\n",
       " ('Rozpadlina', 1),\n",
       " ('Grek.', 1),\n",
       " ('Możesz.', 1),\n",
       " ('Hanara', 1),\n",
       " ('Clarego.', 1),\n",
       " ('Nubia', 1),\n",
       " ('Poleciłem', 1),\n",
       " ('Należymy', 1),\n",
       " ('Clary,', 1),\n",
       " ('Wolseleya.', 1),\n",
       " ('Zbiegowisko', 1),\n",
       " ('Kartagina', 1),\n",
       " ('Sybir,', 1),\n",
       " ('Fatmę.', 1),\n",
       " ('Uganda,', 1),\n",
       " ('Gorączkowa', 1),\n",
       " ('Albert-Nianza', 1),\n",
       " ('Beniowski', 1),\n",
       " ('Jodełka-Burzecki,', 1),\n",
       " ('Ciskaj!', 1),\n",
       " ('Smainowej', 1),\n",
       " ('Ogrody', 1),\n",
       " ('Koran,', 1),\n",
       " ('Zewsząd', 1),\n",
       " ('XIX', 1),\n",
       " ('Chorzy,', 1),\n",
       " ('Samburkami', 1),\n",
       " ('Taweta,', 1),\n",
       " ('Mohammed-Achmed,', 1),\n",
       " ('Basaa-Narok', 1),\n",
       " ('Mombassa.”', 1),\n",
       " ('Brońże', 1),\n",
       " ('Wadi-Halfa.', 1),\n",
       " ('Publikacja', 1),\n",
       " ('Clarym', 1),\n",
       " ('„Msuri!', 1),\n",
       " ('Nigdy!', 1),\n",
       " ('Sahara,', 1),\n",
       " ('XLII', 1),\n",
       " ('„Yancig,', 1),\n",
       " ('Gebhrem,', 1),\n",
       " ('Szczęściem', 1),\n",
       " ('Najgorsze', 1),\n",
       " ('Darfurze', 1),\n",
       " ('Otworów', 1),\n",
       " ('Stanley,', 1),\n",
       " ('Sidi', 1),\n",
       " ('Zakręt', 1),\n",
       " ('Wieja', 1),\n",
       " ('Maszallach', 1),\n",
       " ('Chudy', 1),\n",
       " ('Seki-Tamali.', 1),\n",
       " ('Kalego!', 1),\n",
       " ('Wa-himami', 1),\n",
       " ('przewodnik-Beduin', 1),\n",
       " ('Ualla!', 1),\n",
       " ('Mombassa.Stanisław', 1),\n",
       " ('Mei:', 1),\n",
       " ('Mohammeda-Achmeda,', 1),\n",
       " ('Pękająca', 1),\n",
       " ('Dine.', 1),\n",
       " ('Łudził', 1),\n",
       " ('Wiktorii', 1),\n",
       " ('„Anglicy', 1),\n",
       " ('Egipcie.', 1),\n",
       " ('Przysłali', 1),\n",
       " (\"M'Ruą.\", 1),\n",
       " ('Murzynce', 1),\n",
       " ('„Trzeba!', 1),\n",
       " ('Luela,', 1),\n",
       " ('Dziękujemy,', 1),\n",
       " ('Zawiadowca,', 1),\n",
       " ('„Poor', 1),\n",
       " ('Lecimy', 1),\n",
       " ('Sobbatem', 1),\n",
       " ('Dolny', 1),\n",
       " ('Oddalone', 1),\n",
       " ('Zanzibarczyk,', 1),\n",
       " ('Rusza', 1),\n",
       " ('Medinet-el-Fajum;', 1),\n",
       " ('Madagaskaru', 1),\n",
       " ('Siadem', 1),\n",
       " ('Nilem…', 1),\n",
       " ('Inro,', 1),\n",
       " ('Odjazd', 1),\n",
       " ('Kształcił', 1),\n",
       " ('Smarna:', 1),\n",
       " ('Emina', 1),\n",
       " ('Lekarz', 1),\n",
       " ('Sebak,', 1),\n",
       " ('Karoun,', 1),\n",
       " ('Europejczykom', 1),\n",
       " ('„Doko”', 1),\n",
       " ('Egipcjanach.', 1),\n",
       " ('Helu,', 1),\n",
       " ('Mzimu:', 1),\n",
       " ('Eminowi,', 1),\n",
       " ('Tamta', 1),\n",
       " ('„Kula', 1),\n",
       " ('„Jeżeli', 1),\n",
       " ('„Rad', 1),\n",
       " ('XVII', 1),\n",
       " ('Owinęła', 1),\n",
       " ('Fort,', 1),\n",
       " ('Egiptowi', 1),\n",
       " ('„Jeszcze', 1),\n",
       " ('Marzeniem', 1),\n",
       " ('Izraelitów.', 1),\n",
       " ('Arabom.', 1),\n",
       " ('Mehendysi', 1),\n",
       " ('Brzemię', 1),\n",
       " ('Mierzyny', 1),\n",
       " ('Saba?', 1),\n",
       " ('Europejczyk.', 1),\n",
       " ('Józefowi', 1),\n",
       " ('Ścigają', 1),\n",
       " ('Ależ,', 1),\n",
       " ('Gharak-el-Sultani.', 1),\n",
       " ('Francuzką,', 1),\n",
       " ('Mahometa,', 1),\n",
       " ('Przywiążesz', 1),\n",
       " ('Nel)', 1),\n",
       " ('Fatmę,', 1),\n",
       " ('Murzyni!', 1),\n",
       " ('Wa-imowie', 1),\n",
       " ('Odpłaciłeś', 1),\n",
       " ('Nubijczyków,', 1),\n",
       " ('„Wa-hima”', 1),\n",
       " ('Kima-Wenze', 1),\n",
       " ('Nabi', 1),\n",
       " ('Rudolfa', 1),\n",
       " ('Egipcjanach,', 1),\n",
       " ('Szlachetna', 1),\n",
       " ('Bedui-nów', 1),\n",
       " ('Mei.', 1),\n",
       " ('Zasiadłszy', 1),\n",
       " ('Niszczono', 1),\n",
       " ('Jakież', 1),\n",
       " ('Meą.', 1),\n",
       " ('Mahdiemu.', 1),\n",
       " ('XXXV', 1),\n",
       " ('Hrrumf!', 1),\n",
       " ('Fajumu?', 1),\n",
       " ('Faszeru,', 1),\n",
       " ('„Nieznane', 1),\n",
       " ('Wa-himami,', 1),\n",
       " ('„Namioty', 1),\n",
       " ('Sabie,', 1),\n",
       " ('Mamby,', 1),\n",
       " ('Nel.”', 1),\n",
       " ('Mohammeda-Achmeda?', 1),\n",
       " ('Nur-el-Tadhilem,', 1),\n",
       " ('Sennarze,', 1),\n",
       " ('Assuan!”', 1),\n",
       " ('Przeprowadzało', 1),\n",
       " ('Tomasz', 1),\n",
       " ('Spód', 1),\n",
       " ('Chwiejnym', 1),\n",
       " ('Stańmy.', 1),\n",
       " ('„Pod', 1),\n",
       " ('Angielki', 1),\n",
       " ('Nubii.', 1),\n",
       " ('Niszczyli', 1),\n",
       " ('Biorą', 1),\n",
       " ('„Krakowem”,', 1),\n",
       " ('XVIII', 1),\n",
       " ('Karlsruhe,', 1),\n",
       " ('Gharak-el-Sultani.”', 1),\n",
       " ('Sienkiewicz,', 1),\n",
       " ('Niegdyś,', 1),\n",
       " ('XXXVII', 1),\n",
       " ('Siądź', 1),\n",
       " ('Kismaja,', 1),\n",
       " ('Koza', 1),\n",
       " ('Kanałowego,', 1),\n",
       " ('Ujechała', 1),\n",
       " ('Berberu.', 1),\n",
       " ('Zieloność', 1),\n",
       " ('VI', 1),\n",
       " ('Nubia?', 1),\n",
       " ('XXXI', 1),\n",
       " ('El-Wasta,', 1),\n",
       " ('Posuwając', 1),\n",
       " ('Jedź', 1),\n",
       " ('II', 1),\n",
       " ('Indian,', 1),\n",
       " ('Spętaj', 1),\n",
       " ('Anglikom.', 1),\n",
       " ('Trzeba.', 1),\n",
       " ('Fatmie.', 1),\n",
       " ('Wa-himów?', 1),\n",
       " ('Wszak', 1),\n",
       " ('„Trzeba”', 1),\n",
       " ('Zastanowiło', 1),\n",
       " ('„Clary,', 1),\n",
       " ('Talei,', 1),\n",
       " ('Mister', 1),\n",
       " ('Sueskiego,', 1),\n",
       " ('Jutrzejszy', 1),\n",
       " ('Abisynią.', 1),\n",
       " ('Nel!”', 1),\n",
       " ('Odprowadzili', 1),\n",
       " ('Pójdźmy.', 1),\n",
       " ('El-Fajum,', 1),\n",
       " ('Abbą,', 1),\n",
       " ('Rodzicielko…”', 1),\n",
       " ('„Turkom”.', 1),\n",
       " ('Sudanka,', 1),\n",
       " ('Grekowi', 1),\n",
       " ('Narodzenia,', 1),\n",
       " ('„Yalla,', 1),\n",
       " ('Port-Saidzie?', 1),\n",
       " ('Głupcy!', 1),\n",
       " ('Zostaniesz!', 1),\n",
       " ('Indiach.', 1),\n",
       " ('Duch,', 1),\n",
       " ('Rosji', 1),\n",
       " ('Zobaczysz.', 1),\n",
       " ('Kamba?', 1),\n",
       " ('Nadto,', 1),\n",
       " ('Polecę', 1),\n",
       " ('Zaczęliśmy', 1),\n",
       " ('Najniższe,', 1),\n",
       " ('Wpadniecie', 1),\n",
       " ('Handel', 1),\n",
       " ('Hioba,', 1),\n",
       " ('Hicks,', 1),\n",
       " ('Woda”.', 1),\n",
       " ('Jana.', 1),\n",
       " ('Abu-Klea', 1),\n",
       " ('Słyszeliście,', 1),\n",
       " ('Śpieszmy', 1),\n",
       " ('Ooo!', 1),\n",
       " ('Przytulona', 1),\n",
       " ('Goz-Abu-Guma,', 1),\n",
       " ('Uspokoili', 1),\n",
       " ('Anglikom', 1),\n",
       " ('„Staś', 1),\n",
       " ('Ao!', 1),\n",
       " ('Abu-Hammed.', 1),\n",
       " ('Dziewczyna', 1),\n",
       " ('X', 1),\n",
       " ('Przykaż,', 1),\n",
       " ('Czerwonym,', 1),\n",
       " ('Darfur,', 1),\n",
       " ('Barbara', 1),\n",
       " ('Hatima.', 1),\n",
       " ('Tarkowska,', 1),\n",
       " ('Egipcjanin', 1),\n",
       " (\"M'Pua.\", 1),\n",
       " ('Dżentelmeni,', 1),\n",
       " (\"M'Pua?\", 1),\n",
       " ('Zachwycone', 1),\n",
       " ('Piątego', 1),\n",
       " ('Abbę,', 1),\n",
       " ('Buchnął', 1),\n",
       " ('Mahdiemu?', 1),\n",
       " ('Samburami,', 1),\n",
       " ('Słyszałam,', 1),\n",
       " ('Stój!', 1),\n",
       " ('Szyja,', 1),\n",
       " ('Bassa-Narok!', 1),\n",
       " ('Sabmuru', 1),\n",
       " ('Nilu;', 1),\n",
       " ('M,', 1),\n",
       " ('Wyrzucanie', 1),\n",
       " ('Wygnajcie', 1),\n",
       " ('Greka,', 1),\n",
       " ('Wyliczyłem', 1),\n",
       " ('Basa-Narok,', 1),\n",
       " ('Nelinego', 1),\n",
       " ('Sabie.', 1),\n",
       " ('Zazdrościł', 1),\n",
       " ('Dużo,', 1),\n",
       " ('„Więc', 1),\n",
       " ('Tutejsze', 1),\n",
       " ('Przewodnicy', 1),\n",
       " ('Donkey', 1),\n",
       " ('Termin,', 1),\n",
       " ('Francuzka,', 1),\n",
       " ('Well!', 1),\n",
       " ('Nubię.', 1),\n",
       " ('VIII', 1),\n",
       " ('Wrzuciliśmy', 1),\n",
       " ('wielbłądników-Beduinów', 1),\n",
       " ('Wezmę', 1),\n",
       " ('Chendi,', 1),\n",
       " ('„Murzyni', 1),\n",
       " ('Nieszczęśliwi', 1),\n",
       " ('„Sprawdzono', 1),\n",
       " ('Niedostępny', 1),\n",
       " ('«Staś', 1),\n",
       " ('Trzeba!”', 1),\n",
       " ('Angielkę', 1),\n",
       " ('Souakimu,', 1),\n",
       " ('Abisynię', 1),\n",
       " ('Czułem', 1),\n",
       " ('„Byle', 1),\n",
       " ('Zjedzże', 1),\n",
       " ('XL', 1),\n",
       " ('Darfuru', 1),\n",
       " ('Musę-uled-Helu,', 1),\n",
       " ('Zima', 1),\n",
       " ('„Boję', 1),\n",
       " ('Czyje', 1),\n",
       " ('Huknął', 1),\n",
       " ('Nil.', 1),\n",
       " ('Słonawe', 1),\n",
       " ('Abisynia,', 1),\n",
       " ('Postąpiłam,', 1),\n",
       " ('Pyszna', 1),\n",
       " ('Polacy,', 1),\n",
       " ('„Śpiesz', 1),\n",
       " ('Medinet-el-Fajumu', 1),\n",
       " ('Sudan;', 1),\n",
       " ('Weź,', 1),\n",
       " ('Zanzibarytów', 1),\n",
       " ('Nur-el-Tadhil,', 1),\n",
       " ('„Madi', 1),\n",
       " ('Narodową', 1),\n",
       " ('Etsah,', 1),\n",
       " ('Heluan,', 1),\n",
       " ('Zostawcie', 1),\n",
       " ('Kharge', 1),\n",
       " ('Obosieczny', 1),\n",
       " ('Murzyni?', 1),\n",
       " ('Różnił', 1),\n",
       " ('Cerę', 1),\n",
       " (\"M'Ruo!\", 1),\n",
       " ('Szejkom', 1),\n",
       " ('Doprawdy…', 1),\n",
       " ('Zrobię.', 1),\n",
       " ('Słyszę,', 1),\n",
       " ('Dziękuję!', 1),\n",
       " ('Iblisa', 1),\n",
       " ('Eminie', 1),\n",
       " ('Fatmą,', 1),\n",
       " ('Podsyciwszy', 1),\n",
       " ('El-Wasta.', 1),\n",
       " ('Polując', 1),\n",
       " ('El-Obeidu', 1),\n",
       " ('Nilu).', 1),\n",
       " ('Dziwiła', 1),\n",
       " ('Ogarnęło', 1),\n",
       " (\"M'Ruę,\", 1),\n",
       " ('Uszedłszy', 1),\n",
       " ('Piętnastu', 1),\n",
       " ('PL', 1),\n",
       " ('Milcz.', 1),\n",
       " ('Popełniano', 1),\n",
       " ('Ha', 1),\n",
       " ('Gue-bel-el-Sedment.', 1),\n",
       " ('Okropność', 1),\n",
       " ('Boga!', 1),\n",
       " ('Wow!', 1),\n",
       " ('Podjedziemy', 1),\n",
       " ('Tarkowskim', 1),\n",
       " ('Popłakiwała', 1),\n",
       " ('Turcy,', 1),\n",
       " ('Creative', 1),\n",
       " ('XIV', 1),\n",
       " ('Fatmy:', 1),\n",
       " ('Chartum!…', 1),\n",
       " ('„Spisałeś', 1),\n",
       " ('Chyba.', 1),\n",
       " ('„Oddaj', 1),\n",
       " ('Rozumiesz,', 1),\n",
       " ('Polska…”,', 1),\n",
       " ('Włosi,', 1),\n",
       " ('Teresą,', 1),\n",
       " ('Remingtona,', 1),\n",
       " ('Podróżnicze', 1),\n",
       " ('Omdurmanu?', 1),\n",
       " ('Borani.', 1),\n",
       " ('Jezior,', 1),\n",
       " ('XIII', 1),\n",
       " ('XXXII', 1),\n",
       " ('Patrzcie!', 1),\n",
       " ('Allachowi', 1),\n",
       " ('Abisynia', 1),\n",
       " ('Abdullahiemu.', 1),\n",
       " ('„Tak', 1),\n",
       " ('Utrzymywał,', 1),\n",
       " ('Dzisiejszego', 1),\n",
       " ('Arab.', 1),\n",
       " ('„Krakowie”.', 1),\n",
       " ('XXX', 1),\n",
       " ('Wtórowało', 1),\n",
       " ...]"
      ]
     },
     "execution_count": 189,
     "metadata": {},
     "output_type": "execute_result"
    }
   ],
   "source": [
    "Counter(wlasne2).most_common()"
   ]
  },
  {
   "cell_type": "code",
   "execution_count": 27,
   "metadata": {
    "collapsed": true
   },
   "outputs": [],
   "source": [
    "kolory = [\"zielony\", \"czerwony\", \"niebieski\"]\n",
    "sprowadzmy_do_korzenia = {\"czerwonym\": \"czerwony\",\n",
    "                          \"czerwonymi\": \"czerwony\",\n",
    "                          \"zielonym\": \"zielony\",\n",
    "                          \"zielonymi\": \"zielony\"}"
   ]
  },
  {
   "cell_type": "markdown",
   "metadata": {},
   "source": [
    "### Zadania\n",
    "\n",
    "* Czy słowo występuje?\n",
    "* Jakie są najczęstsze nazwy własne?\n",
    "* Jak usunąć te (cholerne) kropki i przecinki?\n",
    "* Na jakich pozycjach występuje imię \"Kali\"?\n",
    "* Jakie są odmiany słowa \"Kali\"?"
   ]
  },
  {
   "cell_type": "markdown",
   "metadata": {},
   "source": [
    "## Zobacz też\n",
    "\n",
    "* [Unicode character table](http://unicode-table.com/en/)\n",
    "* [Ł - computer usage](https://en.wikipedia.org/wiki/%C5%81#Computer_usage) - `Ł` w różnych kodowaniach znaków\n",
    "* [Project Gutenberg](https://www.gutenberg.org/)"
   ]
  },
  {
   "cell_type": "code",
   "execution_count": null,
   "metadata": {
    "collapsed": true
   },
   "outputs": [],
   "source": []
  }
 ],
 "metadata": {
  "kernelspec": {
   "display_name": "Python 3",
   "language": "python",
   "name": "python3"
  },
  "language_info": {
   "codemirror_mode": {
    "name": "ipython",
    "version": 3
   },
   "file_extension": ".py",
   "mimetype": "text/x-python",
   "name": "python",
   "nbconvert_exporter": "python",
   "pygments_lexer": "ipython3",
   "version": "3.4.3"
  }
 },
 "nbformat": 4,
 "nbformat_minor": 0
}
