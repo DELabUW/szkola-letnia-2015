{
 "cells": [
  {
   "cell_type": "markdown",
   "metadata": {},
   "source": [
    "# Wyrazy - zabawa słownikiem\n",
    "\n",
    "[Piotr Migdał](http://migdal.wikidot.com/), 2015, [DELab UW](http://www.delab.uw.edu.pl/)"
   ]
  },
  {
   "cell_type": "markdown",
   "metadata": {},
   "source": [
    "### Różne kodowania znaków\n",
    "\n",
    "**Uwaga**: języki polskie bywają różnie kodowane (tj. *'ł'* może być różnie zapisane na komputerze za pomocą zer i jedynek). Jeśli spróbujemy odczytać inaczej znaki niż zostały zapisane, dostaniemy dziwne symbole, pytajniki lub jeszcze coś innego.\n",
    "\n",
    "Dobrym kodowaniem jest [UTF-8](https://en.wikipedia.org/wiki/UTF-8) - jest to uniwersalny standard pozwalający zapisywać znaki z różnych języków. Jednak w wielu miejscach (głównie z powodów historycznych) do polskich znaków jest użwyane `Windows-1250` (znane też jako `CP1250`) lub `ISO-8859-2`.\n",
    "\n",
    "Gdy mamy do wyboru kodowanie **zawsze** używajmy `UTF-8`. Inaczej wcześniej czy później będziemy mieli problemy. To standard zarówno między językami, jak i między różnymi systemami operacyjnymi.\n",
    "\n",
    "Dodatkowymi zaletami:"
   ]
  },
  {
   "cell_type": "code",
   "execution_count": 15,
   "metadata": {
    "collapsed": false
   },
   "outputs": [
    {
     "data": {
      "text/plain": [
       "'ZAŻÓŁĆ GĘŚLĄ JAŹŃ'"
      ]
     },
     "execution_count": 15,
     "metadata": {},
     "output_type": "execute_result"
    }
   ],
   "source": [
    "# unicode w Pythonie \"wie\" jak zmieniać litery na wielkie \n",
    "\"zażółć gęślą jaźń\".upper()"
   ]
  },
  {
   "cell_type": "code",
   "execution_count": 16,
   "metadata": {
    "collapsed": false
   },
   "outputs": [
    {
     "name": "stdout",
     "output_type": "stream",
     "text": [
      "干杯 Živjeli Skål ΥΓΕΙΑ Будем здоровы לחיים Egészségedre 乾杯 건배 будьмо هتاف\n"
     ]
    }
   ],
   "source": [
    "# można mieszać języki\n",
    "# (nawet gdy tekst jest po polsku mogą być zapożyczone słowa czy obce nazwiska)\n",
    "print(\"干杯 Živjeli Skål ΥΓΕΙΑ Будем здоровы לחיים Egészségedre 乾杯 건배 будьмо هتاف\")"
   ]
  },
  {
   "cell_type": "code",
   "execution_count": 17,
   "metadata": {
    "collapsed": false
   },
   "outputs": [
    {
     "name": "stdout",
     "output_type": "stream",
     "text": [
      "⚛ I ♥ UTF8 ⚛\n"
     ]
    }
   ],
   "source": [
    "# można też użyć innych symboli\n",
    "print(\"\\u269B I \\u2665 UTF8 \\u269B\")"
   ]
  },
  {
   "cell_type": "markdown",
   "metadata": {},
   "source": [
    "Słownik języka polskiego do literaków (do 15 liter, bez nazw własnych)\n",
    "http://sjp.pl/slownik/growy/ (nie zawarty w repozytorium - należy samemu ściągnąć)."
   ]
  },
  {
   "cell_type": "code",
   "execution_count": 19,
   "metadata": {
    "collapsed": true
   },
   "outputs": [],
   "source": [
    "# biblioteka do wczytywania znaków w różnych kodowaniach\n",
    "import codecs"
   ]
  },
  {
   "cell_type": "code",
   "execution_count": 23,
   "metadata": {
    "collapsed": false
   },
   "outputs": [],
   "source": [
    "# niestety, plik jest zapisany w innym kodowaniu, więc musimy go przekonwertować\n",
    "plik = codecs.open(\"../dane_surowe/slowa-win.txt\", 'r',\n",
    "                   encoding='cp1250')"
   ]
  },
  {
   "cell_type": "code",
   "execution_count": 24,
   "metadata": {
    "collapsed": false
   },
   "outputs": [],
   "source": [
    "slowa = plik.read().split()"
   ]
  },
  {
   "cell_type": "code",
   "execution_count": 25,
   "metadata": {
    "collapsed": false
   },
   "outputs": [
    {
     "data": {
      "text/plain": [
       "2709883"
      ]
     },
     "execution_count": 25,
     "metadata": {},
     "output_type": "execute_result"
    }
   ],
   "source": [
    "# liczba slow\n",
    "len(slowa)"
   ]
  },
  {
   "cell_type": "code",
   "execution_count": 26,
   "metadata": {
    "collapsed": false
   },
   "outputs": [
    {
     "data": {
      "text/plain": [
       "['aa', 'aaa', 'abace', 'abaci', 'abacie']"
      ]
     },
     "execution_count": 26,
     "metadata": {},
     "output_type": "execute_result"
    }
   ],
   "source": [
    "slowa[:5]"
   ]
  },
  {
   "cell_type": "code",
   "execution_count": 27,
   "metadata": {
    "collapsed": false
   },
   "outputs": [
    {
     "data": {
      "text/plain": [
       "Counter({'Python': 3, 'Ala': 2, 'Andrzej': 1})"
      ]
     },
     "execution_count": 27,
     "metadata": {},
     "output_type": "execute_result"
    }
   ],
   "source": [
    "# obiekt Counter służy do zliczania wystąpień okiektów\n",
    "from collections import Counter\n",
    "\n",
    "Counter([\"Ala\", \"Python\", \"Andrzej\", \"Python\", \"Ala\", \"Python\"])"
   ]
  },
  {
   "cell_type": "code",
   "execution_count": 28,
   "metadata": {
    "collapsed": false
   },
   "outputs": [
    {
     "data": {
      "text/plain": [
       "Counter({12: 383690, 11: 376712, 13: 362607, 10: 336076, 14: 320210, 9: 268738, 15: 262562, 8: 188657, 7: 115799, 6: 59079, 5: 26439, 4: 7664, 3: 1523, 2: 127})"
      ]
     },
     "execution_count": 28,
     "metadata": {},
     "output_type": "execute_result"
    }
   ],
   "source": [
    "Counter([len(slowo) for slowo in slowa])"
   ]
  },
  {
   "cell_type": "code",
   "execution_count": 18,
   "metadata": {
    "collapsed": true
   },
   "outputs": [],
   "source": [
    "%matplotlib inline\n",
    "import matplotlib.pyplot as plt"
   ]
  },
  {
   "cell_type": "code",
   "execution_count": 31,
   "metadata": {
    "collapsed": true
   },
   "outputs": [],
   "source": [
    "z = Counter([len(slowo) for slowo in slowa])"
   ]
  },
  {
   "cell_type": "code",
   "execution_count": 42,
   "metadata": {
    "collapsed": false
   },
   "outputs": [
    {
     "data": {
      "image/png": "[encoded data removed]",
      "text/plain": [
       "<matplotlib.figure.Figure at 0x11e2a5fd0>"
      ]
     },
     "metadata": {},
     "output_type": "display_data"
    }
   ],
   "source": [
    "plt.bar(list(z.keys()), list(z.values()));"
   ]
  },
  {
   "cell_type": "code",
   "execution_count": 8,
   "metadata": {
    "collapsed": false
   },
   "outputs": [
    {
     "data": {
      "text/plain": [
       "Counter({'n': 611326, 'p': 396811, 'w': 197169, 'z': 189766, 's': 164409, 'o': 163399, 'k': 122792, 'r': 108067, 'd': 105516, 'm': 78328, 'u': 75444, 'b': 68633, 't': 60757, 'a': 60324, 'c': 57907, 'g': 46252, 'f': 36296, 'l': 32024, 'e': 28644, 'h': 27678, 'i': 23810, 'j': 17337, 'ś': 13475, 'ł': 11277, 'ż': 10147, 'ć': 1422, 'ź': 593, 'y': 191, 'ó': 88, 'ę': 1})"
      ]
     },
     "execution_count": 8,
     "metadata": {},
     "output_type": "execute_result"
    }
   ],
   "source": [
    "Counter([slowo[0] for slowo in slowa])"
   ]
  },
  {
   "cell_type": "code",
   "execution_count": 9,
   "metadata": {
    "collapsed": false
   },
   "outputs": [
    {
     "data": {
      "text/plain": [
       "Counter({'y': 372874, 'm': 343349, 'i': 335706, 'e': 321838, 'a': 215227, 'h': 167903, 'ą': 156844, 'o': 156285, 'u': 150806, 'j': 117144, 'ś': 79605, 'ę': 43326, 'ż': 42524, 'ń': 39093, 'w': 34438, 'ć': 28603, 'z': 26538, 'ł': 22263, 'k': 16918, 'c': 12878, 'n': 7168, 't': 4578, 'r': 4097, 'l': 2179, 's': 1943, 'd': 1566, 'g': 1320, 'p': 929, 'ź': 827, 'b': 625, 'f': 431, 'x': 53, 'v': 4, 'q': 1})"
      ]
     },
     "execution_count": 9,
     "metadata": {},
     "output_type": "execute_result"
    }
   ],
   "source": [
    "Counter([slowo[-1] for slowo in slowa])"
   ]
  },
  {
   "cell_type": "code",
   "execution_count": 10,
   "metadata": {
    "collapsed": false
   },
   "outputs": [
    {
     "name": "stdout",
     "output_type": "stream",
     "text": [
      "abadańskie\n"
     ]
    }
   ],
   "source": [
    "print(slowa[10])"
   ]
  },
  {
   "cell_type": "code",
   "execution_count": 11,
   "metadata": {
    "collapsed": true
   },
   "outputs": [],
   "source": [
    "def zlicz(slowo, lit):\n",
    "    zliczenia = 0\n",
    "    for litera in slowo:\n",
    "        if litera == lit:\n",
    "            zliczenia += 1\n",
    "    return zliczenia"
   ]
  },
  {
   "cell_type": "code",
   "execution_count": 12,
   "metadata": {
    "collapsed": false
   },
   "outputs": [
    {
     "name": "stdout",
     "output_type": "stream",
     "text": [
      "wybyczyłybyśmy\n",
      "wypytywałybyśmy\n",
      "wysypywałybyśmy\n",
      "wytyczyłybyśmy\n",
      "wywyższyłybyśmy\n"
     ]
    }
   ],
   "source": [
    "for slowo in slowa:\n",
    "    if zlicz(slowo, 'y') == 6:\n",
    "        print(slowo)"
   ]
  },
  {
   "cell_type": "markdown",
   "metadata": {},
   "source": [
    "### Zadania\n",
    "\n",
    "* Palindromy\n",
    "* Najwięcej polskich znaków?\n",
    "* Najwięcej różnych polskich znaków?\n",
    "* Słowa:\n",
    "    * zaczynające się od (`.startswith(poczatek)`)\n",
    "    * kończące się na (`.endswith(koniec)`)\n",
    "    * zawierające (`.counts(podslowo)`)\n",
    "* Wolne Lektury lub Gutenberg\n",
    "* Punkty w Scrabble lub Literaki a częstość występowania"
   ]
  },
  {
   "cell_type": "markdown",
   "metadata": {},
   "source": [
    "## Zobacz też\n",
    "\n",
    "* [Unicode character table](http://unicode-table.com/en/)\n",
    "* [Ł - computer usage](https://en.wikipedia.org/wiki/%C5%81#Computer_usage) - `Ł` w różnych kodowaniach znaków"
   ]
  },
  {
   "cell_type": "code",
   "execution_count": null,
   "metadata": {
    "collapsed": true
   },
   "outputs": [],
   "source": []
  }
 ],
 "metadata": {
  "kernelspec": {
   "display_name": "Python 3",
   "language": "python",
   "name": "python3"
  },
  "language_info": {
   "codemirror_mode": {
    "name": "ipython",
    "version": 3
   },
   "file_extension": ".py",
   "mimetype": "text/x-python",
   "name": "python",
   "nbconvert_exporter": "python",
   "pygments_lexer": "ipython3",
   "version": "3.4.3"
  }
 },
 "nbformat": 4,
 "nbformat_minor": 0
}
