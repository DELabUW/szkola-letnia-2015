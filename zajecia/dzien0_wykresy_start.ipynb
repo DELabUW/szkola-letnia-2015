{
 "cells": [
  {
   "cell_type": "markdown",
   "metadata": {},
   "source": [
    "# Wczytywanie danych i wykresy\n",
    "\n",
    "[Piotr Migdał](http://migdal.wikidot.com/), 2015, [DELab UW](http://www.delab.uw.edu.pl/)"
   ]
  },
  {
   "cell_type": "code",
   "execution_count": 46,
   "metadata": {
    "collapsed": false
   },
   "outputs": [],
   "source": [
    "# wykresy w notatniku\n",
    "%matplotlib inline\n",
    "\n",
    "# biblioteka do tabelek\n",
    "import pandas as pd\n",
    "\n",
    "# biblioteka do wykresów\n",
    "import matplotlib.pyplot as plt"
   ]
  },
  {
   "cell_type": "markdown",
   "metadata": {},
   "source": [
    "Umiejętność robienia wykresów to sprawa życia i śmierci (w zawodzie) dla analizujących dane.\n",
    "\n",
    "NAPISAĆ SKĄD SĄ DANE.\n",
    "\n",
    "TO DO:\n",
    "\n",
    "* Ustalić styl wykresów\n",
    "* Link do pandas plot\n",
    "* Zobczyć jak to z rozmiarem na wykresach\n",
    "* dataframe vs column\n",
    "* dac do 10 lat"
   ]
  },
  {
   "cell_type": "code",
   "execution_count": 8,
   "metadata": {
    "collapsed": true
   },
   "outputs": [],
   "source": [
    "# \n",
    "df_k = pd.read_csv(\"dane/smiertelnosc_polska_kobiety.csv\", index_col=\"Wiek\") "
   ]
  },
  {
   "cell_type": "code",
   "execution_count": 9,
   "metadata": {
    "collapsed": false
   },
   "outputs": [
    {
     "data": {
      "text/html": [
       "<div style=\"max-height:1000px;max-width:1500px;overflow:auto;\">\n",
       "<table border=\"1\" class=\"dataframe\">\n",
       "  <thead>\n",
       "    <tr style=\"text-align: right;\">\n",
       "      <th></th>\n",
       "      <th>1950</th>\n",
       "      <th>1951</th>\n",
       "      <th>1952</th>\n",
       "      <th>1953</th>\n",
       "      <th>1954</th>\n",
       "      <th>1955</th>\n",
       "      <th>1956</th>\n",
       "      <th>1957</th>\n",
       "      <th>1958</th>\n",
       "      <th>1959</th>\n",
       "      <th>...</th>\n",
       "      <th>2004</th>\n",
       "      <th>2005</th>\n",
       "      <th>2006</th>\n",
       "      <th>2007</th>\n",
       "      <th>2008</th>\n",
       "      <th>2009</th>\n",
       "      <th>2010</th>\n",
       "      <th>2011</th>\n",
       "      <th>2012</th>\n",
       "      <th>2013</th>\n",
       "    </tr>\n",
       "    <tr>\n",
       "      <th>Wiek</th>\n",
       "      <th></th>\n",
       "      <th></th>\n",
       "      <th></th>\n",
       "      <th></th>\n",
       "      <th></th>\n",
       "      <th></th>\n",
       "      <th></th>\n",
       "      <th></th>\n",
       "      <th></th>\n",
       "      <th></th>\n",
       "      <th></th>\n",
       "      <th></th>\n",
       "      <th></th>\n",
       "      <th></th>\n",
       "      <th></th>\n",
       "      <th></th>\n",
       "      <th></th>\n",
       "      <th></th>\n",
       "      <th></th>\n",
       "      <th></th>\n",
       "      <th></th>\n",
       "    </tr>\n",
       "  </thead>\n",
       "  <tbody>\n",
       "    <tr>\n",
       "      <th>0</th>\n",
       "      <td>0.09911</td>\n",
       "      <td>0.10482</td>\n",
       "      <td>0.08587</td>\n",
       "      <td>0.07850</td>\n",
       "      <td>0.07380</td>\n",
       "      <td>0.07305</td>\n",
       "      <td>0.06281</td>\n",
       "      <td>0.06859</td>\n",
       "      <td>0.06336</td>\n",
       "      <td>0.06362</td>\n",
       "      <td>...</td>\n",
       "      <td>0.00615</td>\n",
       "      <td>0.00587</td>\n",
       "      <td>0.00529</td>\n",
       "      <td>0.00541</td>\n",
       "      <td>0.00517</td>\n",
       "      <td>0.00507</td>\n",
       "      <td>0.00452</td>\n",
       "      <td>0.00425</td>\n",
       "      <td>0.00426</td>\n",
       "      <td>0.00418</td>\n",
       "    </tr>\n",
       "    <tr>\n",
       "      <th>1</th>\n",
       "      <td>0.02258</td>\n",
       "      <td>0.02411</td>\n",
       "      <td>0.01793</td>\n",
       "      <td>0.01544</td>\n",
       "      <td>0.01388</td>\n",
       "      <td>0.01288</td>\n",
       "      <td>0.00967</td>\n",
       "      <td>0.01020</td>\n",
       "      <td>0.00854</td>\n",
       "      <td>0.00880</td>\n",
       "      <td>...</td>\n",
       "      <td>0.00091</td>\n",
       "      <td>0.00102</td>\n",
       "      <td>0.00101</td>\n",
       "      <td>0.00088</td>\n",
       "      <td>0.00093</td>\n",
       "      <td>0.00084</td>\n",
       "      <td>0.00079</td>\n",
       "      <td>0.00073</td>\n",
       "      <td>0.00059</td>\n",
       "      <td>0.00069</td>\n",
       "    </tr>\n",
       "    <tr>\n",
       "      <th>5</th>\n",
       "      <td>0.00667</td>\n",
       "      <td>0.00769</td>\n",
       "      <td>0.00622</td>\n",
       "      <td>0.00490</td>\n",
       "      <td>0.00501</td>\n",
       "      <td>0.00450</td>\n",
       "      <td>0.00361</td>\n",
       "      <td>0.00340</td>\n",
       "      <td>0.00268</td>\n",
       "      <td>0.00296</td>\n",
       "      <td>...</td>\n",
       "      <td>0.00061</td>\n",
       "      <td>0.00077</td>\n",
       "      <td>0.00065</td>\n",
       "      <td>0.00055</td>\n",
       "      <td>0.00053</td>\n",
       "      <td>0.00064</td>\n",
       "      <td>0.00050</td>\n",
       "      <td>0.00050</td>\n",
       "      <td>0.00045</td>\n",
       "      <td>0.00041</td>\n",
       "    </tr>\n",
       "    <tr>\n",
       "      <th>10</th>\n",
       "      <td>0.00491</td>\n",
       "      <td>0.00518</td>\n",
       "      <td>0.00457</td>\n",
       "      <td>0.00346</td>\n",
       "      <td>0.00292</td>\n",
       "      <td>0.00302</td>\n",
       "      <td>0.00237</td>\n",
       "      <td>0.00273</td>\n",
       "      <td>0.00213</td>\n",
       "      <td>0.00216</td>\n",
       "      <td>...</td>\n",
       "      <td>0.00070</td>\n",
       "      <td>0.00068</td>\n",
       "      <td>0.00073</td>\n",
       "      <td>0.00075</td>\n",
       "      <td>0.00063</td>\n",
       "      <td>0.00078</td>\n",
       "      <td>0.00058</td>\n",
       "      <td>0.00065</td>\n",
       "      <td>0.00059</td>\n",
       "      <td>0.00066</td>\n",
       "    </tr>\n",
       "    <tr>\n",
       "      <th>15</th>\n",
       "      <td>0.00878</td>\n",
       "      <td>0.00877</td>\n",
       "      <td>0.00783</td>\n",
       "      <td>0.00495</td>\n",
       "      <td>0.00453</td>\n",
       "      <td>0.00461</td>\n",
       "      <td>0.00404</td>\n",
       "      <td>0.00391</td>\n",
       "      <td>0.00334</td>\n",
       "      <td>0.00318</td>\n",
       "      <td>...</td>\n",
       "      <td>0.00132</td>\n",
       "      <td>0.00118</td>\n",
       "      <td>0.00122</td>\n",
       "      <td>0.00128</td>\n",
       "      <td>0.00142</td>\n",
       "      <td>0.00124</td>\n",
       "      <td>0.00104</td>\n",
       "      <td>0.00122</td>\n",
       "      <td>0.00111</td>\n",
       "      <td>0.00120</td>\n",
       "    </tr>\n",
       "  </tbody>\n",
       "</table>\n",
       "<p>5 rows × 64 columns</p>\n",
       "</div>"
      ],
      "text/plain": [
       "         1950     1951     1952     1953     1954     1955     1956     1957  \\\n",
       "Wiek                                                                           \n",
       "0     0.09911  0.10482  0.08587  0.07850  0.07380  0.07305  0.06281  0.06859   \n",
       "1     0.02258  0.02411  0.01793  0.01544  0.01388  0.01288  0.00967  0.01020   \n",
       "5     0.00667  0.00769  0.00622  0.00490  0.00501  0.00450  0.00361  0.00340   \n",
       "10    0.00491  0.00518  0.00457  0.00346  0.00292  0.00302  0.00237  0.00273   \n",
       "15    0.00878  0.00877  0.00783  0.00495  0.00453  0.00461  0.00404  0.00391   \n",
       "\n",
       "         1958     1959   ...        2004     2005     2006     2007     2008  \\\n",
       "Wiek                     ...                                                   \n",
       "0     0.06336  0.06362   ...     0.00615  0.00587  0.00529  0.00541  0.00517   \n",
       "1     0.00854  0.00880   ...     0.00091  0.00102  0.00101  0.00088  0.00093   \n",
       "5     0.00268  0.00296   ...     0.00061  0.00077  0.00065  0.00055  0.00053   \n",
       "10    0.00213  0.00216   ...     0.00070  0.00068  0.00073  0.00075  0.00063   \n",
       "15    0.00334  0.00318   ...     0.00132  0.00118  0.00122  0.00128  0.00142   \n",
       "\n",
       "         2009     2010     2011     2012     2013  \n",
       "Wiek                                               \n",
       "0     0.00507  0.00452  0.00425  0.00426  0.00418  \n",
       "1     0.00084  0.00079  0.00073  0.00059  0.00069  \n",
       "5     0.00064  0.00050  0.00050  0.00045  0.00041  \n",
       "10    0.00078  0.00058  0.00065  0.00059  0.00066  \n",
       "15    0.00124  0.00104  0.00122  0.00111  0.00120  \n",
       "\n",
       "[5 rows x 64 columns]"
      ]
     },
     "execution_count": 9,
     "metadata": {},
     "output_type": "execute_result"
    }
   ],
   "source": [
    "df_k.head()"
   ]
  },
  {
   "cell_type": "code",
   "execution_count": 11,
   "metadata": {
    "collapsed": false
   },
   "outputs": [
    {
     "data": {
      "text/plain": [
       "Wiek\n",
       "0     0.00418\n",
       "1     0.00069\n",
       "5     0.00041\n",
       "10    0.00066\n",
       "15    0.00120\n",
       "20    0.00112\n",
       "25    0.00130\n",
       "30    0.00189\n",
       "35    0.00311\n",
       "40    0.00551\n",
       "45    0.00983\n",
       "50    0.01691\n",
       "55    0.02766\n",
       "60    0.04259\n",
       "65    0.06213\n",
       "70    0.09286\n",
       "75    0.15785\n",
       "80    0.27472\n",
       "Name: 2013, dtype: float64"
      ]
     },
     "execution_count": 11,
     "metadata": {},
     "output_type": "execute_result"
    }
   ],
   "source": [
    "df_k[\"2013\"]"
   ]
  },
  {
   "cell_type": "code",
   "execution_count": 15,
   "metadata": {
    "collapsed": true
   },
   "outputs": [],
   "source": [
    "ostatni_rok = df_k[\"2013\"]"
   ]
  },
  {
   "cell_type": "code",
   "execution_count": 55,
   "metadata": {
    "collapsed": false
   },
   "outputs": [
    {
     "data": {
      "text/html": [
       "<div style=\"max-height:1000px;max-width:1500px;overflow:auto;\">\n",
       "<table border=\"1\" class=\"dataframe\">\n",
       "  <thead>\n",
       "    <tr style=\"text-align: right;\">\n",
       "      <th></th>\n",
       "      <th>1950</th>\n",
       "      <th>1951</th>\n",
       "      <th>1952</th>\n",
       "      <th>1953</th>\n",
       "      <th>1954</th>\n",
       "      <th>1955</th>\n",
       "      <th>1956</th>\n",
       "      <th>1957</th>\n",
       "      <th>1958</th>\n",
       "      <th>1959</th>\n",
       "      <th>...</th>\n",
       "      <th>2004</th>\n",
       "      <th>2005</th>\n",
       "      <th>2006</th>\n",
       "      <th>2007</th>\n",
       "      <th>2008</th>\n",
       "      <th>2009</th>\n",
       "      <th>2010</th>\n",
       "      <th>2011</th>\n",
       "      <th>2012</th>\n",
       "      <th>2013</th>\n",
       "    </tr>\n",
       "  </thead>\n",
       "  <tbody>\n",
       "    <tr>\n",
       "      <th>count</th>\n",
       "      <td>18.000000</td>\n",
       "      <td>18.000000</td>\n",
       "      <td>18.000000</td>\n",
       "      <td>18.000000</td>\n",
       "      <td>18.000000</td>\n",
       "      <td>18.000000</td>\n",
       "      <td>18.000000</td>\n",
       "      <td>18.000000</td>\n",
       "      <td>18.000000</td>\n",
       "      <td>18.000000</td>\n",
       "      <td>...</td>\n",
       "      <td>18.000000</td>\n",
       "      <td>18.000000</td>\n",
       "      <td>18.000000</td>\n",
       "      <td>18.000000</td>\n",
       "      <td>18.000000</td>\n",
       "      <td>18.000000</td>\n",
       "      <td>18.000000</td>\n",
       "      <td>18.000000</td>\n",
       "      <td>18.000000</td>\n",
       "      <td>18.000000</td>\n",
       "    </tr>\n",
       "    <tr>\n",
       "      <th>mean</th>\n",
       "      <td>0.093083</td>\n",
       "      <td>0.097669</td>\n",
       "      <td>0.092944</td>\n",
       "      <td>0.088584</td>\n",
       "      <td>0.094223</td>\n",
       "      <td>0.084968</td>\n",
       "      <td>0.083892</td>\n",
       "      <td>0.087555</td>\n",
       "      <td>0.078781</td>\n",
       "      <td>0.081489</td>\n",
       "      <td>...</td>\n",
       "      <td>0.046603</td>\n",
       "      <td>0.045844</td>\n",
       "      <td>0.044775</td>\n",
       "      <td>0.044144</td>\n",
       "      <td>0.043312</td>\n",
       "      <td>0.042931</td>\n",
       "      <td>0.041186</td>\n",
       "      <td>0.039821</td>\n",
       "      <td>0.039691</td>\n",
       "      <td>0.039146</td>\n",
       "    </tr>\n",
       "    <tr>\n",
       "      <th>std</th>\n",
       "      <td>0.137807</td>\n",
       "      <td>0.144037</td>\n",
       "      <td>0.140808</td>\n",
       "      <td>0.138560</td>\n",
       "      <td>0.151105</td>\n",
       "      <td>0.133404</td>\n",
       "      <td>0.136690</td>\n",
       "      <td>0.143082</td>\n",
       "      <td>0.131782</td>\n",
       "      <td>0.137984</td>\n",
       "      <td>...</td>\n",
       "      <td>0.086967</td>\n",
       "      <td>0.085458</td>\n",
       "      <td>0.083143</td>\n",
       "      <td>0.081770</td>\n",
       "      <td>0.080279</td>\n",
       "      <td>0.079816</td>\n",
       "      <td>0.076691</td>\n",
       "      <td>0.073547</td>\n",
       "      <td>0.073088</td>\n",
       "      <td>0.072077</td>\n",
       "    </tr>\n",
       "    <tr>\n",
       "      <th>min</th>\n",
       "      <td>0.004910</td>\n",
       "      <td>0.005180</td>\n",
       "      <td>0.004570</td>\n",
       "      <td>0.003460</td>\n",
       "      <td>0.002920</td>\n",
       "      <td>0.003020</td>\n",
       "      <td>0.002370</td>\n",
       "      <td>0.002730</td>\n",
       "      <td>0.002130</td>\n",
       "      <td>0.002160</td>\n",
       "      <td>...</td>\n",
       "      <td>0.000610</td>\n",
       "      <td>0.000680</td>\n",
       "      <td>0.000650</td>\n",
       "      <td>0.000550</td>\n",
       "      <td>0.000530</td>\n",
       "      <td>0.000640</td>\n",
       "      <td>0.000500</td>\n",
       "      <td>0.000500</td>\n",
       "      <td>0.000450</td>\n",
       "      <td>0.000410</td>\n",
       "    </tr>\n",
       "    <tr>\n",
       "      <th>25%</th>\n",
       "      <td>0.013793</td>\n",
       "      <td>0.013843</td>\n",
       "      <td>0.012740</td>\n",
       "      <td>0.009102</td>\n",
       "      <td>0.008858</td>\n",
       "      <td>0.007905</td>\n",
       "      <td>0.007408</td>\n",
       "      <td>0.007425</td>\n",
       "      <td>0.006565</td>\n",
       "      <td>0.006422</td>\n",
       "      <td>...</td>\n",
       "      <td>0.001425</td>\n",
       "      <td>0.001357</td>\n",
       "      <td>0.001342</td>\n",
       "      <td>0.001435</td>\n",
       "      <td>0.001453</td>\n",
       "      <td>0.001345</td>\n",
       "      <td>0.001167</td>\n",
       "      <td>0.001257</td>\n",
       "      <td>0.001180</td>\n",
       "      <td>0.001225</td>\n",
       "    </tr>\n",
       "    <tr>\n",
       "      <th>50%</th>\n",
       "      <td>0.024975</td>\n",
       "      <td>0.026125</td>\n",
       "      <td>0.023165</td>\n",
       "      <td>0.019930</td>\n",
       "      <td>0.019925</td>\n",
       "      <td>0.018825</td>\n",
       "      <td>0.018035</td>\n",
       "      <td>0.018515</td>\n",
       "      <td>0.016620</td>\n",
       "      <td>0.016790</td>\n",
       "      <td>...</td>\n",
       "      <td>0.006805</td>\n",
       "      <td>0.006570</td>\n",
       "      <td>0.006380</td>\n",
       "      <td>0.006255</td>\n",
       "      <td>0.006025</td>\n",
       "      <td>0.005875</td>\n",
       "      <td>0.005360</td>\n",
       "      <td>0.005165</td>\n",
       "      <td>0.005045</td>\n",
       "      <td>0.004845</td>\n",
       "    </tr>\n",
       "    <tr>\n",
       "      <th>75%</th>\n",
       "      <td>0.097267</td>\n",
       "      <td>0.103268</td>\n",
       "      <td>0.091495</td>\n",
       "      <td>0.084808</td>\n",
       "      <td>0.080363</td>\n",
       "      <td>0.082440</td>\n",
       "      <td>0.077607</td>\n",
       "      <td>0.082870</td>\n",
       "      <td>0.073050</td>\n",
       "      <td>0.072837</td>\n",
       "      <td>...</td>\n",
       "      <td>0.040310</td>\n",
       "      <td>0.040455</td>\n",
       "      <td>0.040590</td>\n",
       "      <td>0.041020</td>\n",
       "      <td>0.040708</td>\n",
       "      <td>0.040593</td>\n",
       "      <td>0.038940</td>\n",
       "      <td>0.038642</td>\n",
       "      <td>0.039023</td>\n",
       "      <td>0.038857</td>\n",
       "    </tr>\n",
       "    <tr>\n",
       "      <th>max</th>\n",
       "      <td>0.501870</td>\n",
       "      <td>0.519030</td>\n",
       "      <td>0.509230</td>\n",
       "      <td>0.493140</td>\n",
       "      <td>0.530380</td>\n",
       "      <td>0.476290</td>\n",
       "      <td>0.488550</td>\n",
       "      <td>0.516150</td>\n",
       "      <td>0.488090</td>\n",
       "      <td>0.510940</td>\n",
       "      <td>...</td>\n",
       "      <td>0.330010</td>\n",
       "      <td>0.325020</td>\n",
       "      <td>0.316560</td>\n",
       "      <td>0.311940</td>\n",
       "      <td>0.306330</td>\n",
       "      <td>0.305350</td>\n",
       "      <td>0.293100</td>\n",
       "      <td>0.281080</td>\n",
       "      <td>0.278600</td>\n",
       "      <td>0.274720</td>\n",
       "    </tr>\n",
       "  </tbody>\n",
       "</table>\n",
       "<p>8 rows × 64 columns</p>\n",
       "</div>"
      ],
      "text/plain": [
       "            1950       1951       1952       1953       1954       1955  \\\n",
       "count  18.000000  18.000000  18.000000  18.000000  18.000000  18.000000   \n",
       "mean    0.093083   0.097669   0.092944   0.088584   0.094223   0.084968   \n",
       "std     0.137807   0.144037   0.140808   0.138560   0.151105   0.133404   \n",
       "min     0.004910   0.005180   0.004570   0.003460   0.002920   0.003020   \n",
       "25%     0.013793   0.013843   0.012740   0.009102   0.008858   0.007905   \n",
       "50%     0.024975   0.026125   0.023165   0.019930   0.019925   0.018825   \n",
       "75%     0.097267   0.103268   0.091495   0.084808   0.080363   0.082440   \n",
       "max     0.501870   0.519030   0.509230   0.493140   0.530380   0.476290   \n",
       "\n",
       "            1956       1957       1958       1959    ...           2004  \\\n",
       "count  18.000000  18.000000  18.000000  18.000000    ...      18.000000   \n",
       "mean    0.083892   0.087555   0.078781   0.081489    ...       0.046603   \n",
       "std     0.136690   0.143082   0.131782   0.137984    ...       0.086967   \n",
       "min     0.002370   0.002730   0.002130   0.002160    ...       0.000610   \n",
       "25%     0.007408   0.007425   0.006565   0.006422    ...       0.001425   \n",
       "50%     0.018035   0.018515   0.016620   0.016790    ...       0.006805   \n",
       "75%     0.077607   0.082870   0.073050   0.072837    ...       0.040310   \n",
       "max     0.488550   0.516150   0.488090   0.510940    ...       0.330010   \n",
       "\n",
       "            2005       2006       2007       2008       2009       2010  \\\n",
       "count  18.000000  18.000000  18.000000  18.000000  18.000000  18.000000   \n",
       "mean    0.045844   0.044775   0.044144   0.043312   0.042931   0.041186   \n",
       "std     0.085458   0.083143   0.081770   0.080279   0.079816   0.076691   \n",
       "min     0.000680   0.000650   0.000550   0.000530   0.000640   0.000500   \n",
       "25%     0.001357   0.001342   0.001435   0.001453   0.001345   0.001167   \n",
       "50%     0.006570   0.006380   0.006255   0.006025   0.005875   0.005360   \n",
       "75%     0.040455   0.040590   0.041020   0.040708   0.040593   0.038940   \n",
       "max     0.325020   0.316560   0.311940   0.306330   0.305350   0.293100   \n",
       "\n",
       "            2011       2012       2013  \n",
       "count  18.000000  18.000000  18.000000  \n",
       "mean    0.039821   0.039691   0.039146  \n",
       "std     0.073547   0.073088   0.072077  \n",
       "min     0.000500   0.000450   0.000410  \n",
       "25%     0.001257   0.001180   0.001225  \n",
       "50%     0.005165   0.005045   0.004845  \n",
       "75%     0.038642   0.039023   0.038857  \n",
       "max     0.281080   0.278600   0.274720  \n",
       "\n",
       "[8 rows x 64 columns]"
      ]
     },
     "execution_count": 55,
     "metadata": {},
     "output_type": "execute_result"
    }
   ],
   "source": [
    "df_k.describe()"
   ]
  },
  {
   "cell_type": "code",
   "execution_count": 78,
   "metadata": {
    "collapsed": false
   },
   "outputs": [
    {
     "data": {
      "text/html": [
       "<div style=\"max-height:1000px;max-width:1500px;overflow:auto;\">\n",
       "<table border=\"1\" class=\"dataframe\">\n",
       "  <thead>\n",
       "    <tr style=\"text-align: right;\">\n",
       "      <th>Wiek</th>\n",
       "      <th>0</th>\n",
       "      <th>1</th>\n",
       "      <th>5</th>\n",
       "      <th>10</th>\n",
       "      <th>15</th>\n",
       "      <th>20</th>\n",
       "      <th>25</th>\n",
       "      <th>30</th>\n",
       "      <th>35</th>\n",
       "      <th>40</th>\n",
       "      <th>45</th>\n",
       "      <th>50</th>\n",
       "      <th>55</th>\n",
       "      <th>60</th>\n",
       "      <th>65</th>\n",
       "      <th>70</th>\n",
       "      <th>75</th>\n",
       "      <th>80</th>\n",
       "    </tr>\n",
       "  </thead>\n",
       "  <tbody>\n",
       "    <tr>\n",
       "      <th>1950</th>\n",
       "      <td>0.09911</td>\n",
       "      <td>0.02258</td>\n",
       "      <td>0.00667</td>\n",
       "      <td>0.00491</td>\n",
       "      <td>0.00878</td>\n",
       "      <td>0.01216</td>\n",
       "      <td>0.01328</td>\n",
       "      <td>0.01533</td>\n",
       "      <td>0.01785</td>\n",
       "      <td>0.02029</td>\n",
       "      <td>0.02737</td>\n",
       "      <td>0.04028</td>\n",
       "      <td>0.05858</td>\n",
       "      <td>0.09174</td>\n",
       "      <td>0.14451</td>\n",
       "      <td>0.24078</td>\n",
       "      <td>0.34941</td>\n",
       "      <td>0.50187</td>\n",
       "    </tr>\n",
       "    <tr>\n",
       "      <th>1951</th>\n",
       "      <td>0.10482</td>\n",
       "      <td>0.02411</td>\n",
       "      <td>0.00769</td>\n",
       "      <td>0.00518</td>\n",
       "      <td>0.00877</td>\n",
       "      <td>0.01337</td>\n",
       "      <td>0.01363</td>\n",
       "      <td>0.01448</td>\n",
       "      <td>0.01720</td>\n",
       "      <td>0.02069</td>\n",
       "      <td>0.02814</td>\n",
       "      <td>0.04117</td>\n",
       "      <td>0.06227</td>\n",
       "      <td>0.09861</td>\n",
       "      <td>0.15444</td>\n",
       "      <td>0.25277</td>\n",
       "      <td>0.37168</td>\n",
       "      <td>0.51903</td>\n",
       "    </tr>\n",
       "    <tr>\n",
       "      <th>1952</th>\n",
       "      <td>0.08587</td>\n",
       "      <td>0.01793</td>\n",
       "      <td>0.00622</td>\n",
       "      <td>0.00457</td>\n",
       "      <td>0.00783</td>\n",
       "      <td>0.01161</td>\n",
       "      <td>0.01254</td>\n",
       "      <td>0.01334</td>\n",
       "      <td>0.01610</td>\n",
       "      <td>0.01996</td>\n",
       "      <td>0.02637</td>\n",
       "      <td>0.03930</td>\n",
       "      <td>0.05923</td>\n",
       "      <td>0.09337</td>\n",
       "      <td>0.14789</td>\n",
       "      <td>0.24175</td>\n",
       "      <td>0.35988</td>\n",
       "      <td>0.50923</td>\n",
       "    </tr>\n",
       "    <tr>\n",
       "      <th>1953</th>\n",
       "      <td>0.07850</td>\n",
       "      <td>0.01544</td>\n",
       "      <td>0.00490</td>\n",
       "      <td>0.00346</td>\n",
       "      <td>0.00495</td>\n",
       "      <td>0.00751</td>\n",
       "      <td>0.00869</td>\n",
       "      <td>0.01034</td>\n",
       "      <td>0.01343</td>\n",
       "      <td>0.01637</td>\n",
       "      <td>0.02349</td>\n",
       "      <td>0.03516</td>\n",
       "      <td>0.05499</td>\n",
       "      <td>0.08691</td>\n",
       "      <td>0.14205</td>\n",
       "      <td>0.23582</td>\n",
       "      <td>0.35936</td>\n",
       "      <td>0.49314</td>\n",
       "    </tr>\n",
       "    <tr>\n",
       "      <th>1954</th>\n",
       "      <td>0.07380</td>\n",
       "      <td>0.01388</td>\n",
       "      <td>0.00501</td>\n",
       "      <td>0.00292</td>\n",
       "      <td>0.00453</td>\n",
       "      <td>0.00754</td>\n",
       "      <td>0.00838</td>\n",
       "      <td>0.01029</td>\n",
       "      <td>0.01282</td>\n",
       "      <td>0.01619</td>\n",
       "      <td>0.02366</td>\n",
       "      <td>0.03465</td>\n",
       "      <td>0.05742</td>\n",
       "      <td>0.08255</td>\n",
       "      <td>0.16277</td>\n",
       "      <td>0.24981</td>\n",
       "      <td>0.39942</td>\n",
       "      <td>0.53038</td>\n",
       "    </tr>\n",
       "  </tbody>\n",
       "</table>\n",
       "</div>"
      ],
      "text/plain": [
       "Wiek       0        1        5        10       15       20       25       30  \\\n",
       "1950  0.09911  0.02258  0.00667  0.00491  0.00878  0.01216  0.01328  0.01533   \n",
       "1951  0.10482  0.02411  0.00769  0.00518  0.00877  0.01337  0.01363  0.01448   \n",
       "1952  0.08587  0.01793  0.00622  0.00457  0.00783  0.01161  0.01254  0.01334   \n",
       "1953  0.07850  0.01544  0.00490  0.00346  0.00495  0.00751  0.00869  0.01034   \n",
       "1954  0.07380  0.01388  0.00501  0.00292  0.00453  0.00754  0.00838  0.01029   \n",
       "\n",
       "Wiek       35       40       45       50       55       60       65       70  \\\n",
       "1950  0.01785  0.02029  0.02737  0.04028  0.05858  0.09174  0.14451  0.24078   \n",
       "1951  0.01720  0.02069  0.02814  0.04117  0.06227  0.09861  0.15444  0.25277   \n",
       "1952  0.01610  0.01996  0.02637  0.03930  0.05923  0.09337  0.14789  0.24175   \n",
       "1953  0.01343  0.01637  0.02349  0.03516  0.05499  0.08691  0.14205  0.23582   \n",
       "1954  0.01282  0.01619  0.02366  0.03465  0.05742  0.08255  0.16277  0.24981   \n",
       "\n",
       "Wiek       75       80  \n",
       "1950  0.34941  0.50187  \n",
       "1951  0.37168  0.51903  \n",
       "1952  0.35988  0.50923  \n",
       "1953  0.35936  0.49314  \n",
       "1954  0.39942  0.53038  "
      ]
     },
     "execution_count": 78,
     "metadata": {},
     "output_type": "execute_result"
    }
   ],
   "source": [
    "df_k.transpose().head()"
   ]
  },
  {
   "cell_type": "code",
   "execution_count": 56,
   "metadata": {
    "collapsed": false
   },
   "outputs": [
    {
     "data": {
      "text/html": [
       "<div style=\"max-height:1000px;max-width:1500px;overflow:auto;\">\n",
       "<table border=\"1\" class=\"dataframe\">\n",
       "  <thead>\n",
       "    <tr style=\"text-align: right;\">\n",
       "      <th></th>\n",
       "      <th>0</th>\n",
       "      <th>1</th>\n",
       "      <th>5</th>\n",
       "      <th>10</th>\n",
       "      <th>15</th>\n",
       "      <th>20</th>\n",
       "      <th>25</th>\n",
       "      <th>30</th>\n",
       "      <th>35</th>\n",
       "      <th>40</th>\n",
       "      <th>45</th>\n",
       "      <th>50</th>\n",
       "      <th>55</th>\n",
       "      <th>60</th>\n",
       "      <th>65</th>\n",
       "      <th>70</th>\n",
       "      <th>75</th>\n",
       "      <th>80</th>\n",
       "    </tr>\n",
       "  </thead>\n",
       "  <tbody>\n",
       "    <tr>\n",
       "      <th>count</th>\n",
       "      <td>64.000000</td>\n",
       "      <td>64.000000</td>\n",
       "      <td>64.000000</td>\n",
       "      <td>64.000000</td>\n",
       "      <td>64.000000</td>\n",
       "      <td>64.000000</td>\n",
       "      <td>64.000000</td>\n",
       "      <td>64.000000</td>\n",
       "      <td>64.000000</td>\n",
       "      <td>64.000000</td>\n",
       "      <td>64.000000</td>\n",
       "      <td>64.000000</td>\n",
       "      <td>64.000000</td>\n",
       "      <td>64.000000</td>\n",
       "      <td>64.000000</td>\n",
       "      <td>64.000000</td>\n",
       "      <td>64.000000</td>\n",
       "      <td>64.000000</td>\n",
       "    </tr>\n",
       "    <tr>\n",
       "      <th>mean</th>\n",
       "      <td>0.027216</td>\n",
       "      <td>0.004339</td>\n",
       "      <td>0.001797</td>\n",
       "      <td>0.001424</td>\n",
       "      <td>0.002356</td>\n",
       "      <td>0.003071</td>\n",
       "      <td>0.003657</td>\n",
       "      <td>0.004857</td>\n",
       "      <td>0.007054</td>\n",
       "      <td>0.010667</td>\n",
       "      <td>0.016516</td>\n",
       "      <td>0.025318</td>\n",
       "      <td>0.038595</td>\n",
       "      <td>0.060823</td>\n",
       "      <td>0.098915</td>\n",
       "      <td>0.164803</td>\n",
       "      <td>0.268177</td>\n",
       "      <td>0.414495</td>\n",
       "    </tr>\n",
       "    <tr>\n",
       "      <th>std</th>\n",
       "      <td>0.025042</td>\n",
       "      <td>0.005048</td>\n",
       "      <td>0.001514</td>\n",
       "      <td>0.000988</td>\n",
       "      <td>0.001606</td>\n",
       "      <td>0.002553</td>\n",
       "      <td>0.002744</td>\n",
       "      <td>0.002917</td>\n",
       "      <td>0.003185</td>\n",
       "      <td>0.003242</td>\n",
       "      <td>0.003702</td>\n",
       "      <td>0.004942</td>\n",
       "      <td>0.007829</td>\n",
       "      <td>0.013608</td>\n",
       "      <td>0.024584</td>\n",
       "      <td>0.041087</td>\n",
       "      <td>0.056081</td>\n",
       "      <td>0.063959</td>\n",
       "    </tr>\n",
       "    <tr>\n",
       "      <th>min</th>\n",
       "      <td>0.004180</td>\n",
       "      <td>0.000590</td>\n",
       "      <td>0.000410</td>\n",
       "      <td>0.000580</td>\n",
       "      <td>0.001040</td>\n",
       "      <td>0.001110</td>\n",
       "      <td>0.001270</td>\n",
       "      <td>0.001890</td>\n",
       "      <td>0.003110</td>\n",
       "      <td>0.005510</td>\n",
       "      <td>0.009830</td>\n",
       "      <td>0.016910</td>\n",
       "      <td>0.027660</td>\n",
       "      <td>0.042110</td>\n",
       "      <td>0.060700</td>\n",
       "      <td>0.092860</td>\n",
       "      <td>0.157850</td>\n",
       "      <td>0.274720</td>\n",
       "    </tr>\n",
       "    <tr>\n",
       "      <th>25%</th>\n",
       "      <td>0.009128</td>\n",
       "      <td>0.001390</td>\n",
       "      <td>0.000842</td>\n",
       "      <td>0.000798</td>\n",
       "      <td>0.001557</td>\n",
       "      <td>0.001695</td>\n",
       "      <td>0.001995</td>\n",
       "      <td>0.002900</td>\n",
       "      <td>0.005242</td>\n",
       "      <td>0.009125</td>\n",
       "      <td>0.015098</td>\n",
       "      <td>0.022783</td>\n",
       "      <td>0.033213</td>\n",
       "      <td>0.051623</td>\n",
       "      <td>0.085047</td>\n",
       "      <td>0.142558</td>\n",
       "      <td>0.239490</td>\n",
       "      <td>0.382985</td>\n",
       "    </tr>\n",
       "    <tr>\n",
       "      <th>50%</th>\n",
       "      <td>0.017470</td>\n",
       "      <td>0.002455</td>\n",
       "      <td>0.001460</td>\n",
       "      <td>0.001135</td>\n",
       "      <td>0.001915</td>\n",
       "      <td>0.002330</td>\n",
       "      <td>0.002885</td>\n",
       "      <td>0.004140</td>\n",
       "      <td>0.006325</td>\n",
       "      <td>0.010125</td>\n",
       "      <td>0.016060</td>\n",
       "      <td>0.024750</td>\n",
       "      <td>0.037870</td>\n",
       "      <td>0.060510</td>\n",
       "      <td>0.097485</td>\n",
       "      <td>0.162500</td>\n",
       "      <td>0.272265</td>\n",
       "      <td>0.426515</td>\n",
       "    </tr>\n",
       "    <tr>\n",
       "      <th>75%</th>\n",
       "      <td>0.033947</td>\n",
       "      <td>0.004525</td>\n",
       "      <td>0.001888</td>\n",
       "      <td>0.001480</td>\n",
       "      <td>0.002308</td>\n",
       "      <td>0.003110</td>\n",
       "      <td>0.003737</td>\n",
       "      <td>0.005230</td>\n",
       "      <td>0.007515</td>\n",
       "      <td>0.011105</td>\n",
       "      <td>0.017060</td>\n",
       "      <td>0.026080</td>\n",
       "      <td>0.039710</td>\n",
       "      <td>0.063552</td>\n",
       "      <td>0.109678</td>\n",
       "      <td>0.189147</td>\n",
       "      <td>0.300652</td>\n",
       "      <td>0.453835</td>\n",
       "    </tr>\n",
       "    <tr>\n",
       "      <th>max</th>\n",
       "      <td>0.104820</td>\n",
       "      <td>0.024110</td>\n",
       "      <td>0.007690</td>\n",
       "      <td>0.005180</td>\n",
       "      <td>0.008780</td>\n",
       "      <td>0.013370</td>\n",
       "      <td>0.013630</td>\n",
       "      <td>0.015330</td>\n",
       "      <td>0.017850</td>\n",
       "      <td>0.020690</td>\n",
       "      <td>0.028140</td>\n",
       "      <td>0.041170</td>\n",
       "      <td>0.062270</td>\n",
       "      <td>0.098610</td>\n",
       "      <td>0.162770</td>\n",
       "      <td>0.252770</td>\n",
       "      <td>0.399420</td>\n",
       "      <td>0.530380</td>\n",
       "    </tr>\n",
       "  </tbody>\n",
       "</table>\n",
       "</div>"
      ],
      "text/plain": [
       "              0          1          5          10         15         20  \\\n",
       "count  64.000000  64.000000  64.000000  64.000000  64.000000  64.000000   \n",
       "mean    0.027216   0.004339   0.001797   0.001424   0.002356   0.003071   \n",
       "std     0.025042   0.005048   0.001514   0.000988   0.001606   0.002553   \n",
       "min     0.004180   0.000590   0.000410   0.000580   0.001040   0.001110   \n",
       "25%     0.009128   0.001390   0.000842   0.000798   0.001557   0.001695   \n",
       "50%     0.017470   0.002455   0.001460   0.001135   0.001915   0.002330   \n",
       "75%     0.033947   0.004525   0.001888   0.001480   0.002308   0.003110   \n",
       "max     0.104820   0.024110   0.007690   0.005180   0.008780   0.013370   \n",
       "\n",
       "              25         30         35         40         45         50  \\\n",
       "count  64.000000  64.000000  64.000000  64.000000  64.000000  64.000000   \n",
       "mean    0.003657   0.004857   0.007054   0.010667   0.016516   0.025318   \n",
       "std     0.002744   0.002917   0.003185   0.003242   0.003702   0.004942   \n",
       "min     0.001270   0.001890   0.003110   0.005510   0.009830   0.016910   \n",
       "25%     0.001995   0.002900   0.005242   0.009125   0.015098   0.022783   \n",
       "50%     0.002885   0.004140   0.006325   0.010125   0.016060   0.024750   \n",
       "75%     0.003737   0.005230   0.007515   0.011105   0.017060   0.026080   \n",
       "max     0.013630   0.015330   0.017850   0.020690   0.028140   0.041170   \n",
       "\n",
       "              55         60         65         70         75         80  \n",
       "count  64.000000  64.000000  64.000000  64.000000  64.000000  64.000000  \n",
       "mean    0.038595   0.060823   0.098915   0.164803   0.268177   0.414495  \n",
       "std     0.007829   0.013608   0.024584   0.041087   0.056081   0.063959  \n",
       "min     0.027660   0.042110   0.060700   0.092860   0.157850   0.274720  \n",
       "25%     0.033213   0.051623   0.085047   0.142558   0.239490   0.382985  \n",
       "50%     0.037870   0.060510   0.097485   0.162500   0.272265   0.426515  \n",
       "75%     0.039710   0.063552   0.109678   0.189147   0.300652   0.453835  \n",
       "max     0.062270   0.098610   0.162770   0.252770   0.399420   0.530380  "
      ]
     },
     "execution_count": 56,
     "metadata": {},
     "output_type": "execute_result"
    }
   ],
   "source": [
    "df_k.transpose().describe()"
   ]
  },
  {
   "cell_type": "code",
   "execution_count": null,
   "metadata": {
    "collapsed": true
   },
   "outputs": [],
   "source": [
    "df_k.describe()"
   ]
  },
  {
   "cell_type": "code",
   "execution_count": 16,
   "metadata": {
    "collapsed": false
   },
   "outputs": [
    {
     "data": {
      "text/plain": [
       "<matplotlib.axes._subplots.AxesSubplot at 0x1110fdf60>"
      ]
     },
     "execution_count": 16,
     "metadata": {},
     "output_type": "execute_result"
    },
    {
     "data": {
      "image/png": "[encoded data removed]",
      "text/plain": [
       "<matplotlib.figure.Figure at 0x11119b390>"
      ]
     },
     "metadata": {},
     "output_type": "display_data"
    }
   ],
   "source": [
    "ostatni_rok.plot()"
   ]
  },
  {
   "cell_type": "code",
   "execution_count": 17,
   "metadata": {
    "collapsed": false
   },
   "outputs": [],
   "source": [
    "ostatni_rok.plot?"
   ]
  },
  {
   "cell_type": "code",
   "execution_count": 18,
   "metadata": {
    "collapsed": false
   },
   "outputs": [
    {
     "data": {
      "text/plain": [
       "<matplotlib.axes._subplots.AxesSubplot at 0x1111be080>"
      ]
     },
     "execution_count": 18,
     "metadata": {},
     "output_type": "execute_result"
    },
    {
     "data": {
      "image/png": "[encoded data removed]",
      "text/plain": [
       "<matplotlib.figure.Figure at 0x1111a6a58>"
      ]
     },
     "metadata": {},
     "output_type": "display_data"
    }
   ],
   "source": [
    "ostatni_rok.plot(logy=True)"
   ]
  },
  {
   "cell_type": "code",
   "execution_count": 19,
   "metadata": {
    "collapsed": false
   },
   "outputs": [
    {
     "data": {
      "text/html": [
       "<div style=\"max-height:1000px;max-width:1500px;overflow:auto;\">\n",
       "<table border=\"1\" class=\"dataframe\">\n",
       "  <thead>\n",
       "    <tr style=\"text-align: right;\">\n",
       "      <th></th>\n",
       "      <th>1950</th>\n",
       "      <th>2013</th>\n",
       "    </tr>\n",
       "    <tr>\n",
       "      <th>Wiek</th>\n",
       "      <th></th>\n",
       "      <th></th>\n",
       "    </tr>\n",
       "  </thead>\n",
       "  <tbody>\n",
       "    <tr>\n",
       "      <th>0</th>\n",
       "      <td>0.09911</td>\n",
       "      <td>0.00418</td>\n",
       "    </tr>\n",
       "    <tr>\n",
       "      <th>1</th>\n",
       "      <td>0.02258</td>\n",
       "      <td>0.00069</td>\n",
       "    </tr>\n",
       "    <tr>\n",
       "      <th>5</th>\n",
       "      <td>0.00667</td>\n",
       "      <td>0.00041</td>\n",
       "    </tr>\n",
       "    <tr>\n",
       "      <th>10</th>\n",
       "      <td>0.00491</td>\n",
       "      <td>0.00066</td>\n",
       "    </tr>\n",
       "    <tr>\n",
       "      <th>15</th>\n",
       "      <td>0.00878</td>\n",
       "      <td>0.00120</td>\n",
       "    </tr>\n",
       "    <tr>\n",
       "      <th>20</th>\n",
       "      <td>0.01216</td>\n",
       "      <td>0.00112</td>\n",
       "    </tr>\n",
       "    <tr>\n",
       "      <th>25</th>\n",
       "      <td>0.01328</td>\n",
       "      <td>0.00130</td>\n",
       "    </tr>\n",
       "    <tr>\n",
       "      <th>30</th>\n",
       "      <td>0.01533</td>\n",
       "      <td>0.00189</td>\n",
       "    </tr>\n",
       "    <tr>\n",
       "      <th>35</th>\n",
       "      <td>0.01785</td>\n",
       "      <td>0.00311</td>\n",
       "    </tr>\n",
       "    <tr>\n",
       "      <th>40</th>\n",
       "      <td>0.02029</td>\n",
       "      <td>0.00551</td>\n",
       "    </tr>\n",
       "    <tr>\n",
       "      <th>45</th>\n",
       "      <td>0.02737</td>\n",
       "      <td>0.00983</td>\n",
       "    </tr>\n",
       "    <tr>\n",
       "      <th>50</th>\n",
       "      <td>0.04028</td>\n",
       "      <td>0.01691</td>\n",
       "    </tr>\n",
       "    <tr>\n",
       "      <th>55</th>\n",
       "      <td>0.05858</td>\n",
       "      <td>0.02766</td>\n",
       "    </tr>\n",
       "    <tr>\n",
       "      <th>60</th>\n",
       "      <td>0.09174</td>\n",
       "      <td>0.04259</td>\n",
       "    </tr>\n",
       "    <tr>\n",
       "      <th>65</th>\n",
       "      <td>0.14451</td>\n",
       "      <td>0.06213</td>\n",
       "    </tr>\n",
       "    <tr>\n",
       "      <th>70</th>\n",
       "      <td>0.24078</td>\n",
       "      <td>0.09286</td>\n",
       "    </tr>\n",
       "    <tr>\n",
       "      <th>75</th>\n",
       "      <td>0.34941</td>\n",
       "      <td>0.15785</td>\n",
       "    </tr>\n",
       "    <tr>\n",
       "      <th>80</th>\n",
       "      <td>0.50187</td>\n",
       "      <td>0.27472</td>\n",
       "    </tr>\n",
       "  </tbody>\n",
       "</table>\n",
       "</div>"
      ],
      "text/plain": [
       "         1950     2013\n",
       "Wiek                  \n",
       "0     0.09911  0.00418\n",
       "1     0.02258  0.00069\n",
       "5     0.00667  0.00041\n",
       "10    0.00491  0.00066\n",
       "15    0.00878  0.00120\n",
       "20    0.01216  0.00112\n",
       "25    0.01328  0.00130\n",
       "30    0.01533  0.00189\n",
       "35    0.01785  0.00311\n",
       "40    0.02029  0.00551\n",
       "45    0.02737  0.00983\n",
       "50    0.04028  0.01691\n",
       "55    0.05858  0.02766\n",
       "60    0.09174  0.04259\n",
       "65    0.14451  0.06213\n",
       "70    0.24078  0.09286\n",
       "75    0.34941  0.15785\n",
       "80    0.50187  0.27472"
      ]
     },
     "execution_count": 19,
     "metadata": {},
     "output_type": "execute_result"
    }
   ],
   "source": [
    "df_k[[\"1950\", \"2013\"]]"
   ]
  },
  {
   "cell_type": "code",
   "execution_count": 21,
   "metadata": {
    "collapsed": false
   },
   "outputs": [
    {
     "data": {
      "text/plain": [
       "<matplotlib.axes._subplots.AxesSubplot at 0x11162bbe0>"
      ]
     },
     "execution_count": 21,
     "metadata": {},
     "output_type": "execute_result"
    },
    {
     "data": {
      "image/png": "[encoded data removed]",
      "text/plain": [
       "<matplotlib.figure.Figure at 0x11165cb38>"
      ]
     },
     "metadata": {},
     "output_type": "display_data"
    }
   ],
   "source": [
    "df_k[[\"1950\", \"2013\"]].plot(logy=True)"
   ]
  },
  {
   "cell_type": "code",
   "execution_count": 38,
   "metadata": {
    "collapsed": false
   },
   "outputs": [
    {
     "data": {
      "text/plain": [
       "<matplotlib.axes._subplots.AxesSubplot at 0x112692a20>"
      ]
     },
     "execution_count": 38,
     "metadata": {},
     "output_type": "execute_result"
    },
    {
     "data": {
      "image/png": "[encoded data removed]",
      "text/plain": [
       "<matplotlib.figure.Figure at 0x112b35da0>"
      ]
     },
     "metadata": {},
     "output_type": "display_data"
    }
   ],
   "source": [
    "df_k.plot(x=\"1950\", y=\"2013\", c=df_k.index.values,\n",
    "          kind='scatter',\n",
    "          logx=True, logy=True)"
   ]
  },
  {
   "cell_type": "code",
   "execution_count": 63,
   "metadata": {
    "collapsed": false
   },
   "outputs": [],
   "source": [
    "prwadop = 1\n",
    "dozycia = []\n",
    "for k, v in ostatni_rok.iteritems():\n",
    "    prwadop = prwadop * (1 - v)\n",
    "    dozycia.append(prwadop)"
   ]
  },
  {
   "cell_type": "code",
   "execution_count": 67,
   "metadata": {
    "collapsed": false
   },
   "outputs": [
    {
     "data": {
      "text/plain": [
       "[0.99582000000000004,\n",
       " 0.99513288420000012,\n",
       " 0.99472487971747814,\n",
       " 0.9940683612968646,\n",
       " 0.99287547926330844,\n",
       " 0.99176345872653349,\n",
       " 0.99047416623018902,\n",
       " 0.98860217005601403,\n",
       " 0.98552761730713989,\n",
       " 0.98009736013577753,\n",
       " 0.97046300308564282,\n",
       " 0.95405247370346458,\n",
       " 0.92766338228082668,\n",
       " 0.88815419882948621,\n",
       " 0.83297317845621022,\n",
       " 0.75562328910476662,\n",
       " 0.63634815291957914,\n",
       " 0.46153058834951238]"
      ]
     },
     "execution_count": 67,
     "metadata": {},
     "output_type": "execute_result"
    }
   ],
   "source": [
    "dozycia"
   ]
  },
  {
   "cell_type": "code",
   "execution_count": 65,
   "metadata": {
    "collapsed": true
   },
   "outputs": [],
   "source": [
    "df_ostatni_rok = pd.DataFrame({'smietelnosc': ostatni_rok,\n",
    "                               'dozycie': dozycia})"
   ]
  },
  {
   "cell_type": "code",
   "execution_count": 68,
   "metadata": {
    "collapsed": false
   },
   "outputs": [],
   "source": [
    "# przyblizone\n",
    "df_ostatni_rok['smierc'] = df_ostatni_rok['smietelnosc'] * df_ostatni_rok['dozycie']"
   ]
  },
  {
   "cell_type": "code",
   "execution_count": 71,
   "metadata": {
    "collapsed": false
   },
   "outputs": [
    {
     "data": {
      "text/html": [
       "<div style=\"max-height:1000px;max-width:1500px;overflow:auto;\">\n",
       "<table border=\"1\" class=\"dataframe\">\n",
       "  <thead>\n",
       "    <tr style=\"text-align: right;\">\n",
       "      <th></th>\n",
       "      <th>dozycie</th>\n",
       "      <th>smietelnosc</th>\n",
       "      <th>smierc</th>\n",
       "    </tr>\n",
       "    <tr>\n",
       "      <th>Wiek</th>\n",
       "      <th></th>\n",
       "      <th></th>\n",
       "      <th></th>\n",
       "    </tr>\n",
       "  </thead>\n",
       "  <tbody>\n",
       "    <tr>\n",
       "      <th>0</th>\n",
       "      <td>0.995820</td>\n",
       "      <td>0.00418</td>\n",
       "      <td>0.004163</td>\n",
       "    </tr>\n",
       "    <tr>\n",
       "      <th>1</th>\n",
       "      <td>0.995133</td>\n",
       "      <td>0.00069</td>\n",
       "      <td>0.000687</td>\n",
       "    </tr>\n",
       "    <tr>\n",
       "      <th>5</th>\n",
       "      <td>0.994725</td>\n",
       "      <td>0.00041</td>\n",
       "      <td>0.000408</td>\n",
       "    </tr>\n",
       "    <tr>\n",
       "      <th>10</th>\n",
       "      <td>0.994068</td>\n",
       "      <td>0.00066</td>\n",
       "      <td>0.000656</td>\n",
       "    </tr>\n",
       "    <tr>\n",
       "      <th>15</th>\n",
       "      <td>0.992875</td>\n",
       "      <td>0.00120</td>\n",
       "      <td>0.001191</td>\n",
       "    </tr>\n",
       "    <tr>\n",
       "      <th>20</th>\n",
       "      <td>0.991763</td>\n",
       "      <td>0.00112</td>\n",
       "      <td>0.001111</td>\n",
       "    </tr>\n",
       "    <tr>\n",
       "      <th>25</th>\n",
       "      <td>0.990474</td>\n",
       "      <td>0.00130</td>\n",
       "      <td>0.001288</td>\n",
       "    </tr>\n",
       "    <tr>\n",
       "      <th>30</th>\n",
       "      <td>0.988602</td>\n",
       "      <td>0.00189</td>\n",
       "      <td>0.001868</td>\n",
       "    </tr>\n",
       "    <tr>\n",
       "      <th>35</th>\n",
       "      <td>0.985528</td>\n",
       "      <td>0.00311</td>\n",
       "      <td>0.003065</td>\n",
       "    </tr>\n",
       "    <tr>\n",
       "      <th>40</th>\n",
       "      <td>0.980097</td>\n",
       "      <td>0.00551</td>\n",
       "      <td>0.005400</td>\n",
       "    </tr>\n",
       "    <tr>\n",
       "      <th>45</th>\n",
       "      <td>0.970463</td>\n",
       "      <td>0.00983</td>\n",
       "      <td>0.009540</td>\n",
       "    </tr>\n",
       "    <tr>\n",
       "      <th>50</th>\n",
       "      <td>0.954052</td>\n",
       "      <td>0.01691</td>\n",
       "      <td>0.016133</td>\n",
       "    </tr>\n",
       "    <tr>\n",
       "      <th>55</th>\n",
       "      <td>0.927663</td>\n",
       "      <td>0.02766</td>\n",
       "      <td>0.025659</td>\n",
       "    </tr>\n",
       "    <tr>\n",
       "      <th>60</th>\n",
       "      <td>0.888154</td>\n",
       "      <td>0.04259</td>\n",
       "      <td>0.037826</td>\n",
       "    </tr>\n",
       "    <tr>\n",
       "      <th>65</th>\n",
       "      <td>0.832973</td>\n",
       "      <td>0.06213</td>\n",
       "      <td>0.051753</td>\n",
       "    </tr>\n",
       "    <tr>\n",
       "      <th>70</th>\n",
       "      <td>0.755623</td>\n",
       "      <td>0.09286</td>\n",
       "      <td>0.070167</td>\n",
       "    </tr>\n",
       "    <tr>\n",
       "      <th>75</th>\n",
       "      <td>0.636348</td>\n",
       "      <td>0.15785</td>\n",
       "      <td>0.100448</td>\n",
       "    </tr>\n",
       "    <tr>\n",
       "      <th>80</th>\n",
       "      <td>0.461531</td>\n",
       "      <td>0.27472</td>\n",
       "      <td>0.126792</td>\n",
       "    </tr>\n",
       "  </tbody>\n",
       "</table>\n",
       "</div>"
      ],
      "text/plain": [
       "       dozycie  smietelnosc    smierc\n",
       "Wiek                                 \n",
       "0     0.995820      0.00418  0.004163\n",
       "1     0.995133      0.00069  0.000687\n",
       "5     0.994725      0.00041  0.000408\n",
       "10    0.994068      0.00066  0.000656\n",
       "15    0.992875      0.00120  0.001191\n",
       "20    0.991763      0.00112  0.001111\n",
       "25    0.990474      0.00130  0.001288\n",
       "30    0.988602      0.00189  0.001868\n",
       "35    0.985528      0.00311  0.003065\n",
       "40    0.980097      0.00551  0.005400\n",
       "45    0.970463      0.00983  0.009540\n",
       "50    0.954052      0.01691  0.016133\n",
       "55    0.927663      0.02766  0.025659\n",
       "60    0.888154      0.04259  0.037826\n",
       "65    0.832973      0.06213  0.051753\n",
       "70    0.755623      0.09286  0.070167\n",
       "75    0.636348      0.15785  0.100448\n",
       "80    0.461531      0.27472  0.126792"
      ]
     },
     "execution_count": 71,
     "metadata": {},
     "output_type": "execute_result"
    }
   ],
   "source": [
    "df_ostatni_rok"
   ]
  },
  {
   "cell_type": "code",
   "execution_count": 70,
   "metadata": {
    "collapsed": false
   },
   "outputs": [
    {
     "data": {
      "text/plain": [
       "<matplotlib.axes._subplots.AxesSubplot at 0x1128bf908>"
      ]
     },
     "execution_count": 70,
     "metadata": {},
     "output_type": "execute_result"
    },
    {
     "data": {
      "image/png": "[encoded data removed]",
      "text/plain": [
       "<matplotlib.figure.Figure at 0x1128c8c18>"
      ]
     },
     "metadata": {},
     "output_type": "display_data"
    }
   ],
   "source": [
    "df_ostatni_rok['smierc'].plot()"
   ]
  },
  {
   "cell_type": "code",
   "execution_count": 40,
   "metadata": {
    "collapsed": true
   },
   "outputs": [],
   "source": [
    "# no, ale nie możemy dyskrymnować mężczyzn!\n",
    "df_m = pd.read_csv(\"dane/smiertelnosc_polska_mezczyzni.csv\", index_col=\"Wiek\") "
   ]
  },
  {
   "cell_type": "code",
   "execution_count": 41,
   "metadata": {
    "collapsed": false
   },
   "outputs": [
    {
     "data": {
      "text/plain": [
       "<matplotlib.axes._subplots.AxesSubplot at 0x112b6ba58>"
      ]
     },
     "execution_count": 41,
     "metadata": {},
     "output_type": "execute_result"
    },
    {
     "data": {
      "image/png": "[encoded data removed]",
      "text/plain": [
       "<matplotlib.figure.Figure at 0x112b85e10>"
      ]
     },
     "metadata": {},
     "output_type": "display_data"
    }
   ],
   "source": [
    "df_m[\"2013\"].plot()"
   ]
  },
  {
   "cell_type": "code",
   "execution_count": 42,
   "metadata": {
    "collapsed": false
   },
   "outputs": [
    {
     "data": {
      "text/plain": [
       "<matplotlib.axes._subplots.AxesSubplot at 0x112bac048>"
      ]
     },
     "execution_count": 42,
     "metadata": {},
     "output_type": "execute_result"
    },
    {
     "data": {
      "image/png": "[encoded data removed]",
      "text/plain": [
       "<matplotlib.figure.Figure at 0x111baa978>"
      ]
     },
     "metadata": {},
     "output_type": "display_data"
    }
   ],
   "source": [
    "# a może chcemy dane w procentach?\n",
    "(100 * df_m[\"2013\"]).plot()"
   ]
  },
  {
   "cell_type": "code",
   "execution_count": 76,
   "metadata": {
    "collapsed": false
   },
   "outputs": [
    {
     "data": {
      "text/plain": [
       "<matplotlib.legend.Legend at 0x11296ea58>"
      ]
     },
     "execution_count": 76,
     "metadata": {},
     "output_type": "execute_result"
    },
    {
     "data": {
      "image/png": "[encoded data removed]",
      "text/plain": [
       "<matplotlib.figure.Figure at 0x11296e6d8>"
      ]
     },
     "metadata": {},
     "output_type": "display_data"
    }
   ],
   "source": [
    "df_m[\"2013\"].plot()\n",
    "df_k[\"2013\"].plot()\n",
    "df_m[\"1960\"].plot()\n",
    "df_k[\"1960\"].plot()\n",
    "plt.legend()"
   ]
  },
  {
   "cell_type": "code",
   "execution_count": 74,
   "metadata": {
    "collapsed": false
   },
   "outputs": [
    {
     "data": {
      "text/plain": [
       "<matplotlib.axes._subplots.AxesSubplot at 0x1132233c8>"
      ]
     },
     "execution_count": 74,
     "metadata": {},
     "output_type": "execute_result"
    },
    {
     "data": {
      "image/png": "[encoded data removed]",
      "text/plain": [
       "<matplotlib.figure.Figure at 0x112b01c18>"
      ]
     },
     "metadata": {},
     "output_type": "display_data"
    }
   ],
   "source": []
  },
  {
   "cell_type": "code",
   "execution_count": 44,
   "metadata": {
    "collapsed": false
   },
   "outputs": [],
   "source": [
    "stosunek_mk = df_m/df_k"
   ]
  },
  {
   "cell_type": "code",
   "execution_count": 45,
   "metadata": {
    "collapsed": false
   },
   "outputs": [
    {
     "data": {
      "text/html": [
       "<div style=\"max-height:1000px;max-width:1500px;overflow:auto;\">\n",
       "<table border=\"1\" class=\"dataframe\">\n",
       "  <thead>\n",
       "    <tr style=\"text-align: right;\">\n",
       "      <th></th>\n",
       "      <th>1950</th>\n",
       "      <th>1951</th>\n",
       "      <th>1952</th>\n",
       "      <th>1953</th>\n",
       "      <th>1954</th>\n",
       "      <th>1955</th>\n",
       "      <th>1956</th>\n",
       "      <th>1957</th>\n",
       "      <th>1958</th>\n",
       "      <th>1959</th>\n",
       "      <th>...</th>\n",
       "      <th>2004</th>\n",
       "      <th>2005</th>\n",
       "      <th>2006</th>\n",
       "      <th>2007</th>\n",
       "      <th>2008</th>\n",
       "      <th>2009</th>\n",
       "      <th>2010</th>\n",
       "      <th>2011</th>\n",
       "      <th>2012</th>\n",
       "      <th>2013</th>\n",
       "    </tr>\n",
       "    <tr>\n",
       "      <th>Wiek</th>\n",
       "      <th></th>\n",
       "      <th></th>\n",
       "      <th></th>\n",
       "      <th></th>\n",
       "      <th></th>\n",
       "      <th></th>\n",
       "      <th></th>\n",
       "      <th></th>\n",
       "      <th></th>\n",
       "      <th></th>\n",
       "      <th></th>\n",
       "      <th></th>\n",
       "      <th></th>\n",
       "      <th></th>\n",
       "      <th></th>\n",
       "      <th></th>\n",
       "      <th></th>\n",
       "      <th></th>\n",
       "      <th></th>\n",
       "      <th></th>\n",
       "      <th></th>\n",
       "    </tr>\n",
       "  </thead>\n",
       "  <tbody>\n",
       "    <tr>\n",
       "      <th>0</th>\n",
       "      <td>1.217032</td>\n",
       "      <td>1.214177</td>\n",
       "      <td>1.221148</td>\n",
       "      <td>1.234522</td>\n",
       "      <td>1.240244</td>\n",
       "      <td>1.241889</td>\n",
       "      <td>1.231810</td>\n",
       "      <td>1.228459</td>\n",
       "      <td>1.254893</td>\n",
       "      <td>1.221628</td>\n",
       "      <td>...</td>\n",
       "      <td>1.209756</td>\n",
       "      <td>1.187394</td>\n",
       "      <td>1.258979</td>\n",
       "      <td>1.214418</td>\n",
       "      <td>1.195358</td>\n",
       "      <td>1.191321</td>\n",
       "      <td>1.188053</td>\n",
       "      <td>1.195294</td>\n",
       "      <td>1.180751</td>\n",
       "      <td>1.186603</td>\n",
       "    </tr>\n",
       "    <tr>\n",
       "      <th>1</th>\n",
       "      <td>1.059345</td>\n",
       "      <td>1.092908</td>\n",
       "      <td>1.061907</td>\n",
       "      <td>1.072539</td>\n",
       "      <td>1.046830</td>\n",
       "      <td>1.072981</td>\n",
       "      <td>1.065150</td>\n",
       "      <td>1.099020</td>\n",
       "      <td>1.125293</td>\n",
       "      <td>1.088636</td>\n",
       "      <td>...</td>\n",
       "      <td>1.285714</td>\n",
       "      <td>1.137255</td>\n",
       "      <td>1.158416</td>\n",
       "      <td>1.306818</td>\n",
       "      <td>1.268817</td>\n",
       "      <td>1.071429</td>\n",
       "      <td>1.088608</td>\n",
       "      <td>1.232877</td>\n",
       "      <td>1.559322</td>\n",
       "      <td>1.144928</td>\n",
       "    </tr>\n",
       "    <tr>\n",
       "      <th>5</th>\n",
       "      <td>1.176912</td>\n",
       "      <td>1.123537</td>\n",
       "      <td>1.225080</td>\n",
       "      <td>1.277551</td>\n",
       "      <td>1.263473</td>\n",
       "      <td>1.224444</td>\n",
       "      <td>1.243767</td>\n",
       "      <td>1.385294</td>\n",
       "      <td>1.470149</td>\n",
       "      <td>1.314189</td>\n",
       "      <td>...</td>\n",
       "      <td>1.508197</td>\n",
       "      <td>1.090909</td>\n",
       "      <td>1.353846</td>\n",
       "      <td>1.363636</td>\n",
       "      <td>1.471698</td>\n",
       "      <td>1.171875</td>\n",
       "      <td>1.240000</td>\n",
       "      <td>1.380000</td>\n",
       "      <td>1.377778</td>\n",
       "      <td>1.365854</td>\n",
       "    </tr>\n",
       "    <tr>\n",
       "      <th>10</th>\n",
       "      <td>1.354379</td>\n",
       "      <td>1.301158</td>\n",
       "      <td>1.319475</td>\n",
       "      <td>1.647399</td>\n",
       "      <td>1.808219</td>\n",
       "      <td>1.440397</td>\n",
       "      <td>1.700422</td>\n",
       "      <td>1.465201</td>\n",
       "      <td>1.535211</td>\n",
       "      <td>1.601852</td>\n",
       "      <td>...</td>\n",
       "      <td>1.528571</td>\n",
       "      <td>1.470588</td>\n",
       "      <td>1.547945</td>\n",
       "      <td>1.466667</td>\n",
       "      <td>1.428571</td>\n",
       "      <td>1.179487</td>\n",
       "      <td>1.517241</td>\n",
       "      <td>1.246154</td>\n",
       "      <td>1.288136</td>\n",
       "      <td>1.242424</td>\n",
       "    </tr>\n",
       "    <tr>\n",
       "      <th>15</th>\n",
       "      <td>1.293850</td>\n",
       "      <td>1.305587</td>\n",
       "      <td>1.307791</td>\n",
       "      <td>1.755556</td>\n",
       "      <td>1.717439</td>\n",
       "      <td>1.583514</td>\n",
       "      <td>1.633663</td>\n",
       "      <td>1.787724</td>\n",
       "      <td>1.880240</td>\n",
       "      <td>2.069182</td>\n",
       "      <td>...</td>\n",
       "      <td>2.318182</td>\n",
       "      <td>2.830508</td>\n",
       "      <td>2.696721</td>\n",
       "      <td>2.734375</td>\n",
       "      <td>2.521127</td>\n",
       "      <td>2.862903</td>\n",
       "      <td>3.096154</td>\n",
       "      <td>2.606557</td>\n",
       "      <td>2.837838</td>\n",
       "      <td>2.633333</td>\n",
       "    </tr>\n",
       "  </tbody>\n",
       "</table>\n",
       "<p>5 rows × 64 columns</p>\n",
       "</div>"
      ],
      "text/plain": [
       "          1950      1951      1952      1953      1954      1955      1956  \\\n",
       "Wiek                                                                         \n",
       "0     1.217032  1.214177  1.221148  1.234522  1.240244  1.241889  1.231810   \n",
       "1     1.059345  1.092908  1.061907  1.072539  1.046830  1.072981  1.065150   \n",
       "5     1.176912  1.123537  1.225080  1.277551  1.263473  1.224444  1.243767   \n",
       "10    1.354379  1.301158  1.319475  1.647399  1.808219  1.440397  1.700422   \n",
       "15    1.293850  1.305587  1.307791  1.755556  1.717439  1.583514  1.633663   \n",
       "\n",
       "          1957      1958      1959    ...         2004      2005      2006  \\\n",
       "Wiek                                  ...                                    \n",
       "0     1.228459  1.254893  1.221628    ...     1.209756  1.187394  1.258979   \n",
       "1     1.099020  1.125293  1.088636    ...     1.285714  1.137255  1.158416   \n",
       "5     1.385294  1.470149  1.314189    ...     1.508197  1.090909  1.353846   \n",
       "10    1.465201  1.535211  1.601852    ...     1.528571  1.470588  1.547945   \n",
       "15    1.787724  1.880240  2.069182    ...     2.318182  2.830508  2.696721   \n",
       "\n",
       "          2007      2008      2009      2010      2011      2012      2013  \n",
       "Wiek                                                                        \n",
       "0     1.214418  1.195358  1.191321  1.188053  1.195294  1.180751  1.186603  \n",
       "1     1.306818  1.268817  1.071429  1.088608  1.232877  1.559322  1.144928  \n",
       "5     1.363636  1.471698  1.171875  1.240000  1.380000  1.377778  1.365854  \n",
       "10    1.466667  1.428571  1.179487  1.517241  1.246154  1.288136  1.242424  \n",
       "15    2.734375  2.521127  2.862903  3.096154  2.606557  2.837838  2.633333  \n",
       "\n",
       "[5 rows x 64 columns]"
      ]
     },
     "execution_count": 45,
     "metadata": {},
     "output_type": "execute_result"
    }
   ],
   "source": [
    "stosunek_mk.head()"
   ]
  },
  {
   "cell_type": "code",
   "execution_count": 54,
   "metadata": {
    "collapsed": false
   },
   "outputs": [
    {
     "data": {
      "image/png": "[encoded data removed]",
      "text/plain": [
       "<matplotlib.figure.Figure at 0x112b5bda0>"
      ]
     },
     "metadata": {},
     "output_type": "display_data"
    }
   ],
   "source": [
    "# prościej ticky?\n",
    "plt.imshow(stosunek_mk)\n",
    "# plt.xticks(range(len(stosunek_mk.columns)), stosunek_mk.columns);"
   ]
  },
  {
   "cell_type": "markdown",
   "metadata": {},
   "source": [
    "Zaawansowane - przeżywalność."
   ]
  },
  {
   "cell_type": "code",
   "execution_count": null,
   "metadata": {
    "collapsed": true
   },
   "outputs": [],
   "source": [
    "def dozycie()"
   ]
  }
 ],
 "metadata": {
  "kernelspec": {
   "display_name": "Python 3",
   "language": "python",
   "name": "python3"
  },
  "language_info": {
   "codemirror_mode": {
    "name": "ipython",
    "version": 3
   },
   "file_extension": ".py",
   "mimetype": "text/x-python",
   "name": "python",
   "nbconvert_exporter": "python",
   "pygments_lexer": "ipython3",
   "version": "3.4.3"
  }
 },
 "nbformat": 4,
 "nbformat_minor": 0
}
