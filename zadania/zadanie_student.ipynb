{
 "cells": [
  {
   "cell_type": "markdown",
   "metadata": {},
   "source": [
    "# Zadanie: analiza szkolnych wyników\n",
    "\n",
    "\n",
    "\n",
    "Plik \"student-por.csv\" zawiera wyniki uczniów dwóch portugalskich szkół z języka portugalskiego.\n",
    "\n",
    "Źródło: Paulo Cortez, University of Minho, Guimarães, Portugal, http://www3.dsi.uminho.pt/pcortez \n",
    "\n",
    "Ćwiczenia:\n",
    "\n",
    "1. Wczytaj dane \"student-por.csv\". Opis kolumn znajduje się w pliku\n",
    "   \"student.txt\". Sprawdź, czy dane zostały wczytane poprawnie.\n",
    "\n",
    "2. Narysuj histogramy pokazujące rozkłady ocen G1, G2 oraz G3. W jaki\n",
    "   sposób te histogramy różnią się od siebie? Czy różnica jest widoczna\n",
    "   na poziomie średniej i odchylenia standardowego? \n",
    "\n",
    "3. Narysuj wykresy G1 vs G3 oraz G2 vs G3. Policz współczynniki\n",
    "   korelacji Pearsona.\n",
    "\n",
    "4. Ilu uczniów pozostaje w związkach romantycznych? Czy ma to przełożenie\n",
    "   na średnią ocenę końcową (G3)?\n",
    "\n",
    "5. Czy z końcową oceną ucznia bardziej koreluje poziom wykształcenia matki (Medu) czy ojca (Fedu)? \n",
    "\n",
    "6. Jak kształtują się średnie wyniki w grupach zależnie od zawodu ojca?\n"
   ]
  },
  {
   "cell_type": "code",
   "execution_count": null,
   "metadata": {
    "collapsed": true
   },
   "outputs": [],
   "source": []
  }
 ],
 "metadata": {
  "kernelspec": {
   "display_name": "Python 3",
   "language": "python",
   "name": "python3"
  },
  "language_info": {
   "codemirror_mode": {
    "name": "ipython",
    "version": 3
   },
   "file_extension": ".py",
   "mimetype": "text/x-python",
   "name": "python",
   "nbconvert_exporter": "python",
   "pygments_lexer": "ipython3",
   "version": "3.4.3"
  }
 },
 "nbformat": 4,
 "nbformat_minor": 0
}
